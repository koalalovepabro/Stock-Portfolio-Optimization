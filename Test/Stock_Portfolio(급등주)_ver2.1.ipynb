{
  "nbformat": 4,
  "nbformat_minor": 0,
  "metadata": {
    "colab": {
      "name": "Stock Portfolio(급등주)_ver2.1.ipynb",
      "provenance": [],
      "collapsed_sections": [
        "jxAhwCA9r2Ta"
      ],
      "include_colab_link": true
    },
    "kernelspec": {
      "display_name": "Python 3 (ipykernel)",
      "language": "python",
      "name": "python3"
    },
    "language_info": {
      "codemirror_mode": {
        "name": "ipython",
        "version": 3
      },
      "file_extension": ".py",
      "mimetype": "text/x-python",
      "name": "python",
      "nbconvert_exporter": "python",
      "pygments_lexer": "ipython3",
      "version": "3.8.10"
    }
  },
  "cells": [
    {
      "cell_type": "markdown",
      "metadata": {
        "id": "view-in-github",
        "colab_type": "text"
      },
      "source": [
        "<a href=\"https://colab.research.google.com/github/koalalovepabro/Stock-Portfolio-Optimization/blob/main/Test/Stock_Portfolio(%EA%B8%89%EB%93%B1%EC%A3%BC)_ver2.1.ipynb\" target=\"_parent\"><img src=\"https://colab.research.google.com/assets/colab-badge.svg\" alt=\"Open In Colab\"/></a>"
      ]
    },
    {
      "cell_type": "markdown",
      "metadata": {
        "id": "jxAhwCA9r2Ta"
      },
      "source": [
        "# **📈 종목선택 방법**\n",
        "- 급등주 포착: 특정 거래일의 거래량이 이전 시점의 평균 거래량보다 1,000% 이상 급증하는 종목을 선택  \n",
        "- ‘이전 시점의 평균 거래량’을 특정 거래일 이전의 20일(거래일 기준) 동안의 평균 거래량으로 정의\n",
        "\n"
      ]
    },
    {
      "cell_type": "markdown",
      "metadata": {
        "id": "2na-S12Turpz"
      },
      "source": [
        "# **📊 포트폴리오 최적화 방법**  \n",
        "1. **✔ Max Sharpe Ratio** : 샤프비율이 최대가 되도록 포트폴리오 최적화  \n",
        "    => 수익률과 변동성을 모두 고려\n",
        "2. **Efficient Risk**   : 주어진 변동성 ( target_volatility ) 보다 낮은 범위 내에서 수익률 (Return)이 최대가 되도록 포트폴리오 최적화  \n",
        "    => 높은 이익을 추구하기 보다는, 비교적 위험이 낮은 투자를 원하는 투자자에게 추천\n",
        "3. **Efficient Return** : 주어진 리스크 ( target_return )을 만족시키는 선에서 변동성(volatility)를 최소가 되도록 포트폴리오 최적화  \n",
        "    => 높은 위험을 감수하더라도, 높은 이익을 추구하는 투자 성향을 가진 투자자에게 추천"
      ]
    },
    {
      "cell_type": "code",
      "metadata": {
        "id": "CJQi5mrLo4jX"
      },
      "source": [
        "!pip install -q install finance-datareader"
      ],
      "execution_count": 1,
      "outputs": []
    },
    {
      "cell_type": "code",
      "metadata": {
        "colab": {
          "base_uri": "https://localhost:8080/"
        },
        "id": "YtX3BaD9o83z",
        "outputId": "423478fe-309f-4cbd-e0dc-8ee644b1cb73"
      },
      "source": [
        "!pip install pykrx"
      ],
      "execution_count": 2,
      "outputs": [
        {
          "output_type": "stream",
          "text": [
            "Collecting pykrx\n",
            "  Downloading pykrx-1.0.18-py3-none-any.whl (81 kB)\n",
            "\u001b[?25l\r\u001b[K     |████                            | 10 kB 25.0 MB/s eta 0:00:01\r\u001b[K     |████████                        | 20 kB 11.1 MB/s eta 0:00:01\r\u001b[K     |████████████                    | 30 kB 8.6 MB/s eta 0:00:01\r\u001b[K     |████████████████                | 40 kB 7.9 MB/s eta 0:00:01\r\u001b[K     |████████████████████            | 51 kB 4.1 MB/s eta 0:00:01\r\u001b[K     |████████████████████████        | 61 kB 4.3 MB/s eta 0:00:01\r\u001b[K     |████████████████████████████    | 71 kB 4.4 MB/s eta 0:00:01\r\u001b[K     |████████████████████████████████| 81 kB 3.4 MB/s \n",
            "\u001b[?25hRequirement already satisfied: requests in /usr/local/lib/python3.7/dist-packages (from pykrx) (2.23.0)\n",
            "Collecting deprecated\n",
            "  Downloading Deprecated-1.2.12-py2.py3-none-any.whl (9.5 kB)\n",
            "Requirement already satisfied: numpy in /usr/local/lib/python3.7/dist-packages (from pykrx) (1.19.5)\n",
            "Requirement already satisfied: pandas in /usr/local/lib/python3.7/dist-packages (from pykrx) (1.1.5)\n",
            "Requirement already satisfied: xlrd in /usr/local/lib/python3.7/dist-packages (from pykrx) (1.1.0)\n",
            "Collecting datetime\n",
            "  Downloading DateTime-4.3-py2.py3-none-any.whl (60 kB)\n",
            "\u001b[K     |████████████████████████████████| 60 kB 5.3 MB/s \n",
            "\u001b[?25hCollecting zope.interface\n",
            "  Downloading zope.interface-5.4.0-cp37-cp37m-manylinux2010_x86_64.whl (251 kB)\n",
            "\u001b[K     |████████████████████████████████| 251 kB 26.6 MB/s \n",
            "\u001b[?25hRequirement already satisfied: pytz in /usr/local/lib/python3.7/dist-packages (from datetime->pykrx) (2018.9)\n",
            "Requirement already satisfied: wrapt<2,>=1.10 in /usr/local/lib/python3.7/dist-packages (from deprecated->pykrx) (1.12.1)\n",
            "Requirement already satisfied: python-dateutil>=2.7.3 in /usr/local/lib/python3.7/dist-packages (from pandas->pykrx) (2.8.1)\n",
            "Requirement already satisfied: six>=1.5 in /usr/local/lib/python3.7/dist-packages (from python-dateutil>=2.7.3->pandas->pykrx) (1.15.0)\n",
            "Requirement already satisfied: idna<3,>=2.5 in /usr/local/lib/python3.7/dist-packages (from requests->pykrx) (2.10)\n",
            "Requirement already satisfied: chardet<4,>=3.0.2 in /usr/local/lib/python3.7/dist-packages (from requests->pykrx) (3.0.4)\n",
            "Requirement already satisfied: urllib3!=1.25.0,!=1.25.1,<1.26,>=1.21.1 in /usr/local/lib/python3.7/dist-packages (from requests->pykrx) (1.24.3)\n",
            "Requirement already satisfied: certifi>=2017.4.17 in /usr/local/lib/python3.7/dist-packages (from requests->pykrx) (2021.5.30)\n",
            "Requirement already satisfied: setuptools in /usr/local/lib/python3.7/dist-packages (from zope.interface->datetime->pykrx) (57.2.0)\n",
            "Installing collected packages: zope.interface, deprecated, datetime, pykrx\n",
            "Successfully installed datetime-4.3 deprecated-1.2.12 pykrx-1.0.18 zope.interface-5.4.0\n"
          ],
          "name": "stdout"
        }
      ]
    },
    {
      "cell_type": "code",
      "metadata": {
        "id": "xaD_7NwIXe1d",
        "colab": {
          "base_uri": "https://localhost:8080/"
        },
        "outputId": "3c6f92a7-c235-499f-d200-cb6d085818d8"
      },
      "source": [
        "!pip install matplotlib"
      ],
      "execution_count": 3,
      "outputs": [
        {
          "output_type": "stream",
          "text": [
            "Requirement already satisfied: matplotlib in /usr/local/lib/python3.7/dist-packages (3.2.2)\n",
            "Requirement already satisfied: kiwisolver>=1.0.1 in /usr/local/lib/python3.7/dist-packages (from matplotlib) (1.3.1)\n",
            "Requirement already satisfied: python-dateutil>=2.1 in /usr/local/lib/python3.7/dist-packages (from matplotlib) (2.8.1)\n",
            "Requirement already satisfied: numpy>=1.11 in /usr/local/lib/python3.7/dist-packages (from matplotlib) (1.19.5)\n",
            "Requirement already satisfied: pyparsing!=2.0.4,!=2.1.2,!=2.1.6,>=2.0.1 in /usr/local/lib/python3.7/dist-packages (from matplotlib) (2.4.7)\n",
            "Requirement already satisfied: cycler>=0.10 in /usr/local/lib/python3.7/dist-packages (from matplotlib) (0.10.0)\n",
            "Requirement already satisfied: six in /usr/local/lib/python3.7/dist-packages (from cycler>=0.10->matplotlib) (1.15.0)\n"
          ],
          "name": "stdout"
        }
      ]
    },
    {
      "cell_type": "code",
      "metadata": {
        "id": "2ead09ba"
      },
      "source": [
        "import numpy as np\n",
        "import pandas as pd\n",
        "import matplotlib.pyplot as plt\n",
        "import FinanceDataReader as fdr\n",
        "from pykrx import stock\n",
        "import datetime"
      ],
      "execution_count": 5,
      "outputs": []
    },
    {
      "cell_type": "code",
      "metadata": {
        "id": "e681fbec"
      },
      "source": [
        "def check_speedy_rising_volume_yesterday(code): # 어제를 기준으로 \n",
        "    today = datetime.datetime.today().strftime(\"%Y%m%d\")\n",
        "    df = fdr.DataReader(code, '2020-01-01')\n",
        "    volumes = df['Volume'].iloc[::-1]\n",
        "\n",
        "    if len(volumes) < 22: # 총 22일 치의 데이터가 없을 경우 제외(최근 상장 종목)\n",
        "        return False\n",
        "\n",
        "    sum_vol20 = 0\n",
        "    today_vol = 0\n",
        "\n",
        "    for i, vol in enumerate(volumes):\n",
        "        if i == 0: # 오늘 날짜\n",
        "            continue\n",
        "        elif i == 1: # 어제 날짜\n",
        "            today_vol = vol\n",
        "        elif 2 <= i <= 21: \n",
        "            sum_vol20 += vol\n",
        "        else:\n",
        "            break\n",
        "\n",
        "    avg_vol20 = sum_vol20 / 20 # 최근 20일간 평균 거래량 구하기\n",
        "    if today_vol > avg_vol20 * 10: # 조회 시작일의 거래량이 평균 거래량을 1000% 초과한다면 True\n",
        "        return True"
      ],
      "execution_count": null,
      "outputs": []
    },
    {
      "cell_type": "markdown",
      "metadata": {
        "id": "2932b319"
      },
      "source": [
        "# 전체 종목 가져오기"
      ]
    },
    {
      "cell_type": "code",
      "metadata": {
        "colab": {
          "base_uri": "https://localhost:8080/"
        },
        "id": "507041ab",
        "outputId": "4d1c846f-ca3c-4c0d-9abb-c0ca2e9282f3"
      },
      "source": [
        "# 오늘 KOSPI&KOSDAQ 종목 전체 불러오기\n",
        "today = datetime.datetime.today().strftime(\"%Y%m%d\")\n",
        "kospi = stock.get_market_fundamental_by_ticker(today, market='KOSPI').index\n",
        "kosdaq = stock.get_market_fundamental_by_ticker(today, market='KOSDAQ').index\n",
        "\n",
        "# konex = stock.get_market_fundamental_by_ticker(today, market='KONEX').index\n",
        "\n",
        "stocks = kospi.append(kosdaq)\n",
        "# stocks = stocks.append(konex)\n",
        "stocks"
      ],
      "execution_count": null,
      "outputs": [
        {
          "output_type": "execute_result",
          "data": {
            "text/plain": [
              "Index(['095570', '006840', '027410', '282330', '138930', '001460', '001465',\n",
              "       '001040', '079160', '00104K',\n",
              "       ...\n",
              "       '215090', '243070', '084110', '263920', '145020', '024060', '010240',\n",
              "       '189980', '037440', '238490'],\n",
              "      dtype='object', name='티커', length=2394)"
            ]
          },
          "metadata": {
            "tags": []
          },
          "execution_count": 5
        }
      ]
    },
    {
      "cell_type": "code",
      "metadata": {
        "id": "5d1ae83e"
      },
      "source": [
        "def run(): # 어제 거래량이 1000% 오늘 종목 찾기\n",
        "    speedy_rising_volume_list = []\n",
        "    num = len(stocks)\n",
        "\n",
        "    for i, code in enumerate(stocks):\n",
        "#         print(i, '/', num)\n",
        "        if check_speedy_rising_volume_yesterday(code):\n",
        "            print(\"급등주: \", code)\n",
        "            speedy_rising_volume_list.append(code)\n",
        "    return speedy_rising_volume_list"
      ],
      "execution_count": null,
      "outputs": []
    },
    {
      "cell_type": "code",
      "metadata": {
        "colab": {
          "base_uri": "https://localhost:8080/",
          "height": 318
        },
        "id": "d8a72937",
        "outputId": "8e8d221a-7e2c-4be0-e0ca-de13ead15a91"
      },
      "source": [
        "speedy_rising_volume_list = run()"
      ],
      "execution_count": null,
      "outputs": [
        {
          "output_type": "stream",
          "text": [
            "급등주:  011420\n",
            "급등주:  003475\n",
            "급등주:  063440\n",
            "급등주:  348030\n",
            "급등주:  006920\n",
            "급등주:  122350\n",
            "급등주:  357550\n",
            "급등주:  043260\n",
            "급등주:  347000\n",
            "급등주:  356890\n",
            "급등주:  225330\n",
            "급등주:  032080\n",
            "급등주:  048830\n",
            "급등주:  153710\n",
            "급등주:  313760\n",
            "급등주:  303530\n",
            "급등주:  064290\n",
            "급등주:  049630\n",
            "급등주:  047820\n",
            "급등주:  163730\n"
          ],
          "name": "stdout"
        }
      ]
    },
    {
      "cell_type": "code",
      "metadata": {
        "id": "9d737313",
        "outputId": "d03e0a54-f12e-4c97-83b2-23367478a4ed"
      },
      "source": [
        "speedy_rising_volume_list"
      ],
      "execution_count": null,
      "outputs": [
        {
          "output_type": "execute_result",
          "data": {
            "text/plain": [
              "['011420',\n",
              " '003475',\n",
              " '063440',\n",
              " '348030',\n",
              " '006920',\n",
              " '122350',\n",
              " '357550',\n",
              " '043260',\n",
              " '347000',\n",
              " '356890',\n",
              " '225330',\n",
              " '032080',\n",
              " '048830',\n",
              " '153710',\n",
              " '313760',\n",
              " '303530',\n",
              " '064290',\n",
              " '049630',\n",
              " '047820',\n",
              " '163730']"
            ]
          },
          "metadata": {
            "tags": []
          },
          "execution_count": 6
        }
      ]
    },
    {
      "cell_type": "code",
      "metadata": {
        "id": "xmoFgdGbE8BU"
      },
      "source": [
        "speedy_rising_volume_list_df = pd.DataFrame({'speedy_rising_volume_list':speedy_rising_volume_list})"
      ],
      "execution_count": null,
      "outputs": []
    },
    {
      "cell_type": "code",
      "metadata": {
        "id": "JYvSi5MME8BU"
      },
      "source": [
        "speedy_rising_volume_list_df.to_csv(\"speedy_rising_volume_list_df.csv\")"
      ],
      "execution_count": null,
      "outputs": []
    },
    {
      "cell_type": "code",
      "metadata": {
        "id": "P5akEMerU8OS"
      },
      "source": [
        "import requests"
      ],
      "execution_count": null,
      "outputs": []
    },
    {
      "cell_type": "markdown",
      "metadata": {
        "id": "cMsd6LGfILQf"
      },
      "source": [
        "## 미리 csv 파일로 저장해 둔 급등주 결과 불러오기"
      ]
    },
    {
      "cell_type": "code",
      "metadata": {
        "colab": {
          "base_uri": "https://localhost:8080/",
          "height": 662
        },
        "id": "q9BPniLEHyX5",
        "outputId": "81937422-3ae7-42be-bbbe-34b306a0b02b"
      },
      "source": [
        "speedy_rising_volume_list_df = pd.read_csv('speedy_rising_volume_list_df.csv')\n",
        "speedy_rising_volume_list_df"
      ],
      "execution_count": 6,
      "outputs": [
        {
          "output_type": "execute_result",
          "data": {
            "text/html": [
              "<div>\n",
              "<style scoped>\n",
              "    .dataframe tbody tr th:only-of-type {\n",
              "        vertical-align: middle;\n",
              "    }\n",
              "\n",
              "    .dataframe tbody tr th {\n",
              "        vertical-align: top;\n",
              "    }\n",
              "\n",
              "    .dataframe thead th {\n",
              "        text-align: right;\n",
              "    }\n",
              "</style>\n",
              "<table border=\"1\" class=\"dataframe\">\n",
              "  <thead>\n",
              "    <tr style=\"text-align: right;\">\n",
              "      <th></th>\n",
              "      <th>Unnamed: 0</th>\n",
              "      <th>speedy_rising_volume_list</th>\n",
              "    </tr>\n",
              "  </thead>\n",
              "  <tbody>\n",
              "    <tr>\n",
              "      <th>0</th>\n",
              "      <td>0</td>\n",
              "      <td>11420</td>\n",
              "    </tr>\n",
              "    <tr>\n",
              "      <th>1</th>\n",
              "      <td>1</td>\n",
              "      <td>3475</td>\n",
              "    </tr>\n",
              "    <tr>\n",
              "      <th>2</th>\n",
              "      <td>2</td>\n",
              "      <td>63440</td>\n",
              "    </tr>\n",
              "    <tr>\n",
              "      <th>3</th>\n",
              "      <td>3</td>\n",
              "      <td>348030</td>\n",
              "    </tr>\n",
              "    <tr>\n",
              "      <th>4</th>\n",
              "      <td>4</td>\n",
              "      <td>6920</td>\n",
              "    </tr>\n",
              "    <tr>\n",
              "      <th>5</th>\n",
              "      <td>5</td>\n",
              "      <td>122350</td>\n",
              "    </tr>\n",
              "    <tr>\n",
              "      <th>6</th>\n",
              "      <td>6</td>\n",
              "      <td>357550</td>\n",
              "    </tr>\n",
              "    <tr>\n",
              "      <th>7</th>\n",
              "      <td>7</td>\n",
              "      <td>43260</td>\n",
              "    </tr>\n",
              "    <tr>\n",
              "      <th>8</th>\n",
              "      <td>8</td>\n",
              "      <td>347000</td>\n",
              "    </tr>\n",
              "    <tr>\n",
              "      <th>9</th>\n",
              "      <td>9</td>\n",
              "      <td>356890</td>\n",
              "    </tr>\n",
              "    <tr>\n",
              "      <th>10</th>\n",
              "      <td>10</td>\n",
              "      <td>225330</td>\n",
              "    </tr>\n",
              "    <tr>\n",
              "      <th>11</th>\n",
              "      <td>11</td>\n",
              "      <td>32080</td>\n",
              "    </tr>\n",
              "    <tr>\n",
              "      <th>12</th>\n",
              "      <td>12</td>\n",
              "      <td>48830</td>\n",
              "    </tr>\n",
              "    <tr>\n",
              "      <th>13</th>\n",
              "      <td>13</td>\n",
              "      <td>153710</td>\n",
              "    </tr>\n",
              "    <tr>\n",
              "      <th>14</th>\n",
              "      <td>14</td>\n",
              "      <td>313760</td>\n",
              "    </tr>\n",
              "    <tr>\n",
              "      <th>15</th>\n",
              "      <td>15</td>\n",
              "      <td>303530</td>\n",
              "    </tr>\n",
              "    <tr>\n",
              "      <th>16</th>\n",
              "      <td>16</td>\n",
              "      <td>64290</td>\n",
              "    </tr>\n",
              "    <tr>\n",
              "      <th>17</th>\n",
              "      <td>17</td>\n",
              "      <td>49630</td>\n",
              "    </tr>\n",
              "    <tr>\n",
              "      <th>18</th>\n",
              "      <td>18</td>\n",
              "      <td>47820</td>\n",
              "    </tr>\n",
              "    <tr>\n",
              "      <th>19</th>\n",
              "      <td>19</td>\n",
              "      <td>163730</td>\n",
              "    </tr>\n",
              "  </tbody>\n",
              "</table>\n",
              "</div>"
            ],
            "text/plain": [
              "    Unnamed: 0  speedy_rising_volume_list\n",
              "0            0                      11420\n",
              "1            1                       3475\n",
              "2            2                      63440\n",
              "3            3                     348030\n",
              "4            4                       6920\n",
              "5            5                     122350\n",
              "6            6                     357550\n",
              "7            7                      43260\n",
              "8            8                     347000\n",
              "9            9                     356890\n",
              "10          10                     225330\n",
              "11          11                      32080\n",
              "12          12                      48830\n",
              "13          13                     153710\n",
              "14          14                     313760\n",
              "15          15                     303530\n",
              "16          16                      64290\n",
              "17          17                      49630\n",
              "18          18                      47820\n",
              "19          19                     163730"
            ]
          },
          "metadata": {
            "tags": []
          },
          "execution_count": 6
        }
      ]
    },
    {
      "cell_type": "code",
      "metadata": {
        "colab": {
          "base_uri": "https://localhost:8080/",
          "height": 662
        },
        "id": "_lHAGTT1vozz",
        "outputId": "2e6cd341-993f-4dba-c6d8-8e1ba4ed3065"
      },
      "source": [
        "# 종목코드 6자리로 맞춰주기\n",
        "speedy_rising_volume_list_df['speedy_rising_volume_list'] = speedy_rising_volume_list_df['speedy_rising_volume_list'].apply(lambda x: '{0:0>6}'.format(x))\n",
        "speedy_rising_volume_list_df"
      ],
      "execution_count": 7,
      "outputs": [
        {
          "output_type": "execute_result",
          "data": {
            "text/html": [
              "<div>\n",
              "<style scoped>\n",
              "    .dataframe tbody tr th:only-of-type {\n",
              "        vertical-align: middle;\n",
              "    }\n",
              "\n",
              "    .dataframe tbody tr th {\n",
              "        vertical-align: top;\n",
              "    }\n",
              "\n",
              "    .dataframe thead th {\n",
              "        text-align: right;\n",
              "    }\n",
              "</style>\n",
              "<table border=\"1\" class=\"dataframe\">\n",
              "  <thead>\n",
              "    <tr style=\"text-align: right;\">\n",
              "      <th></th>\n",
              "      <th>Unnamed: 0</th>\n",
              "      <th>speedy_rising_volume_list</th>\n",
              "    </tr>\n",
              "  </thead>\n",
              "  <tbody>\n",
              "    <tr>\n",
              "      <th>0</th>\n",
              "      <td>0</td>\n",
              "      <td>011420</td>\n",
              "    </tr>\n",
              "    <tr>\n",
              "      <th>1</th>\n",
              "      <td>1</td>\n",
              "      <td>003475</td>\n",
              "    </tr>\n",
              "    <tr>\n",
              "      <th>2</th>\n",
              "      <td>2</td>\n",
              "      <td>063440</td>\n",
              "    </tr>\n",
              "    <tr>\n",
              "      <th>3</th>\n",
              "      <td>3</td>\n",
              "      <td>348030</td>\n",
              "    </tr>\n",
              "    <tr>\n",
              "      <th>4</th>\n",
              "      <td>4</td>\n",
              "      <td>006920</td>\n",
              "    </tr>\n",
              "    <tr>\n",
              "      <th>5</th>\n",
              "      <td>5</td>\n",
              "      <td>122350</td>\n",
              "    </tr>\n",
              "    <tr>\n",
              "      <th>6</th>\n",
              "      <td>6</td>\n",
              "      <td>357550</td>\n",
              "    </tr>\n",
              "    <tr>\n",
              "      <th>7</th>\n",
              "      <td>7</td>\n",
              "      <td>043260</td>\n",
              "    </tr>\n",
              "    <tr>\n",
              "      <th>8</th>\n",
              "      <td>8</td>\n",
              "      <td>347000</td>\n",
              "    </tr>\n",
              "    <tr>\n",
              "      <th>9</th>\n",
              "      <td>9</td>\n",
              "      <td>356890</td>\n",
              "    </tr>\n",
              "    <tr>\n",
              "      <th>10</th>\n",
              "      <td>10</td>\n",
              "      <td>225330</td>\n",
              "    </tr>\n",
              "    <tr>\n",
              "      <th>11</th>\n",
              "      <td>11</td>\n",
              "      <td>032080</td>\n",
              "    </tr>\n",
              "    <tr>\n",
              "      <th>12</th>\n",
              "      <td>12</td>\n",
              "      <td>048830</td>\n",
              "    </tr>\n",
              "    <tr>\n",
              "      <th>13</th>\n",
              "      <td>13</td>\n",
              "      <td>153710</td>\n",
              "    </tr>\n",
              "    <tr>\n",
              "      <th>14</th>\n",
              "      <td>14</td>\n",
              "      <td>313760</td>\n",
              "    </tr>\n",
              "    <tr>\n",
              "      <th>15</th>\n",
              "      <td>15</td>\n",
              "      <td>303530</td>\n",
              "    </tr>\n",
              "    <tr>\n",
              "      <th>16</th>\n",
              "      <td>16</td>\n",
              "      <td>064290</td>\n",
              "    </tr>\n",
              "    <tr>\n",
              "      <th>17</th>\n",
              "      <td>17</td>\n",
              "      <td>049630</td>\n",
              "    </tr>\n",
              "    <tr>\n",
              "      <th>18</th>\n",
              "      <td>18</td>\n",
              "      <td>047820</td>\n",
              "    </tr>\n",
              "    <tr>\n",
              "      <th>19</th>\n",
              "      <td>19</td>\n",
              "      <td>163730</td>\n",
              "    </tr>\n",
              "  </tbody>\n",
              "</table>\n",
              "</div>"
            ],
            "text/plain": [
              "    Unnamed: 0 speedy_rising_volume_list\n",
              "0            0                    011420\n",
              "1            1                    003475\n",
              "2            2                    063440\n",
              "3            3                    348030\n",
              "4            4                    006920\n",
              "5            5                    122350\n",
              "6            6                    357550\n",
              "7            7                    043260\n",
              "8            8                    347000\n",
              "9            9                    356890\n",
              "10          10                    225330\n",
              "11          11                    032080\n",
              "12          12                    048830\n",
              "13          13                    153710\n",
              "14          14                    313760\n",
              "15          15                    303530\n",
              "16          16                    064290\n",
              "17          17                    049630\n",
              "18          18                    047820\n",
              "19          19                    163730"
            ]
          },
          "metadata": {
            "tags": []
          },
          "execution_count": 7
        }
      ]
    },
    {
      "cell_type": "markdown",
      "metadata": {
        "id": "N5-2KFupE8BU"
      },
      "source": [
        "# 종목이름과 종목 코드"
      ]
    },
    {
      "cell_type": "code",
      "metadata": {
        "id": "HWzTnemaE8BU",
        "colab": {
          "base_uri": "https://localhost:8080/"
        },
        "outputId": "a3bbc562-06b4-450b-d56f-bbc680c85163"
      },
      "source": [
        "###########추가#############\n",
        "kospi_temp = fdr.StockListing('KOSPI')[['Symbol', 'Name']]\n",
        "kosdaq_temp = fdr.StockListing('KOSDAQ')[['Symbol', 'Name']]\n",
        "code_name_dict = pd.concat([kospi_temp,kosdaq_temp])\n",
        "code_name_dict = code_name_dict.set_index('Symbol').to_dict().get('Name')\n",
        "code_name_dict"
      ],
      "execution_count": 8,
      "outputs": [
        {
          "output_type": "execute_result",
          "data": {
            "text/plain": [
              "{'095570': 'AJ네트웍스',\n",
              " '006840': 'AK홀딩스',\n",
              " '152100': 'ARIRANG 200',\n",
              " '295820': 'ARIRANG 200동일가중',\n",
              " '253150': 'ARIRANG 200선물레버리지',\n",
              " '253160': 'ARIRANG 200선물인버스2X',\n",
              " '395750': 'ARIRANG ESG가치주액티브',\n",
              " '395760': 'ARIRANG ESG성장주액티브',\n",
              " '278420': 'ARIRANG ESG우수기업',\n",
              " '292750': 'ARIRANG KRX300',\n",
              " '309210': 'ARIRANG KRX300헬스케어',\n",
              " '333940': 'ARIRANG KS로우볼가중TR',\n",
              " '333950': 'ARIRANG KS로우사이즈가중TR',\n",
              " '333960': 'ARIRANG KS모멘텀가중TR',\n",
              " '333970': 'ARIRANG KS밸류가중TR',\n",
              " '333980': 'ARIRANG KS퀄리티가중TR',\n",
              " '269530': 'ARIRANG S&P글로벌인프라',\n",
              " '251590': 'ARIRANG 고배당저변동50',\n",
              " '161510': 'ARIRANG 고배당주',\n",
              " '251600': 'ARIRANG 고배당주채권혼합',\n",
              " '289670': 'ARIRANG 국채선물10년',\n",
              " '298340': 'ARIRANG 국채선물3년',\n",
              " '189400': 'ARIRANG 글로벌MSCI(합성 H)',\n",
              " '278620': 'ARIRANG 단기채권액티브',\n",
              " '269540': 'ARIRANG 미국S&P500(H)',\n",
              " '287180': 'ARIRANG 미국나스닥기술주',\n",
              " '213630': 'ARIRANG 미국다우존스고배당주(합성 H)',\n",
              " '332610': 'ARIRANG 미국단기우량회사채',\n",
              " '332620': 'ARIRANG 미국장기우량회사채',\n",
              " '195970': 'ARIRANG 선진국MSCI(합성 H)',\n",
              " '238670': 'ARIRANG 스마트베타Quality채권혼합',\n",
              " '195980': 'ARIRANG 신흥국MSCI(합성 H)',\n",
              " '373530': 'ARIRANG 신흥국MSCI인버스(합성 H)',\n",
              " '256450': 'ARIRANG 심천차이넥스트(합성)',\n",
              " '239660': 'ARIRANG 우량회사채50 1년',\n",
              " '280920': 'ARIRANG 주도업종',\n",
              " '266550': 'ARIRANG 중형주저변동50',\n",
              " '301400': 'ARIRANG 코스닥150',\n",
              " '301410': 'ARIRANG 코스닥150선물인버스',\n",
              " '227830': 'ARIRANG 코스피',\n",
              " '122090': 'ARIRANG 코스피50',\n",
              " '328370': 'ARIRANG 코스피TR',\n",
              " '301440': 'ARIRANG 코스피중형주',\n",
              " '376250': 'ARIRANG 탄소효율그린뉴딜',\n",
              " '027410': 'BGF',\n",
              " '282330': 'BGF리테일',\n",
              " '138930': 'BNK금융지주',\n",
              " '001460': 'BYC',\n",
              " '001465': 'BYC우',\n",
              " '001040': 'CJ',\n",
              " '079160': 'CJ CGV',\n",
              " '00104K': 'CJ4우(전환)',\n",
              " '000120': 'CJ대한통운',\n",
              " '011150': 'CJ씨푸드',\n",
              " '011155': 'CJ씨푸드1우',\n",
              " '001045': 'CJ우',\n",
              " '097950': 'CJ제일제당',\n",
              " '097955': 'CJ제일제당 우',\n",
              " '000590': 'CS홀딩스',\n",
              " '012030': 'DB',\n",
              " '016610': 'DB금융투자',\n",
              " '005830': 'DB손해보험',\n",
              " '000990': 'DB하이텍',\n",
              " '000995': 'DB하이텍1우',\n",
              " '139130': 'DGB금융지주',\n",
              " '001530': 'DI동일',\n",
              " '000210': 'DL',\n",
              " '001880': 'DL건설',\n",
              " '000215': 'DL우',\n",
              " '375500': 'DL이앤씨',\n",
              " '37550K': 'DL이앤씨우',\n",
              " '004840': 'DRB동일',\n",
              " '155660': 'DSR',\n",
              " '069730': 'DSR제강',\n",
              " '017940': 'E1',\n",
              " '365550': 'ESR켄달스퀘어리츠',\n",
              " '383220': 'F&F',\n",
              " '007700': 'F&F홀딩스',\n",
              " '285690': 'FOCUS ESG리더스',\n",
              " '292730': 'FOCUS KRX300',\n",
              " '73501BB4': 'GB국민참여정책형뉴딜A',\n",
              " '73502BB4': 'GB국민참여정책형뉴딜C',\n",
              " '73503BB4': 'GB국민참여정책형뉴딜I',\n",
              " '73501BA2': 'GB중소성장기업A',\n",
              " '73502BA2': 'GB중소성장기업C',\n",
              " '73503BA2': 'GB중소성장기업I',\n",
              " '114090': 'GKL',\n",
              " '078930': 'GS',\n",
              " '006360': 'GS건설',\n",
              " '001250': 'GS글로벌',\n",
              " '007070': 'GS리테일',\n",
              " '078935': 'GS우',\n",
              " '293180': 'HANARO 200',\n",
              " '332930': 'HANARO 200TR',\n",
              " '304780': 'HANARO 200선물레버리지',\n",
              " '306520': 'HANARO 200선물인버스',\n",
              " '395290': 'HANARO Fn K-POP&미디어',\n",
              " '395280': 'HANARO Fn K-게임',\n",
              " '368190': 'HANARO Fn K-뉴딜디지털플러스',\n",
              " '395270': 'HANARO Fn K-반도체',\n",
              " '367740': 'HANARO Fn5G산업',\n",
              " '381560': 'HANARO Fn전기&수소차',\n",
              " '381570': 'HANARO Fn친환경에너지',\n",
              " '346000': 'HANARO KAP초장기국고채',\n",
              " '304760': 'HANARO KRX300',\n",
              " '332940': 'HANARO MSCI Korea TR',\n",
              " '322400': 'HANARO e커머스',\n",
              " '322410': 'HANARO 고배당',\n",
              " '354350': 'HANARO 글로벌럭셔리S&P(합성)',\n",
              " '314700': 'HANARO 농업융복합산업',\n",
              " '390950': 'HANARO 단기채권액티브',\n",
              " '304770': 'HANARO 코스닥150',\n",
              " '306530': 'HANARO 코스닥150선물레버리지',\n",
              " '375760': 'HANARO 탄소효율그린뉴딜',\n",
              " '012630': 'HDC',\n",
              " '039570': 'HDC아이콘트롤스',\n",
              " '089470': 'HDC현대EP',\n",
              " '294870': 'HDC현대산업개발',\n",
              " '391670': 'HK 베스트일레븐액티브',\n",
              " '391680': 'HK 하이볼액티브',\n",
              " '011200': 'HMM',\n",
              " '082740': 'HSD엔진',\n",
              " '75801BB4': 'IBK 국민참여정책형뉴딜 혼합자산 A',\n",
              " '75802BB4': 'IBK 국민참여정책형뉴딜 혼합자산 C',\n",
              " '003560': 'IHQ',\n",
              " '175330': 'JB금융지주',\n",
              " '234080': 'JW생명과학',\n",
              " '001060': 'JW중외제약',\n",
              " '001067': 'JW중외제약2우B',\n",
              " '001065': 'JW중외제약우',\n",
              " '096760': 'JW홀딩스',\n",
              " '580011': 'KB FnGuide 언택트 ETN',\n",
              " '580013': 'KB KRX ESG Eco ETN',\n",
              " '580012': 'KB KRX300 ETN',\n",
              " '580010': 'KB Wise 분할매매 ETN',\n",
              " '580016': 'KB 레버리지 S&P 500 선물 ETN(H)',\n",
              " '580022': 'KB 레버리지 금 선물 ETN(H)',\n",
              " '580015': 'KB 레버리지 나스닥 100 ETN',\n",
              " '580018': 'KB 레버리지 항셍테크 선물 ETN(H)',\n",
              " '71901B96': 'KB 와이즈 스타 부동산 자 2 A',\n",
              " '71902B96': 'KB 와이즈 스타 부동산 자 2 C-F',\n",
              " '71903B96': 'KB 와이즈 스타 부동산 자 2 C-I',\n",
              " '580017': 'KB 인버스 2X S&P 500 선물 ETN',\n",
              " '580023': 'KB 인버스 2X 금 선물 ETN(H)',\n",
              " '580014': 'KB 인버스 2X 나스닥 100 ETN',\n",
              " '580019': 'KB 인버스 2X 항셍테크 선물 ETN',\n",
              " '580021': 'KB 인버스 천연가스 선물 ETN',\n",
              " '580020': 'KB 천연가스 선물 ETN(H)',\n",
              " '58FG44': 'KBFG44KOSPI200콜',\n",
              " '58FG45': 'KBFG45KOSPI200콜',\n",
              " '58FG46': 'KBFG46KOSPI200콜',\n",
              " '58FG47': 'KBFG47KOSPI200콜',\n",
              " '58FG48': 'KBFG48KOSPI200콜',\n",
              " '58FG49': 'KBFG49KOSPI200콜',\n",
              " '58FG50': 'KBFG50KOSPI200콜',\n",
              " '58FG51': 'KBFG51KOSPI200콜',\n",
              " '58FG52': 'KBFG52KOSPI200콜',\n",
              " '58FG53': 'KBFG53KOSPI200콜',\n",
              " '58FG54': 'KBFG54KOSPI200풋',\n",
              " '58FG55': 'KBFG55KOSPI200풋',\n",
              " '58FG56': 'KBFG56KOSPI200풋',\n",
              " '58FG57': 'KBFG57KOSPI200풋',\n",
              " '58FG58': 'KBFG58KOSPI200풋',\n",
              " '58FG59': 'KBFG59KOSPI200풋',\n",
              " '58FG60': 'KBFG60KOSPI200풋',\n",
              " '58FG61': 'KBFG61KOSPI200풋',\n",
              " '58FG62': 'KBFG62KOSPI200풋',\n",
              " '58FG63': 'KBFG63KOSPI200풋',\n",
              " '58FH85': 'KBFH85삼성전자콜',\n",
              " '58FH86': 'KBFH86현대차콜',\n",
              " '58G170': 'KBG170엘지전자콜',\n",
              " '58G171': 'KBG171LG화학콜',\n",
              " '58G172': 'KBG172SK하이닉콜',\n",
              " '58G173': 'KBG173삼성SDI콜',\n",
              " '58G174': 'KBG174삼성전자콜',\n",
              " '58G175': 'KBG175삼성전자콜',\n",
              " '58G176': 'KBG176삼성전자풋',\n",
              " '58G177': 'KBG177셀트리온콜',\n",
              " '58G178': 'KBG178신한지주콜',\n",
              " '58G179': 'KBG179카카오콜',\n",
              " '58G180': 'KBG180하나금융콜',\n",
              " '58G181': 'KBG181현대차콜',\n",
              " '58G182': 'KBG182현대차콜',\n",
              " '58G183': 'KBG183엘지전자콜',\n",
              " '58G184': 'KBG184LG화학콜',\n",
              " '58G185': 'KBG185SK하이닉콜',\n",
              " '58G186': 'KBG186삼성SDI콜',\n",
              " '58G187': 'KBG187삼성전자콜',\n",
              " '58G188': 'KBG188삼성전자콜',\n",
              " '58G189': 'KBG189셀트리온콜',\n",
              " '58G190': 'KBG190카카오콜',\n",
              " '58G191': 'KBG191현대차콜',\n",
              " '58G192': 'KBG192LG화학콜',\n",
              " '58G193': 'KBG193SK하이닉콜',\n",
              " '58G194': 'KBG194삼성전자콜',\n",
              " '58G195': 'KBG195현대차콜',\n",
              " '58G196': 'KBG196삼성전자콜',\n",
              " '58G325': 'KBG325KOSPI200콜',\n",
              " '58G326': 'KBG326KOSPI200콜',\n",
              " '58G327': 'KBG327KOSPI200콜',\n",
              " '58G328': 'KBG328KOSPI200콜',\n",
              " '58G329': 'KBG329KOSPI200콜',\n",
              " '58G330': 'KBG330KOSPI200콜',\n",
              " '58G331': 'KBG331KOSPI200콜',\n",
              " '58G332': 'KBG332KOSPI200콜',\n",
              " '58G333': 'KBG333KOSPI200콜',\n",
              " '58G334': 'KBG334KOSPI200콜',\n",
              " '58G335': 'KBG335KOSPI200콜',\n",
              " '58G336': 'KBG336KOSPI200콜',\n",
              " '58G337': 'KBG337KOSPI200콜',\n",
              " '58G338': 'KBG338KOSPI200콜',\n",
              " '58G340': 'KBG340엘지전자콜',\n",
              " '58G343': 'KBG343LG화학콜',\n",
              " '58G346': 'KBG346네이버콜',\n",
              " '58G347': 'KBG347네이버풋',\n",
              " '58G353': 'KBG353SK텔레콤콜',\n",
              " '58G355': 'KBG355SK하이닉콜',\n",
              " '58G356': 'KBG356SK하이닉콜',\n",
              " '58G359': 'KBG359기아풋',\n",
              " '58G371': 'KBG371삼성중콜',\n",
              " '58G374': 'KBG374하나금융콜',\n",
              " '58G378': 'KBG378모비스콜',\n",
              " '58G379': 'KBG379현대차콜',\n",
              " '58G382': 'KBG382POSCO콜',\n",
              " '58G385': 'KBG385삼성전자콜',\n",
              " '58G386': 'KBG386삼성전자콜',\n",
              " '58G387': 'KBG387삼성전자콜',\n",
              " '58G388': 'KBG388삼성전자콜',\n",
              " '58G395': 'KBG395신한지주풋',\n",
              " '58G397': 'KBG397한국전력콜',\n",
              " '58G417': 'KBG417KOSPI200콜',\n",
              " '58G418': 'KBG418KOSPI200콜',\n",
              " '58G419': 'KBG419KOSPI200콜',\n",
              " '58G420': 'KBG420KOSPI200콜',\n",
              " '58G421': 'KBG421KOSPI200콜',\n",
              " '58G422': 'KBG422KOSPI200콜',\n",
              " '58G423': 'KBG423KOSPI200콜',\n",
              " '58G424': 'KBG424KOSPI200콜',\n",
              " '58G425': 'KBG425KOSPI200콜',\n",
              " '58G426': 'KBG426KOSPI200콜',\n",
              " '58G427': 'KBG427KOSPI200콜',\n",
              " '58G428': 'KBG428KOSPI200콜',\n",
              " '58G429': 'KBG429KOSPI200콜',\n",
              " '58G430': 'KBG430KOSPI200콜',\n",
              " '58G431': 'KBG431KOSPI200콜',\n",
              " '58G432': 'KBG432KOSPI200콜',\n",
              " '58G433': 'KBG433KOSPI200콜',\n",
              " '58G434': 'KBG434KOSPI200콜',\n",
              " '58G435': 'KBG435KOSPI200콜',\n",
              " '58G436': 'KBG436KOSPI200콜',\n",
              " '58G437': 'KBG437KOSPI200콜',\n",
              " '58G438': 'KBG438KOSPI200콜',\n",
              " '58G439': 'KBG439KOSPI200콜',\n",
              " '58G440': 'KBG440KOSPI200콜',\n",
              " '58G441': 'KBG441KOSPI200콜',\n",
              " '58G442': 'KBG442KOSPI200콜',\n",
              " '58G538': 'KBG538LG생건콜',\n",
              " '58G540': 'KBG540LG화학콜',\n",
              " '58G541': 'KBG541네이버콜',\n",
              " '58G542': 'KBG542네이버콜',\n",
              " '58G543': 'KBG543네이버풋',\n",
              " '58G544': 'KBG544POSCO콜',\n",
              " '58G545': 'KBG545SK이노콜',\n",
              " '58G546': 'KBG546SK케미칼콜',\n",
              " '58G547': 'KBG547SK텔레콤콜',\n",
              " '58G548': 'KBG548SK하이닉콜',\n",
              " '58G549': 'KBG549기아콜',\n",
              " '58G550': 'KBG550기아콜',\n",
              " '58G551': 'KBG551넷마블콜',\n",
              " '58G552': 'KBG552녹십자콜',\n",
              " '58G553': 'KBG553대웅콜',\n",
              " '58G554': 'KBG554두산중공콜',\n",
              " '58G555': 'KBG555두산퓨얼콜',\n",
              " '58G557': 'KBG557롯데케미콜',\n",
              " '58G558': 'KBG558만도콜',\n",
              " '58G559': 'KBG559하이브콜',\n",
              " '58G560': 'KBG560삼성SDI콜',\n",
              " '58G561': 'KBG561삼성물산콜',\n",
              " '58G562': 'KBG562삼성바이콜',\n",
              " '58G563': 'KBG563삼성전기콜',\n",
              " '58G564': 'KBG564삼성전자콜',\n",
              " '58G565': 'KBG565삼성전자콜',\n",
              " '58G566': 'KBG566삼성전자콜',\n",
              " '58G567': 'KBG567셀트리온콜',\n",
              " '58G568': 'KBG568셀트리온콜',\n",
              " '58G569': 'KBG569셀트리온콜',\n",
              " '58G570': 'KBG570셀트헬스콜',\n",
              " '58G571': 'KBG571셀트헬스콜',\n",
              " '58G572': 'KBG572신한지주콜',\n",
              " '58G573': 'KBG573아모레콜',\n",
              " '58G574': 'KBG574SK바이오콜',\n",
              " '58G575': 'KBG575NC소프트콜',\n",
              " '58G576': 'KBG576포스코케콜',\n",
              " '58G577': 'KBG577하나금융콜',\n",
              " '58G578': 'KBG578한국전력콜',\n",
              " '58G579': 'KBG579모비스콜',\n",
              " '58G580': 'KBG580현대차콜',\n",
              " '58G581': 'KBG581현대차콜',\n",
              " '58G582': 'KBG582엘지전자콜',\n",
              " '58G583': 'KBG583LG화학콜',\n",
              " '58G584': 'KBG584네이버콜',\n",
              " '58G585': 'KBG585네이버콜',\n",
              " '58G586': 'KBG586POSCO콜',\n",
              " '58G587': 'KBG587SK텔레콤콜',\n",
              " '58G588': 'KBG588SK하이닉콜',\n",
              " '58G589': 'KBG589기아콜',\n",
              " '58G590': 'KBG590기아풋',\n",
              " '58G591': 'KBG591롯데케미콜',\n",
              " '58G592': 'KBG592롯데케미콜',\n",
              " '58G593': 'KBG593삼성SDI콜',\n",
              " '58G594': 'KBG594삼성바이콜',\n",
              " '58G595': 'KBG595삼성생명콜',\n",
              " '58G596': 'KBG596삼성전자콜',\n",
              " '58G597': 'KBG597삼성전자콜',\n",
              " '58G598': 'KBG598삼성전자풋',\n",
              " '58G599': 'KBG599삼성중콜',\n",
              " '58G600': 'KBG600셀트리온콜',\n",
              " '58G601': 'KBG601셀트리온콜',\n",
              " '58G602': 'KBG602셀트헬스콜',\n",
              " '58G603': 'KBG603아모레콜',\n",
              " '58G604': 'KBG604하나금융콜',\n",
              " '58G605': 'KBG605모비스콜',\n",
              " '58G606': 'KBG606현대차콜',\n",
              " '58G607': 'KBG607엘지전자콜',\n",
              " '58G608': 'KBG608LG화학콜',\n",
              " '58G609': 'KBG609네이버콜',\n",
              " '58G610': 'KBG610네이버풋',\n",
              " '58G611': 'KBG611POSCO콜',\n",
              " '58G612': 'KBG612SK텔레콤콜',\n",
              " '58G613': 'KBG613SK하이닉콜',\n",
              " '58G614': 'KBG614기아콜',\n",
              " '58G615': 'KBG615롯데케미콜',\n",
              " '58G616': 'KBG616삼성전자콜',\n",
              " '58G617': 'KBG617삼성전자콜',\n",
              " '58G618': 'KBG618삼성전자풋',\n",
              " '58G619': 'KBG619셀트리온콜',\n",
              " '58G620': 'KBG620셀트헬스콜',\n",
              " '58G621': 'KBG621신한지주콜',\n",
              " '58G622': 'KBG622하나금융콜',\n",
              " '58G623': 'KBG623현대차콜',\n",
              " '58G624': 'KBG624LG화학콜',\n",
              " '58G625': 'KBG625네이버콜',\n",
              " '58G626': 'KBG626POSCO콜',\n",
              " '58G627': 'KBG627SK하이닉콜',\n",
              " '58G628': 'KBG628기아콜',\n",
              " '58G629': 'KBG629롯데케미콜',\n",
              " '58G630': 'KBG630삼성전자콜',\n",
              " '58G631': 'KBG631셀트리온콜',\n",
              " '58G632': 'KBG632셀트헬스콜',\n",
              " '58G633': 'KBG633현대차콜',\n",
              " '58G634': 'KBG634롯데케미콜',\n",
              " '58G635': 'KBG635삼성전자콜',\n",
              " '58G636': 'KBG636삼성전자콜',\n",
              " '58G637': 'KBG637셀트리온콜',\n",
              " '58G638': 'KBG638삼성전자콜',\n",
              " '58G639': 'KBG639삼성전자콜',\n",
              " '58G640': 'KBG640삼성전자콜',\n",
              " '58G641': 'KBG641삼성중콜',\n",
              " '58G681': 'KBG681KOSPI200콜',\n",
              " '58G682': 'KBG682KOSPI200콜',\n",
              " '58G683': 'KBG683KOSPI200콜',\n",
              " '58G684': 'KBG684KOSPI200콜',\n",
              " '58G685': 'KBG685KOSPI200콜',\n",
              " '58G686': 'KBG686KOSPI200콜',\n",
              " '58G687': 'KBG687KOSPI200콜',\n",
              " '58G688': 'KBG688KOSPI200콜',\n",
              " '58G689': 'KBG689KOSPI200콜',\n",
              " '58G690': 'KBG690KOSPI200콜',\n",
              " '58G691': 'KBG691KOSPI200콜',\n",
              " '58G692': 'KBG692KOSPI200콜',\n",
              " '58G693': 'KBG693KOSPI200콜',\n",
              " '58G694': 'KBG694KOSPI200콜',\n",
              " '58G695': 'KBG695KOSPI200콜',\n",
              " '58G696': 'KBG696KOSPI200콜',\n",
              " '58G697': 'KBG697KOSPI200콜',\n",
              " '58G698': 'KBG698KOSPI200콜',\n",
              " '58G699': 'KBG699KOSPI200콜',\n",
              " '58G700': 'KBG700KOSPI200콜',\n",
              " '58G701': 'KBG701KOSPI200콜',\n",
              " '58G702': 'KBG702KOSPI200콜',\n",
              " '58G703': 'KBG703KOSPI200콜',\n",
              " '58G704': 'KBG704KOSPI200콜',\n",
              " '58G705': 'KBG705KOSPI200콜',\n",
              " '58G706': 'KBG706KOSPI200풋',\n",
              " '58G707': 'KBG707KOSPI200풋',\n",
              " '58G708': 'KBG708KOSPI200풋',\n",
              " '58G709': 'KBG709KOSPI200풋',\n",
              " '58G710': 'KBG710KOSPI200풋',\n",
              " '58G711': 'KBG711KOSPI200풋',\n",
              " '58G712': 'KBG712KOSPI200풋',\n",
              " '58G713': 'KBG713KOSPI200풋',\n",
              " '58G714': 'KBG714KOSPI200풋',\n",
              " '58G715': 'KBG715KOSPI200풋',\n",
              " '58G716': 'KBG716KOSPI200콜',\n",
              " '58G717': 'KBG717KOSPI200콜',\n",
              " '58G718': 'KBG718KOSPI200콜',\n",
              " '58G719': 'KBG719KOSPI200콜',\n",
              " '58G720': 'KBG720KOSPI200콜',\n",
              " '58G721': 'KBG721KOSPI200콜',\n",
              " '58G722': 'KBG722KOSPI200콜',\n",
              " '58G723': 'KBG723KOSPI200콜',\n",
              " '58G724': 'KBG724KOSPI200콜',\n",
              " '58G725': 'KBG725KOSPI200콜',\n",
              " '58G726': 'KBG726케이티지콜',\n",
              " '58G727': 'KBG727케이티지콜',\n",
              " '58G728': 'KBG728케이티지풋',\n",
              " '58G729': 'KBG729엘지디스콜',\n",
              " '58G730': 'KBG730엘지디스콜',\n",
              " '58G731': 'KBG731엘지디스풋',\n",
              " '58G732': 'KBG732LG생건콜',\n",
              " '58G733': 'KBG733LG이노텍콜',\n",
              " '58G734': 'KBG734LG이노텍콜',\n",
              " '58G735': 'KBG735LG이노텍풋',\n",
              " '58G736': 'KBG736엘지전자콜',\n",
              " '58G738': 'KBG738엘지전자풋',\n",
              " '58G739': 'KBG739LG화학콜',\n",
              " '58G740': 'KBG740LG화학콜',\n",
              " '58G741': 'KBG741LG화학풋',\n",
              " '58G742': 'KBG742네이버콜',\n",
              " '58G743': 'KBG743네이버풋',\n",
              " '58G744': 'KBG744POSCO콜',\n",
              " '58G745': 'KBG745POSCO콜',\n",
              " '58G746': 'KBG746POSCO풋',\n",
              " '58G748': 'KBG748SK콜',\n",
              " '58G749': 'KBG749SK풋',\n",
              " '58G750': 'KBG750SK텔레콤콜',\n",
              " '58G752': 'KBG752SK텔레콤풋',\n",
              " '58G753': 'KBG753SK하이닉콜',\n",
              " '58G755': 'KBG755S-OIL콜',\n",
              " '58G756': 'KBG756S-OIL풋',\n",
              " '58G757': 'KBG757금호석유콜',\n",
              " '58G758': 'KBG758금호석유콜',\n",
              " '58G759': 'KBG759금호석유풋',\n",
              " '58G760': 'KBG760기아콜',\n",
              " '58G761': 'KBG761기아콜',\n",
              " '58G762': 'KBG762기아풋',\n",
              " '58G763': 'KBG763만도콜',\n",
              " '58G764': 'KBG764만도콜',\n",
              " '58G765': 'KBG765만도풋',\n",
              " '58G766': 'KBG766삼성SDI콜',\n",
              " '58G767': 'KBG767삼성물산콜',\n",
              " '58G768': 'KBG768삼성물산풋',\n",
              " '58G770': 'KBG770삼성전기콜',\n",
              " '58G771': 'KBG771삼성전기콜',\n",
              " '58G772': 'KBG772삼성전자콜',\n",
              " '58G773': 'KBG773삼성전자콜',\n",
              " '58G774': 'KBG774삼성전자풋',\n",
              " '58G775': 'KBG775삼성중콜',\n",
              " '58G776': 'KBG776삼성중콜',\n",
              " '58G778': 'KBG778셀트리온콜',\n",
              " '58G779': 'KBG779셀트리온콜',\n",
              " '58G780': 'KBG780셀트리온풋',\n",
              " '58G781': 'KBG781셀트제약콜',\n",
              " '58G782': 'KBG782셀트제약콜',\n",
              " '58G783': 'KBG783셀트제약풋',\n",
              " '58G784': 'KBG784셀트헬스콜',\n",
              " '58G785': 'KBG785신한지주콜',\n",
              " '58G786': 'KBG786신한지주콜',\n",
              " '58G787': 'KBG787신한지주풋',\n",
              " '58G788': 'KBG788이마트콜',\n",
              " '58G789': 'KBG789하나금융콜',\n",
              " '58G790': 'KBG790하나금융콜',\n",
              " '58G791': 'KBG791하나금융풋',\n",
              " '58G792': 'KBG792한국조선콜',\n",
              " '58G793': 'KBG793한국조선콜',\n",
              " '58G794': 'KBG794한국조선풋',\n",
              " '58G795': 'KBG795한화솔루콜',\n",
              " '58G796': 'KBG796한화솔루콜',\n",
              " '58G797': 'KBG797한화솔루풋',\n",
              " '58G798': 'KBG798글로비스콜',\n",
              " '58G799': 'KBG799글로비스콜',\n",
              " '58G800': 'KBG800글로비스풋',\n",
              " '58G801': 'KBG801모비스콜',\n",
              " '58G802': 'KBG802모비스콜',\n",
              " '58G803': 'KBG803모비스풋',\n",
              " '58G804': 'KBG804현대차풋',\n",
              " '58G805': 'KBG805호텔신라콜',\n",
              " '58G806': 'KBG806호텔신라콜',\n",
              " '58G807': 'KBG807호텔신라풋',\n",
              " '58G808': 'KBG808케이티지콜',\n",
              " '58G809': 'KBG809LG이노텍콜',\n",
              " '58G810': 'KBG810엘지전자콜',\n",
              " '58G811': 'KBG811LG화학콜',\n",
              " '58G812': 'KBG812LG화학풋',\n",
              " '58G813': 'KBG813네이버콜',\n",
              " '58G814': 'KBG814POSCO콜',\n",
              " '58G815': 'KBG815SK콜',\n",
              " '58G816': 'KBG816SK이노콜',\n",
              " '58G817': 'KBG817SK텔레콤콜',\n",
              " '58G818': 'KBG818SK텔레콤콜',\n",
              " '58G820': 'KBG820금호석유콜',\n",
              " '58G821': 'KBG821기아콜',\n",
              " '58G822': 'KBG822만도콜',\n",
              " '58G823': 'KBG823삼성SDI콜',\n",
              " '58G824': 'KBG824삼성전자콜',\n",
              " '58G825': 'KBG825삼성중콜',\n",
              " '58G826': 'KBG826셀트리온콜',\n",
              " '58G827': 'KBG827셀트제약콜',\n",
              " '58G828': 'KBG828셀트제약콜',\n",
              " '58G829': 'KBG829신한지주콜',\n",
              " '58G830': 'KBG830이마트콜',\n",
              " '58G831': 'KBG831하나금융콜',\n",
              " '58G832': 'KBG832한국조선콜',\n",
              " '58G833': 'KBG833글로비스콜',\n",
              " '58G834': 'KBG834모비스콜',\n",
              " '58G835': 'KBG835현대차콜',\n",
              " '58G836': 'KBG836호텔신라콜',\n",
              " '58G837': 'KBG837케이티지콜',\n",
              " '58G838': 'KBG838엘지디스콜',\n",
              " '58G839': 'KBG839LG생건콜',\n",
              " '58G840': 'KBG840엘지전자콜',\n",
              " '58G841': 'KBG841LG화학콜',\n",
              " '58G842': 'KBG842네이버콜',\n",
              " '58G843': 'KBG843POSCO콜',\n",
              " '58G844': 'KBG844POSCO콜',\n",
              " '58G845': 'KBG845SK텔레콤콜',\n",
              " '58G846': 'KBG846SK텔레콤풋',\n",
              " '58G847': 'KBG847SK하이닉콜',\n",
              " '58G848': 'KBG848SK하이닉풋',\n",
              " '58G849': 'KBG849S-OIL콜',\n",
              " '58G850': 'KBG850기아콜',\n",
              " '58G851': 'KBG851삼성SDI콜',\n",
              " '58G852': 'KBG852셀트리온콜',\n",
              " '58G853': 'KBG853이마트콜',\n",
              " '58G854': 'KBG854한국조선콜',\n",
              " '58G855': 'KBG855현대차콜',\n",
              " '58G856': 'KBG856케이티지콜',\n",
              " '58G857': 'KBG857엘지전자콜',\n",
              " '58G858': 'KBG858POSCO콜',\n",
              " '58G859': 'KBG859SK텔레콤콜',\n",
              " '58G860': 'KBG860기아콜',\n",
              " '58G861': 'KBG861셀트리온콜',\n",
              " '58G862': 'KBG862한화솔루콜',\n",
              " '58G863': 'KBG863삼성전자콜',\n",
              " '58G864': 'KBG864KOSPI200풋',\n",
              " '58G865': 'KBG865KOSPI200풋',\n",
              " '58G866': 'KBG866KOSPI200풋',\n",
              " '58G867': 'KBG867KOSPI200풋',\n",
              " '58G868': 'KBG868KOSPI200풋',\n",
              " '58G869': 'KBG869KOSPI200풋',\n",
              " '58G870': 'KBG870KOSPI200풋',\n",
              " '58G871': 'KBG871KOSPI200풋',\n",
              " '58G872': 'KBG872KOSPI200풋',\n",
              " '58G873': 'KBG873KOSPI200풋',\n",
              " '58G874': 'KBG874KOSPI200풋',\n",
              " '58G875': 'KBG875KOSPI200풋',\n",
              " '58G876': 'KBG876KOSPI200풋',\n",
              " '58G877': 'KBG877KOSPI200풋',\n",
              " '58G878': 'KBG878KOSPI200풋',\n",
              " '58G879': 'KBG879KOSPI200풋',\n",
              " '58G880': 'KBG880KOSPI200풋',\n",
              " '58G881': 'KBG881KOSPI200풋',\n",
              " '58G882': 'KBG882KOSPI200풋',\n",
              " '58G883': 'KBG883KOSPI200풋',\n",
              " '58G884': 'KBG884KOSPI200풋',\n",
              " '58G885': 'KBG885KOSPI200풋',\n",
              " '58G886': 'KBG886KOSPI200콜',\n",
              " '58G887': 'KBG887KOSPI200콜',\n",
              " '58G888': 'KBG888KOSPI200콜',\n",
              " '58G889': 'KBG889KOSPI200콜',\n",
              " '58G890': 'KBG890KOSPI200콜',\n",
              " '58G891': 'KBG891KOSPI200콜',\n",
              " '58G892': 'KBG892KOSPI200콜',\n",
              " '58G893': 'KBG893KOSPI200콜',\n",
              " '58G894': 'KBG894KOSPI200콜',\n",
              " '58G895': 'KBG895KOSPI200풋',\n",
              " '58G896': 'KBG896KOSPI200풋',\n",
              " '58G897': 'KBG897KOSPI200풋',\n",
              " '58G898': 'KBG898KOSPI200풋',\n",
              " '58G899': 'KBG899KOSPI200풋',\n",
              " '58G900': 'KBG900KOSPI200풋',\n",
              " '58G901': 'KBG901KOSPI200풋',\n",
              " '58G902': 'KBG902KOSPI200풋',\n",
              " '58G903': 'KBG903KOSPI200풋',\n",
              " '58G904': 'KBG904KOSPI200풋',\n",
              " '58G905': 'KBG905KOSPI200풋',\n",
              " '58G906': 'KBG906KOSPI200풋',\n",
              " '58G907': 'KBG907KOSPI200풋',\n",
              " '58G908': 'KBG908KOSPI200풋',\n",
              " '58G909': 'KBG909KOSPI200풋',\n",
              " '58G910': 'KBG910KOSPI200콜',\n",
              " '58G911': 'KBG911KOSPI200콜',\n",
              " '58G912': 'KBG912KOSPI200콜',\n",
              " '58G913': 'KBG913KOSPI200콜',\n",
              " '58G914': 'KBG914KOSPI200콜',\n",
              " '58G915': 'KBG915KOSPI200콜',\n",
              " '58G916': 'KBG916KOSPI200콜',\n",
              " '58G917': 'KBG917KOSPI200콜',\n",
              " '58G918': 'KBG918KOSPI200콜',\n",
              " '58G919': 'KBG919KOSPI200콜',\n",
              " '58G920': 'KBG920KOSPI200풋',\n",
              " '58G921': 'KBG921KOSPI200풋',\n",
              " '58G922': 'KBG922KOSPI200풋',\n",
              " '58G923': 'KBG923KOSPI200풋',\n",
              " '58G924': 'KBG924KOSPI200풋',\n",
              " '58G925': 'KBG925KOSPI200풋',\n",
              " '58G926': 'KBG926KOSPI200풋',\n",
              " '58G927': 'KBG927KOSPI200풋',\n",
              " '58G928': 'KBG928KOSPI200풋',\n",
              " '58G929': 'KBG929KOSPI200풋',\n",
              " '58G930': 'KBG930KOSPI200콜',\n",
              " '58G931': 'KBG931KOSPI200콜',\n",
              " '58G932': 'KBG932KOSPI200콜',\n",
              " '58G933': 'KBG933KOSPI200콜',\n",
              " '58G934': 'KBG934KOSPI200콜',\n",
              " '58G935': 'KBG935KOSPI200풋',\n",
              " '58G936': 'KBG936KOSPI200풋',\n",
              " '58G937': 'KBG937KOSPI200풋',\n",
              " '58G938': 'KBG938KOSPI200풋',\n",
              " '58G939': 'KBG939KOSPI200풋',\n",
              " '58G940': 'KBG940KOSPI200콜',\n",
              " '58G941': 'KBG941KOSPI200콜',\n",
              " '58G942': 'KBG942KOSPI200콜',\n",
              " '58G943': 'KBG943KOSPI200콜',\n",
              " '58G944': 'KBG944KOSPI200콜',\n",
              " '58G945': 'KBG945KOSPI200풋',\n",
              " '58G946': 'KBG946KOSPI200풋',\n",
              " '58G947': 'KBG947KOSPI200풋',\n",
              " '58G948': 'KBG948KOSPI200풋',\n",
              " '58G949': 'KBG949KOSPI200풋',\n",
              " '58G952': 'KBG952엘지디스콜',\n",
              " '58G953': 'KBG953엘지디스콜',\n",
              " '58G954': 'KBG954LG생건콜',\n",
              " '58G956': 'KBG956LG화학콜',\n",
              " '58G957': 'KBG957LG화학콜',\n",
              " '58G958': 'KBG958네이버콜',\n",
              " '58G960': 'KBG960네이버풋',\n",
              " '58G961': 'KBG961POSCO콜',\n",
              " '58G962': 'KBG962POSCO콜',\n",
              " '58G963': 'KBG963POSCO콜',\n",
              " '58G964': 'KBG964POSCO풋',\n",
              " '58G965': 'KBG965SK이노콜',\n",
              " '58G966': 'KBG966SK케미칼콜',\n",
              " '58G967': 'KBG967SK텔레콤콜',\n",
              " '58G968': 'KBG968SK텔레콤콜',\n",
              " '58G970': 'KBG970SK하이닉콜',\n",
              " '58G971': 'KBG971SK하이닉풋',\n",
              " '58G972': 'KBG972S-OIL콜',\n",
              " '58G973': 'KBG973S-OIL콜',\n",
              " '58G974': 'KBG974S-OIL풋',\n",
              " '58G975': 'KBG975금호석유콜',\n",
              " '58G976': 'KBG976기아콜',\n",
              " '58G977': 'KBG977기아풋',\n",
              " '58G978': 'KBG978넷마블콜',\n",
              " '58G979': 'KBG979녹십자콜',\n",
              " '58G981': 'KBG981롯데케미콜',\n",
              " '58G982': 'KBG982만도콜',\n",
              " '58G983': 'KBG983삼성SDI콜',\n",
              " '58G985': 'KBG985삼성물산콜',\n",
              " '58G986': 'KBG986삼성바이콜',\n",
              " '58G987': 'KBG987삼성바이콜',\n",
              " '58G988': 'KBG988삼성바이풋',\n",
              " '58G989': 'KBG989삼성SDS콜',\n",
              " '58G990': 'KBG990삼성SDS콜',\n",
              " '58G992': 'KBG992삼성전기콜',\n",
              " '58G993': 'KBG993삼성전자콜',\n",
              " '58G994': 'KBG994삼성전자콜',\n",
              " '58G995': 'KBG995삼성전자풋',\n",
              " '58G996': 'KBG996셀트리온콜',\n",
              " '58G997': 'KBG997셀트리온콜',\n",
              " '58G998': 'KBG998셀트리온풋',\n",
              " '58G999': 'KBG999셀트헬스콜',\n",
              " '58GA00': 'KBGA00셀트헬스풋',\n",
              " '58GA01': 'KBGA01신한지주콜',\n",
              " '58GA02': 'KBGA02신한지주콜',\n",
              " '58GA03': 'KBGA03신한지주풋',\n",
              " '58GA04': 'KBGA04아모레콜',\n",
              " '58GA05': 'KBGA05아모레콜',\n",
              " '58GA06': 'KBGA06아모레풋',\n",
              " '58GA08': 'KBGA08NC소프트콜',\n",
              " '58GA09': 'KBGA09NC소프트콜',\n",
              " '58GA10': 'KBGA10NC소프트풋',\n",
              " '58GA11': 'KBGA11이마트콜',\n",
              " '58GA12': 'KBGA12카카오콜',\n",
              " '58GA14': 'KBGA14카카오풋',\n",
              " '58GA15': 'KBGA15포스코케콜',\n",
              " '58GA16': 'KBGA16하나금융콜',\n",
              " '58GA17': 'KBGA17하나금융콜',\n",
              " '58GA18': 'KBGA18하나금융풋',\n",
              " '58GA19': 'KBGA19하이브콜',\n",
              " '58GA20': 'KBGA20하이브콜',\n",
              " '58GA21': 'KBGA21한국전력콜',\n",
              " '58GA22': 'KBGA22한국조선콜',\n",
              " '58GA23': 'KBGA23한국조선콜',\n",
              " '58GA24': 'KBGA24한국조선풋',\n",
              " '58GA25': 'KBGA25한화솔루콜',\n",
              " '58GA26': 'KBGA26글로비스콜',\n",
              " '58GA27': 'KBGA27모비스콜',\n",
              " '58GA28': 'KBGA28모비스풋',\n",
              " '58GA29': 'KBGA29현대차콜',\n",
              " '58GA30': 'KBGA30현대차풋',\n",
              " '58GA31': 'KBGA31호텔신라콜',\n",
              " '58GA32': 'KBGA32호텔신라콜',\n",
              " '58GA33': 'KBGA33호텔신라풋',\n",
              " '58GA34': 'KBGA34케이티지풋',\n",
              " '58GA35': 'KBGA35케이티지콜',\n",
              " '58GA36': 'KBGA36엘지디스콜',\n",
              " '58GA39': 'KBGA39네이버콜',\n",
              " '58GA40': 'KBGA40네이버콜',\n",
              " '58GA41': 'KBGA41POSCO콜',\n",
              " '58GA42': 'KBGA42POSCO콜',\n",
              " '58GA43': 'KBGA43SK이노콜',\n",
              " '58GA44': 'KBGA44SK케미칼콜',\n",
              " '58GA45': 'KBGA45SK텔레콤콜',\n",
              " '58GA46': 'KBGA46SK텔레콤콜',\n",
              " '58GA47': 'KBGA47SK하이닉콜',\n",
              " '58GA48': 'KBGA48S-OIL콜',\n",
              " '58GA49': 'KBGA49금호석유콜',\n",
              " '58GA50': 'KBGA50기아콜',\n",
              " '58GA51': 'KBGA51두산퓨얼콜',\n",
              " '58GA52': 'KBGA52롯데케미풋',\n",
              " '58GA53': 'KBGA53롯데케미콜',\n",
              " '58GA54': 'KBGA54만도콜',\n",
              " '58GA55': 'KBGA55삼성SDI콜',\n",
              " '58GA56': 'KBGA56삼성물산콜',\n",
              " '58GA57': 'KBGA57삼성바이콜',\n",
              " '58GA58': 'KBGA58삼성전기콜',\n",
              " '58GA59': 'KBGA59삼성전자콜',\n",
              " '58GA60': 'KBGA60삼성전자콜',\n",
              " '58GA61': 'KBGA61셀트리온콜',\n",
              " '58GA62': 'KBGA62셀트리온콜',\n",
              " '58GA63': 'KBGA63셀트제약콜',\n",
              " '58GA64': 'KBGA64셀트헬스콜',\n",
              " '58GA65': 'KBGA65신한지주콜',\n",
              " '58GA66': 'KBGA66아모레콜',\n",
              " '58GA67': 'KBGA67아모레콜',\n",
              " '58GA68': 'KBGA68NC소프트콜',\n",
              " '58GA69': 'KBGA69NC소프트콜',\n",
              " '58GA70': 'KBGA70카카오콜',\n",
              " '58GA71': 'KBGA71하나금융콜',\n",
              " '58GA72': 'KBGA72하이브콜',\n",
              " '58GA73': 'KBGA73하이브콜',\n",
              " '58GA74': 'KBGA74한국전력콜',\n",
              " '58GA75': 'KBGA75한국조선콜',\n",
              " '58GA76': 'KBGA76한화솔루콜',\n",
              " '58GA77': 'KBGA77글로비스콜',\n",
              " '58GA78': 'KBGA78모비스콜',\n",
              " '58GA79': 'KBGA79현대차콜',\n",
              " '58GA80': 'KBGA80호텔신라콜',\n",
              " '58GA81': 'KBGA81엘지디스콜',\n",
              " '58GA82': 'KBGA82LG화학콜',\n",
              " '58GA83': 'KBGA83네이버콜',\n",
              " '58GA84': 'KBGA84POSCO콜',\n",
              " '58GA85': 'KBGA85SK텔레콤콜',\n",
              " '58GA86': 'KBGA86SK텔레콤풋',\n",
              " '58GA87': 'KBGA87SK하이닉콜',\n",
              " '58GA88': 'KBGA88삼성SDI콜',\n",
              " '58GA89': 'KBGA89삼성바이콜',\n",
              " '58GA90': 'KBGA90삼성전자콜',\n",
              " '58GA91': 'KBGA91삼성전자콜',\n",
              " '58GA92': 'KBGA92셀트리온콜',\n",
              " '58GA93': 'KBGA93셀트리온풋',\n",
              " '58GA95': 'KBGA95신한지주콜',\n",
              " '58GA96': 'KBGA96아모레콜',\n",
              " '58GA97': 'KBGA97NC소프트콜',\n",
              " '58GA98': 'KBGA98카카오콜',\n",
              " '58GA99': 'KBGA99하나금융콜',\n",
              " '58GB00': 'KBGB00모비스콜',\n",
              " '58GB01': 'KBGB01현대차콜',\n",
              " '58GB02': 'KBGB02케이티지콜',\n",
              " '58GB03': 'KBGB03엘지디스콜',\n",
              " '58GB04': 'KBGB04엘지전자콜',\n",
              " '58GB05': 'KBGB05LG화학콜',\n",
              " '58GB06': 'KBGB06POSCO콜',\n",
              " '58GB07': 'KBGB07SK텔레콤콜',\n",
              " '58GB08': 'KBGB08SK하이닉콜',\n",
              " '58GB09': 'KBGB09삼성SDI콜',\n",
              " '58GB10': 'KBGB10삼성SDS콜',\n",
              " '58GB11': 'KBGB11삼성전자콜',\n",
              " '58GB12': 'KBGB12삼성전자풋',\n",
              " '58GB13': 'KBGB13신한지주콜',\n",
              " '58GB14': 'KBGB14하나금융콜',\n",
              " '58GB15': 'KBGB15SK하이닉콜',\n",
              " '58GB16': 'KBGB16삼성전자콜',\n",
              " '58GB17': 'KBGB17셀트리온콜',\n",
              " '58GB18': 'KBGB18삼성전자콜',\n",
              " '58GB19': 'KBGB19삼성전자풋',\n",
              " '58GB20': 'KBGB20KOSPI200풋',\n",
              " '58GB21': 'KBGB21KOSPI200풋',\n",
              " '58GB22': 'KBGB22KOSPI200풋',\n",
              " '58GB23': 'KBGB23KOSPI200풋',\n",
              " '58GB24': 'KBGB24KOSPI200풋',\n",
              " '58GB25': 'KBGB25KOSPI200풋',\n",
              " '58GB26': 'KBGB26KOSPI200풋',\n",
              " '58GB27': 'KBGB27KOSPI200풋',\n",
              " '58GB28': 'KBGB28KOSPI200풋',\n",
              " '58GB29': 'KBGB29KOSPI200풋',\n",
              " '58GB30': 'KBGB30KOSPI200풋',\n",
              " '58GB31': 'KBGB31KOSPI200풋',\n",
              " '58GB32': 'KBGB32KOSPI200풋',\n",
              " '58GB33': 'KBGB33KOSPI200풋',\n",
              " '58GB34': 'KBGB34KOSPI200풋',\n",
              " '58GB35': 'KBGB35KOSPI200콜',\n",
              " '58GB36': 'KBGB36KOSPI200콜',\n",
              " '58GB37': 'KBGB37KOSPI200콜',\n",
              " '58GB38': 'KBGB38KOSPI200콜',\n",
              " '58GB39': 'KBGB39KOSPI200콜',\n",
              " '58GB40': 'KBGB40KOSPI200콜',\n",
              " '58GB41': 'KBGB41KOSPI200콜',\n",
              " '58GB42': 'KBGB42KOSPI200콜',\n",
              " '58GB43': 'KBGB43KOSPI200콜',\n",
              " '58GB44': 'KBGB44KOSPI200콜',\n",
              " '58GB45': 'KBGB45KOSPI200콜',\n",
              " '58GB46': 'KBGB46KOSPI200콜',\n",
              " '58GB47': 'KBGB47KOSPI200콜',\n",
              " '58GB48': 'KBGB48KOSPI200콜',\n",
              " '58GB49': 'KBGB49KOSPI200콜',\n",
              " '58GB50': 'KBGB50KOSPI200풋',\n",
              " '58GB51': 'KBGB51KOSPI200풋',\n",
              " '58GB52': 'KBGB52KOSPI200풋',\n",
              " '58GB53': 'KBGB53KOSPI200풋',\n",
              " '58GB54': 'KBGB54KOSPI200풋',\n",
              " '58GB55': 'KBGB55KOSPI200풋',\n",
              " '58GB56': 'KBGB56KOSPI200풋',\n",
              " '58GB57': 'KBGB57KOSPI200풋',\n",
              " '58GB58': 'KBGB58KOSPI200풋',\n",
              " '58GB59': 'KBGB59KOSPI200풋',\n",
              " '58GB60': 'KBGB60KOSPI200풋',\n",
              " '58GB61': 'KBGB61KOSPI200풋',\n",
              " '58GB62': 'KBGB62KOSPI200풋',\n",
              " '58GB63': 'KBGB63KOSPI200풋',\n",
              " '58GB64': 'KBGB64KOSPI200풋',\n",
              " '58GB65': 'KBGB65KOSPI200콜',\n",
              " '58GB66': 'KBGB66KOSPI200콜',\n",
              " '58GB67': 'KBGB67KOSPI200콜',\n",
              " '58GB68': 'KBGB68KOSPI200콜',\n",
              " '58GB69': 'KBGB69KOSPI200콜',\n",
              " '58GB70': 'KBGB70KOSPI200콜',\n",
              " '58GB71': 'KBGB71KOSPI200콜',\n",
              " '58GB72': 'KBGB72KOSPI200콜',\n",
              " '58GB73': 'KBGB73KOSPI200콜',\n",
              " '58GB74': 'KBGB74KOSPI200콜',\n",
              " '58GB75': 'KBGB75KOSPI200콜',\n",
              " '58GB76': 'KBGB76KOSPI200콜',\n",
              " '58GB77': 'KBGB77KOSPI200콜',\n",
              " '58GB78': 'KBGB78KOSPI200콜',\n",
              " '58GB79': 'KBGB79KOSPI200콜',\n",
              " '58GB80': 'KBGB80KOSPI200콜',\n",
              " '58GB81': 'KBGB81KOSPI200콜',\n",
              " '58GB82': 'KBGB82KOSPI200콜',\n",
              " '58GB83': 'KBGB83KOSPI200콜',\n",
              " '58GB84': 'KBGB84KOSPI200콜',\n",
              " '58GB85': 'KBGB85엘지디스콜',\n",
              " '58GB86': 'KBGB86엘지디스풋',\n",
              " '58GB87': 'KBGB87LG이노텍콜',\n",
              " '58GB88': 'KBGB88엘지전자풋',\n",
              " '58GB89': 'KBGB89LG화학콜',\n",
              " '58GB90': 'KBGB90네이버콜',\n",
              " '58GB91': 'KBGB91POSCO콜',\n",
              " '58GB92': 'KBGB92POSCO풋',\n",
              " '58GB93': 'KBGB93SK콜',\n",
              " '58GB94': 'KBGB94SK이노콜',\n",
              " '58GB97': 'KBGB97S-OIL콜',\n",
              " '58GB98': 'KBGB98S-OIL콜',\n",
              " '58GB99': 'KBGB99S-OIL풋',\n",
              " '58GC00': 'KBGC00금호석유콜',\n",
              " '58GC01': 'KBGC01기아콜',\n",
              " '58GC02': 'KBGC02기아풋',\n",
              " '58GC03': 'KBGC03넷마블콜',\n",
              " '58GC04': 'KBGC04넷마블풋',\n",
              " '58GC05': 'KBGC05녹십자콜',\n",
              " '58GC06': 'KBGC06롯데케미콜',\n",
              " '58GC07': 'KBGC07롯데케미풋',\n",
              " '58GC08': 'KBGC08만도콜',\n",
              " '58GC09': 'KBGC09삼성SDI콜',\n",
              " '58GC11': 'KBGC11삼성물산콜',\n",
              " '58GC12': 'KBGC12삼성바이콜',\n",
              " '58GC13': 'KBGC13삼성전자콜',\n",
              " '58GC14': 'KBGC14삼성전자콜',\n",
              " '58GC15': 'KBGC15삼성전자콜',\n",
              " '58GC16': 'KBGC16삼성전자풋',\n",
              " '58GC18': 'KBGC18셀트헬스콜',\n",
              " '58GC20': 'KBGC20신한지주풋',\n",
              " '58GC22': 'KBGC22NC소프트콜',\n",
              " '58GC23': 'KBGC23카카오콜',\n",
              " '58GC24': 'KBGC24포스코케콜',\n",
              " '58GC25': 'KBGC25하나금융콜',\n",
              " '58GC26': 'KBGC26하나금융콜',\n",
              " '58GC27': 'KBGC27하나금융풋',\n",
              " '58GC28': 'KBGC28한국전력풋',\n",
              " '58GC29': 'KBGC29한국조선콜',\n",
              " '58GC30': 'KBGC30한국항공콜',\n",
              " '58GC31': 'KBGC31한화솔루콜',\n",
              " '58GC32': 'KBGC32모비스콜',\n",
              " '58GC33': 'KBGC33현대제철콜',\n",
              " '58GC34': 'KBGC34현대제철콜',\n",
              " '58GC35': 'KBGC35현대제철풋',\n",
              " '58GC36': 'KBGC36현대차콜',\n",
              " '58GC37': 'KBGC37현대차풋',\n",
              " '58GC38': 'KBGC38호텔신라콜',\n",
              " '58GC39': 'KBGC39호텔신라풋',\n",
              " '58GC40': 'KBGC40LG생건콜',\n",
              " '58GC41': 'KBGC41LG이노텍콜',\n",
              " '58GC42': 'KBGC42LG화학콜',\n",
              " '58GC43': 'KBGC43LG화학풋',\n",
              " '58GC44': 'KBGC44네이버콜',\n",
              " '58GC45': 'KBGC45POSCO콜',\n",
              " '58GC46': 'KBGC46SK콜',\n",
              " '58GC47': 'KBGC47SK하이닉콜',\n",
              " '58GC48': 'KBGC48S-OIL콜',\n",
              " '58GC49': 'KBGC49금호석유콜',\n",
              " '58GC50': 'KBGC50넷마블콜',\n",
              " '58GC52': 'KBGC52두산퓨얼콜',\n",
              " '58GC53': 'KBGC53롯데케미콜',\n",
              " '58GC54': 'KBGC54만도콜',\n",
              " '58GC55': 'KBGC55삼성물산콜',\n",
              " '58GC56': 'KBGC56삼성SDS콜',\n",
              " '58GC57': 'KBGC57삼성전기콜',\n",
              " '58GC58': 'KBGC58삼성전자콜',\n",
              " '58GC59': 'KBGC59셀트헬스풋',\n",
              " '58GC60': 'KBGC60신한지주콜',\n",
              " '58GC61': 'KBGC61이마트콜',\n",
              " '58GC62': 'KBGC62카카오풋',\n",
              " '58GC64': 'KBGC64하이브콜',\n",
              " '58GC65': 'KBGC65한국전력콜',\n",
              " '58GC66': 'KBGC66한국조선콜',\n",
              " '58GC67': 'KBGC67한화솔루콜',\n",
              " '58GC68': 'KBGC68글로비스콜',\n",
              " '58GC69': 'KBGC69모비스콜',\n",
              " '58GC70': 'KBGC70현대제철콜',\n",
              " '58GC71': 'KBGC71호텔신라콜',\n",
              " '58GC72': 'KBGC72엘지디스콜',\n",
              " '58GC73': 'KBGC73엘지전자콜',\n",
              " '58GC74': 'KBGC74LG화학콜',\n",
              " '58GC76': 'KBGC76POSCO콜',\n",
              " '58GC77': 'KBGC77SK콜',\n",
              " '58GC78': 'KBGC78SK이노콜',\n",
              " '58GC80': 'KBGC80SK하이닉콜',\n",
              " '58GC81': 'KBGC81SK하이닉콜',\n",
              " '58GC82': 'KBGC82기아콜',\n",
              " '58GC84': 'KBGC84롯데케미콜',\n",
              " '58GC85': 'KBGC85삼성SDI콜',\n",
              " '58GC86': 'KBGC86삼성물산콜',\n",
              " '58GC87': 'KBGC87삼성바이콜',\n",
              " '58GC88': 'KBGC88삼성전기콜',\n",
              " '58GC89': 'KBGC89삼성전자풋',\n",
              " '58GC90': 'KBGC90셀트리온콜',\n",
              " '58GC91': 'KBGC91셀트제약콜',\n",
              " '58GC92': 'KBGC92셀트헬스콜',\n",
              " '58GC93': 'KBGC93아모레콜',\n",
              " '58GC94': 'KBGC94NC소프트콜',\n",
              " '58GC95': 'KBGC95이마트콜',\n",
              " '58GC96': 'KBGC96카카오콜',\n",
              " '58GC98': 'KBGC98하나금융콜',\n",
              " '58GC99': 'KBGC99글로비스콜',\n",
              " '58GD00': 'KBGD00모비스콜',\n",
              " '58GD01': 'KBGD01현대차콜',\n",
              " '58GD02': 'KBGD02현대차콜',\n",
              " '58GD03': 'KBGD03호텔신라콜',\n",
              " '58GD04': 'KBGD04엘지전자콜',\n",
              " '58GD05': 'KBGD05LG화학콜',\n",
              " '58GD06': 'KBGD06네이버콜',\n",
              " '58GD07': 'KBGD07POSCO콜',\n",
              " '58GD09': 'KBGD09SK하이닉콜',\n",
              " '58GD10': 'KBGD10기아콜',\n",
              " '58GD12': 'KBGD12롯데케미콜',\n",
              " '58GD13': 'KBGD13삼성SDI콜',\n",
              " '58GD14': 'KBGD14삼성바이콜',\n",
              " '58GD15': 'KBGD15삼성전자콜',\n",
              " '58GD16': 'KBGD16셀트리온콜',\n",
              " '58GD17': 'KBGD17신한지주콜',\n",
              " '58GD18': 'KBGD18아모레콜',\n",
              " '58GD19': 'KBGD19한국항공콜',\n",
              " '58GD20': 'KBGD20모비스콜',\n",
              " '58GD21': 'KBGD21현대차콜',\n",
              " '58GD22': 'KBGD22엘지디스콜',\n",
              " '58GD23': 'KBGD23SK하이닉콜',\n",
              " '58GD24': 'KBGD24기아콜',\n",
              " '58GD25': 'KBGD25삼성물산콜',\n",
              " '58GD26': 'KBGD26삼성전자콜',\n",
              " '58GD27': 'KBGD27셀트리온콜',\n",
              " '58GD28': 'KBGD28NC소프트콜',\n",
              " '58GD29': 'KBGD29하나금융콜',\n",
              " '58GD30': 'KBGD30현대차콜',\n",
              " '58GD31': 'KBGD31삼성전자콜',\n",
              " '58GD32': 'KBGD32카카오콜',\n",
              " '58GD33': 'KBGD33하나금융콜',\n",
              " '58GD34': 'KBGD34한국전력콜',\n",
              " '58GD35': 'KBGD35KOSPI200콜',\n",
              " '58GD36': 'KBGD36KOSPI200콜',\n",
              " '58GD37': 'KBGD37KOSPI200콜',\n",
              " '58GD38': 'KBGD38KOSPI200콜',\n",
              " '58GD39': 'KBGD39KOSPI200콜',\n",
              " '58GD40': 'KBGD40KOSPI200콜',\n",
              " '58GD41': 'KBGD41KOSPI200콜',\n",
              " '58GD42': 'KBGD42KOSPI200콜',\n",
              " '58GD43': 'KBGD43KOSPI200콜',\n",
              " '58GD44': 'KBGD44KOSPI200콜',\n",
              " '58GD45': 'KBGD45KOSPI200콜',\n",
              " '58GD46': 'KBGD46KOSPI200콜',\n",
              " '58GD47': 'KBGD47KOSPI200콜',\n",
              " '58GD48': 'KBGD48KOSPI200콜',\n",
              " '58GD49': 'KBGD49KOSPI200콜',\n",
              " '58GD50': 'KBGD50KOSPI200콜',\n",
              " '58GD51': 'KBGD51KOSPI200콜',\n",
              " '58GD52': 'KBGD52KOSPI200풋',\n",
              " '58GD53': 'KBGD53KOSPI200풋',\n",
              " '58GD54': 'KBGD54KOSPI200풋',\n",
              " '58GD55': 'KBGD55KOSPI200풋',\n",
              " '58GD56': 'KBGD56KOSPI200풋',\n",
              " ...}"
            ]
          },
          "metadata": {
            "tags": []
          },
          "execution_count": 8
        }
      ]
    },
    {
      "cell_type": "code",
      "metadata": {
        "id": "KtaGZU_aZiy4"
      },
      "source": [
        "import warnings\n",
        "warnings.filterwarnings(action='ignore')"
      ],
      "execution_count": null,
      "outputs": []
    },
    {
      "cell_type": "markdown",
      "metadata": {
        "id": "1BtTZY2cHmAG"
      },
      "source": [
        "### 급등주 종목 저장"
      ]
    },
    {
      "cell_type": "code",
      "metadata": {
        "colab": {
          "base_uri": "https://localhost:8080/"
        },
        "id": "tdySrE9TTmoe",
        "outputId": "9da1c316-3472-46dd-c9c5-85b6f9cf1bc7"
      },
      "source": [
        "assets= np.array(speedy_rising_volume_list_df['speedy_rising_volume_list'].values)\n",
        "assets"
      ],
      "execution_count": 9,
      "outputs": [
        {
          "output_type": "execute_result",
          "data": {
            "text/plain": [
              "array(['011420', '003475', '063440', '348030', '006920', '122350',\n",
              "       '357550', '043260', '347000', '356890', '225330', '032080',\n",
              "       '048830', '153710', '313760', '303530', '064290', '049630',\n",
              "       '047820', '163730'], dtype=object)"
            ]
          },
          "metadata": {
            "tags": []
          },
          "execution_count": 9
        }
      ]
    },
    {
      "cell_type": "code",
      "metadata": {
        "colab": {
          "base_uri": "https://localhost:8080/"
        },
        "id": "_fJPPe4wONyH",
        "outputId": "71d89271-ae75-4d8a-97bd-385118f5eae9"
      },
      "source": [
        "len(assets)"
      ],
      "execution_count": 10,
      "outputs": [
        {
          "output_type": "execute_result",
          "data": {
            "text/plain": [
              "20"
            ]
          },
          "metadata": {
            "tags": []
          },
          "execution_count": 10
        }
      ]
    },
    {
      "cell_type": "markdown",
      "metadata": {
        "id": "kSa2XeZuSPc1"
      },
      "source": [
        "### 3년치 주가 데이터 가져오기"
      ]
    },
    {
      "cell_type": "code",
      "metadata": {
        "colab": {
          "base_uri": "https://localhost:8080/",
          "height": 632
        },
        "id": "RiXWFZkWNOzO",
        "scrolled": true,
        "outputId": "b3c7ead4-ef07-4360-d700-c0b76a9552ed"
      },
      "source": [
        "# 종목별 종가 가져오기\n",
        "from datetime import datetime\n",
        "\n",
        "#시작일\n",
        "start_date = '2018-07-19'\n",
        "\n",
        "# today = datetime.today().strftime('%Y-%m-%d')\n",
        "end_date = '2021-07-19'\n",
        "\n",
        "# 각 주식의 일별 종가 데이터를 저장할 데이터 프레임을 생성\n",
        "#Create a dataframe to store the adjusted close price of the stocks\n",
        "df = pd.DataFrame()\n",
        "\n",
        "# FinanceDataReader로 각 종목의 종가데이터 불러오기\n",
        "for stock in assets:\n",
        "  df[stock] = fdr.DataReader(stock, start_date, end_date)['Close']\n",
        "df"
      ],
      "execution_count": 11,
      "outputs": [
        {
          "output_type": "execute_result",
          "data": {
            "text/html": [
              "<div>\n",
              "<style scoped>\n",
              "    .dataframe tbody tr th:only-of-type {\n",
              "        vertical-align: middle;\n",
              "    }\n",
              "\n",
              "    .dataframe tbody tr th {\n",
              "        vertical-align: top;\n",
              "    }\n",
              "\n",
              "    .dataframe thead th {\n",
              "        text-align: right;\n",
              "    }\n",
              "</style>\n",
              "<table border=\"1\" class=\"dataframe\">\n",
              "  <thead>\n",
              "    <tr style=\"text-align: right;\">\n",
              "      <th></th>\n",
              "      <th>011420</th>\n",
              "      <th>003475</th>\n",
              "      <th>063440</th>\n",
              "      <th>348030</th>\n",
              "      <th>006920</th>\n",
              "      <th>122350</th>\n",
              "      <th>357550</th>\n",
              "      <th>043260</th>\n",
              "      <th>347000</th>\n",
              "      <th>356890</th>\n",
              "      <th>225330</th>\n",
              "      <th>032080</th>\n",
              "      <th>048830</th>\n",
              "      <th>153710</th>\n",
              "      <th>313760</th>\n",
              "      <th>303530</th>\n",
              "      <th>064290</th>\n",
              "      <th>049630</th>\n",
              "      <th>047820</th>\n",
              "      <th>163730</th>\n",
              "    </tr>\n",
              "    <tr>\n",
              "      <th>Date</th>\n",
              "      <th></th>\n",
              "      <th></th>\n",
              "      <th></th>\n",
              "      <th></th>\n",
              "      <th></th>\n",
              "      <th></th>\n",
              "      <th></th>\n",
              "      <th></th>\n",
              "      <th></th>\n",
              "      <th></th>\n",
              "      <th></th>\n",
              "      <th></th>\n",
              "      <th></th>\n",
              "      <th></th>\n",
              "      <th></th>\n",
              "      <th></th>\n",
              "      <th></th>\n",
              "      <th></th>\n",
              "      <th></th>\n",
              "      <th></th>\n",
              "    </tr>\n",
              "  </thead>\n",
              "  <tbody>\n",
              "    <tr>\n",
              "      <th>2018-07-19</th>\n",
              "      <td>1885</td>\n",
              "      <td>2305</td>\n",
              "      <td>2110</td>\n",
              "      <td>NaN</td>\n",
              "      <td>5530</td>\n",
              "      <td>3075</td>\n",
              "      <td>NaN</td>\n",
              "      <td>1140</td>\n",
              "      <td>NaN</td>\n",
              "      <td>NaN</td>\n",
              "      <td>7970</td>\n",
              "      <td>1970</td>\n",
              "      <td>2060</td>\n",
              "      <td>NaN</td>\n",
              "      <td>NaN</td>\n",
              "      <td>NaN</td>\n",
              "      <td>3570</td>\n",
              "      <td>1472</td>\n",
              "      <td>1393</td>\n",
              "      <td>NaN</td>\n",
              "    </tr>\n",
              "    <tr>\n",
              "      <th>2018-07-20</th>\n",
              "      <td>1880</td>\n",
              "      <td>2285</td>\n",
              "      <td>2000</td>\n",
              "      <td>NaN</td>\n",
              "      <td>5540</td>\n",
              "      <td>3060</td>\n",
              "      <td>NaN</td>\n",
              "      <td>1085</td>\n",
              "      <td>NaN</td>\n",
              "      <td>NaN</td>\n",
              "      <td>7960</td>\n",
              "      <td>1900</td>\n",
              "      <td>2050</td>\n",
              "      <td>NaN</td>\n",
              "      <td>NaN</td>\n",
              "      <td>NaN</td>\n",
              "      <td>3540</td>\n",
              "      <td>1434</td>\n",
              "      <td>1398</td>\n",
              "      <td>NaN</td>\n",
              "    </tr>\n",
              "    <tr>\n",
              "      <th>2018-07-23</th>\n",
              "      <td>1855</td>\n",
              "      <td>2305</td>\n",
              "      <td>1900</td>\n",
              "      <td>NaN</td>\n",
              "      <td>5180</td>\n",
              "      <td>3005</td>\n",
              "      <td>NaN</td>\n",
              "      <td>1040</td>\n",
              "      <td>NaN</td>\n",
              "      <td>NaN</td>\n",
              "      <td>7800</td>\n",
              "      <td>1840</td>\n",
              "      <td>1960</td>\n",
              "      <td>NaN</td>\n",
              "      <td>NaN</td>\n",
              "      <td>NaN</td>\n",
              "      <td>3335</td>\n",
              "      <td>1351</td>\n",
              "      <td>1302</td>\n",
              "      <td>NaN</td>\n",
              "    </tr>\n",
              "    <tr>\n",
              "      <th>2018-07-24</th>\n",
              "      <td>1850</td>\n",
              "      <td>2325</td>\n",
              "      <td>1960</td>\n",
              "      <td>NaN</td>\n",
              "      <td>5450</td>\n",
              "      <td>2985</td>\n",
              "      <td>NaN</td>\n",
              "      <td>1085</td>\n",
              "      <td>NaN</td>\n",
              "      <td>NaN</td>\n",
              "      <td>7940</td>\n",
              "      <td>1865</td>\n",
              "      <td>2015</td>\n",
              "      <td>NaN</td>\n",
              "      <td>NaN</td>\n",
              "      <td>NaN</td>\n",
              "      <td>3435</td>\n",
              "      <td>1458</td>\n",
              "      <td>1316</td>\n",
              "      <td>NaN</td>\n",
              "    </tr>\n",
              "    <tr>\n",
              "      <th>2018-07-25</th>\n",
              "      <td>1820</td>\n",
              "      <td>2320</td>\n",
              "      <td>1925</td>\n",
              "      <td>NaN</td>\n",
              "      <td>5530</td>\n",
              "      <td>3050</td>\n",
              "      <td>NaN</td>\n",
              "      <td>1070</td>\n",
              "      <td>NaN</td>\n",
              "      <td>NaN</td>\n",
              "      <td>7920</td>\n",
              "      <td>1830</td>\n",
              "      <td>1980</td>\n",
              "      <td>NaN</td>\n",
              "      <td>NaN</td>\n",
              "      <td>NaN</td>\n",
              "      <td>3425</td>\n",
              "      <td>1393</td>\n",
              "      <td>1288</td>\n",
              "      <td>NaN</td>\n",
              "    </tr>\n",
              "    <tr>\n",
              "      <th>...</th>\n",
              "      <td>...</td>\n",
              "      <td>...</td>\n",
              "      <td>...</td>\n",
              "      <td>...</td>\n",
              "      <td>...</td>\n",
              "      <td>...</td>\n",
              "      <td>...</td>\n",
              "      <td>...</td>\n",
              "      <td>...</td>\n",
              "      <td>...</td>\n",
              "      <td>...</td>\n",
              "      <td>...</td>\n",
              "      <td>...</td>\n",
              "      <td>...</td>\n",
              "      <td>...</td>\n",
              "      <td>...</td>\n",
              "      <td>...</td>\n",
              "      <td>...</td>\n",
              "      <td>...</td>\n",
              "      <td>...</td>\n",
              "    </tr>\n",
              "    <tr>\n",
              "      <th>2021-07-13</th>\n",
              "      <td>1950</td>\n",
              "      <td>4650</td>\n",
              "      <td>2775</td>\n",
              "      <td>20900.0</td>\n",
              "      <td>6000</td>\n",
              "      <td>4175</td>\n",
              "      <td>20550.0</td>\n",
              "      <td>1675</td>\n",
              "      <td>19450.0</td>\n",
              "      <td>14750.0</td>\n",
              "      <td>7450</td>\n",
              "      <td>3025</td>\n",
              "      <td>2340</td>\n",
              "      <td>15000.0</td>\n",
              "      <td>13650.0</td>\n",
              "      <td>15500.0</td>\n",
              "      <td>22200</td>\n",
              "      <td>1030</td>\n",
              "      <td>2460</td>\n",
              "      <td>19900.0</td>\n",
              "    </tr>\n",
              "    <tr>\n",
              "      <th>2021-07-14</th>\n",
              "      <td>1900</td>\n",
              "      <td>4580</td>\n",
              "      <td>2775</td>\n",
              "      <td>20600.0</td>\n",
              "      <td>5970</td>\n",
              "      <td>4220</td>\n",
              "      <td>21550.0</td>\n",
              "      <td>1720</td>\n",
              "      <td>19300.0</td>\n",
              "      <td>14600.0</td>\n",
              "      <td>7490</td>\n",
              "      <td>3025</td>\n",
              "      <td>2375</td>\n",
              "      <td>14850.0</td>\n",
              "      <td>13500.0</td>\n",
              "      <td>15950.0</td>\n",
              "      <td>21900</td>\n",
              "      <td>1050</td>\n",
              "      <td>2500</td>\n",
              "      <td>19800.0</td>\n",
              "    </tr>\n",
              "    <tr>\n",
              "      <th>2021-07-15</th>\n",
              "      <td>1895</td>\n",
              "      <td>4580</td>\n",
              "      <td>2765</td>\n",
              "      <td>20750.0</td>\n",
              "      <td>5970</td>\n",
              "      <td>4205</td>\n",
              "      <td>21450.0</td>\n",
              "      <td>1720</td>\n",
              "      <td>19650.0</td>\n",
              "      <td>14800.0</td>\n",
              "      <td>7790</td>\n",
              "      <td>3000</td>\n",
              "      <td>3085</td>\n",
              "      <td>14800.0</td>\n",
              "      <td>13500.0</td>\n",
              "      <td>15750.0</td>\n",
              "      <td>22600</td>\n",
              "      <td>1100</td>\n",
              "      <td>2470</td>\n",
              "      <td>19750.0</td>\n",
              "    </tr>\n",
              "    <tr>\n",
              "      <th>2021-07-16</th>\n",
              "      <td>1945</td>\n",
              "      <td>4535</td>\n",
              "      <td>2780</td>\n",
              "      <td>20950.0</td>\n",
              "      <td>5990</td>\n",
              "      <td>4160</td>\n",
              "      <td>21650.0</td>\n",
              "      <td>1700</td>\n",
              "      <td>19750.0</td>\n",
              "      <td>14650.0</td>\n",
              "      <td>7810</td>\n",
              "      <td>2980</td>\n",
              "      <td>3065</td>\n",
              "      <td>14300.0</td>\n",
              "      <td>13350.0</td>\n",
              "      <td>16050.0</td>\n",
              "      <td>22200</td>\n",
              "      <td>1085</td>\n",
              "      <td>2515</td>\n",
              "      <td>19550.0</td>\n",
              "    </tr>\n",
              "    <tr>\n",
              "      <th>2021-07-19</th>\n",
              "      <td>1885</td>\n",
              "      <td>4435</td>\n",
              "      <td>2760</td>\n",
              "      <td>20750.0</td>\n",
              "      <td>5790</td>\n",
              "      <td>4215</td>\n",
              "      <td>21600.0</td>\n",
              "      <td>1690</td>\n",
              "      <td>19650.0</td>\n",
              "      <td>14700.0</td>\n",
              "      <td>7580</td>\n",
              "      <td>2930</td>\n",
              "      <td>3010</td>\n",
              "      <td>13600.0</td>\n",
              "      <td>13300.0</td>\n",
              "      <td>15800.0</td>\n",
              "      <td>21650</td>\n",
              "      <td>1055</td>\n",
              "      <td>2625</td>\n",
              "      <td>19600.0</td>\n",
              "    </tr>\n",
              "  </tbody>\n",
              "</table>\n",
              "<p>740 rows × 20 columns</p>\n",
              "</div>"
            ],
            "text/plain": [
              "            011420  003475  063440   348030  ...  064290  049630  047820   163730\n",
              "Date                                         ...                                 \n",
              "2018-07-19    1885    2305    2110      NaN  ...    3570    1472    1393      NaN\n",
              "2018-07-20    1880    2285    2000      NaN  ...    3540    1434    1398      NaN\n",
              "2018-07-23    1855    2305    1900      NaN  ...    3335    1351    1302      NaN\n",
              "2018-07-24    1850    2325    1960      NaN  ...    3435    1458    1316      NaN\n",
              "2018-07-25    1820    2320    1925      NaN  ...    3425    1393    1288      NaN\n",
              "...            ...     ...     ...      ...  ...     ...     ...     ...      ...\n",
              "2021-07-13    1950    4650    2775  20900.0  ...   22200    1030    2460  19900.0\n",
              "2021-07-14    1900    4580    2775  20600.0  ...   21900    1050    2500  19800.0\n",
              "2021-07-15    1895    4580    2765  20750.0  ...   22600    1100    2470  19750.0\n",
              "2021-07-16    1945    4535    2780  20950.0  ...   22200    1085    2515  19550.0\n",
              "2021-07-19    1885    4435    2760  20750.0  ...   21650    1055    2625  19600.0\n",
              "\n",
              "[740 rows x 20 columns]"
            ]
          },
          "metadata": {
            "tags": []
          },
          "execution_count": 11
        }
      ]
    },
    {
      "cell_type": "code",
      "metadata": {
        "colab": {
          "base_uri": "https://localhost:8080/"
        },
        "id": "GYtDjH5CS4Bb",
        "outputId": "e510da9d-32c1-4d1d-cc62-9191298066fd"
      },
      "source": [
        "df.info()"
      ],
      "execution_count": 12,
      "outputs": [
        {
          "output_type": "stream",
          "text": [
            "<class 'pandas.core.frame.DataFrame'>\n",
            "DatetimeIndex: 740 entries, 2018-07-19 to 2021-07-19\n",
            "Data columns (total 20 columns):\n",
            " #   Column  Non-Null Count  Dtype  \n",
            "---  ------  --------------  -----  \n",
            " 0   011420  740 non-null    int64  \n",
            " 1   003475  740 non-null    int64  \n",
            " 2   063440  740 non-null    int64  \n",
            " 3   348030  118 non-null    float64\n",
            " 4   006920  740 non-null    int64  \n",
            " 5   122350  740 non-null    int64  \n",
            " 6   357550  141 non-null    float64\n",
            " 7   043260  740 non-null    int64  \n",
            " 8   347000  180 non-null    float64\n",
            " 9   356890  91 non-null     float64\n",
            " 10  225330  740 non-null    int64  \n",
            " 11  032080  740 non-null    int64  \n",
            " 12  048830  740 non-null    int64  \n",
            " 13  153710  675 non-null    float64\n",
            " 14  313760  491 non-null    float64\n",
            " 15  303530  22 non-null     float64\n",
            " 16  064290  740 non-null    int64  \n",
            " 17  049630  740 non-null    int64  \n",
            " 18  047820  740 non-null    int64  \n",
            " 19  163730  117 non-null    float64\n",
            "dtypes: float64(8), int64(12)\n",
            "memory usage: 121.4 KB\n"
          ],
          "name": "stdout"
        }
      ]
    },
    {
      "cell_type": "code",
      "metadata": {
        "colab": {
          "base_uri": "https://localhost:8080/"
        },
        "id": "kpfppYX0S7y_",
        "outputId": "19a1d1c6-3a50-4b51-f634-0b42c4b32c64"
      },
      "source": [
        "df.isnull().sum()"
      ],
      "execution_count": 13,
      "outputs": [
        {
          "output_type": "execute_result",
          "data": {
            "text/plain": [
              "011420      0\n",
              "003475      0\n",
              "063440      0\n",
              "348030    622\n",
              "006920      0\n",
              "122350      0\n",
              "357550    599\n",
              "043260      0\n",
              "347000    560\n",
              "356890    649\n",
              "225330      0\n",
              "032080      0\n",
              "048830      0\n",
              "153710     65\n",
              "313760    249\n",
              "303530    718\n",
              "064290      0\n",
              "049630      0\n",
              "047820      0\n",
              "163730    623\n",
              "dtype: int64"
            ]
          },
          "metadata": {
            "tags": []
          },
          "execution_count": 13
        }
      ]
    },
    {
      "cell_type": "code",
      "metadata": {
        "colab": {
          "base_uri": "https://localhost:8080/",
          "height": 445
        },
        "id": "W2O7t8sRD02l",
        "outputId": "d25c1a46-2ee9-42c8-9848-91ee5529324a"
      },
      "source": [
        "# 결측값 있는 열 삭제 \n",
        "df2 = df.dropna(axis = 1)\n",
        "df2"
      ],
      "execution_count": 14,
      "outputs": [
        {
          "output_type": "execute_result",
          "data": {
            "text/html": [
              "<div>\n",
              "<style scoped>\n",
              "    .dataframe tbody tr th:only-of-type {\n",
              "        vertical-align: middle;\n",
              "    }\n",
              "\n",
              "    .dataframe tbody tr th {\n",
              "        vertical-align: top;\n",
              "    }\n",
              "\n",
              "    .dataframe thead th {\n",
              "        text-align: right;\n",
              "    }\n",
              "</style>\n",
              "<table border=\"1\" class=\"dataframe\">\n",
              "  <thead>\n",
              "    <tr style=\"text-align: right;\">\n",
              "      <th></th>\n",
              "      <th>011420</th>\n",
              "      <th>003475</th>\n",
              "      <th>063440</th>\n",
              "      <th>006920</th>\n",
              "      <th>122350</th>\n",
              "      <th>043260</th>\n",
              "      <th>225330</th>\n",
              "      <th>032080</th>\n",
              "      <th>048830</th>\n",
              "      <th>064290</th>\n",
              "      <th>049630</th>\n",
              "      <th>047820</th>\n",
              "    </tr>\n",
              "    <tr>\n",
              "      <th>Date</th>\n",
              "      <th></th>\n",
              "      <th></th>\n",
              "      <th></th>\n",
              "      <th></th>\n",
              "      <th></th>\n",
              "      <th></th>\n",
              "      <th></th>\n",
              "      <th></th>\n",
              "      <th></th>\n",
              "      <th></th>\n",
              "      <th></th>\n",
              "      <th></th>\n",
              "    </tr>\n",
              "  </thead>\n",
              "  <tbody>\n",
              "    <tr>\n",
              "      <th>2018-07-19</th>\n",
              "      <td>1885</td>\n",
              "      <td>2305</td>\n",
              "      <td>2110</td>\n",
              "      <td>5530</td>\n",
              "      <td>3075</td>\n",
              "      <td>1140</td>\n",
              "      <td>7970</td>\n",
              "      <td>1970</td>\n",
              "      <td>2060</td>\n",
              "      <td>3570</td>\n",
              "      <td>1472</td>\n",
              "      <td>1393</td>\n",
              "    </tr>\n",
              "    <tr>\n",
              "      <th>2018-07-20</th>\n",
              "      <td>1880</td>\n",
              "      <td>2285</td>\n",
              "      <td>2000</td>\n",
              "      <td>5540</td>\n",
              "      <td>3060</td>\n",
              "      <td>1085</td>\n",
              "      <td>7960</td>\n",
              "      <td>1900</td>\n",
              "      <td>2050</td>\n",
              "      <td>3540</td>\n",
              "      <td>1434</td>\n",
              "      <td>1398</td>\n",
              "    </tr>\n",
              "    <tr>\n",
              "      <th>2018-07-23</th>\n",
              "      <td>1855</td>\n",
              "      <td>2305</td>\n",
              "      <td>1900</td>\n",
              "      <td>5180</td>\n",
              "      <td>3005</td>\n",
              "      <td>1040</td>\n",
              "      <td>7800</td>\n",
              "      <td>1840</td>\n",
              "      <td>1960</td>\n",
              "      <td>3335</td>\n",
              "      <td>1351</td>\n",
              "      <td>1302</td>\n",
              "    </tr>\n",
              "    <tr>\n",
              "      <th>2018-07-24</th>\n",
              "      <td>1850</td>\n",
              "      <td>2325</td>\n",
              "      <td>1960</td>\n",
              "      <td>5450</td>\n",
              "      <td>2985</td>\n",
              "      <td>1085</td>\n",
              "      <td>7940</td>\n",
              "      <td>1865</td>\n",
              "      <td>2015</td>\n",
              "      <td>3435</td>\n",
              "      <td>1458</td>\n",
              "      <td>1316</td>\n",
              "    </tr>\n",
              "    <tr>\n",
              "      <th>2018-07-25</th>\n",
              "      <td>1820</td>\n",
              "      <td>2320</td>\n",
              "      <td>1925</td>\n",
              "      <td>5530</td>\n",
              "      <td>3050</td>\n",
              "      <td>1070</td>\n",
              "      <td>7920</td>\n",
              "      <td>1830</td>\n",
              "      <td>1980</td>\n",
              "      <td>3425</td>\n",
              "      <td>1393</td>\n",
              "      <td>1288</td>\n",
              "    </tr>\n",
              "    <tr>\n",
              "      <th>...</th>\n",
              "      <td>...</td>\n",
              "      <td>...</td>\n",
              "      <td>...</td>\n",
              "      <td>...</td>\n",
              "      <td>...</td>\n",
              "      <td>...</td>\n",
              "      <td>...</td>\n",
              "      <td>...</td>\n",
              "      <td>...</td>\n",
              "      <td>...</td>\n",
              "      <td>...</td>\n",
              "      <td>...</td>\n",
              "    </tr>\n",
              "    <tr>\n",
              "      <th>2021-07-13</th>\n",
              "      <td>1950</td>\n",
              "      <td>4650</td>\n",
              "      <td>2775</td>\n",
              "      <td>6000</td>\n",
              "      <td>4175</td>\n",
              "      <td>1675</td>\n",
              "      <td>7450</td>\n",
              "      <td>3025</td>\n",
              "      <td>2340</td>\n",
              "      <td>22200</td>\n",
              "      <td>1030</td>\n",
              "      <td>2460</td>\n",
              "    </tr>\n",
              "    <tr>\n",
              "      <th>2021-07-14</th>\n",
              "      <td>1900</td>\n",
              "      <td>4580</td>\n",
              "      <td>2775</td>\n",
              "      <td>5970</td>\n",
              "      <td>4220</td>\n",
              "      <td>1720</td>\n",
              "      <td>7490</td>\n",
              "      <td>3025</td>\n",
              "      <td>2375</td>\n",
              "      <td>21900</td>\n",
              "      <td>1050</td>\n",
              "      <td>2500</td>\n",
              "    </tr>\n",
              "    <tr>\n",
              "      <th>2021-07-15</th>\n",
              "      <td>1895</td>\n",
              "      <td>4580</td>\n",
              "      <td>2765</td>\n",
              "      <td>5970</td>\n",
              "      <td>4205</td>\n",
              "      <td>1720</td>\n",
              "      <td>7790</td>\n",
              "      <td>3000</td>\n",
              "      <td>3085</td>\n",
              "      <td>22600</td>\n",
              "      <td>1100</td>\n",
              "      <td>2470</td>\n",
              "    </tr>\n",
              "    <tr>\n",
              "      <th>2021-07-16</th>\n",
              "      <td>1945</td>\n",
              "      <td>4535</td>\n",
              "      <td>2780</td>\n",
              "      <td>5990</td>\n",
              "      <td>4160</td>\n",
              "      <td>1700</td>\n",
              "      <td>7810</td>\n",
              "      <td>2980</td>\n",
              "      <td>3065</td>\n",
              "      <td>22200</td>\n",
              "      <td>1085</td>\n",
              "      <td>2515</td>\n",
              "    </tr>\n",
              "    <tr>\n",
              "      <th>2021-07-19</th>\n",
              "      <td>1885</td>\n",
              "      <td>4435</td>\n",
              "      <td>2760</td>\n",
              "      <td>5790</td>\n",
              "      <td>4215</td>\n",
              "      <td>1690</td>\n",
              "      <td>7580</td>\n",
              "      <td>2930</td>\n",
              "      <td>3010</td>\n",
              "      <td>21650</td>\n",
              "      <td>1055</td>\n",
              "      <td>2625</td>\n",
              "    </tr>\n",
              "  </tbody>\n",
              "</table>\n",
              "<p>740 rows × 12 columns</p>\n",
              "</div>"
            ],
            "text/plain": [
              "            011420  003475  063440  006920  ...  048830  064290  049630  047820\n",
              "Date                                        ...                                \n",
              "2018-07-19    1885    2305    2110    5530  ...    2060    3570    1472    1393\n",
              "2018-07-20    1880    2285    2000    5540  ...    2050    3540    1434    1398\n",
              "2018-07-23    1855    2305    1900    5180  ...    1960    3335    1351    1302\n",
              "2018-07-24    1850    2325    1960    5450  ...    2015    3435    1458    1316\n",
              "2018-07-25    1820    2320    1925    5530  ...    1980    3425    1393    1288\n",
              "...            ...     ...     ...     ...  ...     ...     ...     ...     ...\n",
              "2021-07-13    1950    4650    2775    6000  ...    2340   22200    1030    2460\n",
              "2021-07-14    1900    4580    2775    5970  ...    2375   21900    1050    2500\n",
              "2021-07-15    1895    4580    2765    5970  ...    3085   22600    1100    2470\n",
              "2021-07-16    1945    4535    2780    5990  ...    3065   22200    1085    2515\n",
              "2021-07-19    1885    4435    2760    5790  ...    3010   21650    1055    2625\n",
              "\n",
              "[740 rows x 12 columns]"
            ]
          },
          "metadata": {
            "tags": []
          },
          "execution_count": 14
        }
      ]
    },
    {
      "cell_type": "markdown",
      "metadata": {
        "id": "y4WNeZFI14a2"
      },
      "source": [
        "### 종목별 연평균 기대수익률 & 일간수익률의 공분산"
      ]
    },
    {
      "cell_type": "code",
      "metadata": {
        "colab": {
          "base_uri": "https://localhost:8080/"
        },
        "id": "6XMRBW4AQMKY",
        "outputId": "f902ce04-d78a-4eff-a12f-864ddf749db3"
      },
      "source": [
        "!pip install PyPortfolioOpt"
      ],
      "execution_count": 15,
      "outputs": [
        {
          "output_type": "stream",
          "text": [
            "Collecting PyPortfolioOpt\n",
            "  Downloading PyPortfolioOpt-1.4.2-py3-none-any.whl (60 kB)\n",
            "\u001b[K     |████████████████████████████████| 60 kB 2.9 MB/s \n",
            "\u001b[?25hCollecting cvxpy<2.0.0,>=1.1.10\n",
            "  Downloading cvxpy-1.1.14-cp37-cp37m-manylinux_2_24_x86_64.whl (2.7 MB)\n",
            "\u001b[K     |████████████████████████████████| 2.7 MB 7.8 MB/s \n",
            "\u001b[?25hRequirement already satisfied: scipy<2.0,>=1.3 in /usr/local/lib/python3.7/dist-packages (from PyPortfolioOpt) (1.4.1)\n",
            "Requirement already satisfied: pandas>=0.19 in /usr/local/lib/python3.7/dist-packages (from PyPortfolioOpt) (1.1.5)\n",
            "Requirement already satisfied: numpy<2.0,>=1.12 in /usr/local/lib/python3.7/dist-packages (from PyPortfolioOpt) (1.19.5)\n",
            "Requirement already satisfied: ecos>=2 in /usr/local/lib/python3.7/dist-packages (from cvxpy<2.0.0,>=1.1.10->PyPortfolioOpt) (2.0.7.post1)\n",
            "Requirement already satisfied: osqp>=0.4.1 in /usr/local/lib/python3.7/dist-packages (from cvxpy<2.0.0,>=1.1.10->PyPortfolioOpt) (0.6.2.post0)\n",
            "Requirement already satisfied: scs>=1.1.6 in /usr/local/lib/python3.7/dist-packages (from cvxpy<2.0.0,>=1.1.10->PyPortfolioOpt) (2.1.4)\n",
            "Requirement already satisfied: qdldl in /usr/local/lib/python3.7/dist-packages (from osqp>=0.4.1->cvxpy<2.0.0,>=1.1.10->PyPortfolioOpt) (0.1.5.post0)\n",
            "Requirement already satisfied: python-dateutil>=2.7.3 in /usr/local/lib/python3.7/dist-packages (from pandas>=0.19->PyPortfolioOpt) (2.8.1)\n",
            "Requirement already satisfied: pytz>=2017.2 in /usr/local/lib/python3.7/dist-packages (from pandas>=0.19->PyPortfolioOpt) (2018.9)\n",
            "Requirement already satisfied: six>=1.5 in /usr/local/lib/python3.7/dist-packages (from python-dateutil>=2.7.3->pandas>=0.19->PyPortfolioOpt) (1.15.0)\n",
            "Installing collected packages: cvxpy, PyPortfolioOpt\n",
            "  Attempting uninstall: cvxpy\n",
            "    Found existing installation: cvxpy 1.0.31\n",
            "    Uninstalling cvxpy-1.0.31:\n",
            "      Successfully uninstalled cvxpy-1.0.31\n",
            "Successfully installed PyPortfolioOpt-1.4.2 cvxpy-1.1.14\n"
          ],
          "name": "stdout"
        }
      ]
    },
    {
      "cell_type": "code",
      "metadata": {
        "id": "8tvVKKCbQMIc"
      },
      "source": [
        "# Optimize the portfolio\n",
        "from pypfopt.efficient_frontier import EfficientFrontier\n",
        "from pypfopt import risk_models\n",
        "from pypfopt import expected_returns"
      ],
      "execution_count": 16,
      "outputs": []
    },
    {
      "cell_type": "markdown",
      "metadata": {
        "id": "N0NLTLTSxllo"
      },
      "source": [
        "#### ver01> 종가에 결측값이 있는 종목을 삭제하지 않은 df로 포트폴리오 구성 ( 20개 종목 )"
      ]
    },
    {
      "cell_type": "code",
      "metadata": {
        "id": "NDqW9_0cxwfR"
      },
      "source": [
        "# Calculate the expected annualized returns\n",
        "# 복리 연평균 수익률\n",
        "# return (1 + returns).prod() ** (frequency / returns.count()) - 1\n",
        "mu = expected_returns.mean_historical_return(df)\n",
        "\n",
        "# Calculate the annualized sample covariance matrix of the daily asset returns\n",
        "S = risk_models.sample_cov(df)"
      ],
      "execution_count": 17,
      "outputs": []
    },
    {
      "cell_type": "code",
      "metadata": {
        "colab": {
          "base_uri": "https://localhost:8080/"
        },
        "id": "NHidcpSZxwfS",
        "outputId": "87456aab-6d62-428a-936a-4ef7d64c0fce"
      },
      "source": [
        "mu"
      ],
      "execution_count": 18,
      "outputs": [
        {
          "output_type": "execute_result",
          "data": {
            "text/plain": [
              "011420   -1.110223e-16\n",
              "003475    2.500297e-01\n",
              "063440    9.589725e-02\n",
              "348030   -7.019548e-01\n",
              "006920    1.579050e-02\n",
              "122350    1.135276e-01\n",
              "357550   -2.837499e-01\n",
              "043260    1.436814e-01\n",
              "347000    4.288639e-01\n",
              "356890   -6.412862e-01\n",
              "225330   -1.696296e-02\n",
              "032080    1.449568e-01\n",
              "048830    1.380535e-01\n",
              "153710    5.787577e-02\n",
              "313760   -3.373007e-01\n",
              "303530   -7.976242e-01\n",
              "064290    8.489805e-01\n",
              "049630   -1.073683e-01\n",
              "047820    2.411839e-01\n",
              "163730   -5.762267e-01\n",
              "dtype: float64"
            ]
          },
          "metadata": {
            "tags": []
          },
          "execution_count": 18
        }
      ]
    },
    {
      "cell_type": "code",
      "metadata": {
        "colab": {
          "base_uri": "https://localhost:8080/"
        },
        "id": "-BiVLbeuxwfS",
        "outputId": "88a13da3-ad82-4871-941f-e2405d69abbc"
      },
      "source": [
        "len(mu)"
      ],
      "execution_count": 19,
      "outputs": [
        {
          "output_type": "execute_result",
          "data": {
            "text/plain": [
              "20"
            ]
          },
          "metadata": {
            "tags": []
          },
          "execution_count": 19
        }
      ]
    },
    {
      "cell_type": "code",
      "metadata": {
        "colab": {
          "base_uri": "https://localhost:8080/",
          "height": 682
        },
        "id": "njYN8HSixwfS",
        "outputId": "d55cadb6-a6a0-4502-caba-6114c02c74e2"
      },
      "source": [
        "S"
      ],
      "execution_count": 20,
      "outputs": [
        {
          "output_type": "execute_result",
          "data": {
            "text/html": [
              "<div>\n",
              "<style scoped>\n",
              "    .dataframe tbody tr th:only-of-type {\n",
              "        vertical-align: middle;\n",
              "    }\n",
              "\n",
              "    .dataframe tbody tr th {\n",
              "        vertical-align: top;\n",
              "    }\n",
              "\n",
              "    .dataframe thead th {\n",
              "        text-align: right;\n",
              "    }\n",
              "</style>\n",
              "<table border=\"1\" class=\"dataframe\">\n",
              "  <thead>\n",
              "    <tr style=\"text-align: right;\">\n",
              "      <th></th>\n",
              "      <th>011420</th>\n",
              "      <th>003475</th>\n",
              "      <th>063440</th>\n",
              "      <th>348030</th>\n",
              "      <th>006920</th>\n",
              "      <th>122350</th>\n",
              "      <th>357550</th>\n",
              "      <th>043260</th>\n",
              "      <th>347000</th>\n",
              "      <th>356890</th>\n",
              "      <th>225330</th>\n",
              "      <th>032080</th>\n",
              "      <th>048830</th>\n",
              "      <th>153710</th>\n",
              "      <th>313760</th>\n",
              "      <th>303530</th>\n",
              "      <th>064290</th>\n",
              "      <th>049630</th>\n",
              "      <th>047820</th>\n",
              "      <th>163730</th>\n",
              "    </tr>\n",
              "  </thead>\n",
              "  <tbody>\n",
              "    <tr>\n",
              "      <th>011420</th>\n",
              "      <td>0.389199</td>\n",
              "      <td>0.067839</td>\n",
              "      <td>0.100413</td>\n",
              "      <td>-0.020704</td>\n",
              "      <td>0.104577</td>\n",
              "      <td>0.080621</td>\n",
              "      <td>0.014923</td>\n",
              "      <td>0.082580</td>\n",
              "      <td>0.021100</td>\n",
              "      <td>-0.049709</td>\n",
              "      <td>0.046022</td>\n",
              "      <td>0.079280</td>\n",
              "      <td>0.090973</td>\n",
              "      <td>0.063291</td>\n",
              "      <td>0.123765</td>\n",
              "      <td>-0.029680</td>\n",
              "      <td>0.089077</td>\n",
              "      <td>0.078694</td>\n",
              "      <td>0.084398</td>\n",
              "      <td>-0.015073</td>\n",
              "    </tr>\n",
              "    <tr>\n",
              "      <th>003475</th>\n",
              "      <td>0.067839</td>\n",
              "      <td>0.232666</td>\n",
              "      <td>0.072384</td>\n",
              "      <td>0.063561</td>\n",
              "      <td>0.068134</td>\n",
              "      <td>0.059841</td>\n",
              "      <td>0.021312</td>\n",
              "      <td>0.080279</td>\n",
              "      <td>0.057748</td>\n",
              "      <td>-0.004430</td>\n",
              "      <td>0.023621</td>\n",
              "      <td>0.045714</td>\n",
              "      <td>0.057180</td>\n",
              "      <td>0.084420</td>\n",
              "      <td>0.118984</td>\n",
              "      <td>0.034942</td>\n",
              "      <td>0.064630</td>\n",
              "      <td>0.053303</td>\n",
              "      <td>0.047889</td>\n",
              "      <td>-0.002345</td>\n",
              "    </tr>\n",
              "    <tr>\n",
              "      <th>063440</th>\n",
              "      <td>0.100413</td>\n",
              "      <td>0.072384</td>\n",
              "      <td>0.498424</td>\n",
              "      <td>0.041916</td>\n",
              "      <td>0.106014</td>\n",
              "      <td>0.095137</td>\n",
              "      <td>0.091880</td>\n",
              "      <td>0.086739</td>\n",
              "      <td>0.036322</td>\n",
              "      <td>0.027014</td>\n",
              "      <td>0.038365</td>\n",
              "      <td>0.081410</td>\n",
              "      <td>0.090404</td>\n",
              "      <td>0.096307</td>\n",
              "      <td>0.147278</td>\n",
              "      <td>0.009990</td>\n",
              "      <td>0.108397</td>\n",
              "      <td>0.082985</td>\n",
              "      <td>0.130910</td>\n",
              "      <td>0.085888</td>\n",
              "    </tr>\n",
              "    <tr>\n",
              "      <th>348030</th>\n",
              "      <td>-0.020704</td>\n",
              "      <td>0.063561</td>\n",
              "      <td>0.041916</td>\n",
              "      <td>0.317485</td>\n",
              "      <td>0.043186</td>\n",
              "      <td>0.016560</td>\n",
              "      <td>0.084729</td>\n",
              "      <td>0.055427</td>\n",
              "      <td>0.032672</td>\n",
              "      <td>0.024948</td>\n",
              "      <td>0.077400</td>\n",
              "      <td>0.032534</td>\n",
              "      <td>0.031964</td>\n",
              "      <td>0.061765</td>\n",
              "      <td>0.019712</td>\n",
              "      <td>0.000135</td>\n",
              "      <td>0.047663</td>\n",
              "      <td>0.019536</td>\n",
              "      <td>0.049194</td>\n",
              "      <td>0.066343</td>\n",
              "    </tr>\n",
              "    <tr>\n",
              "      <th>006920</th>\n",
              "      <td>0.104577</td>\n",
              "      <td>0.068134</td>\n",
              "      <td>0.106014</td>\n",
              "      <td>0.043186</td>\n",
              "      <td>0.269989</td>\n",
              "      <td>0.092627</td>\n",
              "      <td>0.070312</td>\n",
              "      <td>0.075538</td>\n",
              "      <td>0.045417</td>\n",
              "      <td>-0.007788</td>\n",
              "      <td>0.047362</td>\n",
              "      <td>0.079623</td>\n",
              "      <td>0.100377</td>\n",
              "      <td>0.084082</td>\n",
              "      <td>0.145958</td>\n",
              "      <td>0.024855</td>\n",
              "      <td>0.096346</td>\n",
              "      <td>0.130116</td>\n",
              "      <td>0.077987</td>\n",
              "      <td>0.024622</td>\n",
              "    </tr>\n",
              "    <tr>\n",
              "      <th>122350</th>\n",
              "      <td>0.080621</td>\n",
              "      <td>0.059841</td>\n",
              "      <td>0.095137</td>\n",
              "      <td>0.016560</td>\n",
              "      <td>0.092627</td>\n",
              "      <td>0.270189</td>\n",
              "      <td>0.123576</td>\n",
              "      <td>0.088794</td>\n",
              "      <td>0.039753</td>\n",
              "      <td>0.027350</td>\n",
              "      <td>0.024247</td>\n",
              "      <td>0.061569</td>\n",
              "      <td>0.080379</td>\n",
              "      <td>0.107659</td>\n",
              "      <td>0.142161</td>\n",
              "      <td>0.000890</td>\n",
              "      <td>0.095158</td>\n",
              "      <td>0.074315</td>\n",
              "      <td>0.072146</td>\n",
              "      <td>-0.002271</td>\n",
              "    </tr>\n",
              "    <tr>\n",
              "      <th>357550</th>\n",
              "      <td>0.014923</td>\n",
              "      <td>0.021312</td>\n",
              "      <td>0.091880</td>\n",
              "      <td>0.084729</td>\n",
              "      <td>0.070312</td>\n",
              "      <td>0.123576</td>\n",
              "      <td>0.453268</td>\n",
              "      <td>0.051695</td>\n",
              "      <td>0.111414</td>\n",
              "      <td>0.026779</td>\n",
              "      <td>0.037829</td>\n",
              "      <td>0.062907</td>\n",
              "      <td>0.044755</td>\n",
              "      <td>0.091705</td>\n",
              "      <td>0.056821</td>\n",
              "      <td>0.038590</td>\n",
              "      <td>0.037765</td>\n",
              "      <td>0.075156</td>\n",
              "      <td>0.064378</td>\n",
              "      <td>0.055096</td>\n",
              "    </tr>\n",
              "    <tr>\n",
              "      <th>043260</th>\n",
              "      <td>0.082580</td>\n",
              "      <td>0.080279</td>\n",
              "      <td>0.086739</td>\n",
              "      <td>0.055427</td>\n",
              "      <td>0.075538</td>\n",
              "      <td>0.088794</td>\n",
              "      <td>0.051695</td>\n",
              "      <td>0.287681</td>\n",
              "      <td>0.302518</td>\n",
              "      <td>-0.007216</td>\n",
              "      <td>0.033369</td>\n",
              "      <td>0.067558</td>\n",
              "      <td>0.076795</td>\n",
              "      <td>0.060203</td>\n",
              "      <td>0.146225</td>\n",
              "      <td>0.015663</td>\n",
              "      <td>0.097435</td>\n",
              "      <td>0.077421</td>\n",
              "      <td>0.065090</td>\n",
              "      <td>-0.021653</td>\n",
              "    </tr>\n",
              "    <tr>\n",
              "      <th>347000</th>\n",
              "      <td>0.021100</td>\n",
              "      <td>0.057748</td>\n",
              "      <td>0.036322</td>\n",
              "      <td>0.032672</td>\n",
              "      <td>0.045417</td>\n",
              "      <td>0.039753</td>\n",
              "      <td>0.111414</td>\n",
              "      <td>0.302518</td>\n",
              "      <td>0.571921</td>\n",
              "      <td>-0.021605</td>\n",
              "      <td>0.021915</td>\n",
              "      <td>0.023243</td>\n",
              "      <td>0.045954</td>\n",
              "      <td>0.049236</td>\n",
              "      <td>0.069722</td>\n",
              "      <td>0.007707</td>\n",
              "      <td>0.056071</td>\n",
              "      <td>0.017908</td>\n",
              "      <td>0.024044</td>\n",
              "      <td>0.009360</td>\n",
              "    </tr>\n",
              "    <tr>\n",
              "      <th>356890</th>\n",
              "      <td>-0.049709</td>\n",
              "      <td>-0.004430</td>\n",
              "      <td>0.027014</td>\n",
              "      <td>0.024948</td>\n",
              "      <td>-0.007788</td>\n",
              "      <td>0.027350</td>\n",
              "      <td>0.026779</td>\n",
              "      <td>-0.007216</td>\n",
              "      <td>-0.021605</td>\n",
              "      <td>0.246076</td>\n",
              "      <td>-0.017104</td>\n",
              "      <td>0.004037</td>\n",
              "      <td>0.004621</td>\n",
              "      <td>0.012704</td>\n",
              "      <td>0.024602</td>\n",
              "      <td>-0.011001</td>\n",
              "      <td>0.013926</td>\n",
              "      <td>0.007044</td>\n",
              "      <td>0.008152</td>\n",
              "      <td>-0.006757</td>\n",
              "    </tr>\n",
              "    <tr>\n",
              "      <th>225330</th>\n",
              "      <td>0.046022</td>\n",
              "      <td>0.023621</td>\n",
              "      <td>0.038365</td>\n",
              "      <td>0.077400</td>\n",
              "      <td>0.047362</td>\n",
              "      <td>0.024247</td>\n",
              "      <td>0.037829</td>\n",
              "      <td>0.033369</td>\n",
              "      <td>0.021915</td>\n",
              "      <td>-0.017104</td>\n",
              "      <td>0.123789</td>\n",
              "      <td>0.037371</td>\n",
              "      <td>0.038752</td>\n",
              "      <td>0.032714</td>\n",
              "      <td>0.047919</td>\n",
              "      <td>0.023628</td>\n",
              "      <td>0.046308</td>\n",
              "      <td>0.038371</td>\n",
              "      <td>0.039466</td>\n",
              "      <td>0.014723</td>\n",
              "    </tr>\n",
              "    <tr>\n",
              "      <th>032080</th>\n",
              "      <td>0.079280</td>\n",
              "      <td>0.045714</td>\n",
              "      <td>0.081410</td>\n",
              "      <td>0.032534</td>\n",
              "      <td>0.079623</td>\n",
              "      <td>0.061569</td>\n",
              "      <td>0.062907</td>\n",
              "      <td>0.067558</td>\n",
              "      <td>0.023243</td>\n",
              "      <td>0.004037</td>\n",
              "      <td>0.037371</td>\n",
              "      <td>0.204309</td>\n",
              "      <td>0.066183</td>\n",
              "      <td>0.071163</td>\n",
              "      <td>0.099302</td>\n",
              "      <td>0.014850</td>\n",
              "      <td>0.088066</td>\n",
              "      <td>0.074493</td>\n",
              "      <td>0.071570</td>\n",
              "      <td>0.003300</td>\n",
              "    </tr>\n",
              "    <tr>\n",
              "      <th>048830</th>\n",
              "      <td>0.090973</td>\n",
              "      <td>0.057180</td>\n",
              "      <td>0.090404</td>\n",
              "      <td>0.031964</td>\n",
              "      <td>0.100377</td>\n",
              "      <td>0.080379</td>\n",
              "      <td>0.044755</td>\n",
              "      <td>0.076795</td>\n",
              "      <td>0.045954</td>\n",
              "      <td>0.004621</td>\n",
              "      <td>0.038752</td>\n",
              "      <td>0.066183</td>\n",
              "      <td>0.209711</td>\n",
              "      <td>0.079331</td>\n",
              "      <td>0.107047</td>\n",
              "      <td>0.009501</td>\n",
              "      <td>0.077839</td>\n",
              "      <td>0.096963</td>\n",
              "      <td>0.085453</td>\n",
              "      <td>0.024897</td>\n",
              "    </tr>\n",
              "    <tr>\n",
              "      <th>153710</th>\n",
              "      <td>0.063291</td>\n",
              "      <td>0.084420</td>\n",
              "      <td>0.096307</td>\n",
              "      <td>0.061765</td>\n",
              "      <td>0.084082</td>\n",
              "      <td>0.107659</td>\n",
              "      <td>0.091705</td>\n",
              "      <td>0.060203</td>\n",
              "      <td>0.049236</td>\n",
              "      <td>0.012704</td>\n",
              "      <td>0.032714</td>\n",
              "      <td>0.071163</td>\n",
              "      <td>0.079331</td>\n",
              "      <td>0.503641</td>\n",
              "      <td>0.146343</td>\n",
              "      <td>-0.017436</td>\n",
              "      <td>0.061008</td>\n",
              "      <td>0.071479</td>\n",
              "      <td>0.078063</td>\n",
              "      <td>0.062488</td>\n",
              "    </tr>\n",
              "    <tr>\n",
              "      <th>313760</th>\n",
              "      <td>0.123765</td>\n",
              "      <td>0.118984</td>\n",
              "      <td>0.147278</td>\n",
              "      <td>0.019712</td>\n",
              "      <td>0.145958</td>\n",
              "      <td>0.142161</td>\n",
              "      <td>0.056821</td>\n",
              "      <td>0.146225</td>\n",
              "      <td>0.069722</td>\n",
              "      <td>0.024602</td>\n",
              "      <td>0.047919</td>\n",
              "      <td>0.099302</td>\n",
              "      <td>0.107047</td>\n",
              "      <td>0.146343</td>\n",
              "      <td>0.464797</td>\n",
              "      <td>0.020177</td>\n",
              "      <td>0.139290</td>\n",
              "      <td>0.110947</td>\n",
              "      <td>0.115077</td>\n",
              "      <td>0.013114</td>\n",
              "    </tr>\n",
              "    <tr>\n",
              "      <th>303530</th>\n",
              "      <td>-0.029680</td>\n",
              "      <td>0.034942</td>\n",
              "      <td>0.009990</td>\n",
              "      <td>0.000135</td>\n",
              "      <td>0.024855</td>\n",
              "      <td>0.000890</td>\n",
              "      <td>0.038590</td>\n",
              "      <td>0.015663</td>\n",
              "      <td>0.007707</td>\n",
              "      <td>-0.011001</td>\n",
              "      <td>0.023628</td>\n",
              "      <td>0.014850</td>\n",
              "      <td>0.009501</td>\n",
              "      <td>-0.017436</td>\n",
              "      <td>0.020177</td>\n",
              "      <td>0.091451</td>\n",
              "      <td>0.047410</td>\n",
              "      <td>0.021697</td>\n",
              "      <td>0.016786</td>\n",
              "      <td>0.019886</td>\n",
              "    </tr>\n",
              "    <tr>\n",
              "      <th>064290</th>\n",
              "      <td>0.089077</td>\n",
              "      <td>0.064630</td>\n",
              "      <td>0.108397</td>\n",
              "      <td>0.047663</td>\n",
              "      <td>0.096346</td>\n",
              "      <td>0.095158</td>\n",
              "      <td>0.037765</td>\n",
              "      <td>0.097435</td>\n",
              "      <td>0.056071</td>\n",
              "      <td>0.013926</td>\n",
              "      <td>0.046308</td>\n",
              "      <td>0.088066</td>\n",
              "      <td>0.077839</td>\n",
              "      <td>0.061008</td>\n",
              "      <td>0.139290</td>\n",
              "      <td>0.047410</td>\n",
              "      <td>0.375969</td>\n",
              "      <td>0.096379</td>\n",
              "      <td>0.091970</td>\n",
              "      <td>0.052269</td>\n",
              "    </tr>\n",
              "    <tr>\n",
              "      <th>049630</th>\n",
              "      <td>0.078694</td>\n",
              "      <td>0.053303</td>\n",
              "      <td>0.082985</td>\n",
              "      <td>0.019536</td>\n",
              "      <td>0.130116</td>\n",
              "      <td>0.074315</td>\n",
              "      <td>0.075156</td>\n",
              "      <td>0.077421</td>\n",
              "      <td>0.017908</td>\n",
              "      <td>0.007044</td>\n",
              "      <td>0.038371</td>\n",
              "      <td>0.074493</td>\n",
              "      <td>0.096963</td>\n",
              "      <td>0.071479</td>\n",
              "      <td>0.110947</td>\n",
              "      <td>0.021697</td>\n",
              "      <td>0.096379</td>\n",
              "      <td>0.316983</td>\n",
              "      <td>0.078034</td>\n",
              "      <td>0.011078</td>\n",
              "    </tr>\n",
              "    <tr>\n",
              "      <th>047820</th>\n",
              "      <td>0.084398</td>\n",
              "      <td>0.047889</td>\n",
              "      <td>0.130910</td>\n",
              "      <td>0.049194</td>\n",
              "      <td>0.077987</td>\n",
              "      <td>0.072146</td>\n",
              "      <td>0.064378</td>\n",
              "      <td>0.065090</td>\n",
              "      <td>0.024044</td>\n",
              "      <td>0.008152</td>\n",
              "      <td>0.039466</td>\n",
              "      <td>0.071570</td>\n",
              "      <td>0.085453</td>\n",
              "      <td>0.078063</td>\n",
              "      <td>0.115077</td>\n",
              "      <td>0.016786</td>\n",
              "      <td>0.091970</td>\n",
              "      <td>0.078034</td>\n",
              "      <td>0.389635</td>\n",
              "      <td>0.032885</td>\n",
              "    </tr>\n",
              "    <tr>\n",
              "      <th>163730</th>\n",
              "      <td>-0.015073</td>\n",
              "      <td>-0.002345</td>\n",
              "      <td>0.085888</td>\n",
              "      <td>0.066343</td>\n",
              "      <td>0.024622</td>\n",
              "      <td>-0.002271</td>\n",
              "      <td>0.055096</td>\n",
              "      <td>-0.021653</td>\n",
              "      <td>0.009360</td>\n",
              "      <td>-0.006757</td>\n",
              "      <td>0.014723</td>\n",
              "      <td>0.003300</td>\n",
              "      <td>0.024897</td>\n",
              "      <td>0.062488</td>\n",
              "      <td>0.013114</td>\n",
              "      <td>0.019886</td>\n",
              "      <td>0.052269</td>\n",
              "      <td>0.011078</td>\n",
              "      <td>0.032885</td>\n",
              "      <td>0.366393</td>\n",
              "    </tr>\n",
              "  </tbody>\n",
              "</table>\n",
              "</div>"
            ],
            "text/plain": [
              "          011420    003475    063440  ...    049630    047820    163730\n",
              "011420  0.389199  0.067839  0.100413  ...  0.078694  0.084398 -0.015073\n",
              "003475  0.067839  0.232666  0.072384  ...  0.053303  0.047889 -0.002345\n",
              "063440  0.100413  0.072384  0.498424  ...  0.082985  0.130910  0.085888\n",
              "348030 -0.020704  0.063561  0.041916  ...  0.019536  0.049194  0.066343\n",
              "006920  0.104577  0.068134  0.106014  ...  0.130116  0.077987  0.024622\n",
              "122350  0.080621  0.059841  0.095137  ...  0.074315  0.072146 -0.002271\n",
              "357550  0.014923  0.021312  0.091880  ...  0.075156  0.064378  0.055096\n",
              "043260  0.082580  0.080279  0.086739  ...  0.077421  0.065090 -0.021653\n",
              "347000  0.021100  0.057748  0.036322  ...  0.017908  0.024044  0.009360\n",
              "356890 -0.049709 -0.004430  0.027014  ...  0.007044  0.008152 -0.006757\n",
              "225330  0.046022  0.023621  0.038365  ...  0.038371  0.039466  0.014723\n",
              "032080  0.079280  0.045714  0.081410  ...  0.074493  0.071570  0.003300\n",
              "048830  0.090973  0.057180  0.090404  ...  0.096963  0.085453  0.024897\n",
              "153710  0.063291  0.084420  0.096307  ...  0.071479  0.078063  0.062488\n",
              "313760  0.123765  0.118984  0.147278  ...  0.110947  0.115077  0.013114\n",
              "303530 -0.029680  0.034942  0.009990  ...  0.021697  0.016786  0.019886\n",
              "064290  0.089077  0.064630  0.108397  ...  0.096379  0.091970  0.052269\n",
              "049630  0.078694  0.053303  0.082985  ...  0.316983  0.078034  0.011078\n",
              "047820  0.084398  0.047889  0.130910  ...  0.078034  0.389635  0.032885\n",
              "163730 -0.015073 -0.002345  0.085888  ...  0.011078  0.032885  0.366393\n",
              "\n",
              "[20 rows x 20 columns]"
            ]
          },
          "metadata": {
            "tags": []
          },
          "execution_count": 20
        }
      ]
    },
    {
      "cell_type": "code",
      "metadata": {
        "colab": {
          "base_uri": "https://localhost:8080/"
        },
        "id": "0JXLUiJVxwfT",
        "outputId": "6ee8946b-abcc-4406-c719-c6de17de8190"
      },
      "source": [
        "len(S)"
      ],
      "execution_count": 21,
      "outputs": [
        {
          "output_type": "execute_result",
          "data": {
            "text/plain": [
              "20"
            ]
          },
          "metadata": {
            "tags": []
          },
          "execution_count": 21
        }
      ]
    },
    {
      "cell_type": "code",
      "metadata": {
        "colab": {
          "base_uri": "https://localhost:8080/"
        },
        "id": "6Rly_NAGxwfT",
        "outputId": "3fabb8ca-2e47-4d39-b8d6-5541fbbd3a15"
      },
      "source": [
        "S.shape"
      ],
      "execution_count": 22,
      "outputs": [
        {
          "output_type": "execute_result",
          "data": {
            "text/plain": [
              "(20, 20)"
            ]
          },
          "metadata": {
            "tags": []
          },
          "execution_count": 22
        }
      ]
    },
    {
      "cell_type": "code",
      "metadata": {
        "colab": {
          "base_uri": "https://localhost:8080/",
          "height": 332
        },
        "id": "Gk8Ax_hKxwfT",
        "outputId": "21917941-5ac8-4c7e-a420-033afe0557b5"
      },
      "source": [
        "# 수익률의 공분산\n",
        "from pypfopt import plotting\n",
        "plotting.plot_covariance(S)"
      ],
      "execution_count": 23,
      "outputs": [
        {
          "output_type": "stream",
          "text": [
            "findfont: Font family ['Malgun Gothic'] not found. Falling back to DejaVu Sans.\n"
          ],
          "name": "stderr"
        },
        {
          "output_type": "execute_result",
          "data": {
            "text/plain": [
              "<matplotlib.axes._subplots.AxesSubplot at 0x7ff547edd4d0>"
            ]
          },
          "metadata": {
            "tags": []
          },
          "execution_count": 23
        },
        {
          "output_type": "display_data",
          "data": {
            "image/png": "[encoded data removed]",
            "text/plain": [
              "<Figure size 432x288 with 2 Axes>"
            ]
          },
          "metadata": {
            "tags": [],
            "needs_background": "light"
          }
        }
      ]
    },
    {
      "cell_type": "markdown",
      "metadata": {
        "id": "p-8SQ8bbxSlg"
      },
      "source": [
        "#### ver02> 종가에 결측값이 있는 종목을 삭제한 df2로 포트폴리오 구성 ( 12개 종목 )"
      ]
    },
    {
      "cell_type": "code",
      "metadata": {
        "id": "xXTnZouqQMGD"
      },
      "source": [
        "# Calculate the expected annualized returns\n",
        "# 복리 연평균 수익률\n",
        "# return (1 + returns).prod() ** (frequency / returns.count()) - 1\n",
        "mu2 = expected_returns.mean_historical_return(df2) \n",
        "\n",
        "# Calculate the annualized sample covariance matrix of the daily asset returns\n",
        "S2 = risk_models.sample_cov(df2)"
      ],
      "execution_count": 24,
      "outputs": []
    },
    {
      "cell_type": "code",
      "metadata": {
        "colab": {
          "base_uri": "https://localhost:8080/"
        },
        "id": "yW_NZmtyQMEG",
        "outputId": "f9f34206-2ebc-471c-c010-0f1238913a15"
      },
      "source": [
        "mu2"
      ],
      "execution_count": 25,
      "outputs": [
        {
          "output_type": "execute_result",
          "data": {
            "text/plain": [
              "011420   -1.110223e-16\n",
              "003475    2.500297e-01\n",
              "063440    9.589725e-02\n",
              "006920    1.579050e-02\n",
              "122350    1.135276e-01\n",
              "043260    1.436814e-01\n",
              "225330   -1.696296e-02\n",
              "032080    1.449568e-01\n",
              "048830    1.380535e-01\n",
              "064290    8.489805e-01\n",
              "049630   -1.073683e-01\n",
              "047820    2.411839e-01\n",
              "dtype: float64"
            ]
          },
          "metadata": {
            "tags": []
          },
          "execution_count": 25
        }
      ]
    },
    {
      "cell_type": "code",
      "metadata": {
        "colab": {
          "base_uri": "https://localhost:8080/"
        },
        "id": "cosT5zbrWuFI",
        "outputId": "a70c44a3-f03a-4486-b741-fc49fb875840"
      },
      "source": [
        "len(mu2)"
      ],
      "execution_count": 26,
      "outputs": [
        {
          "output_type": "execute_result",
          "data": {
            "text/plain": [
              "12"
            ]
          },
          "metadata": {
            "tags": []
          },
          "execution_count": 26
        }
      ]
    },
    {
      "cell_type": "code",
      "metadata": {
        "colab": {
          "base_uri": "https://localhost:8080/"
        },
        "id": "wxvss_z3zc7L",
        "outputId": "693d7839-eac4-4d6a-bac2-887130f0852f"
      },
      "source": [
        "S2.shape"
      ],
      "execution_count": 27,
      "outputs": [
        {
          "output_type": "execute_result",
          "data": {
            "text/plain": [
              "(12, 12)"
            ]
          },
          "metadata": {
            "tags": []
          },
          "execution_count": 27
        }
      ]
    },
    {
      "cell_type": "code",
      "metadata": {
        "colab": {
          "base_uri": "https://localhost:8080/"
        },
        "id": "BUv1GoF8WrV0",
        "outputId": "db89881d-e304-434a-f190-fe40eb0b90f3"
      },
      "source": [
        "len(S2)"
      ],
      "execution_count": 28,
      "outputs": [
        {
          "output_type": "execute_result",
          "data": {
            "text/plain": [
              "12"
            ]
          },
          "metadata": {
            "tags": []
          },
          "execution_count": 28
        }
      ]
    },
    {
      "cell_type": "code",
      "metadata": {
        "colab": {
          "base_uri": "https://localhost:8080/",
          "height": 416
        },
        "id": "9d7BrdXeRKoA",
        "outputId": "bb8c1ece-7e04-41d4-9b87-80b81c8890d9"
      },
      "source": [
        "S2"
      ],
      "execution_count": 29,
      "outputs": [
        {
          "output_type": "execute_result",
          "data": {
            "text/html": [
              "<div>\n",
              "<style scoped>\n",
              "    .dataframe tbody tr th:only-of-type {\n",
              "        vertical-align: middle;\n",
              "    }\n",
              "\n",
              "    .dataframe tbody tr th {\n",
              "        vertical-align: top;\n",
              "    }\n",
              "\n",
              "    .dataframe thead th {\n",
              "        text-align: right;\n",
              "    }\n",
              "</style>\n",
              "<table border=\"1\" class=\"dataframe\">\n",
              "  <thead>\n",
              "    <tr style=\"text-align: right;\">\n",
              "      <th></th>\n",
              "      <th>011420</th>\n",
              "      <th>003475</th>\n",
              "      <th>063440</th>\n",
              "      <th>006920</th>\n",
              "      <th>122350</th>\n",
              "      <th>043260</th>\n",
              "      <th>225330</th>\n",
              "      <th>032080</th>\n",
              "      <th>048830</th>\n",
              "      <th>064290</th>\n",
              "      <th>049630</th>\n",
              "      <th>047820</th>\n",
              "    </tr>\n",
              "  </thead>\n",
              "  <tbody>\n",
              "    <tr>\n",
              "      <th>011420</th>\n",
              "      <td>0.389199</td>\n",
              "      <td>0.067839</td>\n",
              "      <td>0.100413</td>\n",
              "      <td>0.104577</td>\n",
              "      <td>0.080621</td>\n",
              "      <td>0.082580</td>\n",
              "      <td>0.046022</td>\n",
              "      <td>0.079280</td>\n",
              "      <td>0.090973</td>\n",
              "      <td>0.089077</td>\n",
              "      <td>0.078694</td>\n",
              "      <td>0.084398</td>\n",
              "    </tr>\n",
              "    <tr>\n",
              "      <th>003475</th>\n",
              "      <td>0.067839</td>\n",
              "      <td>0.232666</td>\n",
              "      <td>0.072384</td>\n",
              "      <td>0.068134</td>\n",
              "      <td>0.059841</td>\n",
              "      <td>0.080279</td>\n",
              "      <td>0.023621</td>\n",
              "      <td>0.045714</td>\n",
              "      <td>0.057180</td>\n",
              "      <td>0.064630</td>\n",
              "      <td>0.053303</td>\n",
              "      <td>0.047889</td>\n",
              "    </tr>\n",
              "    <tr>\n",
              "      <th>063440</th>\n",
              "      <td>0.100413</td>\n",
              "      <td>0.072384</td>\n",
              "      <td>0.498424</td>\n",
              "      <td>0.106014</td>\n",
              "      <td>0.095137</td>\n",
              "      <td>0.086739</td>\n",
              "      <td>0.038365</td>\n",
              "      <td>0.081410</td>\n",
              "      <td>0.090404</td>\n",
              "      <td>0.108397</td>\n",
              "      <td>0.082985</td>\n",
              "      <td>0.130910</td>\n",
              "    </tr>\n",
              "    <tr>\n",
              "      <th>006920</th>\n",
              "      <td>0.104577</td>\n",
              "      <td>0.068134</td>\n",
              "      <td>0.106014</td>\n",
              "      <td>0.269989</td>\n",
              "      <td>0.092627</td>\n",
              "      <td>0.075538</td>\n",
              "      <td>0.047362</td>\n",
              "      <td>0.079623</td>\n",
              "      <td>0.100377</td>\n",
              "      <td>0.096346</td>\n",
              "      <td>0.130116</td>\n",
              "      <td>0.077987</td>\n",
              "    </tr>\n",
              "    <tr>\n",
              "      <th>122350</th>\n",
              "      <td>0.080621</td>\n",
              "      <td>0.059841</td>\n",
              "      <td>0.095137</td>\n",
              "      <td>0.092627</td>\n",
              "      <td>0.270189</td>\n",
              "      <td>0.088794</td>\n",
              "      <td>0.024247</td>\n",
              "      <td>0.061569</td>\n",
              "      <td>0.080379</td>\n",
              "      <td>0.095158</td>\n",
              "      <td>0.074315</td>\n",
              "      <td>0.072146</td>\n",
              "    </tr>\n",
              "    <tr>\n",
              "      <th>043260</th>\n",
              "      <td>0.082580</td>\n",
              "      <td>0.080279</td>\n",
              "      <td>0.086739</td>\n",
              "      <td>0.075538</td>\n",
              "      <td>0.088794</td>\n",
              "      <td>0.287681</td>\n",
              "      <td>0.033369</td>\n",
              "      <td>0.067558</td>\n",
              "      <td>0.076795</td>\n",
              "      <td>0.097435</td>\n",
              "      <td>0.077421</td>\n",
              "      <td>0.065090</td>\n",
              "    </tr>\n",
              "    <tr>\n",
              "      <th>225330</th>\n",
              "      <td>0.046022</td>\n",
              "      <td>0.023621</td>\n",
              "      <td>0.038365</td>\n",
              "      <td>0.047362</td>\n",
              "      <td>0.024247</td>\n",
              "      <td>0.033369</td>\n",
              "      <td>0.123789</td>\n",
              "      <td>0.037371</td>\n",
              "      <td>0.038752</td>\n",
              "      <td>0.046308</td>\n",
              "      <td>0.038371</td>\n",
              "      <td>0.039466</td>\n",
              "    </tr>\n",
              "    <tr>\n",
              "      <th>032080</th>\n",
              "      <td>0.079280</td>\n",
              "      <td>0.045714</td>\n",
              "      <td>0.081410</td>\n",
              "      <td>0.079623</td>\n",
              "      <td>0.061569</td>\n",
              "      <td>0.067558</td>\n",
              "      <td>0.037371</td>\n",
              "      <td>0.204309</td>\n",
              "      <td>0.066183</td>\n",
              "      <td>0.088066</td>\n",
              "      <td>0.074493</td>\n",
              "      <td>0.071570</td>\n",
              "    </tr>\n",
              "    <tr>\n",
              "      <th>048830</th>\n",
              "      <td>0.090973</td>\n",
              "      <td>0.057180</td>\n",
              "      <td>0.090404</td>\n",
              "      <td>0.100377</td>\n",
              "      <td>0.080379</td>\n",
              "      <td>0.076795</td>\n",
              "      <td>0.038752</td>\n",
              "      <td>0.066183</td>\n",
              "      <td>0.209711</td>\n",
              "      <td>0.077839</td>\n",
              "      <td>0.096963</td>\n",
              "      <td>0.085453</td>\n",
              "    </tr>\n",
              "    <tr>\n",
              "      <th>064290</th>\n",
              "      <td>0.089077</td>\n",
              "      <td>0.064630</td>\n",
              "      <td>0.108397</td>\n",
              "      <td>0.096346</td>\n",
              "      <td>0.095158</td>\n",
              "      <td>0.097435</td>\n",
              "      <td>0.046308</td>\n",
              "      <td>0.088066</td>\n",
              "      <td>0.077839</td>\n",
              "      <td>0.375969</td>\n",
              "      <td>0.096379</td>\n",
              "      <td>0.091970</td>\n",
              "    </tr>\n",
              "    <tr>\n",
              "      <th>049630</th>\n",
              "      <td>0.078694</td>\n",
              "      <td>0.053303</td>\n",
              "      <td>0.082985</td>\n",
              "      <td>0.130116</td>\n",
              "      <td>0.074315</td>\n",
              "      <td>0.077421</td>\n",
              "      <td>0.038371</td>\n",
              "      <td>0.074493</td>\n",
              "      <td>0.096963</td>\n",
              "      <td>0.096379</td>\n",
              "      <td>0.316983</td>\n",
              "      <td>0.078034</td>\n",
              "    </tr>\n",
              "    <tr>\n",
              "      <th>047820</th>\n",
              "      <td>0.084398</td>\n",
              "      <td>0.047889</td>\n",
              "      <td>0.130910</td>\n",
              "      <td>0.077987</td>\n",
              "      <td>0.072146</td>\n",
              "      <td>0.065090</td>\n",
              "      <td>0.039466</td>\n",
              "      <td>0.071570</td>\n",
              "      <td>0.085453</td>\n",
              "      <td>0.091970</td>\n",
              "      <td>0.078034</td>\n",
              "      <td>0.389635</td>\n",
              "    </tr>\n",
              "  </tbody>\n",
              "</table>\n",
              "</div>"
            ],
            "text/plain": [
              "          011420    003475    063440  ...    064290    049630    047820\n",
              "011420  0.389199  0.067839  0.100413  ...  0.089077  0.078694  0.084398\n",
              "003475  0.067839  0.232666  0.072384  ...  0.064630  0.053303  0.047889\n",
              "063440  0.100413  0.072384  0.498424  ...  0.108397  0.082985  0.130910\n",
              "006920  0.104577  0.068134  0.106014  ...  0.096346  0.130116  0.077987\n",
              "122350  0.080621  0.059841  0.095137  ...  0.095158  0.074315  0.072146\n",
              "043260  0.082580  0.080279  0.086739  ...  0.097435  0.077421  0.065090\n",
              "225330  0.046022  0.023621  0.038365  ...  0.046308  0.038371  0.039466\n",
              "032080  0.079280  0.045714  0.081410  ...  0.088066  0.074493  0.071570\n",
              "048830  0.090973  0.057180  0.090404  ...  0.077839  0.096963  0.085453\n",
              "064290  0.089077  0.064630  0.108397  ...  0.375969  0.096379  0.091970\n",
              "049630  0.078694  0.053303  0.082985  ...  0.096379  0.316983  0.078034\n",
              "047820  0.084398  0.047889  0.130910  ...  0.091970  0.078034  0.389635\n",
              "\n",
              "[12 rows x 12 columns]"
            ]
          },
          "metadata": {
            "tags": []
          },
          "execution_count": 29
        }
      ]
    },
    {
      "cell_type": "code",
      "metadata": {
        "colab": {
          "base_uri": "https://localhost:8080/",
          "height": 314
        },
        "id": "eQRn7z_KgF2o",
        "outputId": "5860b254-355b-499e-8df2-371825951db8"
      },
      "source": [
        "# 수익률의 공분산\n",
        "from pypfopt import plotting\n",
        "plotting.plot_covariance(S2)"
      ],
      "execution_count": 30,
      "outputs": [
        {
          "output_type": "execute_result",
          "data": {
            "text/plain": [
              "<matplotlib.axes._subplots.AxesSubplot at 0x7ff547e6e450>"
            ]
          },
          "metadata": {
            "tags": []
          },
          "execution_count": 30
        },
        {
          "output_type": "display_data",
          "data": {
            "image/png": "[encoded data removed]",
            "text/plain": [
              "<Figure size 432x288 with 2 Axes>"
            ]
          },
          "metadata": {
            "tags": [],
            "needs_background": "light"
          }
        }
      ]
    },
    {
      "cell_type": "markdown",
      "metadata": {
        "id": "uPiX2gRjgPH8"
      },
      "source": [
        "# 포트폴리오 최적화 ( Max Sharpe ratio )"
      ]
    },
    {
      "cell_type": "markdown",
      "metadata": {
        "id": "q7SuCUjCysBO"
      },
      "source": [
        "#### ver01> 결측값 삭제하지 않음 / df / mu, S / ef, cleaned_weights ( 20개 종목 )"
      ]
    },
    {
      "cell_type": "code",
      "metadata": {
        "colab": {
          "base_uri": "https://localhost:8080/"
        },
        "id": "LCeYZnA9JLXA",
        "outputId": "bf08acdc-91ee-4099-c7d2-04b2b53e5f37"
      },
      "source": [
        "# Efficient_risk로 최적화 했을때의 결과 확인\n",
        "vol_limit = 0.3\n",
        "ef = EfficientFrontier(mu, S)\n",
        "ef.efficient_risk(vol_limit)\n",
        "ef.portfolio_performance(verbose=True)"
      ],
      "execution_count": 37,
      "outputs": [
        {
          "output_type": "stream",
          "text": [
            "Expected annual return: 33.7%\n",
            "Annual volatility: 30.0%\n",
            "Sharpe Ratio: 1.06\n"
          ],
          "name": "stdout"
        },
        {
          "output_type": "execute_result",
          "data": {
            "text/plain": [
              "(0.3370441320257059, 0.2999999999977399, 1.0568137734269811)"
            ]
          },
          "metadata": {
            "tags": []
          },
          "execution_count": 37
        }
      ]
    },
    {
      "cell_type": "code",
      "metadata": {
        "colab": {
          "base_uri": "https://localhost:8080/"
        },
        "id": "X_IOrJJhJZRs",
        "outputId": "78b673a1-4511-463c-bab2-1d46edb1de4c"
      },
      "source": [
        "# max_sharpe로 최적화 했을때의 결과 확인\n",
        "ef = EfficientFrontier(mu, S)\n",
        "ef.max_sharpe()\n",
        "ef.portfolio_performance(verbose=True)"
      ],
      "execution_count": 38,
      "outputs": [
        {
          "output_type": "stream",
          "text": [
            "Expected annual return: 71.5%\n",
            "Annual volatility: 49.3%\n",
            "Sharpe Ratio: 1.41\n"
          ],
          "name": "stdout"
        },
        {
          "output_type": "execute_result",
          "data": {
            "text/plain": [
              "(0.7154780588529528, 0.4929372058638349, 1.4108857083209625)"
            ]
          },
          "metadata": {
            "tags": []
          },
          "execution_count": 38
        }
      ]
    },
    {
      "cell_type": "code",
      "metadata": {
        "colab": {
          "base_uri": "https://localhost:8080/"
        },
        "id": "s37ET3-BRKl9",
        "outputId": "81fb6524-d957-4308-a954-5860749c145f"
      },
      "source": [
        "# from pypfopt import risk_models, expected_returns\n",
        "# from pypfopt import EfficientFrontier, objective_functions\n",
        "# import cvxpy as cp\n",
        "\n",
        "# Max Sharpe Ratio\n",
        "ef = EfficientFrontier(mu, S)  # Create the Efficient Frontier Object\n",
        "\n",
        "weights = ef.max_sharpe()\n",
        "\n",
        "cleaned_weights = ef.clean_weights()\n",
        "print(cleaned_weights)\n",
        "\n",
        "# calculates the expected return, volatility and Sharpe ratio for the optimized portfolio.\n",
        "ef.portfolio_performance(verbose=True)"
      ],
      "execution_count": 48,
      "outputs": [
        {
          "output_type": "stream",
          "text": [
            "OrderedDict([('011420', 0.0), ('003475', 0.10094), ('063440', 0.0), ('348030', 0.0), ('006920', 0.0), ('122350', 0.0), ('357550', 0.0), ('043260', 0.0), ('347000', 0.16814), ('356890', 0.0), ('225330', 0.0), ('032080', 0.0), ('048830', 0.0), ('153710', 0.0), ('313760', 0.0), ('303530', 0.0), ('064290', 0.72696), ('049630', 0.0), ('047820', 0.00396), ('163730', 0.0)])\n",
            "Expected annual return: 71.5%\n",
            "Annual volatility: 49.3%\n",
            "Sharpe Ratio: 1.41\n"
          ],
          "name": "stdout"
        },
        {
          "output_type": "execute_result",
          "data": {
            "text/plain": [
              "(0.7154780588529528, 0.4929372058638349, 1.4108857083209625)"
            ]
          },
          "metadata": {
            "tags": []
          },
          "execution_count": 48
        }
      ]
    },
    {
      "cell_type": "code",
      "metadata": {
        "colab": {
          "base_uri": "https://localhost:8080/"
        },
        "id": "nzZqKyooRKjx",
        "outputId": "c07b6d1c-ce88-46d3-a12f-84c131f2bbdb"
      },
      "source": [
        "weights"
      ],
      "execution_count": 49,
      "outputs": [
        {
          "output_type": "execute_result",
          "data": {
            "text/plain": [
              "OrderedDict([('011420', 0.0),\n",
              "             ('003475', 0.1009399976552828),\n",
              "             ('063440', 0.0),\n",
              "             ('348030', 0.0),\n",
              "             ('006920', 0.0),\n",
              "             ('122350', 0.0),\n",
              "             ('357550', 0.0),\n",
              "             ('043260', 0.0),\n",
              "             ('347000', 0.1681419837615641),\n",
              "             ('356890', 0.0),\n",
              "             ('225330', 0.0),\n",
              "             ('032080', 0.0),\n",
              "             ('048830', 0.0),\n",
              "             ('153710', 0.0),\n",
              "             ('313760', 0.0),\n",
              "             ('303530', 0.0),\n",
              "             ('064290', 0.7269608780892677),\n",
              "             ('049630', 0.0),\n",
              "             ('047820', 0.0039571404938856),\n",
              "             ('163730', 0.0)])"
            ]
          },
          "metadata": {
            "tags": []
          },
          "execution_count": 49
        }
      ]
    },
    {
      "cell_type": "code",
      "metadata": {
        "colab": {
          "base_uri": "https://localhost:8080/"
        },
        "id": "nqs3JI3JTmog",
        "outputId": "09b8b50b-6aa4-4d9f-965a-5ae16a845833"
      },
      "source": [
        "len(weights)"
      ],
      "execution_count": 50,
      "outputs": [
        {
          "output_type": "execute_result",
          "data": {
            "text/plain": [
              "20"
            ]
          },
          "metadata": {
            "tags": []
          },
          "execution_count": 50
        }
      ]
    },
    {
      "cell_type": "code",
      "metadata": {
        "colab": {
          "base_uri": "https://localhost:8080/"
        },
        "id": "QZ1qbkEqRKhv",
        "scrolled": true,
        "outputId": "8b25ff4c-c288-4d40-b0ea-95ee3b123c6f"
      },
      "source": [
        "cleaned_weights"
      ],
      "execution_count": 51,
      "outputs": [
        {
          "output_type": "execute_result",
          "data": {
            "text/plain": [
              "OrderedDict([('011420', 0.0),\n",
              "             ('003475', 0.10094),\n",
              "             ('063440', 0.0),\n",
              "             ('348030', 0.0),\n",
              "             ('006920', 0.0),\n",
              "             ('122350', 0.0),\n",
              "             ('357550', 0.0),\n",
              "             ('043260', 0.0),\n",
              "             ('347000', 0.16814),\n",
              "             ('356890', 0.0),\n",
              "             ('225330', 0.0),\n",
              "             ('032080', 0.0),\n",
              "             ('048830', 0.0),\n",
              "             ('153710', 0.0),\n",
              "             ('313760', 0.0),\n",
              "             ('303530', 0.0),\n",
              "             ('064290', 0.72696),\n",
              "             ('049630', 0.0),\n",
              "             ('047820', 0.00396),\n",
              "             ('163730', 0.0)])"
            ]
          },
          "metadata": {
            "tags": []
          },
          "execution_count": 51
        }
      ]
    },
    {
      "cell_type": "code",
      "metadata": {
        "colab": {
          "base_uri": "https://localhost:8080/"
        },
        "id": "PmVgP2YETmoh",
        "outputId": "136a3b41-8c8f-4806-db1f-36432e779a76"
      },
      "source": [
        "len(cleaned_weights)"
      ],
      "execution_count": 52,
      "outputs": [
        {
          "output_type": "execute_result",
          "data": {
            "text/plain": [
              "20"
            ]
          },
          "metadata": {
            "tags": []
          },
          "execution_count": 52
        }
      ]
    },
    {
      "cell_type": "code",
      "metadata": {
        "id": "kstczWKygVkl"
      },
      "source": [
        "# 효율적 투자선와 각 종목의 수익률 & 변동성\n",
        "import matplotlib.pyplot as plt\n",
        "from pypfopt import plotting\n",
        "import cvxpy as cp\n",
        "\n",
        "ef = EfficientFrontier(mu, S)\n",
        "\n",
        "fig, ax = plt.subplots()\n",
        "plotting.plot_efficient_frontier(ef, ax=ax, show_assets=True)\n",
        "plt.legend(loc='best')\n",
        "plt.show()"
      ],
      "execution_count": null,
      "outputs": []
    },
    {
      "cell_type": "code",
      "metadata": {
        "id": "tdc5fyqPgXFT"
      },
      "source": [
        "# Show Efficient Frontier\n",
        "fig, ax = plt.subplots()\n",
        "plotting.plot_efficient_frontier(ef, ax=ax, show_assets=False)\n",
        "\n",
        "# Find the tangency portfolio\n",
        "ef.max_sharpe()\n",
        "ret_tangent, std_tangent, _ = ef.portfolio_performance()  # 기대수익률 , Risk(변동성)\n",
        "ax.scatter(std_tangent, ret_tangent, marker=\"*\", s=200, c=\"r\", label=\"Max Sharpe\")\n",
        "\n",
        "# Generate random portfolios\n",
        "n_samples = 20000\n",
        "w = np.random.dirichlet(np.ones(len(mu)), n_samples) # 난수로 20000세트의 투자비중 만들기\n",
        "rets = w.dot(mu)                                     # 기대수익률\n",
        "stds = np.sqrt(np.diag(w @ S @ w.T))                 # Risk(변동성)\n",
        "sharpes = rets / stds                                # 샤프비율\n",
        "\n",
        "ax.scatter(stds, rets, marker=\".\", c=sharpes, cmap=\"viridis_r\")\n",
        "\n",
        "# Output\n",
        "ax.set_title(\"Efficient Frontier with random portfolios\")\n",
        "ax.legend()\n",
        "plt.tight_layout()\n",
        "plt.savefig(\"ef_scatter.png\", dpi=200)\n",
        "plt.show()"
      ],
      "execution_count": null,
      "outputs": []
    },
    {
      "cell_type": "code",
      "metadata": {
        "id": "wetWFgaJghLQ"
      },
      "source": [
        "# Max.Sharpe Ratio로 최적화한 포트폴리오의 수익률과 변동성, 샤프비율\n",
        "ef.portfolio_performance(verbose=True)"
      ],
      "execution_count": null,
      "outputs": []
    },
    {
      "cell_type": "code",
      "metadata": {
        "colab": {
          "base_uri": "https://localhost:8080/",
          "height": 314
        },
        "id": "fPMztuiwgiHy",
        "outputId": "20b81406-0501-46bf-bc0a-99074c255241"
      },
      "source": [
        "# 종목별 투자비중\n",
        "plotting.plot_weights(weights, ax=None)"
      ],
      "execution_count": 53,
      "outputs": [
        {
          "output_type": "execute_result",
          "data": {
            "text/plain": [
              "<matplotlib.axes._subplots.AxesSubplot at 0x7ff547d1ef50>"
            ]
          },
          "metadata": {
            "tags": []
          },
          "execution_count": 53
        },
        {
          "output_type": "display_data",
          "data": {
            "image/png": "[encoded data removed]",
            "text/plain": [
              "<Figure size 432x288 with 1 Axes>"
            ]
          },
          "metadata": {
            "tags": [],
            "needs_background": "light"
          }
        }
      ]
    },
    {
      "cell_type": "markdown",
      "metadata": {
        "id": "rxBDUaYIyEvQ"
      },
      "source": [
        "#### ver02> 결측값 삭제 / df2 / mu2, S2 / ef2, cleaned_weights2 ( 12개 종목 )"
      ]
    },
    {
      "cell_type": "code",
      "metadata": {
        "colab": {
          "base_uri": "https://localhost:8080/"
        },
        "id": "o5tovJuECwN7",
        "outputId": "9e6f17e6-b31e-4743-ac56-404857a58bb1"
      },
      "source": [
        "# Efficient_risk로 최적화 했을때의 결과 확인\n",
        "vol_limit2 = 0.3\n",
        "ef2 = EfficientFrontier(mu2, S2)\n",
        "ef2.efficient_risk(vol_limit2)\n",
        "ef2.portfolio_performance(verbose=True)"
      ],
      "execution_count": 54,
      "outputs": [
        {
          "output_type": "stream",
          "text": [
            "Expected annual return: 30.4%\n",
            "Annual volatility: 30.0%\n",
            "Sharpe Ratio: 0.95\n"
          ],
          "name": "stdout"
        },
        {
          "output_type": "execute_result",
          "data": {
            "text/plain": [
              "(0.3035474651412203, 0.30000000005047844, 0.9451582169783671)"
            ]
          },
          "metadata": {
            "tags": []
          },
          "execution_count": 54
        }
      ]
    },
    {
      "cell_type": "code",
      "metadata": {
        "colab": {
          "base_uri": "https://localhost:8080/"
        },
        "id": "2H0qUmqYCwN8",
        "outputId": "24230701-04ac-4369-e9e5-539b9d2ae475"
      },
      "source": [
        "# max_sharpe로 최적화 했을때의 결과 확인\n",
        "ef2 = EfficientFrontier(mu2, S2)\n",
        "ef2.max_sharpe()\n",
        "ef2.portfolio_performance(verbose=True)"
      ],
      "execution_count": 55,
      "outputs": [
        {
          "output_type": "stream",
          "text": [
            "Expected annual return: 75.3%\n",
            "Annual volatility: 53.7%\n",
            "Sharpe Ratio: 1.36\n"
          ],
          "name": "stdout"
        },
        {
          "output_type": "execute_result",
          "data": {
            "text/plain": [
              "(0.7526643158706008, 0.5368547687322833, 1.3647346704225012)"
            ]
          },
          "metadata": {
            "tags": []
          },
          "execution_count": 55
        }
      ]
    },
    {
      "cell_type": "code",
      "metadata": {
        "colab": {
          "base_uri": "https://localhost:8080/"
        },
        "id": "X45xLpwbrxni",
        "outputId": "688d88c9-3363-45fd-d1f1-447890b80d7c"
      },
      "source": [
        "# from pypfopt import risk_models, expected_returns\n",
        "# from pypfopt import EfficientFrontier, objective_functions\n",
        "# import cvxpy as cp\n",
        "\n",
        "# Max Sharpe Ratio\n",
        "\n",
        "ef2 = EfficientFrontier(mu2, S2)  # Create the Efficient Frontier Object\n",
        "\n",
        "weights2 = ef2.max_sharpe()\n",
        "\n",
        "cleaned_weights2 = ef2.clean_weights()\n",
        "print(cleaned_weights2)\n",
        "\n",
        "# calculates the expected return, volatility and Sharpe ratio for the optimized portfolio.\n",
        "ef2.portfolio_performance(verbose=True)"
      ],
      "execution_count": 56,
      "outputs": [
        {
          "output_type": "stream",
          "text": [
            "OrderedDict([('011420', 0.0), ('003475', 0.1545), ('063440', 0.0), ('006920', 0.0), ('122350', 0.0), ('043260', 0.0), ('225330', 0.0), ('032080', 0.0), ('048830', 0.0), ('064290', 0.83928), ('049630', 0.0), ('047820', 0.00621)])\n",
            "Expected annual return: 75.3%\n",
            "Annual volatility: 53.7%\n",
            "Sharpe Ratio: 1.36\n"
          ],
          "name": "stdout"
        },
        {
          "output_type": "execute_result",
          "data": {
            "text/plain": [
              "(0.7526643158706008, 0.5368547687322833, 1.3647346704225012)"
            ]
          },
          "metadata": {
            "tags": []
          },
          "execution_count": 56
        }
      ]
    },
    {
      "cell_type": "code",
      "metadata": {
        "colab": {
          "base_uri": "https://localhost:8080/"
        },
        "id": "Y5P_WNqTz0mY",
        "outputId": "5ec10af7-9a82-4a75-84b6-b9e68c35a31b"
      },
      "source": [
        "weights2"
      ],
      "execution_count": 57,
      "outputs": [
        {
          "output_type": "execute_result",
          "data": {
            "text/plain": [
              "OrderedDict([('011420', 0.0),\n",
              "             ('003475', 0.1545049584718866),\n",
              "             ('063440', 0.0),\n",
              "             ('006920', 0.0),\n",
              "             ('122350', 0.0),\n",
              "             ('043260', 0.0),\n",
              "             ('225330', 0.0),\n",
              "             ('032080', 0.0),\n",
              "             ('048830', 0.0),\n",
              "             ('064290', 0.839283505713277),\n",
              "             ('049630', 0.0),\n",
              "             ('047820', 0.0062115358148362)])"
            ]
          },
          "metadata": {
            "tags": []
          },
          "execution_count": 57
        }
      ]
    },
    {
      "cell_type": "code",
      "metadata": {
        "colab": {
          "base_uri": "https://localhost:8080/"
        },
        "id": "MqUE20inz0mY",
        "outputId": "deb8d3cf-b0f0-40f7-dc66-8e3e2657a6bc"
      },
      "source": [
        "len(weights2)"
      ],
      "execution_count": 58,
      "outputs": [
        {
          "output_type": "execute_result",
          "data": {
            "text/plain": [
              "12"
            ]
          },
          "metadata": {
            "tags": []
          },
          "execution_count": 58
        }
      ]
    },
    {
      "cell_type": "code",
      "metadata": {
        "colab": {
          "base_uri": "https://localhost:8080/"
        },
        "scrolled": true,
        "id": "pzr9EOWXz0mZ",
        "outputId": "be06b53e-4866-453a-a3a6-335a5ddf6942"
      },
      "source": [
        "cleaned_weights2"
      ],
      "execution_count": 59,
      "outputs": [
        {
          "output_type": "execute_result",
          "data": {
            "text/plain": [
              "OrderedDict([('011420', 0.0),\n",
              "             ('003475', 0.1545),\n",
              "             ('063440', 0.0),\n",
              "             ('006920', 0.0),\n",
              "             ('122350', 0.0),\n",
              "             ('043260', 0.0),\n",
              "             ('225330', 0.0),\n",
              "             ('032080', 0.0),\n",
              "             ('048830', 0.0),\n",
              "             ('064290', 0.83928),\n",
              "             ('049630', 0.0),\n",
              "             ('047820', 0.00621)])"
            ]
          },
          "metadata": {
            "tags": []
          },
          "execution_count": 59
        }
      ]
    },
    {
      "cell_type": "code",
      "metadata": {
        "colab": {
          "base_uri": "https://localhost:8080/"
        },
        "id": "3z4-OYeZz0mZ",
        "outputId": "6aaaee29-d6fd-48a8-bffc-55ef2e368943"
      },
      "source": [
        "len(cleaned_weights2)"
      ],
      "execution_count": 60,
      "outputs": [
        {
          "output_type": "execute_result",
          "data": {
            "text/plain": [
              "12"
            ]
          },
          "metadata": {
            "tags": []
          },
          "execution_count": 60
        }
      ]
    },
    {
      "cell_type": "code",
      "metadata": {
        "colab": {
          "base_uri": "https://localhost:8080/",
          "height": 296
        },
        "id": "lvUcdRMRz0mZ",
        "outputId": "7b43a949-e62a-4b0a-b7b2-09945def151a"
      },
      "source": [
        "# 효율적 투자선와 각 종목의 수익률 & 변동성\n",
        "import matplotlib.pyplot as plt\n",
        "\n",
        "ef2 = EfficientFrontier(mu2, S2, solver='SCS')\n",
        "\n",
        "fig, ax = plt.subplots()\n",
        "plotting.plot_efficient_frontier(ef2, ax=ax, show_assets=True)\n",
        "plt.legend(loc='best')\n",
        "plt.show()"
      ],
      "execution_count": 61,
      "outputs": [
        {
          "output_type": "display_data",
          "data": {
            "image/png": "[encoded data removed]",
            "text/plain": [
              "<Figure size 432x288 with 1 Axes>"
            ]
          },
          "metadata": {
            "tags": [],
            "needs_background": "light"
          }
        }
      ]
    },
    {
      "cell_type": "code",
      "metadata": {
        "colab": {
          "base_uri": "https://localhost:8080/",
          "height": 314
        },
        "id": "5_kZDP7tz0mZ",
        "outputId": "561cc0fc-82cf-4b34-8b88-1ae17c42d6cc"
      },
      "source": [
        "# Show Efficient Frontier\n",
        "fig, ax = plt.subplots()\n",
        "plotting.plot_efficient_frontier(ef2, ax=ax, show_assets=False)\n",
        "\n",
        "# Find the tangency portfolio\n",
        "ef2.max_sharpe()\n",
        "ret_tangent2, std_tangent2, _ = ef2.portfolio_performance()  # 기대수익률 , Risk(변동성)\n",
        "ax.scatter(std_tangent2, ret_tangent2, marker=\"*\", s=200, c=\"r\", label=\"Max Sharpe Ratio\")\n",
        "\n",
        "# Generate random portfolios\n",
        "n_samples = 20000\n",
        "w2 = np.random.dirichlet(np.ones(len(mu2)), n_samples) # 난수로 20000세트의 투자비중 만들기\n",
        "rets2 = w2.dot(mu2)                                     # 기대수익률\n",
        "stds2 = np.sqrt(np.diag(w2 @ S2 @ w2.T))                 # Risk(변동성)\n",
        "sharpes2 = rets2 / stds2                                # 샤프비율\n",
        "\n",
        "ax.scatter(stds2, rets2, marker=\".\", c=sharpes2, cmap=\"viridis_r\")\n",
        "\n",
        "# Output\n",
        "ax.set_title(\"Efficient Frontier with random portfolios\")\n",
        "ax.legend(loc='best')\n",
        "plt.tight_layout()\n",
        "plt.savefig(\"ef_scatter.png\", dpi=200)\n",
        "plt.show()"
      ],
      "execution_count": 62,
      "outputs": [
        {
          "output_type": "stream",
          "text": [
            "findfont: Font family ['Malgun Gothic'] not found. Falling back to DejaVu Sans.\n"
          ],
          "name": "stderr"
        },
        {
          "output_type": "display_data",
          "data": {
            "image/png": "[encoded data removed]",
            "text/plain": [
              "<Figure size 432x288 with 1 Axes>"
            ]
          },
          "metadata": {
            "tags": [],
            "needs_background": "light"
          }
        }
      ]
    },
    {
      "cell_type": "code",
      "metadata": {
        "colab": {
          "base_uri": "https://localhost:8080/"
        },
        "id": "DdzCqiB6z0mZ",
        "outputId": "3c42f290-ef49-42c6-ed8b-3c9d4bab059b"
      },
      "source": [
        "# Efficient Risk로 최적화한 포트폴리오의 수익률과 변동성, 샤프비율\n",
        "ef2.portfolio_performance(verbose=True)"
      ],
      "execution_count": 63,
      "outputs": [
        {
          "output_type": "stream",
          "text": [
            "Expected annual return: 75.3%\n",
            "Annual volatility: 53.7%\n",
            "Sharpe Ratio: 1.36\n"
          ],
          "name": "stdout"
        },
        {
          "output_type": "execute_result",
          "data": {
            "text/plain": [
              "(0.7526566905441096, 0.536848282499207, 1.3647369553523565)"
            ]
          },
          "metadata": {
            "tags": []
          },
          "execution_count": 63
        }
      ]
    },
    {
      "cell_type": "code",
      "metadata": {
        "colab": {
          "base_uri": "https://localhost:8080/",
          "height": 314
        },
        "id": "Gt-kmbabz0mZ",
        "outputId": "f55a4652-9e85-4589-eb34-e1b3df51aee1"
      },
      "source": [
        "# 종목별 투자비중\n",
        "plotting.plot_weights(weights2, ax=None)"
      ],
      "execution_count": 64,
      "outputs": [
        {
          "output_type": "execute_result",
          "data": {
            "text/plain": [
              "<matplotlib.axes._subplots.AxesSubplot at 0x7ff548404850>"
            ]
          },
          "metadata": {
            "tags": []
          },
          "execution_count": 64
        },
        {
          "output_type": "display_data",
          "data": {
            "image/png": "[encoded data removed]",
            "text/plain": [
              "<Figure size 432x288 with 1 Axes>"
            ]
          },
          "metadata": {
            "tags": [],
            "needs_background": "light"
          }
        }
      ]
    },
    {
      "cell_type": "markdown",
      "metadata": {
        "id": "4KvxA5Qq2Kxo"
      },
      "source": [
        "### 투자금액과 포트폴리오의 비중에 맞추어 수량 할당"
      ]
    },
    {
      "cell_type": "code",
      "metadata": {
        "colab": {
          "base_uri": "https://localhost:8080/"
        },
        "id": "gjhTsQfORKfr",
        "outputId": "74ffcd33-b895-4c48-9e57-0e2343126daf"
      },
      "source": [
        "!pip install pulp"
      ],
      "execution_count": 65,
      "outputs": [
        {
          "output_type": "stream",
          "text": [
            "Collecting pulp\n",
            "  Downloading PuLP-2.4-py3-none-any.whl (40.6 MB)\n",
            "\u001b[K     |████████████████████████████████| 40.6 MB 32 kB/s \n",
            "\u001b[?25hCollecting amply>=0.1.2\n",
            "  Downloading amply-0.1.4-py3-none-any.whl (16 kB)\n",
            "Requirement already satisfied: pyparsing in /usr/local/lib/python3.7/dist-packages (from amply>=0.1.2->pulp) (2.4.7)\n",
            "Requirement already satisfied: docutils>=0.3 in /usr/local/lib/python3.7/dist-packages (from amply>=0.1.2->pulp) (0.17.1)\n",
            "Installing collected packages: amply, pulp\n",
            "Successfully installed amply-0.1.4 pulp-2.4\n"
          ],
          "name": "stdout"
        }
      ]
    },
    {
      "cell_type": "markdown",
      "metadata": {
        "id": "SE2nREZY31eI"
      },
      "source": [
        "#### ver01> 결측값 삭제하지 않음 / df / mu, S / ef, cleaned_weights ( 20개 종목 )"
      ]
    },
    {
      "cell_type": "code",
      "metadata": {
        "colab": {
          "base_uri": "https://localhost:8080/"
        },
        "id": "EQ9fFV8A45IG",
        "outputId": "70b05197-d1a9-48d8-8057-bba2e74f7ff4"
      },
      "source": [
        "# Get the discrete allocation of each sharpe per stock\n",
        "from pypfopt.discrete_allocation import DiscreteAllocation, get_latest_prices\n",
        "\n",
        "# 투자금액 (단위: KRW)\n",
        "portfolio_val = 15000000\n",
        "\n",
        "latest_prices = get_latest_prices(df)\n",
        "\n",
        "weights = cleaned_weights\n",
        "\n",
        "da = DiscreteAllocation(weights, latest_prices, total_portfolio_value=portfolio_val)\n",
        "\n",
        "allocation, leftover = da.lp_portfolio(verbose=False)\n",
        "\n",
        "print('Discrete Allocaion: ', allocation)\n",
        "print('Funds Remaining: ', leftover, ' KRW')\n",
        "\n",
        "rmse = da._allocation_rmse_error(verbose=False)"
      ],
      "execution_count": 66,
      "outputs": [
        {
          "output_type": "stream",
          "text": [
            "Discrete Allocaion:  {'003475': 341, '347000': 128, '064290': 504, '047820': 23}\n",
            "Funds Remaining:  490.0  KRW\n",
            "Allocation has RMSE: 0.000\n"
          ],
          "name": "stdout"
        }
      ]
    },
    {
      "cell_type": "code",
      "metadata": {
        "colab": {
          "base_uri": "https://localhost:8080/"
        },
        "id": "xTlH13TG45IH",
        "outputId": "7a43af53-483c-4e6a-a545-1f9059acfd7a"
      },
      "source": [
        "allocation"
      ],
      "execution_count": 67,
      "outputs": [
        {
          "output_type": "execute_result",
          "data": {
            "text/plain": [
              "{'003475': 341, '047820': 23, '064290': 504, '347000': 128}"
            ]
          },
          "metadata": {
            "tags": []
          },
          "execution_count": 67
        }
      ]
    },
    {
      "cell_type": "code",
      "metadata": {
        "colab": {
          "base_uri": "https://localhost:8080/"
        },
        "id": "202JdxZB45II",
        "outputId": "5d2eb3dd-b9c4-409d-e16c-262152ce7623"
      },
      "source": [
        "len(allocation)"
      ],
      "execution_count": 68,
      "outputs": [
        {
          "output_type": "execute_result",
          "data": {
            "text/plain": [
              "4"
            ]
          },
          "metadata": {
            "tags": []
          },
          "execution_count": 68
        }
      ]
    },
    {
      "cell_type": "markdown",
      "metadata": {
        "id": "neO4V05z4K40"
      },
      "source": [
        "#### ver02> 결측값 삭제하지 않음 / df2 / mu2, S2 / ef2, cleaned_weights2 /  ( 12개 종목 )"
      ]
    },
    {
      "cell_type": "code",
      "metadata": {
        "colab": {
          "base_uri": "https://localhost:8080/"
        },
        "id": "8JAhR3FHRKdp",
        "outputId": "f013fd84-5212-4e20-cb7a-cd7329f7d90a"
      },
      "source": [
        "# Get the discrete allocation of each sharpe per stock\n",
        "from pypfopt.discrete_allocation import DiscreteAllocation, get_latest_prices\n",
        "\n",
        "# 투자금액 (단위: KRW)\n",
        "portfolio_val = 15000000\n",
        "\n",
        "latest_prices2 = get_latest_prices(df2)\n",
        "\n",
        "weights2 = cleaned_weights2\n",
        "\n",
        "da2 = DiscreteAllocation(weights2, latest_prices2, total_portfolio_value=portfolio_val)\n",
        "\n",
        "allocation2, leftover2 = da2.lp_portfolio(verbose=False)\n",
        "\n",
        "print('Discrete Allocaion: ', allocation2)\n",
        "print('Funds Remaining: ', leftover2, ' KRW')\n",
        "\n",
        "rmse2 = da2._allocation_rmse_error(verbose=False)"
      ],
      "execution_count": 69,
      "outputs": [
        {
          "output_type": "stream",
          "text": [
            "Discrete Allocaion:  {'003475': 523, '064290': 581, '047820': 36}\n",
            "Funds Remaining:  7345.0  KRW\n",
            "Allocation has RMSE: 0.000\n"
          ],
          "name": "stdout"
        }
      ]
    },
    {
      "cell_type": "code",
      "metadata": {
        "colab": {
          "base_uri": "https://localhost:8080/"
        },
        "id": "Gh0uTR5qSAvi",
        "outputId": "2394011a-6fdd-49bf-ee75-391f8f1d66d4"
      },
      "source": [
        "allocation2"
      ],
      "execution_count": 70,
      "outputs": [
        {
          "output_type": "execute_result",
          "data": {
            "text/plain": [
              "{'003475': 523, '047820': 36, '064290': 581}"
            ]
          },
          "metadata": {
            "tags": []
          },
          "execution_count": 70
        }
      ]
    },
    {
      "cell_type": "code",
      "metadata": {
        "colab": {
          "base_uri": "https://localhost:8080/"
        },
        "id": "pF35mEYySC8Q",
        "outputId": "7ea76ced-3c7a-49d7-f82d-a20401ef4ffc"
      },
      "source": [
        "len(allocation2)"
      ],
      "execution_count": 71,
      "outputs": [
        {
          "output_type": "execute_result",
          "data": {
            "text/plain": [
              "3"
            ]
          },
          "metadata": {
            "tags": []
          },
          "execution_count": 71
        }
      ]
    },
    {
      "cell_type": "markdown",
      "metadata": {
        "id": "aGJDMhv-N-GX"
      },
      "source": [
        "### 포트폴리오 결과로 보여줄 변수 저장"
      ]
    },
    {
      "cell_type": "markdown",
      "metadata": {
        "id": "V4AAT8bA74j7"
      },
      "source": [
        "#### ver01> 결측값 삭제하지 않음 ( 20개 종목 )"
      ]
    },
    {
      "cell_type": "code",
      "metadata": {
        "colab": {
          "base_uri": "https://localhost:8080/"
        },
        "id": "bq5IngiYWrFs",
        "outputId": "a33ca96d-6ba2-4844-f7e3-553731e7158d"
      },
      "source": [
        "# 각 종목별 실제 투자 금액\n",
        "inv_total_price = {}\n",
        "\n",
        "for i in allocation.keys():\n",
        "  inv_total_price[i] = latest_prices.loc[i]*allocation[i]\n",
        "inv_total_price"
      ],
      "execution_count": 72,
      "outputs": [
        {
          "output_type": "execute_result",
          "data": {
            "text/plain": [
              "{'003475': 1512335.0,\n",
              " '047820': 60375.0,\n",
              " '064290': 10911600.0,\n",
              " '347000': 2515200.0}"
            ]
          },
          "metadata": {
            "tags": []
          },
          "execution_count": 72
        }
      ]
    },
    {
      "cell_type": "code",
      "metadata": {
        "colab": {
          "base_uri": "https://localhost:8080/"
        },
        "id": "DAv4QY9wZqVl",
        "outputId": "a8e37485-7445-4b1b-db84-a7ae68fab154"
      },
      "source": [
        "# 총 투자금액\n",
        "investment = 0\n",
        "\n",
        "for i in inv_total_price.values():\n",
        "    investment += i\n",
        "print(investment)"
      ],
      "execution_count": 73,
      "outputs": [
        {
          "output_type": "stream",
          "text": [
            "14999510.0\n"
          ],
          "name": "stdout"
        }
      ]
    },
    {
      "cell_type": "code",
      "metadata": {
        "colab": {
          "base_uri": "https://localhost:8080/"
        },
        "id": "emC0SPFGZ355",
        "outputId": "03984f64-733b-48c2-98a8-5b99323b03d5"
      },
      "source": [
        "portfolio_val-leftover"
      ],
      "execution_count": 74,
      "outputs": [
        {
          "output_type": "execute_result",
          "data": {
            "text/plain": [
              "14999510.0"
            ]
          },
          "metadata": {
            "tags": []
          },
          "execution_count": 74
        }
      ]
    },
    {
      "cell_type": "code",
      "metadata": {
        "colab": {
          "base_uri": "https://localhost:8080/"
        },
        "id": "aXceEXedY3Wl",
        "outputId": "b486daaf-2726-44d3-8cbd-9634330142ab"
      },
      "source": [
        "# 각 종목별 실제 투자 비중\n",
        "inv_total_weight = {}\n",
        "\n",
        "for i in allocation.keys():\n",
        "  inv_total_weight[i] = inv_total_price[i]/investment\n",
        "inv_total_weight"
      ],
      "execution_count": 75,
      "outputs": [
        {
          "output_type": "execute_result",
          "data": {
            "text/plain": [
              "{'003475': 0.10082562697048103,\n",
              " '047820': 0.004025131487628596,\n",
              " '064290': 0.7274637638162846,\n",
              " '347000': 0.1676854777256057}"
            ]
          },
          "metadata": {
            "tags": []
          },
          "execution_count": 75
        }
      ]
    },
    {
      "cell_type": "code",
      "metadata": {
        "colab": {
          "base_uri": "https://localhost:8080/"
        },
        "id": "kfHwmPjDaAOg",
        "outputId": "763ebfd5-6ed5-49ce-80f7-b84e4698409c"
      },
      "source": [
        "# 투자비중의 합계\n",
        "investment_w = 0\n",
        "\n",
        "for i in inv_total_weight.values():\n",
        "    investment_w += i\n",
        "print(investment_w)"
      ],
      "execution_count": 76,
      "outputs": [
        {
          "output_type": "stream",
          "text": [
            "1.0\n"
          ],
          "name": "stdout"
        }
      ]
    },
    {
      "cell_type": "code",
      "metadata": {
        "id": "GDqw8F7hKuAq"
      },
      "source": [
        "# 결과값으로 불러올 값을 리스트로 저장\n",
        "name_list = []                    # 종목명(회사이름)\n",
        "total_price_stock =[]             # 각 종목별 실제 투자 금액\n",
        "total_weight_stock = []           # 각 종목별 실제 투자 비중\n",
        "\n",
        "for i in allocation.keys(): # i = 포트폴리오에 할당된 종목의 종목코드\n",
        "    name_list.append(code_name_dict.get(i))\n",
        "    total_price_stock.append(inv_total_price.get(i))\n",
        "    total_weight_stock.append(inv_total_weight.get(i))"
      ],
      "execution_count": 77,
      "outputs": []
    },
    {
      "cell_type": "code",
      "metadata": {
        "colab": {
          "base_uri": "https://localhost:8080/"
        },
        "id": "w90yfcicPO9u",
        "outputId": "79ff6d55-c9f3-49a1-e627-67706d779c47"
      },
      "source": [
        "name_list"
      ],
      "execution_count": 78,
      "outputs": [
        {
          "output_type": "execute_result",
          "data": {
            "text/plain": [
              "['유안타증권우', '센코', '인텍플러스', '초록뱀미디어']"
            ]
          },
          "metadata": {
            "tags": []
          },
          "execution_count": 78
        }
      ]
    },
    {
      "cell_type": "code",
      "metadata": {
        "colab": {
          "base_uri": "https://localhost:8080/"
        },
        "id": "ir3DV0LVPO6_",
        "outputId": "80a69e9f-9d10-4f7c-980a-f64f213a36a8"
      },
      "source": [
        "total_price_stock"
      ],
      "execution_count": 79,
      "outputs": [
        {
          "output_type": "execute_result",
          "data": {
            "text/plain": [
              "[1512335.0, 2515200.0, 10911600.0, 60375.0]"
            ]
          },
          "metadata": {
            "tags": []
          },
          "execution_count": 79
        }
      ]
    },
    {
      "cell_type": "code",
      "metadata": {
        "colab": {
          "base_uri": "https://localhost:8080/"
        },
        "id": "Vq3DzREpQPPJ",
        "outputId": "14c30e76-11a9-427b-e4ed-19bcea184baf"
      },
      "source": [
        "total_weight_stock"
      ],
      "execution_count": 80,
      "outputs": [
        {
          "output_type": "execute_result",
          "data": {
            "text/plain": [
              "[0.10082562697048103,\n",
              " 0.1676854777256057,\n",
              " 0.7274637638162846,\n",
              " 0.004025131487628596]"
            ]
          },
          "metadata": {
            "tags": []
          },
          "execution_count": 80
        }
      ]
    },
    {
      "cell_type": "code",
      "metadata": {
        "id": "FH8Rm2iKRs8m"
      },
      "source": [
        "# Get the discrete allocation values\n",
        "discrete_allocation_list = []\n",
        "for symbol in allocation:\n",
        "  discrete_allocation_list.append(allocation.get(symbol))"
      ],
      "execution_count": 81,
      "outputs": []
    },
    {
      "cell_type": "code",
      "metadata": {
        "colab": {
          "base_uri": "https://localhost:8080/"
        },
        "id": "ZEyvnGbQSrXS",
        "outputId": "0f0398ea-c6a2-4387-a3b9-68565f76931a"
      },
      "source": [
        "discrete_allocation_list"
      ],
      "execution_count": 82,
      "outputs": [
        {
          "output_type": "execute_result",
          "data": {
            "text/plain": [
              "[341, 128, 504, 23]"
            ]
          },
          "metadata": {
            "tags": []
          },
          "execution_count": 82
        }
      ]
    },
    {
      "cell_type": "code",
      "metadata": {
        "id": "Al_P9dz3cD-W",
        "colab": {
          "base_uri": "https://localhost:8080/",
          "height": 48
        },
        "outputId": "29ca0eab-61ee-4a5c-bd99-c58b1567939f"
      },
      "source": [
        "# Create a dataframe for the portfolio\n",
        "portfolio_df = pd.DataFrame(columns = ['종목명','종목코드','수량(주)', '투자금액(원)','투자비중'])\n",
        "portfolio_df"
      ],
      "execution_count": 83,
      "outputs": [
        {
          "output_type": "execute_result",
          "data": {
            "text/html": [
              "<div>\n",
              "<style scoped>\n",
              "    .dataframe tbody tr th:only-of-type {\n",
              "        vertical-align: middle;\n",
              "    }\n",
              "\n",
              "    .dataframe tbody tr th {\n",
              "        vertical-align: top;\n",
              "    }\n",
              "\n",
              "    .dataframe thead th {\n",
              "        text-align: right;\n",
              "    }\n",
              "</style>\n",
              "<table border=\"1\" class=\"dataframe\">\n",
              "  <thead>\n",
              "    <tr style=\"text-align: right;\">\n",
              "      <th></th>\n",
              "      <th>종목명</th>\n",
              "      <th>종목코드</th>\n",
              "      <th>수량(주)</th>\n",
              "      <th>투자금액(원)</th>\n",
              "      <th>투자비중</th>\n",
              "    </tr>\n",
              "  </thead>\n",
              "  <tbody>\n",
              "  </tbody>\n",
              "</table>\n",
              "</div>"
            ],
            "text/plain": [
              "Empty DataFrame\n",
              "Columns: [종목명, 종목코드, 수량(주), 투자금액(원), 투자비중]\n",
              "Index: []"
            ]
          },
          "metadata": {
            "tags": []
          },
          "execution_count": 83
        }
      ]
    },
    {
      "cell_type": "code",
      "metadata": {
        "id": "PczG26mc2ooL"
      },
      "source": [
        "# portfolio_df['Company_name'] = company_name\n",
        "portfolio_df['종목명'] = name_list\n",
        "portfolio_df['종목코드'] = allocation\n",
        "portfolio_df['수량(주)'] = discrete_allocation_list\n",
        "portfolio_df['투자금액(원)'] = total_price_stock\n",
        "portfolio_df['투자비중'] = total_weight_stock"
      ],
      "execution_count": 84,
      "outputs": []
    },
    {
      "cell_type": "code",
      "metadata": {
        "colab": {
          "base_uri": "https://localhost:8080/",
          "height": 171
        },
        "scrolled": true,
        "id": "jOuN8JHW2ooL",
        "outputId": "2324e714-8e06-4569-b8b4-bf73feeb7257"
      },
      "source": [
        "portfolio_df"
      ],
      "execution_count": 85,
      "outputs": [
        {
          "output_type": "execute_result",
          "data": {
            "text/html": [
              "<div>\n",
              "<style scoped>\n",
              "    .dataframe tbody tr th:only-of-type {\n",
              "        vertical-align: middle;\n",
              "    }\n",
              "\n",
              "    .dataframe tbody tr th {\n",
              "        vertical-align: top;\n",
              "    }\n",
              "\n",
              "    .dataframe thead th {\n",
              "        text-align: right;\n",
              "    }\n",
              "</style>\n",
              "<table border=\"1\" class=\"dataframe\">\n",
              "  <thead>\n",
              "    <tr style=\"text-align: right;\">\n",
              "      <th></th>\n",
              "      <th>종목명</th>\n",
              "      <th>종목코드</th>\n",
              "      <th>수량(주)</th>\n",
              "      <th>투자금액(원)</th>\n",
              "      <th>투자비중</th>\n",
              "    </tr>\n",
              "  </thead>\n",
              "  <tbody>\n",
              "    <tr>\n",
              "      <th>0</th>\n",
              "      <td>유안타증권우</td>\n",
              "      <td>003475</td>\n",
              "      <td>341</td>\n",
              "      <td>1512335.0</td>\n",
              "      <td>0.100826</td>\n",
              "    </tr>\n",
              "    <tr>\n",
              "      <th>1</th>\n",
              "      <td>센코</td>\n",
              "      <td>347000</td>\n",
              "      <td>128</td>\n",
              "      <td>2515200.0</td>\n",
              "      <td>0.167685</td>\n",
              "    </tr>\n",
              "    <tr>\n",
              "      <th>2</th>\n",
              "      <td>인텍플러스</td>\n",
              "      <td>064290</td>\n",
              "      <td>504</td>\n",
              "      <td>10911600.0</td>\n",
              "      <td>0.727464</td>\n",
              "    </tr>\n",
              "    <tr>\n",
              "      <th>3</th>\n",
              "      <td>초록뱀미디어</td>\n",
              "      <td>047820</td>\n",
              "      <td>23</td>\n",
              "      <td>60375.0</td>\n",
              "      <td>0.004025</td>\n",
              "    </tr>\n",
              "  </tbody>\n",
              "</table>\n",
              "</div>"
            ],
            "text/plain": [
              "      종목명    종목코드  수량(주)     투자금액(원)      투자비중\n",
              "0  유안타증권우  003475    341   1512335.0  0.100826\n",
              "1      센코  347000    128   2515200.0  0.167685\n",
              "2   인텍플러스  064290    504  10911600.0  0.727464\n",
              "3  초록뱀미디어  047820     23     60375.0  0.004025"
            ]
          },
          "metadata": {
            "tags": []
          },
          "execution_count": 85
        }
      ]
    },
    {
      "cell_type": "code",
      "metadata": {
        "colab": {
          "base_uri": "https://localhost:8080/",
          "height": 171
        },
        "id": "VZ62ZD8e2ooM",
        "outputId": "e15c41ee-6f75-4842-c17e-7e5ebeb2ba2d"
      },
      "source": [
        "# Sort by allocation & Show the portfolio\n",
        "portfolio_df_sorted = portfolio_df.sort_values('투자비중', ascending = False)\n",
        "portfolio_df_sorted = portfolio_df_sorted.reset_index(drop=True)\n",
        "portfolio_df_sorted"
      ],
      "execution_count": 86,
      "outputs": [
        {
          "output_type": "execute_result",
          "data": {
            "text/html": [
              "<div>\n",
              "<style scoped>\n",
              "    .dataframe tbody tr th:only-of-type {\n",
              "        vertical-align: middle;\n",
              "    }\n",
              "\n",
              "    .dataframe tbody tr th {\n",
              "        vertical-align: top;\n",
              "    }\n",
              "\n",
              "    .dataframe thead th {\n",
              "        text-align: right;\n",
              "    }\n",
              "</style>\n",
              "<table border=\"1\" class=\"dataframe\">\n",
              "  <thead>\n",
              "    <tr style=\"text-align: right;\">\n",
              "      <th></th>\n",
              "      <th>종목명</th>\n",
              "      <th>종목코드</th>\n",
              "      <th>수량(주)</th>\n",
              "      <th>투자금액(원)</th>\n",
              "      <th>투자비중</th>\n",
              "    </tr>\n",
              "  </thead>\n",
              "  <tbody>\n",
              "    <tr>\n",
              "      <th>0</th>\n",
              "      <td>인텍플러스</td>\n",
              "      <td>064290</td>\n",
              "      <td>504</td>\n",
              "      <td>10911600.0</td>\n",
              "      <td>0.727464</td>\n",
              "    </tr>\n",
              "    <tr>\n",
              "      <th>1</th>\n",
              "      <td>센코</td>\n",
              "      <td>347000</td>\n",
              "      <td>128</td>\n",
              "      <td>2515200.0</td>\n",
              "      <td>0.167685</td>\n",
              "    </tr>\n",
              "    <tr>\n",
              "      <th>2</th>\n",
              "      <td>유안타증권우</td>\n",
              "      <td>003475</td>\n",
              "      <td>341</td>\n",
              "      <td>1512335.0</td>\n",
              "      <td>0.100826</td>\n",
              "    </tr>\n",
              "    <tr>\n",
              "      <th>3</th>\n",
              "      <td>초록뱀미디어</td>\n",
              "      <td>047820</td>\n",
              "      <td>23</td>\n",
              "      <td>60375.0</td>\n",
              "      <td>0.004025</td>\n",
              "    </tr>\n",
              "  </tbody>\n",
              "</table>\n",
              "</div>"
            ],
            "text/plain": [
              "      종목명    종목코드  수량(주)     투자금액(원)      투자비중\n",
              "0   인텍플러스  064290    504  10911600.0  0.727464\n",
              "1      센코  347000    128   2515200.0  0.167685\n",
              "2  유안타증권우  003475    341   1512335.0  0.100826\n",
              "3  초록뱀미디어  047820     23     60375.0  0.004025"
            ]
          },
          "metadata": {
            "tags": []
          },
          "execution_count": 86
        }
      ]
    },
    {
      "cell_type": "markdown",
      "metadata": {
        "id": "o25Ifzm2wuOP"
      },
      "source": [
        "### 투자 금액에 따라 최적화된 포트폴리오의 종목별 수량"
      ]
    },
    {
      "cell_type": "code",
      "metadata": {
        "colab": {
          "base_uri": "https://localhost:8080/",
          "height": 257
        },
        "id": "fq74oPc0gP0Y",
        "outputId": "33e5a2c7-6681-438a-aa09-cf60378d7ea1"
      },
      "source": [
        "portfolio_df_sorted.loc[\"합계\",2:] = portfolio_df_sorted.sum()\n",
        "portfolio_df_sorted"
      ],
      "execution_count": 87,
      "outputs": [
        {
          "output_type": "stream",
          "text": [
            "/usr/local/lib/python3.7/dist-packages/ipykernel_launcher.py:1: FutureWarning: Slicing a positional slice with .loc is not supported, and will raise TypeError in a future version.  Use .loc with labels or .iloc with positions instead.\n",
            "  \"\"\"Entry point for launching an IPython kernel.\n"
          ],
          "name": "stderr"
        },
        {
          "output_type": "execute_result",
          "data": {
            "text/html": [
              "<div>\n",
              "<style scoped>\n",
              "    .dataframe tbody tr th:only-of-type {\n",
              "        vertical-align: middle;\n",
              "    }\n",
              "\n",
              "    .dataframe tbody tr th {\n",
              "        vertical-align: top;\n",
              "    }\n",
              "\n",
              "    .dataframe thead th {\n",
              "        text-align: right;\n",
              "    }\n",
              "</style>\n",
              "<table border=\"1\" class=\"dataframe\">\n",
              "  <thead>\n",
              "    <tr style=\"text-align: right;\">\n",
              "      <th></th>\n",
              "      <th>종목명</th>\n",
              "      <th>종목코드</th>\n",
              "      <th>수량(주)</th>\n",
              "      <th>투자금액(원)</th>\n",
              "      <th>투자비중</th>\n",
              "    </tr>\n",
              "  </thead>\n",
              "  <tbody>\n",
              "    <tr>\n",
              "      <th>0</th>\n",
              "      <td>인텍플러스</td>\n",
              "      <td>064290</td>\n",
              "      <td>504.0</td>\n",
              "      <td>10911600.0</td>\n",
              "      <td>0.727464</td>\n",
              "    </tr>\n",
              "    <tr>\n",
              "      <th>1</th>\n",
              "      <td>센코</td>\n",
              "      <td>347000</td>\n",
              "      <td>128.0</td>\n",
              "      <td>2515200.0</td>\n",
              "      <td>0.167685</td>\n",
              "    </tr>\n",
              "    <tr>\n",
              "      <th>2</th>\n",
              "      <td>유안타증권우</td>\n",
              "      <td>003475</td>\n",
              "      <td>341.0</td>\n",
              "      <td>1512335.0</td>\n",
              "      <td>0.100826</td>\n",
              "    </tr>\n",
              "    <tr>\n",
              "      <th>3</th>\n",
              "      <td>초록뱀미디어</td>\n",
              "      <td>047820</td>\n",
              "      <td>23.0</td>\n",
              "      <td>60375.0</td>\n",
              "      <td>0.004025</td>\n",
              "    </tr>\n",
              "    <tr>\n",
              "      <th>합계</th>\n",
              "      <td>NaN</td>\n",
              "      <td>NaN</td>\n",
              "      <td>996.0</td>\n",
              "      <td>14999510.0</td>\n",
              "      <td>1.000000</td>\n",
              "    </tr>\n",
              "  </tbody>\n",
              "</table>\n",
              "</div>"
            ],
            "text/plain": [
              "       종목명    종목코드  수량(주)     투자금액(원)      투자비중\n",
              "0    인텍플러스  064290  504.0  10911600.0  0.727464\n",
              "1       센코  347000  128.0   2515200.0  0.167685\n",
              "2   유안타증권우  003475  341.0   1512335.0  0.100826\n",
              "3   초록뱀미디어  047820   23.0     60375.0  0.004025\n",
              "합계     NaN     NaN  996.0  14999510.0  1.000000"
            ]
          },
          "metadata": {
            "tags": []
          },
          "execution_count": 87
        }
      ]
    },
    {
      "cell_type": "markdown",
      "metadata": {
        "id": "WS3XxRjs74s-"
      },
      "source": [
        "#### ver02> 결측값 삭제 ( 12개 종목 )"
      ]
    },
    {
      "cell_type": "code",
      "metadata": {
        "colab": {
          "base_uri": "https://localhost:8080/"
        },
        "id": "ZmdZBA3j9gQI",
        "outputId": "b68c80c0-32a5-4ad9-fd58-1687bc0af6e7"
      },
      "source": [
        "# 각 종목별 실제 투자 금액\n",
        "inv_total_price2 = {}\n",
        "\n",
        "for i in allocation2.keys():\n",
        "  inv_total_price2[i] = latest_prices2.loc[i]*allocation2[i]\n",
        "inv_total_price2"
      ],
      "execution_count": 88,
      "outputs": [
        {
          "output_type": "execute_result",
          "data": {
            "text/plain": [
              "{'003475': 2319505, '047820': 94500, '064290': 12578650}"
            ]
          },
          "metadata": {
            "tags": []
          },
          "execution_count": 88
        }
      ]
    },
    {
      "cell_type": "code",
      "metadata": {
        "colab": {
          "base_uri": "https://localhost:8080/"
        },
        "id": "g7Q-SxBG9gQK",
        "outputId": "90e58b55-4ddc-49e5-8ee4-f025467ccc29"
      },
      "source": [
        "# 총 투자금액\n",
        "investment2 = 0\n",
        "\n",
        "for i in inv_total_price2.values():\n",
        "    investment2 += i\n",
        "print(investment2)"
      ],
      "execution_count": 89,
      "outputs": [
        {
          "output_type": "stream",
          "text": [
            "14992655\n"
          ],
          "name": "stdout"
        }
      ]
    },
    {
      "cell_type": "code",
      "metadata": {
        "colab": {
          "base_uri": "https://localhost:8080/"
        },
        "id": "8pWQsHiX9gQK",
        "outputId": "f19cf748-91cf-4455-fb74-feff4f01c065"
      },
      "source": [
        "portfolio_val-leftover2"
      ],
      "execution_count": 90,
      "outputs": [
        {
          "output_type": "execute_result",
          "data": {
            "text/plain": [
              "14992655.0"
            ]
          },
          "metadata": {
            "tags": []
          },
          "execution_count": 90
        }
      ]
    },
    {
      "cell_type": "code",
      "metadata": {
        "colab": {
          "base_uri": "https://localhost:8080/"
        },
        "id": "0XgOo5ho9gQK",
        "outputId": "13426836-d2c8-495c-a720-356041a9f9da"
      },
      "source": [
        "# 각 종목별 실제 투자 비중\n",
        "inv_total_weight2 = {}\n",
        "\n",
        "for i in allocation2.keys():\n",
        "  inv_total_weight2[i] = inv_total_price2[i]/investment2\n",
        "inv_total_weight2"
      ],
      "execution_count": 91,
      "outputs": [
        {
          "output_type": "execute_result",
          "data": {
            "text/plain": [
              "{'003475': 0.15470942271398894,\n",
              " '047820': 0.006303086411312739,\n",
              " '064290': 0.8389874908746983}"
            ]
          },
          "metadata": {
            "tags": []
          },
          "execution_count": 91
        }
      ]
    },
    {
      "cell_type": "code",
      "metadata": {
        "colab": {
          "base_uri": "https://localhost:8080/"
        },
        "id": "FG-sEqlS9gQK",
        "outputId": "a6ee63be-0958-4795-f6ba-bed9f1d21b5a"
      },
      "source": [
        "# 투자비중의 합계\n",
        "investment_w2 = 0\n",
        "\n",
        "for i in inv_total_weight2.values():\n",
        "    investment_w2 += i\n",
        "print(investment_w2)"
      ],
      "execution_count": 92,
      "outputs": [
        {
          "output_type": "stream",
          "text": [
            "0.9999999999999999\n"
          ],
          "name": "stdout"
        }
      ]
    },
    {
      "cell_type": "code",
      "metadata": {
        "id": "nJvpLFHr9gQL"
      },
      "source": [
        "# 결과값으로 불러올 값을 리스트로 저장\n",
        "name_list2 = []                    # 종목명(회사이름)\n",
        "total_price_stock2 =[]             # 각 종목별 실제 투자 금액\n",
        "total_weight_stock2 = []           # 각 종목별 실제 투자 비중\n",
        "\n",
        "for i in allocation2.keys(): # i = 포트폴리오에 할당된 종목의 종목코드\n",
        "    name_list2.append(code_name_dict.get(i))\n",
        "    total_price_stock2.append(inv_total_price2.get(i))\n",
        "    total_weight_stock2.append(inv_total_weight2.get(i))"
      ],
      "execution_count": 93,
      "outputs": []
    },
    {
      "cell_type": "code",
      "metadata": {
        "colab": {
          "base_uri": "https://localhost:8080/"
        },
        "id": "zBO5BhQI9gQL",
        "outputId": "1c22991f-911c-4d23-d91a-23f6662c3349"
      },
      "source": [
        "name_list2"
      ],
      "execution_count": 94,
      "outputs": [
        {
          "output_type": "execute_result",
          "data": {
            "text/plain": [
              "['유안타증권우', '인텍플러스', '초록뱀미디어']"
            ]
          },
          "metadata": {
            "tags": []
          },
          "execution_count": 94
        }
      ]
    },
    {
      "cell_type": "code",
      "metadata": {
        "colab": {
          "base_uri": "https://localhost:8080/"
        },
        "id": "_nwv0G2U9gQL",
        "outputId": "7bc4977c-21c8-45d2-f881-fc7da4f63b89"
      },
      "source": [
        "total_price_stock2"
      ],
      "execution_count": 95,
      "outputs": [
        {
          "output_type": "execute_result",
          "data": {
            "text/plain": [
              "[2319505, 12578650, 94500]"
            ]
          },
          "metadata": {
            "tags": []
          },
          "execution_count": 95
        }
      ]
    },
    {
      "cell_type": "code",
      "metadata": {
        "colab": {
          "base_uri": "https://localhost:8080/"
        },
        "id": "QFHbozeW9gQL",
        "outputId": "77177a0b-1c76-449c-f4d5-94f2a00ac840"
      },
      "source": [
        "total_weight_stock2"
      ],
      "execution_count": 96,
      "outputs": [
        {
          "output_type": "execute_result",
          "data": {
            "text/plain": [
              "[0.15470942271398894, 0.8389874908746983, 0.006303086411312739]"
            ]
          },
          "metadata": {
            "tags": []
          },
          "execution_count": 96
        }
      ]
    },
    {
      "cell_type": "code",
      "metadata": {
        "id": "dqFQehf59gQM"
      },
      "source": [
        "# Get the discrete allocation values\n",
        "discrete_allocation_list2 = []\n",
        "for symbol in allocation2:\n",
        "  discrete_allocation_list2.append(allocation2.get(symbol))"
      ],
      "execution_count": 97,
      "outputs": []
    },
    {
      "cell_type": "code",
      "metadata": {
        "colab": {
          "base_uri": "https://localhost:8080/"
        },
        "id": "8YaU55Ep9gQM",
        "outputId": "53d9f71e-1e51-4d7a-c432-cf86a07afb3f"
      },
      "source": [
        "discrete_allocation_list2"
      ],
      "execution_count": 98,
      "outputs": [
        {
          "output_type": "execute_result",
          "data": {
            "text/plain": [
              "[523, 581, 36]"
            ]
          },
          "metadata": {
            "tags": []
          },
          "execution_count": 98
        }
      ]
    },
    {
      "cell_type": "code",
      "metadata": {
        "colab": {
          "base_uri": "https://localhost:8080/",
          "height": 48
        },
        "id": "YMJNHBj09gQM",
        "outputId": "49942bcf-b131-45e4-807d-7aaa040aa6bb"
      },
      "source": [
        "# Create a dataframe for the portfolio\n",
        "portfolio_df2 = pd.DataFrame(columns = ['종목명','종목코드','수량(주)', '투자금액(원)','투자비중'])\n",
        "portfolio_df2"
      ],
      "execution_count": 99,
      "outputs": [
        {
          "output_type": "execute_result",
          "data": {
            "text/html": [
              "<div>\n",
              "<style scoped>\n",
              "    .dataframe tbody tr th:only-of-type {\n",
              "        vertical-align: middle;\n",
              "    }\n",
              "\n",
              "    .dataframe tbody tr th {\n",
              "        vertical-align: top;\n",
              "    }\n",
              "\n",
              "    .dataframe thead th {\n",
              "        text-align: right;\n",
              "    }\n",
              "</style>\n",
              "<table border=\"1\" class=\"dataframe\">\n",
              "  <thead>\n",
              "    <tr style=\"text-align: right;\">\n",
              "      <th></th>\n",
              "      <th>종목명</th>\n",
              "      <th>종목코드</th>\n",
              "      <th>수량(주)</th>\n",
              "      <th>투자금액(원)</th>\n",
              "      <th>투자비중</th>\n",
              "    </tr>\n",
              "  </thead>\n",
              "  <tbody>\n",
              "  </tbody>\n",
              "</table>\n",
              "</div>"
            ],
            "text/plain": [
              "Empty DataFrame\n",
              "Columns: [종목명, 종목코드, 수량(주), 투자금액(원), 투자비중]\n",
              "Index: []"
            ]
          },
          "metadata": {
            "tags": []
          },
          "execution_count": 99
        }
      ]
    },
    {
      "cell_type": "code",
      "metadata": {
        "id": "K69FIPiA9gQM"
      },
      "source": [
        "# portfolio_df['Company_name'] = company_name\n",
        "portfolio_df2['종목명'] = name_list2\n",
        "portfolio_df2['종목코드'] = allocation2\n",
        "portfolio_df2['수량(주)'] = discrete_allocation_list2\n",
        "portfolio_df2['투자금액(원)'] = total_price_stock2\n",
        "portfolio_df2['투자비중'] = total_weight_stock2"
      ],
      "execution_count": 100,
      "outputs": []
    },
    {
      "cell_type": "code",
      "metadata": {
        "colab": {
          "base_uri": "https://localhost:8080/",
          "height": 141
        },
        "scrolled": true,
        "id": "9CEawCcZ9gQM",
        "outputId": "a88fa1a1-a7c4-48ea-a1ab-6b1db4494e32"
      },
      "source": [
        "portfolio_df2"
      ],
      "execution_count": 101,
      "outputs": [
        {
          "output_type": "execute_result",
          "data": {
            "text/html": [
              "<div>\n",
              "<style scoped>\n",
              "    .dataframe tbody tr th:only-of-type {\n",
              "        vertical-align: middle;\n",
              "    }\n",
              "\n",
              "    .dataframe tbody tr th {\n",
              "        vertical-align: top;\n",
              "    }\n",
              "\n",
              "    .dataframe thead th {\n",
              "        text-align: right;\n",
              "    }\n",
              "</style>\n",
              "<table border=\"1\" class=\"dataframe\">\n",
              "  <thead>\n",
              "    <tr style=\"text-align: right;\">\n",
              "      <th></th>\n",
              "      <th>종목명</th>\n",
              "      <th>종목코드</th>\n",
              "      <th>수량(주)</th>\n",
              "      <th>투자금액(원)</th>\n",
              "      <th>투자비중</th>\n",
              "    </tr>\n",
              "  </thead>\n",
              "  <tbody>\n",
              "    <tr>\n",
              "      <th>0</th>\n",
              "      <td>유안타증권우</td>\n",
              "      <td>003475</td>\n",
              "      <td>523</td>\n",
              "      <td>2319505</td>\n",
              "      <td>0.154709</td>\n",
              "    </tr>\n",
              "    <tr>\n",
              "      <th>1</th>\n",
              "      <td>인텍플러스</td>\n",
              "      <td>064290</td>\n",
              "      <td>581</td>\n",
              "      <td>12578650</td>\n",
              "      <td>0.838987</td>\n",
              "    </tr>\n",
              "    <tr>\n",
              "      <th>2</th>\n",
              "      <td>초록뱀미디어</td>\n",
              "      <td>047820</td>\n",
              "      <td>36</td>\n",
              "      <td>94500</td>\n",
              "      <td>0.006303</td>\n",
              "    </tr>\n",
              "  </tbody>\n",
              "</table>\n",
              "</div>"
            ],
            "text/plain": [
              "      종목명    종목코드  수량(주)   투자금액(원)      투자비중\n",
              "0  유안타증권우  003475    523   2319505  0.154709\n",
              "1   인텍플러스  064290    581  12578650  0.838987\n",
              "2  초록뱀미디어  047820     36     94500  0.006303"
            ]
          },
          "metadata": {
            "tags": []
          },
          "execution_count": 101
        }
      ]
    },
    {
      "cell_type": "code",
      "metadata": {
        "colab": {
          "base_uri": "https://localhost:8080/",
          "height": 141
        },
        "id": "M1-p-Rno9gQM",
        "outputId": "2f04c0c8-4359-40e2-cd87-9257880930f7"
      },
      "source": [
        "# Sort by allocation & Show the portfolio\n",
        "portfolio_df_sorted2 = portfolio_df2.sort_values('투자비중', ascending = False)\n",
        "portfolio_df_sorted2 = portfolio_df_sorted2.reset_index(drop=True)\n",
        "portfolio_df_sorted2"
      ],
      "execution_count": 102,
      "outputs": [
        {
          "output_type": "execute_result",
          "data": {
            "text/html": [
              "<div>\n",
              "<style scoped>\n",
              "    .dataframe tbody tr th:only-of-type {\n",
              "        vertical-align: middle;\n",
              "    }\n",
              "\n",
              "    .dataframe tbody tr th {\n",
              "        vertical-align: top;\n",
              "    }\n",
              "\n",
              "    .dataframe thead th {\n",
              "        text-align: right;\n",
              "    }\n",
              "</style>\n",
              "<table border=\"1\" class=\"dataframe\">\n",
              "  <thead>\n",
              "    <tr style=\"text-align: right;\">\n",
              "      <th></th>\n",
              "      <th>종목명</th>\n",
              "      <th>종목코드</th>\n",
              "      <th>수량(주)</th>\n",
              "      <th>투자금액(원)</th>\n",
              "      <th>투자비중</th>\n",
              "    </tr>\n",
              "  </thead>\n",
              "  <tbody>\n",
              "    <tr>\n",
              "      <th>0</th>\n",
              "      <td>인텍플러스</td>\n",
              "      <td>064290</td>\n",
              "      <td>581</td>\n",
              "      <td>12578650</td>\n",
              "      <td>0.838987</td>\n",
              "    </tr>\n",
              "    <tr>\n",
              "      <th>1</th>\n",
              "      <td>유안타증권우</td>\n",
              "      <td>003475</td>\n",
              "      <td>523</td>\n",
              "      <td>2319505</td>\n",
              "      <td>0.154709</td>\n",
              "    </tr>\n",
              "    <tr>\n",
              "      <th>2</th>\n",
              "      <td>초록뱀미디어</td>\n",
              "      <td>047820</td>\n",
              "      <td>36</td>\n",
              "      <td>94500</td>\n",
              "      <td>0.006303</td>\n",
              "    </tr>\n",
              "  </tbody>\n",
              "</table>\n",
              "</div>"
            ],
            "text/plain": [
              "      종목명    종목코드  수량(주)   투자금액(원)      투자비중\n",
              "0   인텍플러스  064290    581  12578650  0.838987\n",
              "1  유안타증권우  003475    523   2319505  0.154709\n",
              "2  초록뱀미디어  047820     36     94500  0.006303"
            ]
          },
          "metadata": {
            "tags": []
          },
          "execution_count": 102
        }
      ]
    },
    {
      "cell_type": "markdown",
      "metadata": {
        "id": "q2qxsYGE9gQN"
      },
      "source": [
        "### 투자 금액에 따라 최적화된 포트폴리오의 종목별 수량"
      ]
    },
    {
      "cell_type": "code",
      "metadata": {
        "colab": {
          "base_uri": "https://localhost:8080/",
          "height": 226
        },
        "id": "1bcWJz0B9gQN",
        "outputId": "6667dc88-95a4-45d7-c301-50fb81f19c28"
      },
      "source": [
        "portfolio_df_sorted2.loc[\"합계\",2:] = portfolio_df_sorted2.sum()\n",
        "portfolio_df_sorted2"
      ],
      "execution_count": 103,
      "outputs": [
        {
          "output_type": "stream",
          "text": [
            "/usr/local/lib/python3.7/dist-packages/ipykernel_launcher.py:1: FutureWarning: Slicing a positional slice with .loc is not supported, and will raise TypeError in a future version.  Use .loc with labels or .iloc with positions instead.\n",
            "  \"\"\"Entry point for launching an IPython kernel.\n"
          ],
          "name": "stderr"
        },
        {
          "output_type": "execute_result",
          "data": {
            "text/html": [
              "<div>\n",
              "<style scoped>\n",
              "    .dataframe tbody tr th:only-of-type {\n",
              "        vertical-align: middle;\n",
              "    }\n",
              "\n",
              "    .dataframe tbody tr th {\n",
              "        vertical-align: top;\n",
              "    }\n",
              "\n",
              "    .dataframe thead th {\n",
              "        text-align: right;\n",
              "    }\n",
              "</style>\n",
              "<table border=\"1\" class=\"dataframe\">\n",
              "  <thead>\n",
              "    <tr style=\"text-align: right;\">\n",
              "      <th></th>\n",
              "      <th>종목명</th>\n",
              "      <th>종목코드</th>\n",
              "      <th>수량(주)</th>\n",
              "      <th>투자금액(원)</th>\n",
              "      <th>투자비중</th>\n",
              "    </tr>\n",
              "  </thead>\n",
              "  <tbody>\n",
              "    <tr>\n",
              "      <th>0</th>\n",
              "      <td>인텍플러스</td>\n",
              "      <td>064290</td>\n",
              "      <td>581.0</td>\n",
              "      <td>12578650.0</td>\n",
              "      <td>0.838987</td>\n",
              "    </tr>\n",
              "    <tr>\n",
              "      <th>1</th>\n",
              "      <td>유안타증권우</td>\n",
              "      <td>003475</td>\n",
              "      <td>523.0</td>\n",
              "      <td>2319505.0</td>\n",
              "      <td>0.154709</td>\n",
              "    </tr>\n",
              "    <tr>\n",
              "      <th>2</th>\n",
              "      <td>초록뱀미디어</td>\n",
              "      <td>047820</td>\n",
              "      <td>36.0</td>\n",
              "      <td>94500.0</td>\n",
              "      <td>0.006303</td>\n",
              "    </tr>\n",
              "    <tr>\n",
              "      <th>합계</th>\n",
              "      <td>NaN</td>\n",
              "      <td>NaN</td>\n",
              "      <td>1140.0</td>\n",
              "      <td>14992655.0</td>\n",
              "      <td>1.000000</td>\n",
              "    </tr>\n",
              "  </tbody>\n",
              "</table>\n",
              "</div>"
            ],
            "text/plain": [
              "       종목명    종목코드   수량(주)     투자금액(원)      투자비중\n",
              "0    인텍플러스  064290   581.0  12578650.0  0.838987\n",
              "1   유안타증권우  003475   523.0   2319505.0  0.154709\n",
              "2   초록뱀미디어  047820    36.0     94500.0  0.006303\n",
              "합계     NaN     NaN  1140.0  14992655.0  1.000000"
            ]
          },
          "metadata": {
            "tags": []
          },
          "execution_count": 103
        }
      ]
    },
    {
      "cell_type": "markdown",
      "metadata": {
        "id": "1ddexOv3dgCE"
      },
      "source": [
        "# 포트폴리오의 수익률과 변동성을 벤치마크지수(KOSPI)와 비교"
      ]
    },
    {
      "cell_type": "markdown",
      "metadata": {
        "id": "pugipPRp_vn0"
      },
      "source": [
        "#### ver01> 결측값 삭제 ( 20개 종목 )"
      ]
    },
    {
      "cell_type": "code",
      "metadata": {
        "colab": {
          "base_uri": "https://localhost:8080/",
          "height": 632
        },
        "id": "9EKJffHr_0_g",
        "outputId": "9f67caa7-d429-4241-e079-ae14029fd58e"
      },
      "source": [
        "df"
      ],
      "execution_count": 104,
      "outputs": [
        {
          "output_type": "execute_result",
          "data": {
            "text/html": [
              "<div>\n",
              "<style scoped>\n",
              "    .dataframe tbody tr th:only-of-type {\n",
              "        vertical-align: middle;\n",
              "    }\n",
              "\n",
              "    .dataframe tbody tr th {\n",
              "        vertical-align: top;\n",
              "    }\n",
              "\n",
              "    .dataframe thead th {\n",
              "        text-align: right;\n",
              "    }\n",
              "</style>\n",
              "<table border=\"1\" class=\"dataframe\">\n",
              "  <thead>\n",
              "    <tr style=\"text-align: right;\">\n",
              "      <th></th>\n",
              "      <th>011420</th>\n",
              "      <th>003475</th>\n",
              "      <th>063440</th>\n",
              "      <th>348030</th>\n",
              "      <th>006920</th>\n",
              "      <th>122350</th>\n",
              "      <th>357550</th>\n",
              "      <th>043260</th>\n",
              "      <th>347000</th>\n",
              "      <th>356890</th>\n",
              "      <th>225330</th>\n",
              "      <th>032080</th>\n",
              "      <th>048830</th>\n",
              "      <th>153710</th>\n",
              "      <th>313760</th>\n",
              "      <th>303530</th>\n",
              "      <th>064290</th>\n",
              "      <th>049630</th>\n",
              "      <th>047820</th>\n",
              "      <th>163730</th>\n",
              "    </tr>\n",
              "    <tr>\n",
              "      <th>Date</th>\n",
              "      <th></th>\n",
              "      <th></th>\n",
              "      <th></th>\n",
              "      <th></th>\n",
              "      <th></th>\n",
              "      <th></th>\n",
              "      <th></th>\n",
              "      <th></th>\n",
              "      <th></th>\n",
              "      <th></th>\n",
              "      <th></th>\n",
              "      <th></th>\n",
              "      <th></th>\n",
              "      <th></th>\n",
              "      <th></th>\n",
              "      <th></th>\n",
              "      <th></th>\n",
              "      <th></th>\n",
              "      <th></th>\n",
              "      <th></th>\n",
              "    </tr>\n",
              "  </thead>\n",
              "  <tbody>\n",
              "    <tr>\n",
              "      <th>2018-07-19</th>\n",
              "      <td>1885</td>\n",
              "      <td>2305</td>\n",
              "      <td>2110</td>\n",
              "      <td>NaN</td>\n",
              "      <td>5530</td>\n",
              "      <td>3075</td>\n",
              "      <td>NaN</td>\n",
              "      <td>1140</td>\n",
              "      <td>NaN</td>\n",
              "      <td>NaN</td>\n",
              "      <td>7970</td>\n",
              "      <td>1970</td>\n",
              "      <td>2060</td>\n",
              "      <td>NaN</td>\n",
              "      <td>NaN</td>\n",
              "      <td>NaN</td>\n",
              "      <td>3570</td>\n",
              "      <td>1472</td>\n",
              "      <td>1393</td>\n",
              "      <td>NaN</td>\n",
              "    </tr>\n",
              "    <tr>\n",
              "      <th>2018-07-20</th>\n",
              "      <td>1880</td>\n",
              "      <td>2285</td>\n",
              "      <td>2000</td>\n",
              "      <td>NaN</td>\n",
              "      <td>5540</td>\n",
              "      <td>3060</td>\n",
              "      <td>NaN</td>\n",
              "      <td>1085</td>\n",
              "      <td>NaN</td>\n",
              "      <td>NaN</td>\n",
              "      <td>7960</td>\n",
              "      <td>1900</td>\n",
              "      <td>2050</td>\n",
              "      <td>NaN</td>\n",
              "      <td>NaN</td>\n",
              "      <td>NaN</td>\n",
              "      <td>3540</td>\n",
              "      <td>1434</td>\n",
              "      <td>1398</td>\n",
              "      <td>NaN</td>\n",
              "    </tr>\n",
              "    <tr>\n",
              "      <th>2018-07-23</th>\n",
              "      <td>1855</td>\n",
              "      <td>2305</td>\n",
              "      <td>1900</td>\n",
              "      <td>NaN</td>\n",
              "      <td>5180</td>\n",
              "      <td>3005</td>\n",
              "      <td>NaN</td>\n",
              "      <td>1040</td>\n",
              "      <td>NaN</td>\n",
              "      <td>NaN</td>\n",
              "      <td>7800</td>\n",
              "      <td>1840</td>\n",
              "      <td>1960</td>\n",
              "      <td>NaN</td>\n",
              "      <td>NaN</td>\n",
              "      <td>NaN</td>\n",
              "      <td>3335</td>\n",
              "      <td>1351</td>\n",
              "      <td>1302</td>\n",
              "      <td>NaN</td>\n",
              "    </tr>\n",
              "    <tr>\n",
              "      <th>2018-07-24</th>\n",
              "      <td>1850</td>\n",
              "      <td>2325</td>\n",
              "      <td>1960</td>\n",
              "      <td>NaN</td>\n",
              "      <td>5450</td>\n",
              "      <td>2985</td>\n",
              "      <td>NaN</td>\n",
              "      <td>1085</td>\n",
              "      <td>NaN</td>\n",
              "      <td>NaN</td>\n",
              "      <td>7940</td>\n",
              "      <td>1865</td>\n",
              "      <td>2015</td>\n",
              "      <td>NaN</td>\n",
              "      <td>NaN</td>\n",
              "      <td>NaN</td>\n",
              "      <td>3435</td>\n",
              "      <td>1458</td>\n",
              "      <td>1316</td>\n",
              "      <td>NaN</td>\n",
              "    </tr>\n",
              "    <tr>\n",
              "      <th>2018-07-25</th>\n",
              "      <td>1820</td>\n",
              "      <td>2320</td>\n",
              "      <td>1925</td>\n",
              "      <td>NaN</td>\n",
              "      <td>5530</td>\n",
              "      <td>3050</td>\n",
              "      <td>NaN</td>\n",
              "      <td>1070</td>\n",
              "      <td>NaN</td>\n",
              "      <td>NaN</td>\n",
              "      <td>7920</td>\n",
              "      <td>1830</td>\n",
              "      <td>1980</td>\n",
              "      <td>NaN</td>\n",
              "      <td>NaN</td>\n",
              "      <td>NaN</td>\n",
              "      <td>3425</td>\n",
              "      <td>1393</td>\n",
              "      <td>1288</td>\n",
              "      <td>NaN</td>\n",
              "    </tr>\n",
              "    <tr>\n",
              "      <th>...</th>\n",
              "      <td>...</td>\n",
              "      <td>...</td>\n",
              "      <td>...</td>\n",
              "      <td>...</td>\n",
              "      <td>...</td>\n",
              "      <td>...</td>\n",
              "      <td>...</td>\n",
              "      <td>...</td>\n",
              "      <td>...</td>\n",
              "      <td>...</td>\n",
              "      <td>...</td>\n",
              "      <td>...</td>\n",
              "      <td>...</td>\n",
              "      <td>...</td>\n",
              "      <td>...</td>\n",
              "      <td>...</td>\n",
              "      <td>...</td>\n",
              "      <td>...</td>\n",
              "      <td>...</td>\n",
              "      <td>...</td>\n",
              "    </tr>\n",
              "    <tr>\n",
              "      <th>2021-07-13</th>\n",
              "      <td>1950</td>\n",
              "      <td>4650</td>\n",
              "      <td>2775</td>\n",
              "      <td>20900.0</td>\n",
              "      <td>6000</td>\n",
              "      <td>4175</td>\n",
              "      <td>20550.0</td>\n",
              "      <td>1675</td>\n",
              "      <td>19450.0</td>\n",
              "      <td>14750.0</td>\n",
              "      <td>7450</td>\n",
              "      <td>3025</td>\n",
              "      <td>2340</td>\n",
              "      <td>15000.0</td>\n",
              "      <td>13650.0</td>\n",
              "      <td>15500.0</td>\n",
              "      <td>22200</td>\n",
              "      <td>1030</td>\n",
              "      <td>2460</td>\n",
              "      <td>19900.0</td>\n",
              "    </tr>\n",
              "    <tr>\n",
              "      <th>2021-07-14</th>\n",
              "      <td>1900</td>\n",
              "      <td>4580</td>\n",
              "      <td>2775</td>\n",
              "      <td>20600.0</td>\n",
              "      <td>5970</td>\n",
              "      <td>4220</td>\n",
              "      <td>21550.0</td>\n",
              "      <td>1720</td>\n",
              "      <td>19300.0</td>\n",
              "      <td>14600.0</td>\n",
              "      <td>7490</td>\n",
              "      <td>3025</td>\n",
              "      <td>2375</td>\n",
              "      <td>14850.0</td>\n",
              "      <td>13500.0</td>\n",
              "      <td>15950.0</td>\n",
              "      <td>21900</td>\n",
              "      <td>1050</td>\n",
              "      <td>2500</td>\n",
              "      <td>19800.0</td>\n",
              "    </tr>\n",
              "    <tr>\n",
              "      <th>2021-07-15</th>\n",
              "      <td>1895</td>\n",
              "      <td>4580</td>\n",
              "      <td>2765</td>\n",
              "      <td>20750.0</td>\n",
              "      <td>5970</td>\n",
              "      <td>4205</td>\n",
              "      <td>21450.0</td>\n",
              "      <td>1720</td>\n",
              "      <td>19650.0</td>\n",
              "      <td>14800.0</td>\n",
              "      <td>7790</td>\n",
              "      <td>3000</td>\n",
              "      <td>3085</td>\n",
              "      <td>14800.0</td>\n",
              "      <td>13500.0</td>\n",
              "      <td>15750.0</td>\n",
              "      <td>22600</td>\n",
              "      <td>1100</td>\n",
              "      <td>2470</td>\n",
              "      <td>19750.0</td>\n",
              "    </tr>\n",
              "    <tr>\n",
              "      <th>2021-07-16</th>\n",
              "      <td>1945</td>\n",
              "      <td>4535</td>\n",
              "      <td>2780</td>\n",
              "      <td>20950.0</td>\n",
              "      <td>5990</td>\n",
              "      <td>4160</td>\n",
              "      <td>21650.0</td>\n",
              "      <td>1700</td>\n",
              "      <td>19750.0</td>\n",
              "      <td>14650.0</td>\n",
              "      <td>7810</td>\n",
              "      <td>2980</td>\n",
              "      <td>3065</td>\n",
              "      <td>14300.0</td>\n",
              "      <td>13350.0</td>\n",
              "      <td>16050.0</td>\n",
              "      <td>22200</td>\n",
              "      <td>1085</td>\n",
              "      <td>2515</td>\n",
              "      <td>19550.0</td>\n",
              "    </tr>\n",
              "    <tr>\n",
              "      <th>2021-07-19</th>\n",
              "      <td>1885</td>\n",
              "      <td>4435</td>\n",
              "      <td>2760</td>\n",
              "      <td>20750.0</td>\n",
              "      <td>5790</td>\n",
              "      <td>4215</td>\n",
              "      <td>21600.0</td>\n",
              "      <td>1690</td>\n",
              "      <td>19650.0</td>\n",
              "      <td>14700.0</td>\n",
              "      <td>7580</td>\n",
              "      <td>2930</td>\n",
              "      <td>3010</td>\n",
              "      <td>13600.0</td>\n",
              "      <td>13300.0</td>\n",
              "      <td>15800.0</td>\n",
              "      <td>21650</td>\n",
              "      <td>1055</td>\n",
              "      <td>2625</td>\n",
              "      <td>19600.0</td>\n",
              "    </tr>\n",
              "  </tbody>\n",
              "</table>\n",
              "<p>740 rows × 20 columns</p>\n",
              "</div>"
            ],
            "text/plain": [
              "            011420  003475  063440   348030  ...  064290  049630  047820   163730\n",
              "Date                                         ...                                 \n",
              "2018-07-19    1885    2305    2110      NaN  ...    3570    1472    1393      NaN\n",
              "2018-07-20    1880    2285    2000      NaN  ...    3540    1434    1398      NaN\n",
              "2018-07-23    1855    2305    1900      NaN  ...    3335    1351    1302      NaN\n",
              "2018-07-24    1850    2325    1960      NaN  ...    3435    1458    1316      NaN\n",
              "2018-07-25    1820    2320    1925      NaN  ...    3425    1393    1288      NaN\n",
              "...            ...     ...     ...      ...  ...     ...     ...     ...      ...\n",
              "2021-07-13    1950    4650    2775  20900.0  ...   22200    1030    2460  19900.0\n",
              "2021-07-14    1900    4580    2775  20600.0  ...   21900    1050    2500  19800.0\n",
              "2021-07-15    1895    4580    2765  20750.0  ...   22600    1100    2470  19750.0\n",
              "2021-07-16    1945    4535    2780  20950.0  ...   22200    1085    2515  19550.0\n",
              "2021-07-19    1885    4435    2760  20750.0  ...   21650    1055    2625  19600.0\n",
              "\n",
              "[740 rows x 20 columns]"
            ]
          },
          "metadata": {
            "tags": []
          },
          "execution_count": 104
        }
      ]
    },
    {
      "cell_type": "code",
      "metadata": {
        "colab": {
          "base_uri": "https://localhost:8080/"
        },
        "id": "l0hwGATb_8q9",
        "outputId": "5f367675-bc21-44dc-cfe1-20a880ca400a"
      },
      "source": [
        "cleaned_weights"
      ],
      "execution_count": 105,
      "outputs": [
        {
          "output_type": "execute_result",
          "data": {
            "text/plain": [
              "OrderedDict([('011420', 0.0),\n",
              "             ('003475', 0.10094),\n",
              "             ('063440', 0.0),\n",
              "             ('348030', 0.0),\n",
              "             ('006920', 0.0),\n",
              "             ('122350', 0.0),\n",
              "             ('357550', 0.0),\n",
              "             ('043260', 0.0),\n",
              "             ('347000', 0.16814),\n",
              "             ('356890', 0.0),\n",
              "             ('225330', 0.0),\n",
              "             ('032080', 0.0),\n",
              "             ('048830', 0.0),\n",
              "             ('153710', 0.0),\n",
              "             ('313760', 0.0),\n",
              "             ('303530', 0.0),\n",
              "             ('064290', 0.72696),\n",
              "             ('049630', 0.0),\n",
              "             ('047820', 0.00396),\n",
              "             ('163730', 0.0)])"
            ]
          },
          "metadata": {
            "tags": []
          },
          "execution_count": 105
        }
      ]
    },
    {
      "cell_type": "code",
      "metadata": {
        "colab": {
          "base_uri": "https://localhost:8080/"
        },
        "id": "T_U777XL_8q9",
        "outputId": "db7f4d2c-fc11-4cb8-e2fa-6fedc6e20369"
      },
      "source": [
        "len(cleaned_weights)"
      ],
      "execution_count": 106,
      "outputs": [
        {
          "output_type": "execute_result",
          "data": {
            "text/plain": [
              "20"
            ]
          },
          "metadata": {
            "tags": []
          },
          "execution_count": 106
        }
      ]
    },
    {
      "cell_type": "code",
      "metadata": {
        "id": "mbc5I3TY_8q_"
      },
      "source": [
        "# 각 일자별, 종목별 종가에 해당 weights를 곱해주기\n",
        "for i, weight in cleaned_weights.items():\n",
        "    df[i] = df[i]*weight"
      ],
      "execution_count": 107,
      "outputs": []
    },
    {
      "cell_type": "code",
      "metadata": {
        "colab": {
          "base_uri": "https://localhost:8080/",
          "height": 632
        },
        "id": "MPS1KzE-_8q_",
        "outputId": "de27f369-535a-47de-ebee-6f1b1af03d37"
      },
      "source": [
        "df"
      ],
      "execution_count": 108,
      "outputs": [
        {
          "output_type": "execute_result",
          "data": {
            "text/html": [
              "<div>\n",
              "<style scoped>\n",
              "    .dataframe tbody tr th:only-of-type {\n",
              "        vertical-align: middle;\n",
              "    }\n",
              "\n",
              "    .dataframe tbody tr th {\n",
              "        vertical-align: top;\n",
              "    }\n",
              "\n",
              "    .dataframe thead th {\n",
              "        text-align: right;\n",
              "    }\n",
              "</style>\n",
              "<table border=\"1\" class=\"dataframe\">\n",
              "  <thead>\n",
              "    <tr style=\"text-align: right;\">\n",
              "      <th></th>\n",
              "      <th>011420</th>\n",
              "      <th>003475</th>\n",
              "      <th>063440</th>\n",
              "      <th>348030</th>\n",
              "      <th>006920</th>\n",
              "      <th>122350</th>\n",
              "      <th>357550</th>\n",
              "      <th>043260</th>\n",
              "      <th>347000</th>\n",
              "      <th>356890</th>\n",
              "      <th>225330</th>\n",
              "      <th>032080</th>\n",
              "      <th>048830</th>\n",
              "      <th>153710</th>\n",
              "      <th>313760</th>\n",
              "      <th>303530</th>\n",
              "      <th>064290</th>\n",
              "      <th>049630</th>\n",
              "      <th>047820</th>\n",
              "      <th>163730</th>\n",
              "    </tr>\n",
              "    <tr>\n",
              "      <th>Date</th>\n",
              "      <th></th>\n",
              "      <th></th>\n",
              "      <th></th>\n",
              "      <th></th>\n",
              "      <th></th>\n",
              "      <th></th>\n",
              "      <th></th>\n",
              "      <th></th>\n",
              "      <th></th>\n",
              "      <th></th>\n",
              "      <th></th>\n",
              "      <th></th>\n",
              "      <th></th>\n",
              "      <th></th>\n",
              "      <th></th>\n",
              "      <th></th>\n",
              "      <th></th>\n",
              "      <th></th>\n",
              "      <th></th>\n",
              "      <th></th>\n",
              "    </tr>\n",
              "  </thead>\n",
              "  <tbody>\n",
              "    <tr>\n",
              "      <th>2018-07-19</th>\n",
              "      <td>0.0</td>\n",
              "      <td>232.6667</td>\n",
              "      <td>0.0</td>\n",
              "      <td>NaN</td>\n",
              "      <td>0.0</td>\n",
              "      <td>0.0</td>\n",
              "      <td>NaN</td>\n",
              "      <td>0.0</td>\n",
              "      <td>NaN</td>\n",
              "      <td>NaN</td>\n",
              "      <td>0.0</td>\n",
              "      <td>0.0</td>\n",
              "      <td>0.0</td>\n",
              "      <td>NaN</td>\n",
              "      <td>NaN</td>\n",
              "      <td>NaN</td>\n",
              "      <td>2595.2472</td>\n",
              "      <td>0.0</td>\n",
              "      <td>5.51628</td>\n",
              "      <td>NaN</td>\n",
              "    </tr>\n",
              "    <tr>\n",
              "      <th>2018-07-20</th>\n",
              "      <td>0.0</td>\n",
              "      <td>230.6479</td>\n",
              "      <td>0.0</td>\n",
              "      <td>NaN</td>\n",
              "      <td>0.0</td>\n",
              "      <td>0.0</td>\n",
              "      <td>NaN</td>\n",
              "      <td>0.0</td>\n",
              "      <td>NaN</td>\n",
              "      <td>NaN</td>\n",
              "      <td>0.0</td>\n",
              "      <td>0.0</td>\n",
              "      <td>0.0</td>\n",
              "      <td>NaN</td>\n",
              "      <td>NaN</td>\n",
              "      <td>NaN</td>\n",
              "      <td>2573.4384</td>\n",
              "      <td>0.0</td>\n",
              "      <td>5.53608</td>\n",
              "      <td>NaN</td>\n",
              "    </tr>\n",
              "    <tr>\n",
              "      <th>2018-07-23</th>\n",
              "      <td>0.0</td>\n",
              "      <td>232.6667</td>\n",
              "      <td>0.0</td>\n",
              "      <td>NaN</td>\n",
              "      <td>0.0</td>\n",
              "      <td>0.0</td>\n",
              "      <td>NaN</td>\n",
              "      <td>0.0</td>\n",
              "      <td>NaN</td>\n",
              "      <td>NaN</td>\n",
              "      <td>0.0</td>\n",
              "      <td>0.0</td>\n",
              "      <td>0.0</td>\n",
              "      <td>NaN</td>\n",
              "      <td>NaN</td>\n",
              "      <td>NaN</td>\n",
              "      <td>2424.4116</td>\n",
              "      <td>0.0</td>\n",
              "      <td>5.15592</td>\n",
              "      <td>NaN</td>\n",
              "    </tr>\n",
              "    <tr>\n",
              "      <th>2018-07-24</th>\n",
              "      <td>0.0</td>\n",
              "      <td>234.6855</td>\n",
              "      <td>0.0</td>\n",
              "      <td>NaN</td>\n",
              "      <td>0.0</td>\n",
              "      <td>0.0</td>\n",
              "      <td>NaN</td>\n",
              "      <td>0.0</td>\n",
              "      <td>NaN</td>\n",
              "      <td>NaN</td>\n",
              "      <td>0.0</td>\n",
              "      <td>0.0</td>\n",
              "      <td>0.0</td>\n",
              "      <td>NaN</td>\n",
              "      <td>NaN</td>\n",
              "      <td>NaN</td>\n",
              "      <td>2497.1076</td>\n",
              "      <td>0.0</td>\n",
              "      <td>5.21136</td>\n",
              "      <td>NaN</td>\n",
              "    </tr>\n",
              "    <tr>\n",
              "      <th>2018-07-25</th>\n",
              "      <td>0.0</td>\n",
              "      <td>234.1808</td>\n",
              "      <td>0.0</td>\n",
              "      <td>NaN</td>\n",
              "      <td>0.0</td>\n",
              "      <td>0.0</td>\n",
              "      <td>NaN</td>\n",
              "      <td>0.0</td>\n",
              "      <td>NaN</td>\n",
              "      <td>NaN</td>\n",
              "      <td>0.0</td>\n",
              "      <td>0.0</td>\n",
              "      <td>0.0</td>\n",
              "      <td>NaN</td>\n",
              "      <td>NaN</td>\n",
              "      <td>NaN</td>\n",
              "      <td>2489.8380</td>\n",
              "      <td>0.0</td>\n",
              "      <td>5.10048</td>\n",
              "      <td>NaN</td>\n",
              "    </tr>\n",
              "    <tr>\n",
              "      <th>...</th>\n",
              "      <td>...</td>\n",
              "      <td>...</td>\n",
              "      <td>...</td>\n",
              "      <td>...</td>\n",
              "      <td>...</td>\n",
              "      <td>...</td>\n",
              "      <td>...</td>\n",
              "      <td>...</td>\n",
              "      <td>...</td>\n",
              "      <td>...</td>\n",
              "      <td>...</td>\n",
              "      <td>...</td>\n",
              "      <td>...</td>\n",
              "      <td>...</td>\n",
              "      <td>...</td>\n",
              "      <td>...</td>\n",
              "      <td>...</td>\n",
              "      <td>...</td>\n",
              "      <td>...</td>\n",
              "      <td>...</td>\n",
              "    </tr>\n",
              "    <tr>\n",
              "      <th>2021-07-13</th>\n",
              "      <td>0.0</td>\n",
              "      <td>469.3710</td>\n",
              "      <td>0.0</td>\n",
              "      <td>0.0</td>\n",
              "      <td>0.0</td>\n",
              "      <td>0.0</td>\n",
              "      <td>0.0</td>\n",
              "      <td>0.0</td>\n",
              "      <td>3270.323</td>\n",
              "      <td>0.0</td>\n",
              "      <td>0.0</td>\n",
              "      <td>0.0</td>\n",
              "      <td>0.0</td>\n",
              "      <td>0.0</td>\n",
              "      <td>0.0</td>\n",
              "      <td>0.0</td>\n",
              "      <td>16138.5120</td>\n",
              "      <td>0.0</td>\n",
              "      <td>9.74160</td>\n",
              "      <td>0.0</td>\n",
              "    </tr>\n",
              "    <tr>\n",
              "      <th>2021-07-14</th>\n",
              "      <td>0.0</td>\n",
              "      <td>462.3052</td>\n",
              "      <td>0.0</td>\n",
              "      <td>0.0</td>\n",
              "      <td>0.0</td>\n",
              "      <td>0.0</td>\n",
              "      <td>0.0</td>\n",
              "      <td>0.0</td>\n",
              "      <td>3245.102</td>\n",
              "      <td>0.0</td>\n",
              "      <td>0.0</td>\n",
              "      <td>0.0</td>\n",
              "      <td>0.0</td>\n",
              "      <td>0.0</td>\n",
              "      <td>0.0</td>\n",
              "      <td>0.0</td>\n",
              "      <td>15920.4240</td>\n",
              "      <td>0.0</td>\n",
              "      <td>9.90000</td>\n",
              "      <td>0.0</td>\n",
              "    </tr>\n",
              "    <tr>\n",
              "      <th>2021-07-15</th>\n",
              "      <td>0.0</td>\n",
              "      <td>462.3052</td>\n",
              "      <td>0.0</td>\n",
              "      <td>0.0</td>\n",
              "      <td>0.0</td>\n",
              "      <td>0.0</td>\n",
              "      <td>0.0</td>\n",
              "      <td>0.0</td>\n",
              "      <td>3303.951</td>\n",
              "      <td>0.0</td>\n",
              "      <td>0.0</td>\n",
              "      <td>0.0</td>\n",
              "      <td>0.0</td>\n",
              "      <td>0.0</td>\n",
              "      <td>0.0</td>\n",
              "      <td>0.0</td>\n",
              "      <td>16429.2960</td>\n",
              "      <td>0.0</td>\n",
              "      <td>9.78120</td>\n",
              "      <td>0.0</td>\n",
              "    </tr>\n",
              "    <tr>\n",
              "      <th>2021-07-16</th>\n",
              "      <td>0.0</td>\n",
              "      <td>457.7629</td>\n",
              "      <td>0.0</td>\n",
              "      <td>0.0</td>\n",
              "      <td>0.0</td>\n",
              "      <td>0.0</td>\n",
              "      <td>0.0</td>\n",
              "      <td>0.0</td>\n",
              "      <td>3320.765</td>\n",
              "      <td>0.0</td>\n",
              "      <td>0.0</td>\n",
              "      <td>0.0</td>\n",
              "      <td>0.0</td>\n",
              "      <td>0.0</td>\n",
              "      <td>0.0</td>\n",
              "      <td>0.0</td>\n",
              "      <td>16138.5120</td>\n",
              "      <td>0.0</td>\n",
              "      <td>9.95940</td>\n",
              "      <td>0.0</td>\n",
              "    </tr>\n",
              "    <tr>\n",
              "      <th>2021-07-19</th>\n",
              "      <td>0.0</td>\n",
              "      <td>447.6689</td>\n",
              "      <td>0.0</td>\n",
              "      <td>0.0</td>\n",
              "      <td>0.0</td>\n",
              "      <td>0.0</td>\n",
              "      <td>0.0</td>\n",
              "      <td>0.0</td>\n",
              "      <td>3303.951</td>\n",
              "      <td>0.0</td>\n",
              "      <td>0.0</td>\n",
              "      <td>0.0</td>\n",
              "      <td>0.0</td>\n",
              "      <td>0.0</td>\n",
              "      <td>0.0</td>\n",
              "      <td>0.0</td>\n",
              "      <td>15738.6840</td>\n",
              "      <td>0.0</td>\n",
              "      <td>10.39500</td>\n",
              "      <td>0.0</td>\n",
              "    </tr>\n",
              "  </tbody>\n",
              "</table>\n",
              "<p>740 rows × 20 columns</p>\n",
              "</div>"
            ],
            "text/plain": [
              "            011420    003475  063440  ...  049630    047820  163730\n",
              "Date                                  ...                          \n",
              "2018-07-19     0.0  232.6667     0.0  ...     0.0   5.51628     NaN\n",
              "2018-07-20     0.0  230.6479     0.0  ...     0.0   5.53608     NaN\n",
              "2018-07-23     0.0  232.6667     0.0  ...     0.0   5.15592     NaN\n",
              "2018-07-24     0.0  234.6855     0.0  ...     0.0   5.21136     NaN\n",
              "2018-07-25     0.0  234.1808     0.0  ...     0.0   5.10048     NaN\n",
              "...            ...       ...     ...  ...     ...       ...     ...\n",
              "2021-07-13     0.0  469.3710     0.0  ...     0.0   9.74160     0.0\n",
              "2021-07-14     0.0  462.3052     0.0  ...     0.0   9.90000     0.0\n",
              "2021-07-15     0.0  462.3052     0.0  ...     0.0   9.78120     0.0\n",
              "2021-07-16     0.0  457.7629     0.0  ...     0.0   9.95940     0.0\n",
              "2021-07-19     0.0  447.6689     0.0  ...     0.0  10.39500     0.0\n",
              "\n",
              "[740 rows x 20 columns]"
            ]
          },
          "metadata": {
            "tags": []
          },
          "execution_count": 108
        }
      ]
    },
    {
      "cell_type": "code",
      "metadata": {
        "colab": {
          "base_uri": "https://localhost:8080/",
          "height": 632
        },
        "id": "u6BOrE5y_8rA",
        "outputId": "e4cabe97-da04-4023-8109-4231845533a4"
      },
      "source": [
        "# 일자별 종목의 (종가*비중) 합계를 Port열에 저장\n",
        "df['Port'] = df.sum(axis = 1)\n",
        "df"
      ],
      "execution_count": 109,
      "outputs": [
        {
          "output_type": "execute_result",
          "data": {
            "text/html": [
              "<div>\n",
              "<style scoped>\n",
              "    .dataframe tbody tr th:only-of-type {\n",
              "        vertical-align: middle;\n",
              "    }\n",
              "\n",
              "    .dataframe tbody tr th {\n",
              "        vertical-align: top;\n",
              "    }\n",
              "\n",
              "    .dataframe thead th {\n",
              "        text-align: right;\n",
              "    }\n",
              "</style>\n",
              "<table border=\"1\" class=\"dataframe\">\n",
              "  <thead>\n",
              "    <tr style=\"text-align: right;\">\n",
              "      <th></th>\n",
              "      <th>011420</th>\n",
              "      <th>003475</th>\n",
              "      <th>063440</th>\n",
              "      <th>348030</th>\n",
              "      <th>006920</th>\n",
              "      <th>122350</th>\n",
              "      <th>357550</th>\n",
              "      <th>043260</th>\n",
              "      <th>347000</th>\n",
              "      <th>356890</th>\n",
              "      <th>225330</th>\n",
              "      <th>032080</th>\n",
              "      <th>048830</th>\n",
              "      <th>153710</th>\n",
              "      <th>313760</th>\n",
              "      <th>303530</th>\n",
              "      <th>064290</th>\n",
              "      <th>049630</th>\n",
              "      <th>047820</th>\n",
              "      <th>163730</th>\n",
              "      <th>Port</th>\n",
              "    </tr>\n",
              "    <tr>\n",
              "      <th>Date</th>\n",
              "      <th></th>\n",
              "      <th></th>\n",
              "      <th></th>\n",
              "      <th></th>\n",
              "      <th></th>\n",
              "      <th></th>\n",
              "      <th></th>\n",
              "      <th></th>\n",
              "      <th></th>\n",
              "      <th></th>\n",
              "      <th></th>\n",
              "      <th></th>\n",
              "      <th></th>\n",
              "      <th></th>\n",
              "      <th></th>\n",
              "      <th></th>\n",
              "      <th></th>\n",
              "      <th></th>\n",
              "      <th></th>\n",
              "      <th></th>\n",
              "      <th></th>\n",
              "    </tr>\n",
              "  </thead>\n",
              "  <tbody>\n",
              "    <tr>\n",
              "      <th>2018-07-19</th>\n",
              "      <td>0.0</td>\n",
              "      <td>232.6667</td>\n",
              "      <td>0.0</td>\n",
              "      <td>NaN</td>\n",
              "      <td>0.0</td>\n",
              "      <td>0.0</td>\n",
              "      <td>NaN</td>\n",
              "      <td>0.0</td>\n",
              "      <td>NaN</td>\n",
              "      <td>NaN</td>\n",
              "      <td>0.0</td>\n",
              "      <td>0.0</td>\n",
              "      <td>0.0</td>\n",
              "      <td>NaN</td>\n",
              "      <td>NaN</td>\n",
              "      <td>NaN</td>\n",
              "      <td>2595.2472</td>\n",
              "      <td>0.0</td>\n",
              "      <td>5.51628</td>\n",
              "      <td>NaN</td>\n",
              "      <td>2833.43018</td>\n",
              "    </tr>\n",
              "    <tr>\n",
              "      <th>2018-07-20</th>\n",
              "      <td>0.0</td>\n",
              "      <td>230.6479</td>\n",
              "      <td>0.0</td>\n",
              "      <td>NaN</td>\n",
              "      <td>0.0</td>\n",
              "      <td>0.0</td>\n",
              "      <td>NaN</td>\n",
              "      <td>0.0</td>\n",
              "      <td>NaN</td>\n",
              "      <td>NaN</td>\n",
              "      <td>0.0</td>\n",
              "      <td>0.0</td>\n",
              "      <td>0.0</td>\n",
              "      <td>NaN</td>\n",
              "      <td>NaN</td>\n",
              "      <td>NaN</td>\n",
              "      <td>2573.4384</td>\n",
              "      <td>0.0</td>\n",
              "      <td>5.53608</td>\n",
              "      <td>NaN</td>\n",
              "      <td>2809.62238</td>\n",
              "    </tr>\n",
              "    <tr>\n",
              "      <th>2018-07-23</th>\n",
              "      <td>0.0</td>\n",
              "      <td>232.6667</td>\n",
              "      <td>0.0</td>\n",
              "      <td>NaN</td>\n",
              "      <td>0.0</td>\n",
              "      <td>0.0</td>\n",
              "      <td>NaN</td>\n",
              "      <td>0.0</td>\n",
              "      <td>NaN</td>\n",
              "      <td>NaN</td>\n",
              "      <td>0.0</td>\n",
              "      <td>0.0</td>\n",
              "      <td>0.0</td>\n",
              "      <td>NaN</td>\n",
              "      <td>NaN</td>\n",
              "      <td>NaN</td>\n",
              "      <td>2424.4116</td>\n",
              "      <td>0.0</td>\n",
              "      <td>5.15592</td>\n",
              "      <td>NaN</td>\n",
              "      <td>2662.23422</td>\n",
              "    </tr>\n",
              "    <tr>\n",
              "      <th>2018-07-24</th>\n",
              "      <td>0.0</td>\n",
              "      <td>234.6855</td>\n",
              "      <td>0.0</td>\n",
              "      <td>NaN</td>\n",
              "      <td>0.0</td>\n",
              "      <td>0.0</td>\n",
              "      <td>NaN</td>\n",
              "      <td>0.0</td>\n",
              "      <td>NaN</td>\n",
              "      <td>NaN</td>\n",
              "      <td>0.0</td>\n",
              "      <td>0.0</td>\n",
              "      <td>0.0</td>\n",
              "      <td>NaN</td>\n",
              "      <td>NaN</td>\n",
              "      <td>NaN</td>\n",
              "      <td>2497.1076</td>\n",
              "      <td>0.0</td>\n",
              "      <td>5.21136</td>\n",
              "      <td>NaN</td>\n",
              "      <td>2737.00446</td>\n",
              "    </tr>\n",
              "    <tr>\n",
              "      <th>2018-07-25</th>\n",
              "      <td>0.0</td>\n",
              "      <td>234.1808</td>\n",
              "      <td>0.0</td>\n",
              "      <td>NaN</td>\n",
              "      <td>0.0</td>\n",
              "      <td>0.0</td>\n",
              "      <td>NaN</td>\n",
              "      <td>0.0</td>\n",
              "      <td>NaN</td>\n",
              "      <td>NaN</td>\n",
              "      <td>0.0</td>\n",
              "      <td>0.0</td>\n",
              "      <td>0.0</td>\n",
              "      <td>NaN</td>\n",
              "      <td>NaN</td>\n",
              "      <td>NaN</td>\n",
              "      <td>2489.8380</td>\n",
              "      <td>0.0</td>\n",
              "      <td>5.10048</td>\n",
              "      <td>NaN</td>\n",
              "      <td>2729.11928</td>\n",
              "    </tr>\n",
              "    <tr>\n",
              "      <th>...</th>\n",
              "      <td>...</td>\n",
              "      <td>...</td>\n",
              "      <td>...</td>\n",
              "      <td>...</td>\n",
              "      <td>...</td>\n",
              "      <td>...</td>\n",
              "      <td>...</td>\n",
              "      <td>...</td>\n",
              "      <td>...</td>\n",
              "      <td>...</td>\n",
              "      <td>...</td>\n",
              "      <td>...</td>\n",
              "      <td>...</td>\n",
              "      <td>...</td>\n",
              "      <td>...</td>\n",
              "      <td>...</td>\n",
              "      <td>...</td>\n",
              "      <td>...</td>\n",
              "      <td>...</td>\n",
              "      <td>...</td>\n",
              "      <td>...</td>\n",
              "    </tr>\n",
              "    <tr>\n",
              "      <th>2021-07-13</th>\n",
              "      <td>0.0</td>\n",
              "      <td>469.3710</td>\n",
              "      <td>0.0</td>\n",
              "      <td>0.0</td>\n",
              "      <td>0.0</td>\n",
              "      <td>0.0</td>\n",
              "      <td>0.0</td>\n",
              "      <td>0.0</td>\n",
              "      <td>3270.323</td>\n",
              "      <td>0.0</td>\n",
              "      <td>0.0</td>\n",
              "      <td>0.0</td>\n",
              "      <td>0.0</td>\n",
              "      <td>0.0</td>\n",
              "      <td>0.0</td>\n",
              "      <td>0.0</td>\n",
              "      <td>16138.5120</td>\n",
              "      <td>0.0</td>\n",
              "      <td>9.74160</td>\n",
              "      <td>0.0</td>\n",
              "      <td>19887.94760</td>\n",
              "    </tr>\n",
              "    <tr>\n",
              "      <th>2021-07-14</th>\n",
              "      <td>0.0</td>\n",
              "      <td>462.3052</td>\n",
              "      <td>0.0</td>\n",
              "      <td>0.0</td>\n",
              "      <td>0.0</td>\n",
              "      <td>0.0</td>\n",
              "      <td>0.0</td>\n",
              "      <td>0.0</td>\n",
              "      <td>3245.102</td>\n",
              "      <td>0.0</td>\n",
              "      <td>0.0</td>\n",
              "      <td>0.0</td>\n",
              "      <td>0.0</td>\n",
              "      <td>0.0</td>\n",
              "      <td>0.0</td>\n",
              "      <td>0.0</td>\n",
              "      <td>15920.4240</td>\n",
              "      <td>0.0</td>\n",
              "      <td>9.90000</td>\n",
              "      <td>0.0</td>\n",
              "      <td>19637.73120</td>\n",
              "    </tr>\n",
              "    <tr>\n",
              "      <th>2021-07-15</th>\n",
              "      <td>0.0</td>\n",
              "      <td>462.3052</td>\n",
              "      <td>0.0</td>\n",
              "      <td>0.0</td>\n",
              "      <td>0.0</td>\n",
              "      <td>0.0</td>\n",
              "      <td>0.0</td>\n",
              "      <td>0.0</td>\n",
              "      <td>3303.951</td>\n",
              "      <td>0.0</td>\n",
              "      <td>0.0</td>\n",
              "      <td>0.0</td>\n",
              "      <td>0.0</td>\n",
              "      <td>0.0</td>\n",
              "      <td>0.0</td>\n",
              "      <td>0.0</td>\n",
              "      <td>16429.2960</td>\n",
              "      <td>0.0</td>\n",
              "      <td>9.78120</td>\n",
              "      <td>0.0</td>\n",
              "      <td>20205.33340</td>\n",
              "    </tr>\n",
              "    <tr>\n",
              "      <th>2021-07-16</th>\n",
              "      <td>0.0</td>\n",
              "      <td>457.7629</td>\n",
              "      <td>0.0</td>\n",
              "      <td>0.0</td>\n",
              "      <td>0.0</td>\n",
              "      <td>0.0</td>\n",
              "      <td>0.0</td>\n",
              "      <td>0.0</td>\n",
              "      <td>3320.765</td>\n",
              "      <td>0.0</td>\n",
              "      <td>0.0</td>\n",
              "      <td>0.0</td>\n",
              "      <td>0.0</td>\n",
              "      <td>0.0</td>\n",
              "      <td>0.0</td>\n",
              "      <td>0.0</td>\n",
              "      <td>16138.5120</td>\n",
              "      <td>0.0</td>\n",
              "      <td>9.95940</td>\n",
              "      <td>0.0</td>\n",
              "      <td>19926.99930</td>\n",
              "    </tr>\n",
              "    <tr>\n",
              "      <th>2021-07-19</th>\n",
              "      <td>0.0</td>\n",
              "      <td>447.6689</td>\n",
              "      <td>0.0</td>\n",
              "      <td>0.0</td>\n",
              "      <td>0.0</td>\n",
              "      <td>0.0</td>\n",
              "      <td>0.0</td>\n",
              "      <td>0.0</td>\n",
              "      <td>3303.951</td>\n",
              "      <td>0.0</td>\n",
              "      <td>0.0</td>\n",
              "      <td>0.0</td>\n",
              "      <td>0.0</td>\n",
              "      <td>0.0</td>\n",
              "      <td>0.0</td>\n",
              "      <td>0.0</td>\n",
              "      <td>15738.6840</td>\n",
              "      <td>0.0</td>\n",
              "      <td>10.39500</td>\n",
              "      <td>0.0</td>\n",
              "      <td>19500.69890</td>\n",
              "    </tr>\n",
              "  </tbody>\n",
              "</table>\n",
              "<p>740 rows × 21 columns</p>\n",
              "</div>"
            ],
            "text/plain": [
              "            011420    003475  063440  ...    047820  163730         Port\n",
              "Date                                  ...                               \n",
              "2018-07-19     0.0  232.6667     0.0  ...   5.51628     NaN   2833.43018\n",
              "2018-07-20     0.0  230.6479     0.0  ...   5.53608     NaN   2809.62238\n",
              "2018-07-23     0.0  232.6667     0.0  ...   5.15592     NaN   2662.23422\n",
              "2018-07-24     0.0  234.6855     0.0  ...   5.21136     NaN   2737.00446\n",
              "2018-07-25     0.0  234.1808     0.0  ...   5.10048     NaN   2729.11928\n",
              "...            ...       ...     ...  ...       ...     ...          ...\n",
              "2021-07-13     0.0  469.3710     0.0  ...   9.74160     0.0  19887.94760\n",
              "2021-07-14     0.0  462.3052     0.0  ...   9.90000     0.0  19637.73120\n",
              "2021-07-15     0.0  462.3052     0.0  ...   9.78120     0.0  20205.33340\n",
              "2021-07-16     0.0  457.7629     0.0  ...   9.95940     0.0  19926.99930\n",
              "2021-07-19     0.0  447.6689     0.0  ...  10.39500     0.0  19500.69890\n",
              "\n",
              "[740 rows x 21 columns]"
            ]
          },
          "metadata": {
            "tags": []
          },
          "execution_count": 109
        }
      ]
    },
    {
      "cell_type": "code",
      "metadata": {
        "colab": {
          "base_uri": "https://localhost:8080/",
          "height": 445
        },
        "id": "XtuA3GAF_8rA",
        "outputId": "7748b730-453e-41b7-d5da-5d6222631798"
      },
      "source": [
        "# 일자별 종가의 전일대비 변동률(수익률)을 portfolio라는 데이터프레임으로 저장\n",
        "portfolio = df[['Port']].pct_change()\n",
        "portfolio"
      ],
      "execution_count": 110,
      "outputs": [
        {
          "output_type": "execute_result",
          "data": {
            "text/html": [
              "<div>\n",
              "<style scoped>\n",
              "    .dataframe tbody tr th:only-of-type {\n",
              "        vertical-align: middle;\n",
              "    }\n",
              "\n",
              "    .dataframe tbody tr th {\n",
              "        vertical-align: top;\n",
              "    }\n",
              "\n",
              "    .dataframe thead th {\n",
              "        text-align: right;\n",
              "    }\n",
              "</style>\n",
              "<table border=\"1\" class=\"dataframe\">\n",
              "  <thead>\n",
              "    <tr style=\"text-align: right;\">\n",
              "      <th></th>\n",
              "      <th>Port</th>\n",
              "    </tr>\n",
              "    <tr>\n",
              "      <th>Date</th>\n",
              "      <th></th>\n",
              "    </tr>\n",
              "  </thead>\n",
              "  <tbody>\n",
              "    <tr>\n",
              "      <th>2018-07-19</th>\n",
              "      <td>NaN</td>\n",
              "    </tr>\n",
              "    <tr>\n",
              "      <th>2018-07-20</th>\n",
              "      <td>-0.008402</td>\n",
              "    </tr>\n",
              "    <tr>\n",
              "      <th>2018-07-23</th>\n",
              "      <td>-0.052458</td>\n",
              "    </tr>\n",
              "    <tr>\n",
              "      <th>2018-07-24</th>\n",
              "      <td>0.028086</td>\n",
              "    </tr>\n",
              "    <tr>\n",
              "      <th>2018-07-25</th>\n",
              "      <td>-0.002881</td>\n",
              "    </tr>\n",
              "    <tr>\n",
              "      <th>...</th>\n",
              "      <td>...</td>\n",
              "    </tr>\n",
              "    <tr>\n",
              "      <th>2021-07-13</th>\n",
              "      <td>0.022261</td>\n",
              "    </tr>\n",
              "    <tr>\n",
              "      <th>2021-07-14</th>\n",
              "      <td>-0.012581</td>\n",
              "    </tr>\n",
              "    <tr>\n",
              "      <th>2021-07-15</th>\n",
              "      <td>0.028904</td>\n",
              "    </tr>\n",
              "    <tr>\n",
              "      <th>2021-07-16</th>\n",
              "      <td>-0.013775</td>\n",
              "    </tr>\n",
              "    <tr>\n",
              "      <th>2021-07-19</th>\n",
              "      <td>-0.021393</td>\n",
              "    </tr>\n",
              "  </tbody>\n",
              "</table>\n",
              "<p>740 rows × 1 columns</p>\n",
              "</div>"
            ],
            "text/plain": [
              "                Port\n",
              "Date                \n",
              "2018-07-19       NaN\n",
              "2018-07-20 -0.008402\n",
              "2018-07-23 -0.052458\n",
              "2018-07-24  0.028086\n",
              "2018-07-25 -0.002881\n",
              "...              ...\n",
              "2021-07-13  0.022261\n",
              "2021-07-14 -0.012581\n",
              "2021-07-15  0.028904\n",
              "2021-07-16 -0.013775\n",
              "2021-07-19 -0.021393\n",
              "\n",
              "[740 rows x 1 columns]"
            ]
          },
          "metadata": {
            "tags": []
          },
          "execution_count": 110
        }
      ]
    },
    {
      "cell_type": "code",
      "metadata": {
        "colab": {
          "base_uri": "https://localhost:8080/",
          "height": 445
        },
        "id": "XHwq_PCg_8rA",
        "outputId": "2ad071dc-2531-4904-ec1a-b442d257d869"
      },
      "source": [
        "# 코스피지수 불러오기\n",
        "kospi = fdr.DataReader('KS11', start_date, end_date)[['Close']]\n",
        "kospi"
      ],
      "execution_count": 111,
      "outputs": [
        {
          "output_type": "execute_result",
          "data": {
            "text/html": [
              "<div>\n",
              "<style scoped>\n",
              "    .dataframe tbody tr th:only-of-type {\n",
              "        vertical-align: middle;\n",
              "    }\n",
              "\n",
              "    .dataframe tbody tr th {\n",
              "        vertical-align: top;\n",
              "    }\n",
              "\n",
              "    .dataframe thead th {\n",
              "        text-align: right;\n",
              "    }\n",
              "</style>\n",
              "<table border=\"1\" class=\"dataframe\">\n",
              "  <thead>\n",
              "    <tr style=\"text-align: right;\">\n",
              "      <th></th>\n",
              "      <th>Close</th>\n",
              "    </tr>\n",
              "    <tr>\n",
              "      <th>Date</th>\n",
              "      <th></th>\n",
              "    </tr>\n",
              "  </thead>\n",
              "  <tbody>\n",
              "    <tr>\n",
              "      <th>2018-07-19</th>\n",
              "      <td>2282.29</td>\n",
              "    </tr>\n",
              "    <tr>\n",
              "      <th>2018-07-20</th>\n",
              "      <td>2289.19</td>\n",
              "    </tr>\n",
              "    <tr>\n",
              "      <th>2018-07-23</th>\n",
              "      <td>2269.31</td>\n",
              "    </tr>\n",
              "    <tr>\n",
              "      <th>2018-07-24</th>\n",
              "      <td>2280.20</td>\n",
              "    </tr>\n",
              "    <tr>\n",
              "      <th>2018-07-25</th>\n",
              "      <td>2273.03</td>\n",
              "    </tr>\n",
              "    <tr>\n",
              "      <th>...</th>\n",
              "      <td>...</td>\n",
              "    </tr>\n",
              "    <tr>\n",
              "      <th>2021-07-13</th>\n",
              "      <td>3271.38</td>\n",
              "    </tr>\n",
              "    <tr>\n",
              "      <th>2021-07-14</th>\n",
              "      <td>3264.81</td>\n",
              "    </tr>\n",
              "    <tr>\n",
              "      <th>2021-07-15</th>\n",
              "      <td>3286.22</td>\n",
              "    </tr>\n",
              "    <tr>\n",
              "      <th>2021-07-16</th>\n",
              "      <td>3276.91</td>\n",
              "    </tr>\n",
              "    <tr>\n",
              "      <th>2021-07-19</th>\n",
              "      <td>3244.04</td>\n",
              "    </tr>\n",
              "  </tbody>\n",
              "</table>\n",
              "<p>740 rows × 1 columns</p>\n",
              "</div>"
            ],
            "text/plain": [
              "              Close\n",
              "Date               \n",
              "2018-07-19  2282.29\n",
              "2018-07-20  2289.19\n",
              "2018-07-23  2269.31\n",
              "2018-07-24  2280.20\n",
              "2018-07-25  2273.03\n",
              "...             ...\n",
              "2021-07-13  3271.38\n",
              "2021-07-14  3264.81\n",
              "2021-07-15  3286.22\n",
              "2021-07-16  3276.91\n",
              "2021-07-19  3244.04\n",
              "\n",
              "[740 rows x 1 columns]"
            ]
          },
          "metadata": {
            "tags": []
          },
          "execution_count": 111
        }
      ]
    },
    {
      "cell_type": "code",
      "metadata": {
        "colab": {
          "base_uri": "https://localhost:8080/",
          "height": 445
        },
        "id": "YC1VOV4z_8rA",
        "outputId": "415b62c9-e90a-4d36-faa8-92e6b51fb532"
      },
      "source": [
        "# 코스피지수의 변동률(수익률) 구하기\n",
        "# 변동률(수익률) = (당일가격-전일가격) / 전일가격\n",
        "# 7/20의 변동률(수익률) = (7/20 가격-7-19 가격) / 7/19 가격\n",
        "kospi_pct = kospi.pct_change()\n",
        "kospi_pct"
      ],
      "execution_count": 112,
      "outputs": [
        {
          "output_type": "execute_result",
          "data": {
            "text/html": [
              "<div>\n",
              "<style scoped>\n",
              "    .dataframe tbody tr th:only-of-type {\n",
              "        vertical-align: middle;\n",
              "    }\n",
              "\n",
              "    .dataframe tbody tr th {\n",
              "        vertical-align: top;\n",
              "    }\n",
              "\n",
              "    .dataframe thead th {\n",
              "        text-align: right;\n",
              "    }\n",
              "</style>\n",
              "<table border=\"1\" class=\"dataframe\">\n",
              "  <thead>\n",
              "    <tr style=\"text-align: right;\">\n",
              "      <th></th>\n",
              "      <th>Close</th>\n",
              "    </tr>\n",
              "    <tr>\n",
              "      <th>Date</th>\n",
              "      <th></th>\n",
              "    </tr>\n",
              "  </thead>\n",
              "  <tbody>\n",
              "    <tr>\n",
              "      <th>2018-07-19</th>\n",
              "      <td>NaN</td>\n",
              "    </tr>\n",
              "    <tr>\n",
              "      <th>2018-07-20</th>\n",
              "      <td>0.003023</td>\n",
              "    </tr>\n",
              "    <tr>\n",
              "      <th>2018-07-23</th>\n",
              "      <td>-0.008684</td>\n",
              "    </tr>\n",
              "    <tr>\n",
              "      <th>2018-07-24</th>\n",
              "      <td>0.004799</td>\n",
              "    </tr>\n",
              "    <tr>\n",
              "      <th>2018-07-25</th>\n",
              "      <td>-0.003144</td>\n",
              "    </tr>\n",
              "    <tr>\n",
              "      <th>...</th>\n",
              "      <td>...</td>\n",
              "    </tr>\n",
              "    <tr>\n",
              "      <th>2021-07-13</th>\n",
              "      <td>0.007673</td>\n",
              "    </tr>\n",
              "    <tr>\n",
              "      <th>2021-07-14</th>\n",
              "      <td>-0.002008</td>\n",
              "    </tr>\n",
              "    <tr>\n",
              "      <th>2021-07-15</th>\n",
              "      <td>0.006558</td>\n",
              "    </tr>\n",
              "    <tr>\n",
              "      <th>2021-07-16</th>\n",
              "      <td>-0.002833</td>\n",
              "    </tr>\n",
              "    <tr>\n",
              "      <th>2021-07-19</th>\n",
              "      <td>-0.010031</td>\n",
              "    </tr>\n",
              "  </tbody>\n",
              "</table>\n",
              "<p>740 rows × 1 columns</p>\n",
              "</div>"
            ],
            "text/plain": [
              "               Close\n",
              "Date                \n",
              "2018-07-19       NaN\n",
              "2018-07-20  0.003023\n",
              "2018-07-23 -0.008684\n",
              "2018-07-24  0.004799\n",
              "2018-07-25 -0.003144\n",
              "...              ...\n",
              "2021-07-13  0.007673\n",
              "2021-07-14 -0.002008\n",
              "2021-07-15  0.006558\n",
              "2021-07-16 -0.002833\n",
              "2021-07-19 -0.010031\n",
              "\n",
              "[740 rows x 1 columns]"
            ]
          },
          "metadata": {
            "tags": []
          },
          "execution_count": 112
        }
      ]
    },
    {
      "cell_type": "code",
      "metadata": {
        "colab": {
          "base_uri": "https://localhost:8080/",
          "height": 445
        },
        "id": "8J_Njyfk_8rA",
        "outputId": "7b277c3d-f459-491a-b07f-92c46ffcba7c"
      },
      "source": [
        "# 코스피와 포트폴리오 합치기\n",
        "result = kospi_pct.join(portfolio)\n",
        "result"
      ],
      "execution_count": 113,
      "outputs": [
        {
          "output_type": "execute_result",
          "data": {
            "text/html": [
              "<div>\n",
              "<style scoped>\n",
              "    .dataframe tbody tr th:only-of-type {\n",
              "        vertical-align: middle;\n",
              "    }\n",
              "\n",
              "    .dataframe tbody tr th {\n",
              "        vertical-align: top;\n",
              "    }\n",
              "\n",
              "    .dataframe thead th {\n",
              "        text-align: right;\n",
              "    }\n",
              "</style>\n",
              "<table border=\"1\" class=\"dataframe\">\n",
              "  <thead>\n",
              "    <tr style=\"text-align: right;\">\n",
              "      <th></th>\n",
              "      <th>Close</th>\n",
              "      <th>Port</th>\n",
              "    </tr>\n",
              "    <tr>\n",
              "      <th>Date</th>\n",
              "      <th></th>\n",
              "      <th></th>\n",
              "    </tr>\n",
              "  </thead>\n",
              "  <tbody>\n",
              "    <tr>\n",
              "      <th>2018-07-19</th>\n",
              "      <td>NaN</td>\n",
              "      <td>NaN</td>\n",
              "    </tr>\n",
              "    <tr>\n",
              "      <th>2018-07-20</th>\n",
              "      <td>0.003023</td>\n",
              "      <td>-0.008402</td>\n",
              "    </tr>\n",
              "    <tr>\n",
              "      <th>2018-07-23</th>\n",
              "      <td>-0.008684</td>\n",
              "      <td>-0.052458</td>\n",
              "    </tr>\n",
              "    <tr>\n",
              "      <th>2018-07-24</th>\n",
              "      <td>0.004799</td>\n",
              "      <td>0.028086</td>\n",
              "    </tr>\n",
              "    <tr>\n",
              "      <th>2018-07-25</th>\n",
              "      <td>-0.003144</td>\n",
              "      <td>-0.002881</td>\n",
              "    </tr>\n",
              "    <tr>\n",
              "      <th>...</th>\n",
              "      <td>...</td>\n",
              "      <td>...</td>\n",
              "    </tr>\n",
              "    <tr>\n",
              "      <th>2021-07-13</th>\n",
              "      <td>0.007673</td>\n",
              "      <td>0.022261</td>\n",
              "    </tr>\n",
              "    <tr>\n",
              "      <th>2021-07-14</th>\n",
              "      <td>-0.002008</td>\n",
              "      <td>-0.012581</td>\n",
              "    </tr>\n",
              "    <tr>\n",
              "      <th>2021-07-15</th>\n",
              "      <td>0.006558</td>\n",
              "      <td>0.028904</td>\n",
              "    </tr>\n",
              "    <tr>\n",
              "      <th>2021-07-16</th>\n",
              "      <td>-0.002833</td>\n",
              "      <td>-0.013775</td>\n",
              "    </tr>\n",
              "    <tr>\n",
              "      <th>2021-07-19</th>\n",
              "      <td>-0.010031</td>\n",
              "      <td>-0.021393</td>\n",
              "    </tr>\n",
              "  </tbody>\n",
              "</table>\n",
              "<p>740 rows × 2 columns</p>\n",
              "</div>"
            ],
            "text/plain": [
              "               Close      Port\n",
              "Date                          \n",
              "2018-07-19       NaN       NaN\n",
              "2018-07-20  0.003023 -0.008402\n",
              "2018-07-23 -0.008684 -0.052458\n",
              "2018-07-24  0.004799  0.028086\n",
              "2018-07-25 -0.003144 -0.002881\n",
              "...              ...       ...\n",
              "2021-07-13  0.007673  0.022261\n",
              "2021-07-14 -0.002008 -0.012581\n",
              "2021-07-15  0.006558  0.028904\n",
              "2021-07-16 -0.002833 -0.013775\n",
              "2021-07-19 -0.010031 -0.021393\n",
              "\n",
              "[740 rows x 2 columns]"
            ]
          },
          "metadata": {
            "tags": []
          },
          "execution_count": 113
        }
      ]
    },
    {
      "cell_type": "code",
      "metadata": {
        "colab": {
          "base_uri": "https://localhost:8080/",
          "height": 445
        },
        "id": "4ajcEE0h_8rA",
        "outputId": "54522eb7-ac30-4973-8867-a1fb1a65a0b4"
      },
      "source": [
        "# 1열을 0으로 \n",
        "result.iloc[0] = 0\n",
        "result"
      ],
      "execution_count": 114,
      "outputs": [
        {
          "output_type": "execute_result",
          "data": {
            "text/html": [
              "<div>\n",
              "<style scoped>\n",
              "    .dataframe tbody tr th:only-of-type {\n",
              "        vertical-align: middle;\n",
              "    }\n",
              "\n",
              "    .dataframe tbody tr th {\n",
              "        vertical-align: top;\n",
              "    }\n",
              "\n",
              "    .dataframe thead th {\n",
              "        text-align: right;\n",
              "    }\n",
              "</style>\n",
              "<table border=\"1\" class=\"dataframe\">\n",
              "  <thead>\n",
              "    <tr style=\"text-align: right;\">\n",
              "      <th></th>\n",
              "      <th>Close</th>\n",
              "      <th>Port</th>\n",
              "    </tr>\n",
              "    <tr>\n",
              "      <th>Date</th>\n",
              "      <th></th>\n",
              "      <th></th>\n",
              "    </tr>\n",
              "  </thead>\n",
              "  <tbody>\n",
              "    <tr>\n",
              "      <th>2018-07-19</th>\n",
              "      <td>0.000000</td>\n",
              "      <td>0.000000</td>\n",
              "    </tr>\n",
              "    <tr>\n",
              "      <th>2018-07-20</th>\n",
              "      <td>0.003023</td>\n",
              "      <td>-0.008402</td>\n",
              "    </tr>\n",
              "    <tr>\n",
              "      <th>2018-07-23</th>\n",
              "      <td>-0.008684</td>\n",
              "      <td>-0.052458</td>\n",
              "    </tr>\n",
              "    <tr>\n",
              "      <th>2018-07-24</th>\n",
              "      <td>0.004799</td>\n",
              "      <td>0.028086</td>\n",
              "    </tr>\n",
              "    <tr>\n",
              "      <th>2018-07-25</th>\n",
              "      <td>-0.003144</td>\n",
              "      <td>-0.002881</td>\n",
              "    </tr>\n",
              "    <tr>\n",
              "      <th>...</th>\n",
              "      <td>...</td>\n",
              "      <td>...</td>\n",
              "    </tr>\n",
              "    <tr>\n",
              "      <th>2021-07-13</th>\n",
              "      <td>0.007673</td>\n",
              "      <td>0.022261</td>\n",
              "    </tr>\n",
              "    <tr>\n",
              "      <th>2021-07-14</th>\n",
              "      <td>-0.002008</td>\n",
              "      <td>-0.012581</td>\n",
              "    </tr>\n",
              "    <tr>\n",
              "      <th>2021-07-15</th>\n",
              "      <td>0.006558</td>\n",
              "      <td>0.028904</td>\n",
              "    </tr>\n",
              "    <tr>\n",
              "      <th>2021-07-16</th>\n",
              "      <td>-0.002833</td>\n",
              "      <td>-0.013775</td>\n",
              "    </tr>\n",
              "    <tr>\n",
              "      <th>2021-07-19</th>\n",
              "      <td>-0.010031</td>\n",
              "      <td>-0.021393</td>\n",
              "    </tr>\n",
              "  </tbody>\n",
              "</table>\n",
              "<p>740 rows × 2 columns</p>\n",
              "</div>"
            ],
            "text/plain": [
              "               Close      Port\n",
              "Date                          \n",
              "2018-07-19  0.000000  0.000000\n",
              "2018-07-20  0.003023 -0.008402\n",
              "2018-07-23 -0.008684 -0.052458\n",
              "2018-07-24  0.004799  0.028086\n",
              "2018-07-25 -0.003144 -0.002881\n",
              "...              ...       ...\n",
              "2021-07-13  0.007673  0.022261\n",
              "2021-07-14 -0.002008 -0.012581\n",
              "2021-07-15  0.006558  0.028904\n",
              "2021-07-16 -0.002833 -0.013775\n",
              "2021-07-19 -0.010031 -0.021393\n",
              "\n",
              "[740 rows x 2 columns]"
            ]
          },
          "metadata": {
            "tags": []
          },
          "execution_count": 114
        }
      ]
    },
    {
      "cell_type": "code",
      "metadata": {
        "colab": {
          "base_uri": "https://localhost:8080/",
          "height": 445
        },
        "id": "qu2XT5XI_8rB",
        "outputId": "3a27ee7a-fd0d-4462-c9ca-30720c94a8de"
      },
      "source": [
        "# 열 이름 변경\n",
        "result.columns = ['KOSPI', 'PORTFOLIO']\n",
        "result"
      ],
      "execution_count": 115,
      "outputs": [
        {
          "output_type": "execute_result",
          "data": {
            "text/html": [
              "<div>\n",
              "<style scoped>\n",
              "    .dataframe tbody tr th:only-of-type {\n",
              "        vertical-align: middle;\n",
              "    }\n",
              "\n",
              "    .dataframe tbody tr th {\n",
              "        vertical-align: top;\n",
              "    }\n",
              "\n",
              "    .dataframe thead th {\n",
              "        text-align: right;\n",
              "    }\n",
              "</style>\n",
              "<table border=\"1\" class=\"dataframe\">\n",
              "  <thead>\n",
              "    <tr style=\"text-align: right;\">\n",
              "      <th></th>\n",
              "      <th>KOSPI</th>\n",
              "      <th>PORTFOLIO</th>\n",
              "    </tr>\n",
              "    <tr>\n",
              "      <th>Date</th>\n",
              "      <th></th>\n",
              "      <th></th>\n",
              "    </tr>\n",
              "  </thead>\n",
              "  <tbody>\n",
              "    <tr>\n",
              "      <th>2018-07-19</th>\n",
              "      <td>0.000000</td>\n",
              "      <td>0.000000</td>\n",
              "    </tr>\n",
              "    <tr>\n",
              "      <th>2018-07-20</th>\n",
              "      <td>0.003023</td>\n",
              "      <td>-0.008402</td>\n",
              "    </tr>\n",
              "    <tr>\n",
              "      <th>2018-07-23</th>\n",
              "      <td>-0.008684</td>\n",
              "      <td>-0.052458</td>\n",
              "    </tr>\n",
              "    <tr>\n",
              "      <th>2018-07-24</th>\n",
              "      <td>0.004799</td>\n",
              "      <td>0.028086</td>\n",
              "    </tr>\n",
              "    <tr>\n",
              "      <th>2018-07-25</th>\n",
              "      <td>-0.003144</td>\n",
              "      <td>-0.002881</td>\n",
              "    </tr>\n",
              "    <tr>\n",
              "      <th>...</th>\n",
              "      <td>...</td>\n",
              "      <td>...</td>\n",
              "    </tr>\n",
              "    <tr>\n",
              "      <th>2021-07-13</th>\n",
              "      <td>0.007673</td>\n",
              "      <td>0.022261</td>\n",
              "    </tr>\n",
              "    <tr>\n",
              "      <th>2021-07-14</th>\n",
              "      <td>-0.002008</td>\n",
              "      <td>-0.012581</td>\n",
              "    </tr>\n",
              "    <tr>\n",
              "      <th>2021-07-15</th>\n",
              "      <td>0.006558</td>\n",
              "      <td>0.028904</td>\n",
              "    </tr>\n",
              "    <tr>\n",
              "      <th>2021-07-16</th>\n",
              "      <td>-0.002833</td>\n",
              "      <td>-0.013775</td>\n",
              "    </tr>\n",
              "    <tr>\n",
              "      <th>2021-07-19</th>\n",
              "      <td>-0.010031</td>\n",
              "      <td>-0.021393</td>\n",
              "    </tr>\n",
              "  </tbody>\n",
              "</table>\n",
              "<p>740 rows × 2 columns</p>\n",
              "</div>"
            ],
            "text/plain": [
              "               KOSPI  PORTFOLIO\n",
              "Date                           \n",
              "2018-07-19  0.000000   0.000000\n",
              "2018-07-20  0.003023  -0.008402\n",
              "2018-07-23 -0.008684  -0.052458\n",
              "2018-07-24  0.004799   0.028086\n",
              "2018-07-25 -0.003144  -0.002881\n",
              "...              ...        ...\n",
              "2021-07-13  0.007673   0.022261\n",
              "2021-07-14 -0.002008  -0.012581\n",
              "2021-07-15  0.006558   0.028904\n",
              "2021-07-16 -0.002833  -0.013775\n",
              "2021-07-19 -0.010031  -0.021393\n",
              "\n",
              "[740 rows x 2 columns]"
            ]
          },
          "metadata": {
            "tags": []
          },
          "execution_count": 115
        }
      ]
    },
    {
      "cell_type": "code",
      "metadata": {
        "colab": {
          "base_uri": "https://localhost:8080/",
          "height": 445
        },
        "id": "To-QreOl_8rB",
        "outputId": "b2385fb8-dedc-4ccf-9cab-90c2e23e26e0"
      },
      "source": [
        "# 1에서 시작해서, 전일대비 변동률(수익률)을 적용하여 수치화하기\n",
        "wealth = (1+result).cumprod()\n",
        "wealth"
      ],
      "execution_count": 116,
      "outputs": [
        {
          "output_type": "execute_result",
          "data": {
            "text/html": [
              "<div>\n",
              "<style scoped>\n",
              "    .dataframe tbody tr th:only-of-type {\n",
              "        vertical-align: middle;\n",
              "    }\n",
              "\n",
              "    .dataframe tbody tr th {\n",
              "        vertical-align: top;\n",
              "    }\n",
              "\n",
              "    .dataframe thead th {\n",
              "        text-align: right;\n",
              "    }\n",
              "</style>\n",
              "<table border=\"1\" class=\"dataframe\">\n",
              "  <thead>\n",
              "    <tr style=\"text-align: right;\">\n",
              "      <th></th>\n",
              "      <th>KOSPI</th>\n",
              "      <th>PORTFOLIO</th>\n",
              "    </tr>\n",
              "    <tr>\n",
              "      <th>Date</th>\n",
              "      <th></th>\n",
              "      <th></th>\n",
              "    </tr>\n",
              "  </thead>\n",
              "  <tbody>\n",
              "    <tr>\n",
              "      <th>2018-07-19</th>\n",
              "      <td>1.000000</td>\n",
              "      <td>1.000000</td>\n",
              "    </tr>\n",
              "    <tr>\n",
              "      <th>2018-07-20</th>\n",
              "      <td>1.003023</td>\n",
              "      <td>0.991598</td>\n",
              "    </tr>\n",
              "    <tr>\n",
              "      <th>2018-07-23</th>\n",
              "      <td>0.994313</td>\n",
              "      <td>0.939580</td>\n",
              "    </tr>\n",
              "    <tr>\n",
              "      <th>2018-07-24</th>\n",
              "      <td>0.999084</td>\n",
              "      <td>0.965969</td>\n",
              "    </tr>\n",
              "    <tr>\n",
              "      <th>2018-07-25</th>\n",
              "      <td>0.995943</td>\n",
              "      <td>0.963186</td>\n",
              "    </tr>\n",
              "    <tr>\n",
              "      <th>...</th>\n",
              "      <td>...</td>\n",
              "      <td>...</td>\n",
              "    </tr>\n",
              "    <tr>\n",
              "      <th>2021-07-13</th>\n",
              "      <td>1.433376</td>\n",
              "      <td>7.019036</td>\n",
              "    </tr>\n",
              "    <tr>\n",
              "      <th>2021-07-14</th>\n",
              "      <td>1.430497</td>\n",
              "      <td>6.930727</td>\n",
              "    </tr>\n",
              "    <tr>\n",
              "      <th>2021-07-15</th>\n",
              "      <td>1.439878</td>\n",
              "      <td>7.131050</td>\n",
              "    </tr>\n",
              "    <tr>\n",
              "      <th>2021-07-16</th>\n",
              "      <td>1.435799</td>\n",
              "      <td>7.032818</td>\n",
              "    </tr>\n",
              "    <tr>\n",
              "      <th>2021-07-19</th>\n",
              "      <td>1.421397</td>\n",
              "      <td>6.882364</td>\n",
              "    </tr>\n",
              "  </tbody>\n",
              "</table>\n",
              "<p>740 rows × 2 columns</p>\n",
              "</div>"
            ],
            "text/plain": [
              "               KOSPI  PORTFOLIO\n",
              "Date                           \n",
              "2018-07-19  1.000000   1.000000\n",
              "2018-07-20  1.003023   0.991598\n",
              "2018-07-23  0.994313   0.939580\n",
              "2018-07-24  0.999084   0.965969\n",
              "2018-07-25  0.995943   0.963186\n",
              "...              ...        ...\n",
              "2021-07-13  1.433376   7.019036\n",
              "2021-07-14  1.430497   6.930727\n",
              "2021-07-15  1.439878   7.131050\n",
              "2021-07-16  1.435799   7.032818\n",
              "2021-07-19  1.421397   6.882364\n",
              "\n",
              "[740 rows x 2 columns]"
            ]
          },
          "metadata": {
            "tags": []
          },
          "execution_count": 116
        }
      ]
    },
    {
      "cell_type": "markdown",
      "metadata": {
        "id": "v2Umgqvi_8rB"
      },
      "source": [
        "## 시각화"
      ]
    },
    {
      "cell_type": "code",
      "metadata": {
        "colab": {
          "base_uri": "https://localhost:8080/",
          "height": 361
        },
        "id": "IDjGeyck_8rB",
        "outputId": "07f1212d-6bdf-4920-fb3c-9f1a8776c35b"
      },
      "source": [
        "# 포트폴리오와 KOSPI 지수의 '누적 수익률 추이'를 시각화하여 비교\n",
        "\n",
        "# matplotlib.pyplot 스타일시트 설정\n",
        "plt.style.use('fivethirtyeight')\n",
        "\n",
        "plt.figure(figsize=(18,5))\n",
        "plt.plot(wealth.index, wealth.KOSPI , 'r', label='KOSPI')\n",
        "plt.plot(wealth.index, wealth.PORTFOLIO ,'b', label=\"PORTFOLIO(Speedy Rising)\")\n",
        "plt.grid(True)\n",
        "plt.title('Return Trend')\n",
        "plt.xlabel('Date',fontsize=18, labelpad=7)\n",
        "plt.ylabel('Return',fontsize=18, labelpad=7)\n",
        "plt.legend(loc='best')\n",
        "plt.show()"
      ],
      "execution_count": 117,
      "outputs": [
        {
          "output_type": "stream",
          "text": [
            "findfont: Font family ['Malgun Gothic'] not found. Falling back to DejaVu Sans.\n",
            "findfont: Font family ['Malgun Gothic'] not found. Falling back to DejaVu Sans.\n",
            "findfont: Font family ['Malgun Gothic'] not found. Falling back to DejaVu Sans.\n"
          ],
          "name": "stderr"
        },
        {
          "output_type": "display_data",
          "data": {
            "image/png": "[encoded data removed]",
            "text/plain": [
              "<Figure size 1296x360 with 1 Axes>"
            ]
          },
          "metadata": {
            "tags": []
          }
        }
      ]
    },
    {
      "cell_type": "code",
      "metadata": {
        "colab": {
          "base_uri": "https://localhost:8080/",
          "height": 503
        },
        "id": "YhtIon8-_8rB",
        "outputId": "b3e1ea60-b01e-42a9-fa02-6f3e41c2a37b"
      },
      "source": [
        "# 변동률 비교\n",
        "plt.figure(figsize=(18,10))\n",
        "\n",
        "plt.subplot(2,1,1)\n",
        "plt.title('Volatility Trend')\n",
        "\n",
        "plt.plot(result.index, result.KOSPI , 'r', label='KOSPI')\n",
        "plt.yticks([-0.15, -0.10, -0.05, 0.00, 0.05, 0.10, 0.15])\n",
        "plt.grid(True)\n",
        "plt.ylabel('Volatility',fontsize=18, labelpad=7)\n",
        "plt.legend(loc='best')\n",
        "\n",
        "plt.subplot(2,1,2)\n",
        "plt.title('Volatility Trend')\n",
        "plt.plot(result.index, result.PORTFOLIO ,'b', label=\"PORTFOLIO(Speedy Rising)\")\n",
        "# plt.yticks([-0.15, -0.10, -0.05, 0.00, 0.05, 0.10, 0.15])\n",
        "plt.ylabel('Volatility',fontsize=18, labelpad=7)\n",
        "plt.legend(loc='best')\n",
        "\n",
        "plt.grid(True)\n",
        "plt.show()"
      ],
      "execution_count": 118,
      "outputs": [
        {
          "output_type": "display_data",
          "data": {
            "image/png": "[encoded data removed]",
            "text/plain": [
              "<Figure size 1296x720 with 2 Axes>"
            ]
          },
          "metadata": {
            "tags": []
          }
        }
      ]
    },
    {
      "cell_type": "code",
      "metadata": {
        "colab": {
          "base_uri": "https://localhost:8080/"
        },
        "id": "8Zvrt2qqiGe7",
        "outputId": "9c12c6f2-efc4-4ea8-b3c9-fd6044502851"
      },
      "source": [
        "print('----- Speedy rising portfolio performance -----')\n",
        "# Show Funds\n",
        "print('Funds:', portfolio_val, 'KRW')\n",
        "\n",
        "# Show Funds Remaining\n",
        "print('Funds Remaining: ', leftover, ' KRW')\n",
        "\n",
        "# Show Portfolio performance\n",
        "ef.portfolio_performance(verbose=True)\n",
        "rmse = da._allocation_rmse_error(verbose=False)"
      ],
      "execution_count": 119,
      "outputs": [
        {
          "output_type": "stream",
          "text": [
            "----- Speedy rising portfolio performance -----\n",
            "Funds: 15000000 KRW\n",
            "Funds Remaining:  490.0  KRW\n",
            "Expected annual return: 71.5%\n",
            "Annual volatility: 49.3%\n",
            "Sharpe Ratio: 1.41\n",
            "Allocation has RMSE: 0.000\n"
          ],
          "name": "stdout"
        }
      ]
    },
    {
      "cell_type": "markdown",
      "metadata": {
        "id": "hlr62H51_oXc"
      },
      "source": [
        "#### ver02> 결측값 삭제 ( 12개 종목 )"
      ]
    },
    {
      "cell_type": "code",
      "metadata": {
        "colab": {
          "base_uri": "https://localhost:8080/",
          "height": 445
        },
        "id": "HYSqH-GuFLp9",
        "outputId": "0fdc3e68-7764-4c00-929b-cd192f63b66c"
      },
      "source": [
        "df2"
      ],
      "execution_count": 120,
      "outputs": [
        {
          "output_type": "execute_result",
          "data": {
            "text/html": [
              "<div>\n",
              "<style scoped>\n",
              "    .dataframe tbody tr th:only-of-type {\n",
              "        vertical-align: middle;\n",
              "    }\n",
              "\n",
              "    .dataframe tbody tr th {\n",
              "        vertical-align: top;\n",
              "    }\n",
              "\n",
              "    .dataframe thead th {\n",
              "        text-align: right;\n",
              "    }\n",
              "</style>\n",
              "<table border=\"1\" class=\"dataframe\">\n",
              "  <thead>\n",
              "    <tr style=\"text-align: right;\">\n",
              "      <th></th>\n",
              "      <th>011420</th>\n",
              "      <th>003475</th>\n",
              "      <th>063440</th>\n",
              "      <th>006920</th>\n",
              "      <th>122350</th>\n",
              "      <th>043260</th>\n",
              "      <th>225330</th>\n",
              "      <th>032080</th>\n",
              "      <th>048830</th>\n",
              "      <th>064290</th>\n",
              "      <th>049630</th>\n",
              "      <th>047820</th>\n",
              "    </tr>\n",
              "    <tr>\n",
              "      <th>Date</th>\n",
              "      <th></th>\n",
              "      <th></th>\n",
              "      <th></th>\n",
              "      <th></th>\n",
              "      <th></th>\n",
              "      <th></th>\n",
              "      <th></th>\n",
              "      <th></th>\n",
              "      <th></th>\n",
              "      <th></th>\n",
              "      <th></th>\n",
              "      <th></th>\n",
              "    </tr>\n",
              "  </thead>\n",
              "  <tbody>\n",
              "    <tr>\n",
              "      <th>2018-07-19</th>\n",
              "      <td>1885</td>\n",
              "      <td>2305</td>\n",
              "      <td>2110</td>\n",
              "      <td>5530</td>\n",
              "      <td>3075</td>\n",
              "      <td>1140</td>\n",
              "      <td>7970</td>\n",
              "      <td>1970</td>\n",
              "      <td>2060</td>\n",
              "      <td>3570</td>\n",
              "      <td>1472</td>\n",
              "      <td>1393</td>\n",
              "    </tr>\n",
              "    <tr>\n",
              "      <th>2018-07-20</th>\n",
              "      <td>1880</td>\n",
              "      <td>2285</td>\n",
              "      <td>2000</td>\n",
              "      <td>5540</td>\n",
              "      <td>3060</td>\n",
              "      <td>1085</td>\n",
              "      <td>7960</td>\n",
              "      <td>1900</td>\n",
              "      <td>2050</td>\n",
              "      <td>3540</td>\n",
              "      <td>1434</td>\n",
              "      <td>1398</td>\n",
              "    </tr>\n",
              "    <tr>\n",
              "      <th>2018-07-23</th>\n",
              "      <td>1855</td>\n",
              "      <td>2305</td>\n",
              "      <td>1900</td>\n",
              "      <td>5180</td>\n",
              "      <td>3005</td>\n",
              "      <td>1040</td>\n",
              "      <td>7800</td>\n",
              "      <td>1840</td>\n",
              "      <td>1960</td>\n",
              "      <td>3335</td>\n",
              "      <td>1351</td>\n",
              "      <td>1302</td>\n",
              "    </tr>\n",
              "    <tr>\n",
              "      <th>2018-07-24</th>\n",
              "      <td>1850</td>\n",
              "      <td>2325</td>\n",
              "      <td>1960</td>\n",
              "      <td>5450</td>\n",
              "      <td>2985</td>\n",
              "      <td>1085</td>\n",
              "      <td>7940</td>\n",
              "      <td>1865</td>\n",
              "      <td>2015</td>\n",
              "      <td>3435</td>\n",
              "      <td>1458</td>\n",
              "      <td>1316</td>\n",
              "    </tr>\n",
              "    <tr>\n",
              "      <th>2018-07-25</th>\n",
              "      <td>1820</td>\n",
              "      <td>2320</td>\n",
              "      <td>1925</td>\n",
              "      <td>5530</td>\n",
              "      <td>3050</td>\n",
              "      <td>1070</td>\n",
              "      <td>7920</td>\n",
              "      <td>1830</td>\n",
              "      <td>1980</td>\n",
              "      <td>3425</td>\n",
              "      <td>1393</td>\n",
              "      <td>1288</td>\n",
              "    </tr>\n",
              "    <tr>\n",
              "      <th>...</th>\n",
              "      <td>...</td>\n",
              "      <td>...</td>\n",
              "      <td>...</td>\n",
              "      <td>...</td>\n",
              "      <td>...</td>\n",
              "      <td>...</td>\n",
              "      <td>...</td>\n",
              "      <td>...</td>\n",
              "      <td>...</td>\n",
              "      <td>...</td>\n",
              "      <td>...</td>\n",
              "      <td>...</td>\n",
              "    </tr>\n",
              "    <tr>\n",
              "      <th>2021-07-13</th>\n",
              "      <td>1950</td>\n",
              "      <td>4650</td>\n",
              "      <td>2775</td>\n",
              "      <td>6000</td>\n",
              "      <td>4175</td>\n",
              "      <td>1675</td>\n",
              "      <td>7450</td>\n",
              "      <td>3025</td>\n",
              "      <td>2340</td>\n",
              "      <td>22200</td>\n",
              "      <td>1030</td>\n",
              "      <td>2460</td>\n",
              "    </tr>\n",
              "    <tr>\n",
              "      <th>2021-07-14</th>\n",
              "      <td>1900</td>\n",
              "      <td>4580</td>\n",
              "      <td>2775</td>\n",
              "      <td>5970</td>\n",
              "      <td>4220</td>\n",
              "      <td>1720</td>\n",
              "      <td>7490</td>\n",
              "      <td>3025</td>\n",
              "      <td>2375</td>\n",
              "      <td>21900</td>\n",
              "      <td>1050</td>\n",
              "      <td>2500</td>\n",
              "    </tr>\n",
              "    <tr>\n",
              "      <th>2021-07-15</th>\n",
              "      <td>1895</td>\n",
              "      <td>4580</td>\n",
              "      <td>2765</td>\n",
              "      <td>5970</td>\n",
              "      <td>4205</td>\n",
              "      <td>1720</td>\n",
              "      <td>7790</td>\n",
              "      <td>3000</td>\n",
              "      <td>3085</td>\n",
              "      <td>22600</td>\n",
              "      <td>1100</td>\n",
              "      <td>2470</td>\n",
              "    </tr>\n",
              "    <tr>\n",
              "      <th>2021-07-16</th>\n",
              "      <td>1945</td>\n",
              "      <td>4535</td>\n",
              "      <td>2780</td>\n",
              "      <td>5990</td>\n",
              "      <td>4160</td>\n",
              "      <td>1700</td>\n",
              "      <td>7810</td>\n",
              "      <td>2980</td>\n",
              "      <td>3065</td>\n",
              "      <td>22200</td>\n",
              "      <td>1085</td>\n",
              "      <td>2515</td>\n",
              "    </tr>\n",
              "    <tr>\n",
              "      <th>2021-07-19</th>\n",
              "      <td>1885</td>\n",
              "      <td>4435</td>\n",
              "      <td>2760</td>\n",
              "      <td>5790</td>\n",
              "      <td>4215</td>\n",
              "      <td>1690</td>\n",
              "      <td>7580</td>\n",
              "      <td>2930</td>\n",
              "      <td>3010</td>\n",
              "      <td>21650</td>\n",
              "      <td>1055</td>\n",
              "      <td>2625</td>\n",
              "    </tr>\n",
              "  </tbody>\n",
              "</table>\n",
              "<p>740 rows × 12 columns</p>\n",
              "</div>"
            ],
            "text/plain": [
              "            011420  003475  063440  006920  ...  048830  064290  049630  047820\n",
              "Date                                        ...                                \n",
              "2018-07-19    1885    2305    2110    5530  ...    2060    3570    1472    1393\n",
              "2018-07-20    1880    2285    2000    5540  ...    2050    3540    1434    1398\n",
              "2018-07-23    1855    2305    1900    5180  ...    1960    3335    1351    1302\n",
              "2018-07-24    1850    2325    1960    5450  ...    2015    3435    1458    1316\n",
              "2018-07-25    1820    2320    1925    5530  ...    1980    3425    1393    1288\n",
              "...            ...     ...     ...     ...  ...     ...     ...     ...     ...\n",
              "2021-07-13    1950    4650    2775    6000  ...    2340   22200    1030    2460\n",
              "2021-07-14    1900    4580    2775    5970  ...    2375   21900    1050    2500\n",
              "2021-07-15    1895    4580    2765    5970  ...    3085   22600    1100    2470\n",
              "2021-07-16    1945    4535    2780    5990  ...    3065   22200    1085    2515\n",
              "2021-07-19    1885    4435    2760    5790  ...    3010   21650    1055    2625\n",
              "\n",
              "[740 rows x 12 columns]"
            ]
          },
          "metadata": {
            "tags": []
          },
          "execution_count": 120
        }
      ]
    },
    {
      "cell_type": "code",
      "metadata": {
        "colab": {
          "base_uri": "https://localhost:8080/"
        },
        "id": "wLIorD_pFLtT",
        "outputId": "4414d98b-f8b2-4eef-e25c-0e2ab362d365"
      },
      "source": [
        "cleaned_weights2"
      ],
      "execution_count": 121,
      "outputs": [
        {
          "output_type": "execute_result",
          "data": {
            "text/plain": [
              "OrderedDict([('011420', 0.0),\n",
              "             ('003475', 0.1545),\n",
              "             ('063440', 0.0),\n",
              "             ('006920', 0.0),\n",
              "             ('122350', 0.0),\n",
              "             ('043260', 0.0),\n",
              "             ('225330', 0.0),\n",
              "             ('032080', 0.0),\n",
              "             ('048830', 0.0),\n",
              "             ('064290', 0.83928),\n",
              "             ('049630', 0.0),\n",
              "             ('047820', 0.00621)])"
            ]
          },
          "metadata": {
            "tags": []
          },
          "execution_count": 121
        }
      ]
    },
    {
      "cell_type": "code",
      "metadata": {
        "colab": {
          "base_uri": "https://localhost:8080/"
        },
        "id": "27ckBzc7FnfV",
        "outputId": "788ccc4a-9f74-4cfe-b544-c168307d65f2"
      },
      "source": [
        "len(cleaned_weights2)"
      ],
      "execution_count": 122,
      "outputs": [
        {
          "output_type": "execute_result",
          "data": {
            "text/plain": [
              "12"
            ]
          },
          "metadata": {
            "tags": []
          },
          "execution_count": 122
        }
      ]
    },
    {
      "cell_type": "code",
      "metadata": {
        "id": "D2KePJ3sFLzO",
        "colab": {
          "base_uri": "https://localhost:8080/"
        },
        "outputId": "f920ab26-511a-4be3-d6aa-0102a543bd99"
      },
      "source": [
        "# 각 일자별, 종목별 종가에 해당 weights를 곱해주기\n",
        "for i, weight in cleaned_weights2.items():\n",
        "    df2[i] = df2[i]*weight"
      ],
      "execution_count": 123,
      "outputs": [
        {
          "output_type": "stream",
          "text": [
            "/usr/local/lib/python3.7/dist-packages/ipykernel_launcher.py:3: SettingWithCopyWarning: \n",
            "A value is trying to be set on a copy of a slice from a DataFrame.\n",
            "Try using .loc[row_indexer,col_indexer] = value instead\n",
            "\n",
            "See the caveats in the documentation: https://pandas.pydata.org/pandas-docs/stable/user_guide/indexing.html#returning-a-view-versus-a-copy\n",
            "  This is separate from the ipykernel package so we can avoid doing imports until\n"
          ],
          "name": "stderr"
        }
      ]
    },
    {
      "cell_type": "code",
      "metadata": {
        "colab": {
          "base_uri": "https://localhost:8080/",
          "height": 445
        },
        "id": "3GpYLDqpFL2J",
        "outputId": "3cc79d04-2761-42e0-d4ed-cd11b621ccdf"
      },
      "source": [
        "df2"
      ],
      "execution_count": 124,
      "outputs": [
        {
          "output_type": "execute_result",
          "data": {
            "text/html": [
              "<div>\n",
              "<style scoped>\n",
              "    .dataframe tbody tr th:only-of-type {\n",
              "        vertical-align: middle;\n",
              "    }\n",
              "\n",
              "    .dataframe tbody tr th {\n",
              "        vertical-align: top;\n",
              "    }\n",
              "\n",
              "    .dataframe thead th {\n",
              "        text-align: right;\n",
              "    }\n",
              "</style>\n",
              "<table border=\"1\" class=\"dataframe\">\n",
              "  <thead>\n",
              "    <tr style=\"text-align: right;\">\n",
              "      <th></th>\n",
              "      <th>011420</th>\n",
              "      <th>003475</th>\n",
              "      <th>063440</th>\n",
              "      <th>006920</th>\n",
              "      <th>122350</th>\n",
              "      <th>043260</th>\n",
              "      <th>225330</th>\n",
              "      <th>032080</th>\n",
              "      <th>048830</th>\n",
              "      <th>064290</th>\n",
              "      <th>049630</th>\n",
              "      <th>047820</th>\n",
              "    </tr>\n",
              "    <tr>\n",
              "      <th>Date</th>\n",
              "      <th></th>\n",
              "      <th></th>\n",
              "      <th></th>\n",
              "      <th></th>\n",
              "      <th></th>\n",
              "      <th></th>\n",
              "      <th></th>\n",
              "      <th></th>\n",
              "      <th></th>\n",
              "      <th></th>\n",
              "      <th></th>\n",
              "      <th></th>\n",
              "    </tr>\n",
              "  </thead>\n",
              "  <tbody>\n",
              "    <tr>\n",
              "      <th>2018-07-19</th>\n",
              "      <td>0.0</td>\n",
              "      <td>356.1225</td>\n",
              "      <td>0.0</td>\n",
              "      <td>0.0</td>\n",
              "      <td>0.0</td>\n",
              "      <td>0.0</td>\n",
              "      <td>0.0</td>\n",
              "      <td>0.0</td>\n",
              "      <td>0.0</td>\n",
              "      <td>2996.2296</td>\n",
              "      <td>0.0</td>\n",
              "      <td>8.65053</td>\n",
              "    </tr>\n",
              "    <tr>\n",
              "      <th>2018-07-20</th>\n",
              "      <td>0.0</td>\n",
              "      <td>353.0325</td>\n",
              "      <td>0.0</td>\n",
              "      <td>0.0</td>\n",
              "      <td>0.0</td>\n",
              "      <td>0.0</td>\n",
              "      <td>0.0</td>\n",
              "      <td>0.0</td>\n",
              "      <td>0.0</td>\n",
              "      <td>2971.0512</td>\n",
              "      <td>0.0</td>\n",
              "      <td>8.68158</td>\n",
              "    </tr>\n",
              "    <tr>\n",
              "      <th>2018-07-23</th>\n",
              "      <td>0.0</td>\n",
              "      <td>356.1225</td>\n",
              "      <td>0.0</td>\n",
              "      <td>0.0</td>\n",
              "      <td>0.0</td>\n",
              "      <td>0.0</td>\n",
              "      <td>0.0</td>\n",
              "      <td>0.0</td>\n",
              "      <td>0.0</td>\n",
              "      <td>2798.9988</td>\n",
              "      <td>0.0</td>\n",
              "      <td>8.08542</td>\n",
              "    </tr>\n",
              "    <tr>\n",
              "      <th>2018-07-24</th>\n",
              "      <td>0.0</td>\n",
              "      <td>359.2125</td>\n",
              "      <td>0.0</td>\n",
              "      <td>0.0</td>\n",
              "      <td>0.0</td>\n",
              "      <td>0.0</td>\n",
              "      <td>0.0</td>\n",
              "      <td>0.0</td>\n",
              "      <td>0.0</td>\n",
              "      <td>2882.9268</td>\n",
              "      <td>0.0</td>\n",
              "      <td>8.17236</td>\n",
              "    </tr>\n",
              "    <tr>\n",
              "      <th>2018-07-25</th>\n",
              "      <td>0.0</td>\n",
              "      <td>358.4400</td>\n",
              "      <td>0.0</td>\n",
              "      <td>0.0</td>\n",
              "      <td>0.0</td>\n",
              "      <td>0.0</td>\n",
              "      <td>0.0</td>\n",
              "      <td>0.0</td>\n",
              "      <td>0.0</td>\n",
              "      <td>2874.5340</td>\n",
              "      <td>0.0</td>\n",
              "      <td>7.99848</td>\n",
              "    </tr>\n",
              "    <tr>\n",
              "      <th>...</th>\n",
              "      <td>...</td>\n",
              "      <td>...</td>\n",
              "      <td>...</td>\n",
              "      <td>...</td>\n",
              "      <td>...</td>\n",
              "      <td>...</td>\n",
              "      <td>...</td>\n",
              "      <td>...</td>\n",
              "      <td>...</td>\n",
              "      <td>...</td>\n",
              "      <td>...</td>\n",
              "      <td>...</td>\n",
              "    </tr>\n",
              "    <tr>\n",
              "      <th>2021-07-13</th>\n",
              "      <td>0.0</td>\n",
              "      <td>718.4250</td>\n",
              "      <td>0.0</td>\n",
              "      <td>0.0</td>\n",
              "      <td>0.0</td>\n",
              "      <td>0.0</td>\n",
              "      <td>0.0</td>\n",
              "      <td>0.0</td>\n",
              "      <td>0.0</td>\n",
              "      <td>18632.0160</td>\n",
              "      <td>0.0</td>\n",
              "      <td>15.27660</td>\n",
              "    </tr>\n",
              "    <tr>\n",
              "      <th>2021-07-14</th>\n",
              "      <td>0.0</td>\n",
              "      <td>707.6100</td>\n",
              "      <td>0.0</td>\n",
              "      <td>0.0</td>\n",
              "      <td>0.0</td>\n",
              "      <td>0.0</td>\n",
              "      <td>0.0</td>\n",
              "      <td>0.0</td>\n",
              "      <td>0.0</td>\n",
              "      <td>18380.2320</td>\n",
              "      <td>0.0</td>\n",
              "      <td>15.52500</td>\n",
              "    </tr>\n",
              "    <tr>\n",
              "      <th>2021-07-15</th>\n",
              "      <td>0.0</td>\n",
              "      <td>707.6100</td>\n",
              "      <td>0.0</td>\n",
              "      <td>0.0</td>\n",
              "      <td>0.0</td>\n",
              "      <td>0.0</td>\n",
              "      <td>0.0</td>\n",
              "      <td>0.0</td>\n",
              "      <td>0.0</td>\n",
              "      <td>18967.7280</td>\n",
              "      <td>0.0</td>\n",
              "      <td>15.33870</td>\n",
              "    </tr>\n",
              "    <tr>\n",
              "      <th>2021-07-16</th>\n",
              "      <td>0.0</td>\n",
              "      <td>700.6575</td>\n",
              "      <td>0.0</td>\n",
              "      <td>0.0</td>\n",
              "      <td>0.0</td>\n",
              "      <td>0.0</td>\n",
              "      <td>0.0</td>\n",
              "      <td>0.0</td>\n",
              "      <td>0.0</td>\n",
              "      <td>18632.0160</td>\n",
              "      <td>0.0</td>\n",
              "      <td>15.61815</td>\n",
              "    </tr>\n",
              "    <tr>\n",
              "      <th>2021-07-19</th>\n",
              "      <td>0.0</td>\n",
              "      <td>685.2075</td>\n",
              "      <td>0.0</td>\n",
              "      <td>0.0</td>\n",
              "      <td>0.0</td>\n",
              "      <td>0.0</td>\n",
              "      <td>0.0</td>\n",
              "      <td>0.0</td>\n",
              "      <td>0.0</td>\n",
              "      <td>18170.4120</td>\n",
              "      <td>0.0</td>\n",
              "      <td>16.30125</td>\n",
              "    </tr>\n",
              "  </tbody>\n",
              "</table>\n",
              "<p>740 rows × 12 columns</p>\n",
              "</div>"
            ],
            "text/plain": [
              "            011420    003475  063440  ...      064290  049630    047820\n",
              "Date                                  ...                              \n",
              "2018-07-19     0.0  356.1225     0.0  ...   2996.2296     0.0   8.65053\n",
              "2018-07-20     0.0  353.0325     0.0  ...   2971.0512     0.0   8.68158\n",
              "2018-07-23     0.0  356.1225     0.0  ...   2798.9988     0.0   8.08542\n",
              "2018-07-24     0.0  359.2125     0.0  ...   2882.9268     0.0   8.17236\n",
              "2018-07-25     0.0  358.4400     0.0  ...   2874.5340     0.0   7.99848\n",
              "...            ...       ...     ...  ...         ...     ...       ...\n",
              "2021-07-13     0.0  718.4250     0.0  ...  18632.0160     0.0  15.27660\n",
              "2021-07-14     0.0  707.6100     0.0  ...  18380.2320     0.0  15.52500\n",
              "2021-07-15     0.0  707.6100     0.0  ...  18967.7280     0.0  15.33870\n",
              "2021-07-16     0.0  700.6575     0.0  ...  18632.0160     0.0  15.61815\n",
              "2021-07-19     0.0  685.2075     0.0  ...  18170.4120     0.0  16.30125\n",
              "\n",
              "[740 rows x 12 columns]"
            ]
          },
          "metadata": {
            "tags": []
          },
          "execution_count": 124
        }
      ]
    },
    {
      "cell_type": "code",
      "metadata": {
        "colab": {
          "base_uri": "https://localhost:8080/",
          "height": 738
        },
        "id": "7dQd8Ki7FL5N",
        "outputId": "23ac0ae1-7953-4745-8f37-0122679cf195"
      },
      "source": [
        "# 일자별 종목의 (종가*비중) 합계를 Port열에 저장\n",
        "df2['Port'] = df2.sum(axis = 1)\n",
        "df2"
      ],
      "execution_count": 125,
      "outputs": [
        {
          "output_type": "stream",
          "text": [
            "/usr/local/lib/python3.7/dist-packages/ipykernel_launcher.py:2: SettingWithCopyWarning: \n",
            "A value is trying to be set on a copy of a slice from a DataFrame.\n",
            "Try using .loc[row_indexer,col_indexer] = value instead\n",
            "\n",
            "See the caveats in the documentation: https://pandas.pydata.org/pandas-docs/stable/user_guide/indexing.html#returning-a-view-versus-a-copy\n",
            "  \n"
          ],
          "name": "stderr"
        },
        {
          "output_type": "execute_result",
          "data": {
            "text/html": [
              "<div>\n",
              "<style scoped>\n",
              "    .dataframe tbody tr th:only-of-type {\n",
              "        vertical-align: middle;\n",
              "    }\n",
              "\n",
              "    .dataframe tbody tr th {\n",
              "        vertical-align: top;\n",
              "    }\n",
              "\n",
              "    .dataframe thead th {\n",
              "        text-align: right;\n",
              "    }\n",
              "</style>\n",
              "<table border=\"1\" class=\"dataframe\">\n",
              "  <thead>\n",
              "    <tr style=\"text-align: right;\">\n",
              "      <th></th>\n",
              "      <th>011420</th>\n",
              "      <th>003475</th>\n",
              "      <th>063440</th>\n",
              "      <th>006920</th>\n",
              "      <th>122350</th>\n",
              "      <th>043260</th>\n",
              "      <th>225330</th>\n",
              "      <th>032080</th>\n",
              "      <th>048830</th>\n",
              "      <th>064290</th>\n",
              "      <th>049630</th>\n",
              "      <th>047820</th>\n",
              "      <th>Port</th>\n",
              "    </tr>\n",
              "    <tr>\n",
              "      <th>Date</th>\n",
              "      <th></th>\n",
              "      <th></th>\n",
              "      <th></th>\n",
              "      <th></th>\n",
              "      <th></th>\n",
              "      <th></th>\n",
              "      <th></th>\n",
              "      <th></th>\n",
              "      <th></th>\n",
              "      <th></th>\n",
              "      <th></th>\n",
              "      <th></th>\n",
              "      <th></th>\n",
              "    </tr>\n",
              "  </thead>\n",
              "  <tbody>\n",
              "    <tr>\n",
              "      <th>2018-07-19</th>\n",
              "      <td>0.0</td>\n",
              "      <td>356.1225</td>\n",
              "      <td>0.0</td>\n",
              "      <td>0.0</td>\n",
              "      <td>0.0</td>\n",
              "      <td>0.0</td>\n",
              "      <td>0.0</td>\n",
              "      <td>0.0</td>\n",
              "      <td>0.0</td>\n",
              "      <td>2996.2296</td>\n",
              "      <td>0.0</td>\n",
              "      <td>8.65053</td>\n",
              "      <td>3361.00263</td>\n",
              "    </tr>\n",
              "    <tr>\n",
              "      <th>2018-07-20</th>\n",
              "      <td>0.0</td>\n",
              "      <td>353.0325</td>\n",
              "      <td>0.0</td>\n",
              "      <td>0.0</td>\n",
              "      <td>0.0</td>\n",
              "      <td>0.0</td>\n",
              "      <td>0.0</td>\n",
              "      <td>0.0</td>\n",
              "      <td>0.0</td>\n",
              "      <td>2971.0512</td>\n",
              "      <td>0.0</td>\n",
              "      <td>8.68158</td>\n",
              "      <td>3332.76528</td>\n",
              "    </tr>\n",
              "    <tr>\n",
              "      <th>2018-07-23</th>\n",
              "      <td>0.0</td>\n",
              "      <td>356.1225</td>\n",
              "      <td>0.0</td>\n",
              "      <td>0.0</td>\n",
              "      <td>0.0</td>\n",
              "      <td>0.0</td>\n",
              "      <td>0.0</td>\n",
              "      <td>0.0</td>\n",
              "      <td>0.0</td>\n",
              "      <td>2798.9988</td>\n",
              "      <td>0.0</td>\n",
              "      <td>8.08542</td>\n",
              "      <td>3163.20672</td>\n",
              "    </tr>\n",
              "    <tr>\n",
              "      <th>2018-07-24</th>\n",
              "      <td>0.0</td>\n",
              "      <td>359.2125</td>\n",
              "      <td>0.0</td>\n",
              "      <td>0.0</td>\n",
              "      <td>0.0</td>\n",
              "      <td>0.0</td>\n",
              "      <td>0.0</td>\n",
              "      <td>0.0</td>\n",
              "      <td>0.0</td>\n",
              "      <td>2882.9268</td>\n",
              "      <td>0.0</td>\n",
              "      <td>8.17236</td>\n",
              "      <td>3250.31166</td>\n",
              "    </tr>\n",
              "    <tr>\n",
              "      <th>2018-07-25</th>\n",
              "      <td>0.0</td>\n",
              "      <td>358.4400</td>\n",
              "      <td>0.0</td>\n",
              "      <td>0.0</td>\n",
              "      <td>0.0</td>\n",
              "      <td>0.0</td>\n",
              "      <td>0.0</td>\n",
              "      <td>0.0</td>\n",
              "      <td>0.0</td>\n",
              "      <td>2874.5340</td>\n",
              "      <td>0.0</td>\n",
              "      <td>7.99848</td>\n",
              "      <td>3240.97248</td>\n",
              "    </tr>\n",
              "    <tr>\n",
              "      <th>...</th>\n",
              "      <td>...</td>\n",
              "      <td>...</td>\n",
              "      <td>...</td>\n",
              "      <td>...</td>\n",
              "      <td>...</td>\n",
              "      <td>...</td>\n",
              "      <td>...</td>\n",
              "      <td>...</td>\n",
              "      <td>...</td>\n",
              "      <td>...</td>\n",
              "      <td>...</td>\n",
              "      <td>...</td>\n",
              "      <td>...</td>\n",
              "    </tr>\n",
              "    <tr>\n",
              "      <th>2021-07-13</th>\n",
              "      <td>0.0</td>\n",
              "      <td>718.4250</td>\n",
              "      <td>0.0</td>\n",
              "      <td>0.0</td>\n",
              "      <td>0.0</td>\n",
              "      <td>0.0</td>\n",
              "      <td>0.0</td>\n",
              "      <td>0.0</td>\n",
              "      <td>0.0</td>\n",
              "      <td>18632.0160</td>\n",
              "      <td>0.0</td>\n",
              "      <td>15.27660</td>\n",
              "      <td>19365.71760</td>\n",
              "    </tr>\n",
              "    <tr>\n",
              "      <th>2021-07-14</th>\n",
              "      <td>0.0</td>\n",
              "      <td>707.6100</td>\n",
              "      <td>0.0</td>\n",
              "      <td>0.0</td>\n",
              "      <td>0.0</td>\n",
              "      <td>0.0</td>\n",
              "      <td>0.0</td>\n",
              "      <td>0.0</td>\n",
              "      <td>0.0</td>\n",
              "      <td>18380.2320</td>\n",
              "      <td>0.0</td>\n",
              "      <td>15.52500</td>\n",
              "      <td>19103.36700</td>\n",
              "    </tr>\n",
              "    <tr>\n",
              "      <th>2021-07-15</th>\n",
              "      <td>0.0</td>\n",
              "      <td>707.6100</td>\n",
              "      <td>0.0</td>\n",
              "      <td>0.0</td>\n",
              "      <td>0.0</td>\n",
              "      <td>0.0</td>\n",
              "      <td>0.0</td>\n",
              "      <td>0.0</td>\n",
              "      <td>0.0</td>\n",
              "      <td>18967.7280</td>\n",
              "      <td>0.0</td>\n",
              "      <td>15.33870</td>\n",
              "      <td>19690.67670</td>\n",
              "    </tr>\n",
              "    <tr>\n",
              "      <th>2021-07-16</th>\n",
              "      <td>0.0</td>\n",
              "      <td>700.6575</td>\n",
              "      <td>0.0</td>\n",
              "      <td>0.0</td>\n",
              "      <td>0.0</td>\n",
              "      <td>0.0</td>\n",
              "      <td>0.0</td>\n",
              "      <td>0.0</td>\n",
              "      <td>0.0</td>\n",
              "      <td>18632.0160</td>\n",
              "      <td>0.0</td>\n",
              "      <td>15.61815</td>\n",
              "      <td>19348.29165</td>\n",
              "    </tr>\n",
              "    <tr>\n",
              "      <th>2021-07-19</th>\n",
              "      <td>0.0</td>\n",
              "      <td>685.2075</td>\n",
              "      <td>0.0</td>\n",
              "      <td>0.0</td>\n",
              "      <td>0.0</td>\n",
              "      <td>0.0</td>\n",
              "      <td>0.0</td>\n",
              "      <td>0.0</td>\n",
              "      <td>0.0</td>\n",
              "      <td>18170.4120</td>\n",
              "      <td>0.0</td>\n",
              "      <td>16.30125</td>\n",
              "      <td>18871.92075</td>\n",
              "    </tr>\n",
              "  </tbody>\n",
              "</table>\n",
              "<p>740 rows × 13 columns</p>\n",
              "</div>"
            ],
            "text/plain": [
              "            011420    003475  063440  ...  049630    047820         Port\n",
              "Date                                  ...                               \n",
              "2018-07-19     0.0  356.1225     0.0  ...     0.0   8.65053   3361.00263\n",
              "2018-07-20     0.0  353.0325     0.0  ...     0.0   8.68158   3332.76528\n",
              "2018-07-23     0.0  356.1225     0.0  ...     0.0   8.08542   3163.20672\n",
              "2018-07-24     0.0  359.2125     0.0  ...     0.0   8.17236   3250.31166\n",
              "2018-07-25     0.0  358.4400     0.0  ...     0.0   7.99848   3240.97248\n",
              "...            ...       ...     ...  ...     ...       ...          ...\n",
              "2021-07-13     0.0  718.4250     0.0  ...     0.0  15.27660  19365.71760\n",
              "2021-07-14     0.0  707.6100     0.0  ...     0.0  15.52500  19103.36700\n",
              "2021-07-15     0.0  707.6100     0.0  ...     0.0  15.33870  19690.67670\n",
              "2021-07-16     0.0  700.6575     0.0  ...     0.0  15.61815  19348.29165\n",
              "2021-07-19     0.0  685.2075     0.0  ...     0.0  16.30125  18871.92075\n",
              "\n",
              "[740 rows x 13 columns]"
            ]
          },
          "metadata": {
            "tags": []
          },
          "execution_count": 125
        }
      ]
    },
    {
      "cell_type": "code",
      "metadata": {
        "colab": {
          "base_uri": "https://localhost:8080/",
          "height": 445
        },
        "id": "VuuFwLqQFL8a",
        "outputId": "19d02e6e-5e10-4938-b96a-4a06ced11541"
      },
      "source": [
        "# 일자별 종가의 전일대비 변동률(수익률)을 portfolio라는 데이터프레임으로 저장\n",
        "portfolio2 = df2[['Port']].pct_change()\n",
        "portfolio2"
      ],
      "execution_count": 126,
      "outputs": [
        {
          "output_type": "execute_result",
          "data": {
            "text/html": [
              "<div>\n",
              "<style scoped>\n",
              "    .dataframe tbody tr th:only-of-type {\n",
              "        vertical-align: middle;\n",
              "    }\n",
              "\n",
              "    .dataframe tbody tr th {\n",
              "        vertical-align: top;\n",
              "    }\n",
              "\n",
              "    .dataframe thead th {\n",
              "        text-align: right;\n",
              "    }\n",
              "</style>\n",
              "<table border=\"1\" class=\"dataframe\">\n",
              "  <thead>\n",
              "    <tr style=\"text-align: right;\">\n",
              "      <th></th>\n",
              "      <th>Port</th>\n",
              "    </tr>\n",
              "    <tr>\n",
              "      <th>Date</th>\n",
              "      <th></th>\n",
              "    </tr>\n",
              "  </thead>\n",
              "  <tbody>\n",
              "    <tr>\n",
              "      <th>2018-07-19</th>\n",
              "      <td>NaN</td>\n",
              "    </tr>\n",
              "    <tr>\n",
              "      <th>2018-07-20</th>\n",
              "      <td>-0.008401</td>\n",
              "    </tr>\n",
              "    <tr>\n",
              "      <th>2018-07-23</th>\n",
              "      <td>-0.050876</td>\n",
              "    </tr>\n",
              "    <tr>\n",
              "      <th>2018-07-24</th>\n",
              "      <td>0.027537</td>\n",
              "    </tr>\n",
              "    <tr>\n",
              "      <th>2018-07-25</th>\n",
              "      <td>-0.002873</td>\n",
              "    </tr>\n",
              "    <tr>\n",
              "      <th>...</th>\n",
              "      <td>...</td>\n",
              "    </tr>\n",
              "    <tr>\n",
              "      <th>2021-07-13</th>\n",
              "      <td>0.024388</td>\n",
              "    </tr>\n",
              "    <tr>\n",
              "      <th>2021-07-14</th>\n",
              "      <td>-0.013547</td>\n",
              "    </tr>\n",
              "    <tr>\n",
              "      <th>2021-07-15</th>\n",
              "      <td>0.030744</td>\n",
              "    </tr>\n",
              "    <tr>\n",
              "      <th>2021-07-16</th>\n",
              "      <td>-0.017388</td>\n",
              "    </tr>\n",
              "    <tr>\n",
              "      <th>2021-07-19</th>\n",
              "      <td>-0.024621</td>\n",
              "    </tr>\n",
              "  </tbody>\n",
              "</table>\n",
              "<p>740 rows × 1 columns</p>\n",
              "</div>"
            ],
            "text/plain": [
              "                Port\n",
              "Date                \n",
              "2018-07-19       NaN\n",
              "2018-07-20 -0.008401\n",
              "2018-07-23 -0.050876\n",
              "2018-07-24  0.027537\n",
              "2018-07-25 -0.002873\n",
              "...              ...\n",
              "2021-07-13  0.024388\n",
              "2021-07-14 -0.013547\n",
              "2021-07-15  0.030744\n",
              "2021-07-16 -0.017388\n",
              "2021-07-19 -0.024621\n",
              "\n",
              "[740 rows x 1 columns]"
            ]
          },
          "metadata": {
            "tags": []
          },
          "execution_count": 126
        }
      ]
    },
    {
      "cell_type": "code",
      "metadata": {
        "colab": {
          "base_uri": "https://localhost:8080/",
          "height": 445
        },
        "id": "9u2m-t6DG3QH",
        "outputId": "aa677d8a-9322-41cc-e15f-d1dfaf674d6c"
      },
      "source": [
        "# 코스피지수 불러오기\n",
        "kospi = fdr.DataReader('KS11', start_date, end_date)[['Close']]\n",
        "kospi"
      ],
      "execution_count": 127,
      "outputs": [
        {
          "output_type": "execute_result",
          "data": {
            "text/html": [
              "<div>\n",
              "<style scoped>\n",
              "    .dataframe tbody tr th:only-of-type {\n",
              "        vertical-align: middle;\n",
              "    }\n",
              "\n",
              "    .dataframe tbody tr th {\n",
              "        vertical-align: top;\n",
              "    }\n",
              "\n",
              "    .dataframe thead th {\n",
              "        text-align: right;\n",
              "    }\n",
              "</style>\n",
              "<table border=\"1\" class=\"dataframe\">\n",
              "  <thead>\n",
              "    <tr style=\"text-align: right;\">\n",
              "      <th></th>\n",
              "      <th>Close</th>\n",
              "    </tr>\n",
              "    <tr>\n",
              "      <th>Date</th>\n",
              "      <th></th>\n",
              "    </tr>\n",
              "  </thead>\n",
              "  <tbody>\n",
              "    <tr>\n",
              "      <th>2018-07-19</th>\n",
              "      <td>2282.29</td>\n",
              "    </tr>\n",
              "    <tr>\n",
              "      <th>2018-07-20</th>\n",
              "      <td>2289.19</td>\n",
              "    </tr>\n",
              "    <tr>\n",
              "      <th>2018-07-23</th>\n",
              "      <td>2269.31</td>\n",
              "    </tr>\n",
              "    <tr>\n",
              "      <th>2018-07-24</th>\n",
              "      <td>2280.20</td>\n",
              "    </tr>\n",
              "    <tr>\n",
              "      <th>2018-07-25</th>\n",
              "      <td>2273.03</td>\n",
              "    </tr>\n",
              "    <tr>\n",
              "      <th>...</th>\n",
              "      <td>...</td>\n",
              "    </tr>\n",
              "    <tr>\n",
              "      <th>2021-07-13</th>\n",
              "      <td>3271.38</td>\n",
              "    </tr>\n",
              "    <tr>\n",
              "      <th>2021-07-14</th>\n",
              "      <td>3264.81</td>\n",
              "    </tr>\n",
              "    <tr>\n",
              "      <th>2021-07-15</th>\n",
              "      <td>3286.22</td>\n",
              "    </tr>\n",
              "    <tr>\n",
              "      <th>2021-07-16</th>\n",
              "      <td>3276.91</td>\n",
              "    </tr>\n",
              "    <tr>\n",
              "      <th>2021-07-19</th>\n",
              "      <td>3244.04</td>\n",
              "    </tr>\n",
              "  </tbody>\n",
              "</table>\n",
              "<p>740 rows × 1 columns</p>\n",
              "</div>"
            ],
            "text/plain": [
              "              Close\n",
              "Date               \n",
              "2018-07-19  2282.29\n",
              "2018-07-20  2289.19\n",
              "2018-07-23  2269.31\n",
              "2018-07-24  2280.20\n",
              "2018-07-25  2273.03\n",
              "...             ...\n",
              "2021-07-13  3271.38\n",
              "2021-07-14  3264.81\n",
              "2021-07-15  3286.22\n",
              "2021-07-16  3276.91\n",
              "2021-07-19  3244.04\n",
              "\n",
              "[740 rows x 1 columns]"
            ]
          },
          "metadata": {
            "tags": []
          },
          "execution_count": 127
        }
      ]
    },
    {
      "cell_type": "code",
      "metadata": {
        "colab": {
          "base_uri": "https://localhost:8080/",
          "height": 445
        },
        "id": "aQJF3dyNJeVu",
        "outputId": "e2595493-ec81-4110-f642-756b69e0f80e"
      },
      "source": [
        "# 코스피지수의 변동률(수익률) 구하기\n",
        "# 변동률(수익률) = (당일가격-전일가격) / 전일가격\n",
        "# 7/20의 변동률(수익률) = (7/20 가격-7-19 가격) / 7/19 가격\n",
        "kospi_pct = kospi.pct_change()\n",
        "kospi_pct"
      ],
      "execution_count": 128,
      "outputs": [
        {
          "output_type": "execute_result",
          "data": {
            "text/html": [
              "<div>\n",
              "<style scoped>\n",
              "    .dataframe tbody tr th:only-of-type {\n",
              "        vertical-align: middle;\n",
              "    }\n",
              "\n",
              "    .dataframe tbody tr th {\n",
              "        vertical-align: top;\n",
              "    }\n",
              "\n",
              "    .dataframe thead th {\n",
              "        text-align: right;\n",
              "    }\n",
              "</style>\n",
              "<table border=\"1\" class=\"dataframe\">\n",
              "  <thead>\n",
              "    <tr style=\"text-align: right;\">\n",
              "      <th></th>\n",
              "      <th>Close</th>\n",
              "    </tr>\n",
              "    <tr>\n",
              "      <th>Date</th>\n",
              "      <th></th>\n",
              "    </tr>\n",
              "  </thead>\n",
              "  <tbody>\n",
              "    <tr>\n",
              "      <th>2018-07-19</th>\n",
              "      <td>NaN</td>\n",
              "    </tr>\n",
              "    <tr>\n",
              "      <th>2018-07-20</th>\n",
              "      <td>0.003023</td>\n",
              "    </tr>\n",
              "    <tr>\n",
              "      <th>2018-07-23</th>\n",
              "      <td>-0.008684</td>\n",
              "    </tr>\n",
              "    <tr>\n",
              "      <th>2018-07-24</th>\n",
              "      <td>0.004799</td>\n",
              "    </tr>\n",
              "    <tr>\n",
              "      <th>2018-07-25</th>\n",
              "      <td>-0.003144</td>\n",
              "    </tr>\n",
              "    <tr>\n",
              "      <th>...</th>\n",
              "      <td>...</td>\n",
              "    </tr>\n",
              "    <tr>\n",
              "      <th>2021-07-13</th>\n",
              "      <td>0.007673</td>\n",
              "    </tr>\n",
              "    <tr>\n",
              "      <th>2021-07-14</th>\n",
              "      <td>-0.002008</td>\n",
              "    </tr>\n",
              "    <tr>\n",
              "      <th>2021-07-15</th>\n",
              "      <td>0.006558</td>\n",
              "    </tr>\n",
              "    <tr>\n",
              "      <th>2021-07-16</th>\n",
              "      <td>-0.002833</td>\n",
              "    </tr>\n",
              "    <tr>\n",
              "      <th>2021-07-19</th>\n",
              "      <td>-0.010031</td>\n",
              "    </tr>\n",
              "  </tbody>\n",
              "</table>\n",
              "<p>740 rows × 1 columns</p>\n",
              "</div>"
            ],
            "text/plain": [
              "               Close\n",
              "Date                \n",
              "2018-07-19       NaN\n",
              "2018-07-20  0.003023\n",
              "2018-07-23 -0.008684\n",
              "2018-07-24  0.004799\n",
              "2018-07-25 -0.003144\n",
              "...              ...\n",
              "2021-07-13  0.007673\n",
              "2021-07-14 -0.002008\n",
              "2021-07-15  0.006558\n",
              "2021-07-16 -0.002833\n",
              "2021-07-19 -0.010031\n",
              "\n",
              "[740 rows x 1 columns]"
            ]
          },
          "metadata": {
            "tags": []
          },
          "execution_count": 128
        }
      ]
    },
    {
      "cell_type": "code",
      "metadata": {
        "colab": {
          "base_uri": "https://localhost:8080/",
          "height": 445
        },
        "id": "7msugoDEHlMA",
        "outputId": "e0d712fb-fe16-487a-8602-055c5e4bc28f"
      },
      "source": [
        "# 코스피와 포트폴리오 합치기\n",
        "result2 = kospi_pct.join(portfolio2)\n",
        "result2"
      ],
      "execution_count": 129,
      "outputs": [
        {
          "output_type": "execute_result",
          "data": {
            "text/html": [
              "<div>\n",
              "<style scoped>\n",
              "    .dataframe tbody tr th:only-of-type {\n",
              "        vertical-align: middle;\n",
              "    }\n",
              "\n",
              "    .dataframe tbody tr th {\n",
              "        vertical-align: top;\n",
              "    }\n",
              "\n",
              "    .dataframe thead th {\n",
              "        text-align: right;\n",
              "    }\n",
              "</style>\n",
              "<table border=\"1\" class=\"dataframe\">\n",
              "  <thead>\n",
              "    <tr style=\"text-align: right;\">\n",
              "      <th></th>\n",
              "      <th>Close</th>\n",
              "      <th>Port</th>\n",
              "    </tr>\n",
              "    <tr>\n",
              "      <th>Date</th>\n",
              "      <th></th>\n",
              "      <th></th>\n",
              "    </tr>\n",
              "  </thead>\n",
              "  <tbody>\n",
              "    <tr>\n",
              "      <th>2018-07-19</th>\n",
              "      <td>NaN</td>\n",
              "      <td>NaN</td>\n",
              "    </tr>\n",
              "    <tr>\n",
              "      <th>2018-07-20</th>\n",
              "      <td>0.003023</td>\n",
              "      <td>-0.008401</td>\n",
              "    </tr>\n",
              "    <tr>\n",
              "      <th>2018-07-23</th>\n",
              "      <td>-0.008684</td>\n",
              "      <td>-0.050876</td>\n",
              "    </tr>\n",
              "    <tr>\n",
              "      <th>2018-07-24</th>\n",
              "      <td>0.004799</td>\n",
              "      <td>0.027537</td>\n",
              "    </tr>\n",
              "    <tr>\n",
              "      <th>2018-07-25</th>\n",
              "      <td>-0.003144</td>\n",
              "      <td>-0.002873</td>\n",
              "    </tr>\n",
              "    <tr>\n",
              "      <th>...</th>\n",
              "      <td>...</td>\n",
              "      <td>...</td>\n",
              "    </tr>\n",
              "    <tr>\n",
              "      <th>2021-07-13</th>\n",
              "      <td>0.007673</td>\n",
              "      <td>0.024388</td>\n",
              "    </tr>\n",
              "    <tr>\n",
              "      <th>2021-07-14</th>\n",
              "      <td>-0.002008</td>\n",
              "      <td>-0.013547</td>\n",
              "    </tr>\n",
              "    <tr>\n",
              "      <th>2021-07-15</th>\n",
              "      <td>0.006558</td>\n",
              "      <td>0.030744</td>\n",
              "    </tr>\n",
              "    <tr>\n",
              "      <th>2021-07-16</th>\n",
              "      <td>-0.002833</td>\n",
              "      <td>-0.017388</td>\n",
              "    </tr>\n",
              "    <tr>\n",
              "      <th>2021-07-19</th>\n",
              "      <td>-0.010031</td>\n",
              "      <td>-0.024621</td>\n",
              "    </tr>\n",
              "  </tbody>\n",
              "</table>\n",
              "<p>740 rows × 2 columns</p>\n",
              "</div>"
            ],
            "text/plain": [
              "               Close      Port\n",
              "Date                          \n",
              "2018-07-19       NaN       NaN\n",
              "2018-07-20  0.003023 -0.008401\n",
              "2018-07-23 -0.008684 -0.050876\n",
              "2018-07-24  0.004799  0.027537\n",
              "2018-07-25 -0.003144 -0.002873\n",
              "...              ...       ...\n",
              "2021-07-13  0.007673  0.024388\n",
              "2021-07-14 -0.002008 -0.013547\n",
              "2021-07-15  0.006558  0.030744\n",
              "2021-07-16 -0.002833 -0.017388\n",
              "2021-07-19 -0.010031 -0.024621\n",
              "\n",
              "[740 rows x 2 columns]"
            ]
          },
          "metadata": {
            "tags": []
          },
          "execution_count": 129
        }
      ]
    },
    {
      "cell_type": "code",
      "metadata": {
        "colab": {
          "base_uri": "https://localhost:8080/",
          "height": 445
        },
        "id": "hN2u2YyYHlQR",
        "outputId": "1737cc56-36e7-43d2-e965-bd94627b4246"
      },
      "source": [
        "# 1열을 0으로 \n",
        "result2.iloc[0] = 0\n",
        "result2"
      ],
      "execution_count": 130,
      "outputs": [
        {
          "output_type": "execute_result",
          "data": {
            "text/html": [
              "<div>\n",
              "<style scoped>\n",
              "    .dataframe tbody tr th:only-of-type {\n",
              "        vertical-align: middle;\n",
              "    }\n",
              "\n",
              "    .dataframe tbody tr th {\n",
              "        vertical-align: top;\n",
              "    }\n",
              "\n",
              "    .dataframe thead th {\n",
              "        text-align: right;\n",
              "    }\n",
              "</style>\n",
              "<table border=\"1\" class=\"dataframe\">\n",
              "  <thead>\n",
              "    <tr style=\"text-align: right;\">\n",
              "      <th></th>\n",
              "      <th>Close</th>\n",
              "      <th>Port</th>\n",
              "    </tr>\n",
              "    <tr>\n",
              "      <th>Date</th>\n",
              "      <th></th>\n",
              "      <th></th>\n",
              "    </tr>\n",
              "  </thead>\n",
              "  <tbody>\n",
              "    <tr>\n",
              "      <th>2018-07-19</th>\n",
              "      <td>0.000000</td>\n",
              "      <td>0.000000</td>\n",
              "    </tr>\n",
              "    <tr>\n",
              "      <th>2018-07-20</th>\n",
              "      <td>0.003023</td>\n",
              "      <td>-0.008401</td>\n",
              "    </tr>\n",
              "    <tr>\n",
              "      <th>2018-07-23</th>\n",
              "      <td>-0.008684</td>\n",
              "      <td>-0.050876</td>\n",
              "    </tr>\n",
              "    <tr>\n",
              "      <th>2018-07-24</th>\n",
              "      <td>0.004799</td>\n",
              "      <td>0.027537</td>\n",
              "    </tr>\n",
              "    <tr>\n",
              "      <th>2018-07-25</th>\n",
              "      <td>-0.003144</td>\n",
              "      <td>-0.002873</td>\n",
              "    </tr>\n",
              "    <tr>\n",
              "      <th>...</th>\n",
              "      <td>...</td>\n",
              "      <td>...</td>\n",
              "    </tr>\n",
              "    <tr>\n",
              "      <th>2021-07-13</th>\n",
              "      <td>0.007673</td>\n",
              "      <td>0.024388</td>\n",
              "    </tr>\n",
              "    <tr>\n",
              "      <th>2021-07-14</th>\n",
              "      <td>-0.002008</td>\n",
              "      <td>-0.013547</td>\n",
              "    </tr>\n",
              "    <tr>\n",
              "      <th>2021-07-15</th>\n",
              "      <td>0.006558</td>\n",
              "      <td>0.030744</td>\n",
              "    </tr>\n",
              "    <tr>\n",
              "      <th>2021-07-16</th>\n",
              "      <td>-0.002833</td>\n",
              "      <td>-0.017388</td>\n",
              "    </tr>\n",
              "    <tr>\n",
              "      <th>2021-07-19</th>\n",
              "      <td>-0.010031</td>\n",
              "      <td>-0.024621</td>\n",
              "    </tr>\n",
              "  </tbody>\n",
              "</table>\n",
              "<p>740 rows × 2 columns</p>\n",
              "</div>"
            ],
            "text/plain": [
              "               Close      Port\n",
              "Date                          \n",
              "2018-07-19  0.000000  0.000000\n",
              "2018-07-20  0.003023 -0.008401\n",
              "2018-07-23 -0.008684 -0.050876\n",
              "2018-07-24  0.004799  0.027537\n",
              "2018-07-25 -0.003144 -0.002873\n",
              "...              ...       ...\n",
              "2021-07-13  0.007673  0.024388\n",
              "2021-07-14 -0.002008 -0.013547\n",
              "2021-07-15  0.006558  0.030744\n",
              "2021-07-16 -0.002833 -0.017388\n",
              "2021-07-19 -0.010031 -0.024621\n",
              "\n",
              "[740 rows x 2 columns]"
            ]
          },
          "metadata": {
            "tags": []
          },
          "execution_count": 130
        }
      ]
    },
    {
      "cell_type": "code",
      "metadata": {
        "colab": {
          "base_uri": "https://localhost:8080/",
          "height": 445
        },
        "id": "33lLH-g2HlUc",
        "outputId": "0c388a22-5b19-45e9-8bdf-57f26ef730f5"
      },
      "source": [
        "# 열 이름 변경\n",
        "result2.columns = ['KOSPI', 'PORTFOLIO']\n",
        "result2"
      ],
      "execution_count": 131,
      "outputs": [
        {
          "output_type": "execute_result",
          "data": {
            "text/html": [
              "<div>\n",
              "<style scoped>\n",
              "    .dataframe tbody tr th:only-of-type {\n",
              "        vertical-align: middle;\n",
              "    }\n",
              "\n",
              "    .dataframe tbody tr th {\n",
              "        vertical-align: top;\n",
              "    }\n",
              "\n",
              "    .dataframe thead th {\n",
              "        text-align: right;\n",
              "    }\n",
              "</style>\n",
              "<table border=\"1\" class=\"dataframe\">\n",
              "  <thead>\n",
              "    <tr style=\"text-align: right;\">\n",
              "      <th></th>\n",
              "      <th>KOSPI</th>\n",
              "      <th>PORTFOLIO</th>\n",
              "    </tr>\n",
              "    <tr>\n",
              "      <th>Date</th>\n",
              "      <th></th>\n",
              "      <th></th>\n",
              "    </tr>\n",
              "  </thead>\n",
              "  <tbody>\n",
              "    <tr>\n",
              "      <th>2018-07-19</th>\n",
              "      <td>0.000000</td>\n",
              "      <td>0.000000</td>\n",
              "    </tr>\n",
              "    <tr>\n",
              "      <th>2018-07-20</th>\n",
              "      <td>0.003023</td>\n",
              "      <td>-0.008401</td>\n",
              "    </tr>\n",
              "    <tr>\n",
              "      <th>2018-07-23</th>\n",
              "      <td>-0.008684</td>\n",
              "      <td>-0.050876</td>\n",
              "    </tr>\n",
              "    <tr>\n",
              "      <th>2018-07-24</th>\n",
              "      <td>0.004799</td>\n",
              "      <td>0.027537</td>\n",
              "    </tr>\n",
              "    <tr>\n",
              "      <th>2018-07-25</th>\n",
              "      <td>-0.003144</td>\n",
              "      <td>-0.002873</td>\n",
              "    </tr>\n",
              "    <tr>\n",
              "      <th>...</th>\n",
              "      <td>...</td>\n",
              "      <td>...</td>\n",
              "    </tr>\n",
              "    <tr>\n",
              "      <th>2021-07-13</th>\n",
              "      <td>0.007673</td>\n",
              "      <td>0.024388</td>\n",
              "    </tr>\n",
              "    <tr>\n",
              "      <th>2021-07-14</th>\n",
              "      <td>-0.002008</td>\n",
              "      <td>-0.013547</td>\n",
              "    </tr>\n",
              "    <tr>\n",
              "      <th>2021-07-15</th>\n",
              "      <td>0.006558</td>\n",
              "      <td>0.030744</td>\n",
              "    </tr>\n",
              "    <tr>\n",
              "      <th>2021-07-16</th>\n",
              "      <td>-0.002833</td>\n",
              "      <td>-0.017388</td>\n",
              "    </tr>\n",
              "    <tr>\n",
              "      <th>2021-07-19</th>\n",
              "      <td>-0.010031</td>\n",
              "      <td>-0.024621</td>\n",
              "    </tr>\n",
              "  </tbody>\n",
              "</table>\n",
              "<p>740 rows × 2 columns</p>\n",
              "</div>"
            ],
            "text/plain": [
              "               KOSPI  PORTFOLIO\n",
              "Date                           \n",
              "2018-07-19  0.000000   0.000000\n",
              "2018-07-20  0.003023  -0.008401\n",
              "2018-07-23 -0.008684  -0.050876\n",
              "2018-07-24  0.004799   0.027537\n",
              "2018-07-25 -0.003144  -0.002873\n",
              "...              ...        ...\n",
              "2021-07-13  0.007673   0.024388\n",
              "2021-07-14 -0.002008  -0.013547\n",
              "2021-07-15  0.006558   0.030744\n",
              "2021-07-16 -0.002833  -0.017388\n",
              "2021-07-19 -0.010031  -0.024621\n",
              "\n",
              "[740 rows x 2 columns]"
            ]
          },
          "metadata": {
            "tags": []
          },
          "execution_count": 131
        }
      ]
    },
    {
      "cell_type": "code",
      "metadata": {
        "colab": {
          "base_uri": "https://localhost:8080/",
          "height": 445
        },
        "id": "-yYamHqVHlYN",
        "outputId": "fcbedec8-f867-4ba9-8f15-cb6e6965fe8c"
      },
      "source": [
        "# 1에서 시작해서, 전일대비 변동률(수익률)을 적용하여 수치화하기\n",
        "wealth2 = (1+result2).cumprod()\n",
        "wealth2"
      ],
      "execution_count": 132,
      "outputs": [
        {
          "output_type": "execute_result",
          "data": {
            "text/html": [
              "<div>\n",
              "<style scoped>\n",
              "    .dataframe tbody tr th:only-of-type {\n",
              "        vertical-align: middle;\n",
              "    }\n",
              "\n",
              "    .dataframe tbody tr th {\n",
              "        vertical-align: top;\n",
              "    }\n",
              "\n",
              "    .dataframe thead th {\n",
              "        text-align: right;\n",
              "    }\n",
              "</style>\n",
              "<table border=\"1\" class=\"dataframe\">\n",
              "  <thead>\n",
              "    <tr style=\"text-align: right;\">\n",
              "      <th></th>\n",
              "      <th>KOSPI</th>\n",
              "      <th>PORTFOLIO</th>\n",
              "    </tr>\n",
              "    <tr>\n",
              "      <th>Date</th>\n",
              "      <th></th>\n",
              "      <th></th>\n",
              "    </tr>\n",
              "  </thead>\n",
              "  <tbody>\n",
              "    <tr>\n",
              "      <th>2018-07-19</th>\n",
              "      <td>1.000000</td>\n",
              "      <td>1.000000</td>\n",
              "    </tr>\n",
              "    <tr>\n",
              "      <th>2018-07-20</th>\n",
              "      <td>1.003023</td>\n",
              "      <td>0.991599</td>\n",
              "    </tr>\n",
              "    <tr>\n",
              "      <th>2018-07-23</th>\n",
              "      <td>0.994313</td>\n",
              "      <td>0.941150</td>\n",
              "    </tr>\n",
              "    <tr>\n",
              "      <th>2018-07-24</th>\n",
              "      <td>0.999084</td>\n",
              "      <td>0.967066</td>\n",
              "    </tr>\n",
              "    <tr>\n",
              "      <th>2018-07-25</th>\n",
              "      <td>0.995943</td>\n",
              "      <td>0.964287</td>\n",
              "    </tr>\n",
              "    <tr>\n",
              "      <th>...</th>\n",
              "      <td>...</td>\n",
              "      <td>...</td>\n",
              "    </tr>\n",
              "    <tr>\n",
              "      <th>2021-07-13</th>\n",
              "      <td>1.433376</td>\n",
              "      <td>5.761887</td>\n",
              "    </tr>\n",
              "    <tr>\n",
              "      <th>2021-07-14</th>\n",
              "      <td>1.430497</td>\n",
              "      <td>5.683830</td>\n",
              "    </tr>\n",
              "    <tr>\n",
              "      <th>2021-07-15</th>\n",
              "      <td>1.439878</td>\n",
              "      <td>5.858572</td>\n",
              "    </tr>\n",
              "    <tr>\n",
              "      <th>2021-07-16</th>\n",
              "      <td>1.435799</td>\n",
              "      <td>5.756702</td>\n",
              "    </tr>\n",
              "    <tr>\n",
              "      <th>2021-07-19</th>\n",
              "      <td>1.421397</td>\n",
              "      <td>5.614968</td>\n",
              "    </tr>\n",
              "  </tbody>\n",
              "</table>\n",
              "<p>740 rows × 2 columns</p>\n",
              "</div>"
            ],
            "text/plain": [
              "               KOSPI  PORTFOLIO\n",
              "Date                           \n",
              "2018-07-19  1.000000   1.000000\n",
              "2018-07-20  1.003023   0.991599\n",
              "2018-07-23  0.994313   0.941150\n",
              "2018-07-24  0.999084   0.967066\n",
              "2018-07-25  0.995943   0.964287\n",
              "...              ...        ...\n",
              "2021-07-13  1.433376   5.761887\n",
              "2021-07-14  1.430497   5.683830\n",
              "2021-07-15  1.439878   5.858572\n",
              "2021-07-16  1.435799   5.756702\n",
              "2021-07-19  1.421397   5.614968\n",
              "\n",
              "[740 rows x 2 columns]"
            ]
          },
          "metadata": {
            "tags": []
          },
          "execution_count": 132
        }
      ]
    },
    {
      "cell_type": "markdown",
      "metadata": {
        "id": "UPCOj06u5nuQ"
      },
      "source": [
        "## 시각화"
      ]
    },
    {
      "cell_type": "code",
      "metadata": {
        "colab": {
          "base_uri": "https://localhost:8080/",
          "height": 307
        },
        "id": "CNCQLOf7G3Lg",
        "outputId": "9707a5ea-cc39-442a-bd75-5153253ac6f8"
      },
      "source": [
        "# 포트폴리오와 KOSPI 지수의 '누적 수익률 추이'를 시각화하여 비교\n",
        "\n",
        "# matplotlib.pyplot 스타일시트 설정\n",
        "plt.style.use('fivethirtyeight')\n",
        "\n",
        "plt.figure(figsize=(18,5))\n",
        "plt.plot(wealth2.index, wealth2.KOSPI , 'r', label='KOSPI')\n",
        "plt.plot(wealth2.index, wealth2.PORTFOLIO ,'b', label=\"PORTFOLIO(Speedy Rising)\")\n",
        "plt.grid(True)\n",
        "plt.title('Return Trend')\n",
        "plt.xlabel('Date',fontsize=18, labelpad=7)\n",
        "plt.ylabel('Return',fontsize=18, labelpad=7)\n",
        "plt.legend(loc='best')\n",
        "plt.show()"
      ],
      "execution_count": 133,
      "outputs": [
        {
          "output_type": "display_data",
          "data": {
            "image/png": "[encoded data removed]",
            "text/plain": [
              "<Figure size 1296x360 with 1 Axes>"
            ]
          },
          "metadata": {
            "tags": []
          }
        }
      ]
    },
    {
      "cell_type": "code",
      "metadata": {
        "colab": {
          "base_uri": "https://localhost:8080/",
          "height": 503
        },
        "id": "gSus6-iOITGN",
        "outputId": "7af7b281-1a12-410e-d917-b6d45153b7d4"
      },
      "source": [
        "# 변동률 비교\n",
        "plt.figure(figsize=(18,10))\n",
        "\n",
        "plt.subplot(2,1,1)\n",
        "plt.title('Volatility Trend')\n",
        "\n",
        "plt.plot(result2.index, result2.KOSPI , 'r', label='KOSPI')\n",
        "plt.yticks([-0.15, -0.10, -0.05, 0.00, 0.05, 0.10, 0.15])\n",
        "plt.grid(True)\n",
        "plt.ylabel('Volatility',fontsize=18, labelpad=7)\n",
        "plt.legend(loc='best')\n",
        "\n",
        "plt.subplot(2,1,2)\n",
        "plt.title('Volatility Trend')\n",
        "plt.plot(result2.index, result2.PORTFOLIO ,'b', label=\"PORTFOLIO(Speedy Rising)\")\n",
        "plt.yticks([-0.15, -0.10, -0.05, 0.00, 0.05, 0.10, 0.15])\n",
        "plt.ylabel('Volatility',fontsize=18, labelpad=7)\n",
        "plt.legend(loc='best')\n",
        "\n",
        "plt.grid(True)\n",
        "plt.show()"
      ],
      "execution_count": 134,
      "outputs": [
        {
          "output_type": "display_data",
          "data": {
            "image/png": "[encoded data removed]",
            "text/plain": [
              "<Figure size 1296x720 with 2 Axes>"
            ]
          },
          "metadata": {
            "tags": []
          }
        }
      ]
    },
    {
      "cell_type": "code",
      "metadata": {
        "colab": {
          "base_uri": "https://localhost:8080/",
          "height": 171
        },
        "id": "HtKNhlep3pod",
        "outputId": "982feb58-f206-4b5d-9377-e78e399d6903"
      },
      "source": [
        "portfolio_df_sorted2"
      ],
      "execution_count": 135,
      "outputs": [
        {
          "output_type": "execute_result",
          "data": {
            "text/html": [
              "<div>\n",
              "<style scoped>\n",
              "    .dataframe tbody tr th:only-of-type {\n",
              "        vertical-align: middle;\n",
              "    }\n",
              "\n",
              "    .dataframe tbody tr th {\n",
              "        vertical-align: top;\n",
              "    }\n",
              "\n",
              "    .dataframe thead th {\n",
              "        text-align: right;\n",
              "    }\n",
              "</style>\n",
              "<table border=\"1\" class=\"dataframe\">\n",
              "  <thead>\n",
              "    <tr style=\"text-align: right;\">\n",
              "      <th></th>\n",
              "      <th>종목명</th>\n",
              "      <th>종목코드</th>\n",
              "      <th>수량(주)</th>\n",
              "      <th>투자금액(원)</th>\n",
              "      <th>투자비중</th>\n",
              "    </tr>\n",
              "  </thead>\n",
              "  <tbody>\n",
              "    <tr>\n",
              "      <th>0</th>\n",
              "      <td>인텍플러스</td>\n",
              "      <td>064290</td>\n",
              "      <td>581.0</td>\n",
              "      <td>12578650.0</td>\n",
              "      <td>0.838987</td>\n",
              "    </tr>\n",
              "    <tr>\n",
              "      <th>1</th>\n",
              "      <td>유안타증권우</td>\n",
              "      <td>003475</td>\n",
              "      <td>523.0</td>\n",
              "      <td>2319505.0</td>\n",
              "      <td>0.154709</td>\n",
              "    </tr>\n",
              "    <tr>\n",
              "      <th>2</th>\n",
              "      <td>초록뱀미디어</td>\n",
              "      <td>047820</td>\n",
              "      <td>36.0</td>\n",
              "      <td>94500.0</td>\n",
              "      <td>0.006303</td>\n",
              "    </tr>\n",
              "    <tr>\n",
              "      <th>합계</th>\n",
              "      <td>NaN</td>\n",
              "      <td>NaN</td>\n",
              "      <td>1140.0</td>\n",
              "      <td>14992655.0</td>\n",
              "      <td>1.000000</td>\n",
              "    </tr>\n",
              "  </tbody>\n",
              "</table>\n",
              "</div>"
            ],
            "text/plain": [
              "       종목명    종목코드   수량(주)     투자금액(원)      투자비중\n",
              "0    인텍플러스  064290   581.0  12578650.0  0.838987\n",
              "1   유안타증권우  003475   523.0   2319505.0  0.154709\n",
              "2   초록뱀미디어  047820    36.0     94500.0  0.006303\n",
              "합계     NaN     NaN  1140.0  14992655.0  1.000000"
            ]
          },
          "metadata": {
            "tags": []
          },
          "execution_count": 135
        }
      ]
    },
    {
      "cell_type": "code",
      "metadata": {
        "id": "f8BULde1Hx3p",
        "colab": {
          "base_uri": "https://localhost:8080/"
        },
        "outputId": "5b66e863-c24b-4bc0-b362-73ef53debecb"
      },
      "source": [
        "print('----- Speedy rising portfolio performance -----')\n",
        "# Show Funds\n",
        "print('Funds:', portfolio_val, 'KRW')\n",
        "\n",
        "# Show Funds Remaining\n",
        "print('Funds Remaining: ', leftover2, ' KRW')\n",
        "\n",
        "# Show Portfolio performance\n",
        "ef2.portfolio_performance(verbose=True)\n",
        "rmse2 = da2._allocation_rmse_error(verbose=False)"
      ],
      "execution_count": 136,
      "outputs": [
        {
          "output_type": "stream",
          "text": [
            "----- Speedy rising portfolio performance -----\n",
            "Funds: 15000000 KRW\n",
            "Funds Remaining:  7345.0  KRW\n",
            "Expected annual return: 75.3%\n",
            "Annual volatility: 53.7%\n",
            "Sharpe Ratio: 1.36\n",
            "Allocation has RMSE: 0.000\n"
          ],
          "name": "stdout"
        }
      ]
    },
    {
      "cell_type": "code",
      "metadata": {
        "id": "n6DVn9-Gi03k"
      },
      "source": [
        ""
      ],
      "execution_count": null,
      "outputs": []
    }
  ]
}
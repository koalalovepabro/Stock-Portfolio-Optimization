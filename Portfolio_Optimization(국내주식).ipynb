{
  "nbformat": 4,
  "nbformat_minor": 0,
  "metadata": {
    "colab": {
      "name": "Portfolio Optimization(국내주식).ipynb",
      "provenance": [],
      "authorship_tag": "ABX9TyOkFbv+jcnepJFArawJYh7B",
      "include_colab_link": true
    },
    "kernelspec": {
      "name": "python3",
      "display_name": "Python 3"
    },
    "language_info": {
      "name": "python"
    }
  },
  "cells": [
    {
      "cell_type": "markdown",
      "metadata": {
        "id": "view-in-github",
        "colab_type": "text"
      },
      "source": [
        "<a href=\"https://colab.research.google.com/github/koalalovepabro/Stock-Portfolio-Optimization/blob/main/Portfolio_Optimization(%EA%B5%AD%EB%82%B4%EC%A3%BC%EC%8B%9D).ipynb\" target=\"_parent\"><img src=\"https://colab.research.google.com/assets/colab-badge.svg\" alt=\"Open In Colab\"/></a>"
      ]
    },
    {
      "cell_type": "code",
      "metadata": {
        "id": "m9qpcypjTJuQ"
      },
      "source": [
        "!pip -q install finance-datareader"
      ],
      "execution_count": 1,
      "outputs": []
    },
    {
      "cell_type": "code",
      "metadata": {
        "id": "05QMvEPCSo6Z"
      },
      "source": [
        "# Import the python libraries\n",
        "from pandas_datareader import data as web\n",
        "import pandas as pd\n",
        "import numpy as np\n",
        "from datetime import datetime\n",
        "import matplotlib.pyplot as plt\n",
        "\n",
        "# matplotlib.pyplot 스타일시트 설정\n",
        "plt.style.use('fivethirtyeight')"
      ],
      "execution_count": 2,
      "outputs": []
    },
    {
      "cell_type": "markdown",
      "metadata": {
        "id": "FuUDJCz5S-nG"
      },
      "source": [
        "# 가상 포트폴리오 만들기"
      ]
    },
    {
      "cell_type": "code",
      "metadata": {
        "id": "Otcwz7blS-pm"
      },
      "source": [
        "# 가상 포트폴리오에 대한 주식 가격 데이터와 티커를 가져오기\n",
        "# 국내 종목(삼성전자, SK하이닉스, 카카오, NAVER, LG화학 )\n",
        "assets = ['005930', '000660', '035720', '035420', '051910']"
      ],
      "execution_count": 3,
      "outputs": []
    },
    {
      "cell_type": "code",
      "metadata": {
        "colab": {
          "base_uri": "https://localhost:8080/"
        },
        "id": "_eoUVd29TEOD",
        "outputId": "a689a30e-9597-49f1-85cb-d704cb8a85e4"
      },
      "source": [
        "# 가장 기본적인 포트폴리오를 구성\n",
        "# 기본 포트폴리오는 각 주식이 동등한 가중치를 갖도록 설정\n",
        "# Assign weights to the stocks. Weights must = 1 so 0.2 for each\n",
        "weights = np.array([0.2, 0.2, 0.2, 0.2, 0.2])\n",
        "weights"
      ],
      "execution_count": 4,
      "outputs": [
        {
          "output_type": "execute_result",
          "data": {
            "text/plain": [
              "array([0.2, 0.2, 0.2, 0.2, 0.2])"
            ]
          },
          "metadata": {
            "tags": []
          },
          "execution_count": 4
        }
      ]
    },
    {
      "cell_type": "code",
      "metadata": {
        "colab": {
          "base_uri": "https://localhost:8080/",
          "height": 447
        },
        "id": "cejBBmxES-sR",
        "outputId": "ec124d95-4669-4ef5-b592-ee5e2a00d1ff"
      },
      "source": [
        "import FinanceDataReader as fdr\n",
        "\n",
        "# 주식 시작일은 2013년 1월 1일이고 종료일은 현재 날짜 (오늘)로 설정\n",
        "#Get the stock starting date\n",
        "start_date = '2013-01-01'\n",
        "today = datetime.today().strftime('%Y-%m-%d')\n",
        "\n",
        "# 각 주식의 일별 종가 데이터를 저장할 데이터 프레임을 생성\n",
        "#Create a dataframe to store the adjusted close price of the stocks\n",
        "df = pd.DataFrame()\n",
        "\n",
        "# FinanceDataReader로 각 종목의 종가데이터 불러오기\n",
        "for stock in assets:\n",
        "  df[stock] = fdr.DataReader(stock, start_date, today)['Close']\n",
        "df"
      ],
      "execution_count": 5,
      "outputs": [
        {
          "output_type": "execute_result",
          "data": {
            "text/html": [
              "<div>\n",
              "<style scoped>\n",
              "    .dataframe tbody tr th:only-of-type {\n",
              "        vertical-align: middle;\n",
              "    }\n",
              "\n",
              "    .dataframe tbody tr th {\n",
              "        vertical-align: top;\n",
              "    }\n",
              "\n",
              "    .dataframe thead th {\n",
              "        text-align: right;\n",
              "    }\n",
              "</style>\n",
              "<table border=\"1\" class=\"dataframe\">\n",
              "  <thead>\n",
              "    <tr style=\"text-align: right;\">\n",
              "      <th></th>\n",
              "      <th>005930</th>\n",
              "      <th>000660</th>\n",
              "      <th>035720</th>\n",
              "      <th>035420</th>\n",
              "      <th>051910</th>\n",
              "    </tr>\n",
              "    <tr>\n",
              "      <th>Date</th>\n",
              "      <th></th>\n",
              "      <th></th>\n",
              "      <th></th>\n",
              "      <th></th>\n",
              "      <th></th>\n",
              "    </tr>\n",
              "  </thead>\n",
              "  <tbody>\n",
              "    <tr>\n",
              "      <th>2013-01-02</th>\n",
              "      <td>31520</td>\n",
              "      <td>26600</td>\n",
              "      <td>18726</td>\n",
              "      <td>71413</td>\n",
              "      <td>340000</td>\n",
              "    </tr>\n",
              "    <tr>\n",
              "      <th>2013-01-03</th>\n",
              "      <td>30860</td>\n",
              "      <td>26650</td>\n",
              "      <td>18807</td>\n",
              "      <td>69372</td>\n",
              "      <td>342500</td>\n",
              "    </tr>\n",
              "    <tr>\n",
              "      <th>2013-01-04</th>\n",
              "      <td>30500</td>\n",
              "      <td>26350</td>\n",
              "      <td>20051</td>\n",
              "      <td>71099</td>\n",
              "      <td>331000</td>\n",
              "    </tr>\n",
              "    <tr>\n",
              "      <th>2013-01-07</th>\n",
              "      <td>30400</td>\n",
              "      <td>25900</td>\n",
              "      <td>20814</td>\n",
              "      <td>75336</td>\n",
              "      <td>325500</td>\n",
              "    </tr>\n",
              "    <tr>\n",
              "      <th>2013-01-08</th>\n",
              "      <td>30000</td>\n",
              "      <td>26250</td>\n",
              "      <td>20673</td>\n",
              "      <td>74395</td>\n",
              "      <td>325500</td>\n",
              "    </tr>\n",
              "    <tr>\n",
              "      <th>...</th>\n",
              "      <td>...</td>\n",
              "      <td>...</td>\n",
              "      <td>...</td>\n",
              "      <td>...</td>\n",
              "      <td>...</td>\n",
              "    </tr>\n",
              "    <tr>\n",
              "      <th>2021-07-06</th>\n",
              "      <td>81200</td>\n",
              "      <td>125000</td>\n",
              "      <td>157500</td>\n",
              "      <td>409500</td>\n",
              "      <td>873000</td>\n",
              "    </tr>\n",
              "    <tr>\n",
              "      <th>2021-07-07</th>\n",
              "      <td>80800</td>\n",
              "      <td>123500</td>\n",
              "      <td>161000</td>\n",
              "      <td>417500</td>\n",
              "      <td>872000</td>\n",
              "    </tr>\n",
              "    <tr>\n",
              "      <th>2021-07-08</th>\n",
              "      <td>79900</td>\n",
              "      <td>121500</td>\n",
              "      <td>163000</td>\n",
              "      <td>422000</td>\n",
              "      <td>859000</td>\n",
              "    </tr>\n",
              "    <tr>\n",
              "      <th>2021-07-09</th>\n",
              "      <td>79400</td>\n",
              "      <td>119500</td>\n",
              "      <td>160500</td>\n",
              "      <td>415500</td>\n",
              "      <td>833000</td>\n",
              "    </tr>\n",
              "    <tr>\n",
              "      <th>2021-07-12</th>\n",
              "      <td>79700</td>\n",
              "      <td>120000</td>\n",
              "      <td>162000</td>\n",
              "      <td>418500</td>\n",
              "      <td>849000</td>\n",
              "    </tr>\n",
              "  </tbody>\n",
              "</table>\n",
              "<p>2098 rows × 5 columns</p>\n",
              "</div>"
            ],
            "text/plain": [
              "            005930  000660  035720  035420  051910\n",
              "Date                                              \n",
              "2013-01-02   31520   26600   18726   71413  340000\n",
              "2013-01-03   30860   26650   18807   69372  342500\n",
              "2013-01-04   30500   26350   20051   71099  331000\n",
              "2013-01-07   30400   25900   20814   75336  325500\n",
              "2013-01-08   30000   26250   20673   74395  325500\n",
              "...            ...     ...     ...     ...     ...\n",
              "2021-07-06   81200  125000  157500  409500  873000\n",
              "2021-07-07   80800  123500  161000  417500  872000\n",
              "2021-07-08   79900  121500  163000  422000  859000\n",
              "2021-07-09   79400  119500  160500  415500  833000\n",
              "2021-07-12   79700  120000  162000  418500  849000\n",
              "\n",
              "[2098 rows x 5 columns]"
            ]
          },
          "metadata": {
            "tags": []
          },
          "execution_count": 5
        }
      ]
    },
    {
      "cell_type": "code",
      "metadata": {
        "colab": {
          "base_uri": "https://localhost:8080/",
          "height": 447
        },
        "id": "cki6C1uFS-ur",
        "outputId": "4ddb40e0-0e07-4109-bc3e-ed3e06e3a47b"
      },
      "source": [
        "# 칼럼명을 회사이름으로 변경\n",
        "df.columns = ['삼성전자', 'SK하이닉스', '카카오', 'NAVER', 'LG화학']\n",
        "df"
      ],
      "execution_count": 6,
      "outputs": [
        {
          "output_type": "execute_result",
          "data": {
            "text/html": [
              "<div>\n",
              "<style scoped>\n",
              "    .dataframe tbody tr th:only-of-type {\n",
              "        vertical-align: middle;\n",
              "    }\n",
              "\n",
              "    .dataframe tbody tr th {\n",
              "        vertical-align: top;\n",
              "    }\n",
              "\n",
              "    .dataframe thead th {\n",
              "        text-align: right;\n",
              "    }\n",
              "</style>\n",
              "<table border=\"1\" class=\"dataframe\">\n",
              "  <thead>\n",
              "    <tr style=\"text-align: right;\">\n",
              "      <th></th>\n",
              "      <th>삼성전자</th>\n",
              "      <th>SK하이닉스</th>\n",
              "      <th>카카오</th>\n",
              "      <th>NAVER</th>\n",
              "      <th>LG화학</th>\n",
              "    </tr>\n",
              "    <tr>\n",
              "      <th>Date</th>\n",
              "      <th></th>\n",
              "      <th></th>\n",
              "      <th></th>\n",
              "      <th></th>\n",
              "      <th></th>\n",
              "    </tr>\n",
              "  </thead>\n",
              "  <tbody>\n",
              "    <tr>\n",
              "      <th>2013-01-02</th>\n",
              "      <td>31520</td>\n",
              "      <td>26600</td>\n",
              "      <td>18726</td>\n",
              "      <td>71413</td>\n",
              "      <td>340000</td>\n",
              "    </tr>\n",
              "    <tr>\n",
              "      <th>2013-01-03</th>\n",
              "      <td>30860</td>\n",
              "      <td>26650</td>\n",
              "      <td>18807</td>\n",
              "      <td>69372</td>\n",
              "      <td>342500</td>\n",
              "    </tr>\n",
              "    <tr>\n",
              "      <th>2013-01-04</th>\n",
              "      <td>30500</td>\n",
              "      <td>26350</td>\n",
              "      <td>20051</td>\n",
              "      <td>71099</td>\n",
              "      <td>331000</td>\n",
              "    </tr>\n",
              "    <tr>\n",
              "      <th>2013-01-07</th>\n",
              "      <td>30400</td>\n",
              "      <td>25900</td>\n",
              "      <td>20814</td>\n",
              "      <td>75336</td>\n",
              "      <td>325500</td>\n",
              "    </tr>\n",
              "    <tr>\n",
              "      <th>2013-01-08</th>\n",
              "      <td>30000</td>\n",
              "      <td>26250</td>\n",
              "      <td>20673</td>\n",
              "      <td>74395</td>\n",
              "      <td>325500</td>\n",
              "    </tr>\n",
              "    <tr>\n",
              "      <th>...</th>\n",
              "      <td>...</td>\n",
              "      <td>...</td>\n",
              "      <td>...</td>\n",
              "      <td>...</td>\n",
              "      <td>...</td>\n",
              "    </tr>\n",
              "    <tr>\n",
              "      <th>2021-07-06</th>\n",
              "      <td>81200</td>\n",
              "      <td>125000</td>\n",
              "      <td>157500</td>\n",
              "      <td>409500</td>\n",
              "      <td>873000</td>\n",
              "    </tr>\n",
              "    <tr>\n",
              "      <th>2021-07-07</th>\n",
              "      <td>80800</td>\n",
              "      <td>123500</td>\n",
              "      <td>161000</td>\n",
              "      <td>417500</td>\n",
              "      <td>872000</td>\n",
              "    </tr>\n",
              "    <tr>\n",
              "      <th>2021-07-08</th>\n",
              "      <td>79900</td>\n",
              "      <td>121500</td>\n",
              "      <td>163000</td>\n",
              "      <td>422000</td>\n",
              "      <td>859000</td>\n",
              "    </tr>\n",
              "    <tr>\n",
              "      <th>2021-07-09</th>\n",
              "      <td>79400</td>\n",
              "      <td>119500</td>\n",
              "      <td>160500</td>\n",
              "      <td>415500</td>\n",
              "      <td>833000</td>\n",
              "    </tr>\n",
              "    <tr>\n",
              "      <th>2021-07-12</th>\n",
              "      <td>79700</td>\n",
              "      <td>120000</td>\n",
              "      <td>162000</td>\n",
              "      <td>418500</td>\n",
              "      <td>849000</td>\n",
              "    </tr>\n",
              "  </tbody>\n",
              "</table>\n",
              "<p>2098 rows × 5 columns</p>\n",
              "</div>"
            ],
            "text/plain": [
              "             삼성전자  SK하이닉스     카카오   NAVER    LG화학\n",
              "Date                                             \n",
              "2013-01-02  31520   26600   18726   71413  340000\n",
              "2013-01-03  30860   26650   18807   69372  342500\n",
              "2013-01-04  30500   26350   20051   71099  331000\n",
              "2013-01-07  30400   25900   20814   75336  325500\n",
              "2013-01-08  30000   26250   20673   74395  325500\n",
              "...           ...     ...     ...     ...     ...\n",
              "2021-07-06  81200  125000  157500  409500  873000\n",
              "2021-07-07  80800  123500  161000  417500  872000\n",
              "2021-07-08  79900  121500  163000  422000  859000\n",
              "2021-07-09  79400  119500  160500  415500  833000\n",
              "2021-07-12  79700  120000  162000  418500  849000\n",
              "\n",
              "[2098 rows x 5 columns]"
            ]
          },
          "metadata": {
            "tags": []
          },
          "execution_count": 6
        }
      ]
    },
    {
      "cell_type": "markdown",
      "metadata": {
        "id": "QyMincJ8ZmM1"
      },
      "source": [
        "#### 한글 폰트 설정"
      ]
    },
    {
      "cell_type": "code",
      "metadata": {
        "colab": {
          "base_uri": "https://localhost:8080/",
          "height": 174
        },
        "id": "yS4Rnsb1Wy-y",
        "outputId": "bb64601b-9db6-4283-bffe-dd12f4019888"
      },
      "source": [
        "print ('설정파일 위치: ', mpl.matplotlib_fname())"
      ],
      "execution_count": 7,
      "outputs": [
        {
          "output_type": "error",
          "ename": "NameError",
          "evalue": "ignored",
          "traceback": [
            "\u001b[0;31m---------------------------------------------------------------------------\u001b[0m",
            "\u001b[0;31mNameError\u001b[0m                                 Traceback (most recent call last)",
            "\u001b[0;32m<ipython-input-7-67d7406889d4>\u001b[0m in \u001b[0;36m<module>\u001b[0;34m()\u001b[0m\n\u001b[0;32m----> 1\u001b[0;31m \u001b[0mprint\u001b[0m \u001b[0;34m(\u001b[0m\u001b[0;34m'설정파일 위치: '\u001b[0m\u001b[0;34m,\u001b[0m \u001b[0mmpl\u001b[0m\u001b[0;34m.\u001b[0m\u001b[0mmatplotlib_fname\u001b[0m\u001b[0;34m(\u001b[0m\u001b[0;34m)\u001b[0m\u001b[0;34m)\u001b[0m\u001b[0;34m\u001b[0m\u001b[0;34m\u001b[0m\u001b[0m\n\u001b[0m",
            "\u001b[0;31mNameError\u001b[0m: name 'mpl' is not defined"
          ]
        }
      ]
    },
    {
      "cell_type": "code",
      "metadata": {
        "id": "_3GR1O_WW0Ed"
      },
      "source": [
        "import matplotlib.font_manager as fm\n",
        "font_list = fm.findSystemFonts(fontpaths=None, fontext='ttf')\n",
        "# ttf 폰트 전체갯수\n",
        "print(len(font_list)) "
      ],
      "execution_count": null,
      "outputs": []
    },
    {
      "cell_type": "code",
      "metadata": {
        "id": "o-SBQ3RYW0Bw"
      },
      "source": [
        "font_list"
      ],
      "execution_count": null,
      "outputs": []
    },
    {
      "cell_type": "code",
      "metadata": {
        "id": "7uB0xo0jWz_O"
      },
      "source": [
        "# OSX 의 설치 된 폰트를 가져오는 함수\n",
        "font_list_mac = fm.OSXInstalledFonts()\n",
        "print(len(font_list_mac))"
      ],
      "execution_count": null,
      "outputs": []
    },
    {
      "cell_type": "code",
      "metadata": {
        "id": "fLyQr9sKXNso"
      },
      "source": [
        "# 시스템 폰트에서 읽어온 리스트에서 상위 10개만 출력\n",
        "font_list[:10] "
      ],
      "execution_count": null,
      "outputs": []
    },
    {
      "cell_type": "code",
      "metadata": {
        "id": "EZfyY3eOXNn8"
      },
      "source": [
        "f = [f.name for f in fm.fontManager.ttflist]\n",
        "print(len(font_list))\n",
        "# 10개의 폰트명 만 출력\n",
        "f[:10]"
      ],
      "execution_count": null,
      "outputs": []
    },
    {
      "cell_type": "code",
      "metadata": {
        "id": "65bJ1nJ3XSXG"
      },
      "source": [
        "[(f.name, f.fname) for f in fm.fontManager.ttflist if 'Nanum' in f.name]"
      ],
      "execution_count": null,
      "outputs": []
    },
    {
      "cell_type": "code",
      "metadata": {
        "id": "Vhqz8Vo9Vute"
      },
      "source": [
        "from matplotlib import font_manager"
      ],
      "execution_count": null,
      "outputs": []
    },
    {
      "cell_type": "code",
      "metadata": {
        "id": "OOUw6eohVyOt"
      },
      "source": [
        "!apt install fonts-nanum"
      ],
      "execution_count": null,
      "outputs": []
    },
    {
      "cell_type": "code",
      "metadata": {
        "id": "QCKOnDXAV1jF"
      },
      "source": [
        "for font in font_manager.fontManager.ttflist:\n",
        "  if 'Nanum' in font.name:\n",
        "    print(font.name, font.fname)"
      ],
      "execution_count": null,
      "outputs": []
    },
    {
      "cell_type": "code",
      "metadata": {
        "id": "WHIijqpuVk3n"
      },
      "source": [
        "plt.rc('font', family='Malgun Gothic')"
      ],
      "execution_count": null,
      "outputs": []
    },
    {
      "cell_type": "markdown",
      "metadata": {
        "id": "5M-iMq_JZrrr"
      },
      "source": [
        "## 시각화"
      ]
    },
    {
      "cell_type": "code",
      "metadata": {
        "colab": {
          "base_uri": "https://localhost:8080/",
          "height": 1000
        },
        "id": "fBYpR7Y_S-w0",
        "outputId": "882ca50b-ee2b-462d-d247-93d761c9e96c"
      },
      "source": [
        "# 주식 가격이 시간에 따라 어떻게 변했는지 시각화하기\n",
        "# Create the title 'Portfolio Adj Close Price History\n",
        "title = 'Portfolio Close Price History    '\n",
        "\n",
        "#Get the stocks\n",
        "my_stocks = df\n",
        "\n",
        "#Create and plot the graph\n",
        "plt.figure(figsize=(12,8))\n",
        "\n",
        "# Loop through each stock and plot the Adj Close for each day\n",
        "for c in my_stocks.columns.values:  # 종목 하나씩 반복\n",
        "  plt.plot( my_stocks[c], label=c) #plt.plot( X-Axis , Y-Axis, line_width, alpha_for_blending,  label)\n",
        "  print(my_stocks[c])\n",
        "# # 한글 폰트 전역 설정\n",
        "# plt.rcParams['font.family'] = 'NanumGothic'\n",
        "\n",
        "# # 한글 폰트 사이즈 전역 설정\n",
        "# plt.rcParams['font.size'] = 8\n",
        "\n",
        "\n",
        "print(my_stocks.columns.values)\n",
        "\n",
        "plt.title(title)\n",
        "plt.xlabel('Date',fontsize=18)\n",
        "plt.ylabel('Close Price (KRW)',fontsize=18)\n",
        "plt.legend(my_stocks.columns.values, loc='upper left')\n",
        "plt.show()"
      ],
      "execution_count": 8,
      "outputs": [
        {
          "output_type": "stream",
          "text": [
            "Date\n",
            "2013-01-02    31520\n",
            "2013-01-03    30860\n",
            "2013-01-04    30500\n",
            "2013-01-07    30400\n",
            "2013-01-08    30000\n",
            "              ...  \n",
            "2021-07-06    81200\n",
            "2021-07-07    80800\n",
            "2021-07-08    79900\n",
            "2021-07-09    79400\n",
            "2021-07-12    79700\n",
            "Name: 삼성전자, Length: 2098, dtype: int64\n",
            "Date\n",
            "2013-01-02     26600\n",
            "2013-01-03     26650\n",
            "2013-01-04     26350\n",
            "2013-01-07     25900\n",
            "2013-01-08     26250\n",
            "               ...  \n",
            "2021-07-06    125000\n",
            "2021-07-07    123500\n",
            "2021-07-08    121500\n",
            "2021-07-09    119500\n",
            "2021-07-12    120000\n",
            "Name: SK하이닉스, Length: 2098, dtype: int64\n",
            "Date\n",
            "2013-01-02     18726\n",
            "2013-01-03     18807\n",
            "2013-01-04     20051\n",
            "2013-01-07     20814\n",
            "2013-01-08     20673\n",
            "               ...  \n",
            "2021-07-06    157500\n",
            "2021-07-07    161000\n",
            "2021-07-08    163000\n",
            "2021-07-09    160500\n",
            "2021-07-12    162000\n",
            "Name: 카카오, Length: 2098, dtype: int64\n",
            "Date\n",
            "2013-01-02     71413\n",
            "2013-01-03     69372\n",
            "2013-01-04     71099\n",
            "2013-01-07     75336\n",
            "2013-01-08     74395\n",
            "               ...  \n",
            "2021-07-06    409500\n",
            "2021-07-07    417500\n",
            "2021-07-08    422000\n",
            "2021-07-09    415500\n",
            "2021-07-12    418500\n",
            "Name: NAVER, Length: 2098, dtype: int64\n",
            "Date\n",
            "2013-01-02    340000\n",
            "2013-01-03    342500\n",
            "2013-01-04    331000\n",
            "2013-01-07    325500\n",
            "2013-01-08    325500\n",
            "               ...  \n",
            "2021-07-06    873000\n",
            "2021-07-07    872000\n",
            "2021-07-08    859000\n",
            "2021-07-09    833000\n",
            "2021-07-12    849000\n",
            "Name: LG화학, Length: 2098, dtype: int64\n",
            "['삼성전자' 'SK하이닉스' '카카오' 'NAVER' 'LG화학']\n"
          ],
          "name": "stdout"
        },
        {
          "output_type": "stream",
          "text": [
            "/usr/local/lib/python3.7/dist-packages/matplotlib/backends/backend_agg.py:214: RuntimeWarning: Glyph 49340 missing from current font.\n",
            "  font.set_text(s, 0.0, flags=flags)\n",
            "/usr/local/lib/python3.7/dist-packages/matplotlib/backends/backend_agg.py:214: RuntimeWarning: Glyph 49457 missing from current font.\n",
            "  font.set_text(s, 0.0, flags=flags)\n",
            "/usr/local/lib/python3.7/dist-packages/matplotlib/backends/backend_agg.py:214: RuntimeWarning: Glyph 51204 missing from current font.\n",
            "  font.set_text(s, 0.0, flags=flags)\n",
            "/usr/local/lib/python3.7/dist-packages/matplotlib/backends/backend_agg.py:214: RuntimeWarning: Glyph 51088 missing from current font.\n",
            "  font.set_text(s, 0.0, flags=flags)\n",
            "/usr/local/lib/python3.7/dist-packages/matplotlib/backends/backend_agg.py:214: RuntimeWarning: Glyph 54616 missing from current font.\n",
            "  font.set_text(s, 0.0, flags=flags)\n",
            "/usr/local/lib/python3.7/dist-packages/matplotlib/backends/backend_agg.py:214: RuntimeWarning: Glyph 51060 missing from current font.\n",
            "  font.set_text(s, 0.0, flags=flags)\n",
            "/usr/local/lib/python3.7/dist-packages/matplotlib/backends/backend_agg.py:214: RuntimeWarning: Glyph 45769 missing from current font.\n",
            "  font.set_text(s, 0.0, flags=flags)\n",
            "/usr/local/lib/python3.7/dist-packages/matplotlib/backends/backend_agg.py:214: RuntimeWarning: Glyph 49828 missing from current font.\n",
            "  font.set_text(s, 0.0, flags=flags)\n",
            "/usr/local/lib/python3.7/dist-packages/matplotlib/backends/backend_agg.py:214: RuntimeWarning: Glyph 52852 missing from current font.\n",
            "  font.set_text(s, 0.0, flags=flags)\n",
            "/usr/local/lib/python3.7/dist-packages/matplotlib/backends/backend_agg.py:214: RuntimeWarning: Glyph 50724 missing from current font.\n",
            "  font.set_text(s, 0.0, flags=flags)\n",
            "/usr/local/lib/python3.7/dist-packages/matplotlib/backends/backend_agg.py:214: RuntimeWarning: Glyph 54868 missing from current font.\n",
            "  font.set_text(s, 0.0, flags=flags)\n",
            "/usr/local/lib/python3.7/dist-packages/matplotlib/backends/backend_agg.py:214: RuntimeWarning: Glyph 54617 missing from current font.\n",
            "  font.set_text(s, 0.0, flags=flags)\n",
            "/usr/local/lib/python3.7/dist-packages/matplotlib/backends/backend_agg.py:183: RuntimeWarning: Glyph 49340 missing from current font.\n",
            "  font.set_text(s, 0, flags=flags)\n",
            "/usr/local/lib/python3.7/dist-packages/matplotlib/backends/backend_agg.py:183: RuntimeWarning: Glyph 49457 missing from current font.\n",
            "  font.set_text(s, 0, flags=flags)\n",
            "/usr/local/lib/python3.7/dist-packages/matplotlib/backends/backend_agg.py:183: RuntimeWarning: Glyph 51204 missing from current font.\n",
            "  font.set_text(s, 0, flags=flags)\n",
            "/usr/local/lib/python3.7/dist-packages/matplotlib/backends/backend_agg.py:183: RuntimeWarning: Glyph 51088 missing from current font.\n",
            "  font.set_text(s, 0, flags=flags)\n",
            "/usr/local/lib/python3.7/dist-packages/matplotlib/backends/backend_agg.py:183: RuntimeWarning: Glyph 54616 missing from current font.\n",
            "  font.set_text(s, 0, flags=flags)\n",
            "/usr/local/lib/python3.7/dist-packages/matplotlib/backends/backend_agg.py:183: RuntimeWarning: Glyph 51060 missing from current font.\n",
            "  font.set_text(s, 0, flags=flags)\n",
            "/usr/local/lib/python3.7/dist-packages/matplotlib/backends/backend_agg.py:183: RuntimeWarning: Glyph 45769 missing from current font.\n",
            "  font.set_text(s, 0, flags=flags)\n",
            "/usr/local/lib/python3.7/dist-packages/matplotlib/backends/backend_agg.py:183: RuntimeWarning: Glyph 49828 missing from current font.\n",
            "  font.set_text(s, 0, flags=flags)\n",
            "/usr/local/lib/python3.7/dist-packages/matplotlib/backends/backend_agg.py:183: RuntimeWarning: Glyph 52852 missing from current font.\n",
            "  font.set_text(s, 0, flags=flags)\n",
            "/usr/local/lib/python3.7/dist-packages/matplotlib/backends/backend_agg.py:183: RuntimeWarning: Glyph 50724 missing from current font.\n",
            "  font.set_text(s, 0, flags=flags)\n",
            "/usr/local/lib/python3.7/dist-packages/matplotlib/backends/backend_agg.py:183: RuntimeWarning: Glyph 54868 missing from current font.\n",
            "  font.set_text(s, 0, flags=flags)\n",
            "/usr/local/lib/python3.7/dist-packages/matplotlib/backends/backend_agg.py:183: RuntimeWarning: Glyph 54617 missing from current font.\n",
            "  font.set_text(s, 0, flags=flags)\n"
          ],
          "name": "stderr"
        },
        {
          "output_type": "display_data",
          "data": {
            "image/png": "[encoded data removed]",
            "text/plain": [
              "<Figure size 864x576 with 1 Axes>"
            ]
          },
          "metadata": {
            "tags": []
          }
        }
      ]
    },
    {
      "cell_type": "markdown",
      "metadata": {
        "id": "Aoklgq8OS-zI"
      },
      "source": [
        "# Financial Calculations"
      ]
    },
    {
      "cell_type": "markdown",
      "metadata": {
        "id": "r_aM8FSebVwi"
      },
      "source": [
        "## 일일 단순 수익률 계산"
      ]
    },
    {
      "cell_type": "code",
      "metadata": {
        "colab": {
          "base_uri": "https://localhost:8080/",
          "height": 447
        },
        "id": "7__Cll4ES-1a",
        "outputId": "f11b6d05-12c0-4022-f284-dc1cd8f968c2"
      },
      "source": [
        "# (new_price +- old_price) / old_price 또는 (new_price / old_price)-1의 계산을 통해 \n",
        "# 일일 단순 수익률을 표시\n",
        "#Show the daily simple returns, NOTE: Formula = new_price/old_price - 1\n",
        "returns = df.pct_change()\n",
        "returns"
      ],
      "execution_count": 9,
      "outputs": [
        {
          "output_type": "execute_result",
          "data": {
            "text/html": [
              "<div>\n",
              "<style scoped>\n",
              "    .dataframe tbody tr th:only-of-type {\n",
              "        vertical-align: middle;\n",
              "    }\n",
              "\n",
              "    .dataframe tbody tr th {\n",
              "        vertical-align: top;\n",
              "    }\n",
              "\n",
              "    .dataframe thead th {\n",
              "        text-align: right;\n",
              "    }\n",
              "</style>\n",
              "<table border=\"1\" class=\"dataframe\">\n",
              "  <thead>\n",
              "    <tr style=\"text-align: right;\">\n",
              "      <th></th>\n",
              "      <th>삼성전자</th>\n",
              "      <th>SK하이닉스</th>\n",
              "      <th>카카오</th>\n",
              "      <th>NAVER</th>\n",
              "      <th>LG화학</th>\n",
              "    </tr>\n",
              "    <tr>\n",
              "      <th>Date</th>\n",
              "      <th></th>\n",
              "      <th></th>\n",
              "      <th></th>\n",
              "      <th></th>\n",
              "      <th></th>\n",
              "    </tr>\n",
              "  </thead>\n",
              "  <tbody>\n",
              "    <tr>\n",
              "      <th>2013-01-02</th>\n",
              "      <td>NaN</td>\n",
              "      <td>NaN</td>\n",
              "      <td>NaN</td>\n",
              "      <td>NaN</td>\n",
              "      <td>NaN</td>\n",
              "    </tr>\n",
              "    <tr>\n",
              "      <th>2013-01-03</th>\n",
              "      <td>-0.020939</td>\n",
              "      <td>0.001880</td>\n",
              "      <td>0.004326</td>\n",
              "      <td>-0.028580</td>\n",
              "      <td>0.007353</td>\n",
              "    </tr>\n",
              "    <tr>\n",
              "      <th>2013-01-04</th>\n",
              "      <td>-0.011666</td>\n",
              "      <td>-0.011257</td>\n",
              "      <td>0.066146</td>\n",
              "      <td>0.024895</td>\n",
              "      <td>-0.033577</td>\n",
              "    </tr>\n",
              "    <tr>\n",
              "      <th>2013-01-07</th>\n",
              "      <td>-0.003279</td>\n",
              "      <td>-0.017078</td>\n",
              "      <td>0.038053</td>\n",
              "      <td>0.059593</td>\n",
              "      <td>-0.016616</td>\n",
              "    </tr>\n",
              "    <tr>\n",
              "      <th>2013-01-08</th>\n",
              "      <td>-0.013158</td>\n",
              "      <td>0.013514</td>\n",
              "      <td>-0.006774</td>\n",
              "      <td>-0.012491</td>\n",
              "      <td>0.000000</td>\n",
              "    </tr>\n",
              "    <tr>\n",
              "      <th>...</th>\n",
              "      <td>...</td>\n",
              "      <td>...</td>\n",
              "      <td>...</td>\n",
              "      <td>...</td>\n",
              "      <td>...</td>\n",
              "    </tr>\n",
              "    <tr>\n",
              "      <th>2021-07-06</th>\n",
              "      <td>0.009950</td>\n",
              "      <td>0.016260</td>\n",
              "      <td>0.003185</td>\n",
              "      <td>-0.001220</td>\n",
              "      <td>0.003448</td>\n",
              "    </tr>\n",
              "    <tr>\n",
              "      <th>2021-07-07</th>\n",
              "      <td>-0.004926</td>\n",
              "      <td>-0.012000</td>\n",
              "      <td>0.022222</td>\n",
              "      <td>0.019536</td>\n",
              "      <td>-0.001145</td>\n",
              "    </tr>\n",
              "    <tr>\n",
              "      <th>2021-07-08</th>\n",
              "      <td>-0.011139</td>\n",
              "      <td>-0.016194</td>\n",
              "      <td>0.012422</td>\n",
              "      <td>0.010778</td>\n",
              "      <td>-0.014908</td>\n",
              "    </tr>\n",
              "    <tr>\n",
              "      <th>2021-07-09</th>\n",
              "      <td>-0.006258</td>\n",
              "      <td>-0.016461</td>\n",
              "      <td>-0.015337</td>\n",
              "      <td>-0.015403</td>\n",
              "      <td>-0.030268</td>\n",
              "    </tr>\n",
              "    <tr>\n",
              "      <th>2021-07-12</th>\n",
              "      <td>0.003778</td>\n",
              "      <td>0.004184</td>\n",
              "      <td>0.009346</td>\n",
              "      <td>0.007220</td>\n",
              "      <td>0.019208</td>\n",
              "    </tr>\n",
              "  </tbody>\n",
              "</table>\n",
              "<p>2098 rows × 5 columns</p>\n",
              "</div>"
            ],
            "text/plain": [
              "                삼성전자    SK하이닉스       카카오     NAVER      LG화학\n",
              "Date                                                        \n",
              "2013-01-02       NaN       NaN       NaN       NaN       NaN\n",
              "2013-01-03 -0.020939  0.001880  0.004326 -0.028580  0.007353\n",
              "2013-01-04 -0.011666 -0.011257  0.066146  0.024895 -0.033577\n",
              "2013-01-07 -0.003279 -0.017078  0.038053  0.059593 -0.016616\n",
              "2013-01-08 -0.013158  0.013514 -0.006774 -0.012491  0.000000\n",
              "...              ...       ...       ...       ...       ...\n",
              "2021-07-06  0.009950  0.016260  0.003185 -0.001220  0.003448\n",
              "2021-07-07 -0.004926 -0.012000  0.022222  0.019536 -0.001145\n",
              "2021-07-08 -0.011139 -0.016194  0.012422  0.010778 -0.014908\n",
              "2021-07-09 -0.006258 -0.016461 -0.015337 -0.015403 -0.030268\n",
              "2021-07-12  0.003778  0.004184  0.009346  0.007220  0.019208\n",
              "\n",
              "[2098 rows x 5 columns]"
            ]
          },
          "metadata": {
            "tags": []
          },
          "execution_count": 9
        }
      ]
    },
    {
      "cell_type": "markdown",
      "metadata": {
        "id": "5DEeQIUAS-3s"
      },
      "source": [
        "## 연간 공분산 행렬을 계산하고 출력"
      ]
    },
    {
      "cell_type": "code",
      "metadata": {
        "colab": {
          "base_uri": "https://localhost:8080/",
          "height": 203
        },
        "id": "NlnP10vrS-5w",
        "outputId": "775b7b29-2fb8-4a76-ae02-7e94f96cf35e"
      },
      "source": [
        "cov_matrix_annual = returns.cov() * 252\n",
        "cov_matrix_annual"
      ],
      "execution_count": 10,
      "outputs": [
        {
          "output_type": "execute_result",
          "data": {
            "text/html": [
              "<div>\n",
              "<style scoped>\n",
              "    .dataframe tbody tr th:only-of-type {\n",
              "        vertical-align: middle;\n",
              "    }\n",
              "\n",
              "    .dataframe tbody tr th {\n",
              "        vertical-align: top;\n",
              "    }\n",
              "\n",
              "    .dataframe thead th {\n",
              "        text-align: right;\n",
              "    }\n",
              "</style>\n",
              "<table border=\"1\" class=\"dataframe\">\n",
              "  <thead>\n",
              "    <tr style=\"text-align: right;\">\n",
              "      <th></th>\n",
              "      <th>삼성전자</th>\n",
              "      <th>SK하이닉스</th>\n",
              "      <th>카카오</th>\n",
              "      <th>NAVER</th>\n",
              "      <th>LG화학</th>\n",
              "    </tr>\n",
              "  </thead>\n",
              "  <tbody>\n",
              "    <tr>\n",
              "      <th>삼성전자</th>\n",
              "      <td>0.068287</td>\n",
              "      <td>0.045285</td>\n",
              "      <td>0.015968</td>\n",
              "      <td>0.020167</td>\n",
              "      <td>0.027580</td>\n",
              "    </tr>\n",
              "    <tr>\n",
              "      <th>SK하이닉스</th>\n",
              "      <td>0.045285</td>\n",
              "      <td>0.124396</td>\n",
              "      <td>0.024668</td>\n",
              "      <td>0.025104</td>\n",
              "      <td>0.029437</td>\n",
              "    </tr>\n",
              "    <tr>\n",
              "      <th>카카오</th>\n",
              "      <td>0.015968</td>\n",
              "      <td>0.024668</td>\n",
              "      <td>0.138927</td>\n",
              "      <td>0.045520</td>\n",
              "      <td>0.026106</td>\n",
              "    </tr>\n",
              "    <tr>\n",
              "      <th>NAVER</th>\n",
              "      <td>0.020167</td>\n",
              "      <td>0.025104</td>\n",
              "      <td>0.045520</td>\n",
              "      <td>0.120904</td>\n",
              "      <td>0.022530</td>\n",
              "    </tr>\n",
              "    <tr>\n",
              "      <th>LG화학</th>\n",
              "      <td>0.027580</td>\n",
              "      <td>0.029437</td>\n",
              "      <td>0.026106</td>\n",
              "      <td>0.022530</td>\n",
              "      <td>0.136126</td>\n",
              "    </tr>\n",
              "  </tbody>\n",
              "</table>\n",
              "</div>"
            ],
            "text/plain": [
              "            삼성전자    SK하이닉스       카카오     NAVER      LG화학\n",
              "삼성전자    0.068287  0.045285  0.015968  0.020167  0.027580\n",
              "SK하이닉스  0.045285  0.124396  0.024668  0.025104  0.029437\n",
              "카카오     0.015968  0.024668  0.138927  0.045520  0.026106\n",
              "NAVER   0.020167  0.025104  0.045520  0.120904  0.022530\n",
              "LG화학    0.027580  0.029437  0.026106  0.022530  0.136126"
            ]
          },
          "metadata": {
            "tags": []
          },
          "execution_count": 10
        }
      ]
    },
    {
      "cell_type": "markdown",
      "metadata": {
        "id": "WjTi0o2rbitR"
      },
      "source": [
        "## 포트폴리오 분산을 계산하고 출력\n"
      ]
    },
    {
      "cell_type": "code",
      "metadata": {
        "colab": {
          "base_uri": "https://localhost:8080/"
        },
        "id": "DXs1zHQcS-8M",
        "outputId": "813feae8-884d-4846-eef6-7d66341e35f9"
      },
      "source": [
        "port_variance = np.dot(weights.T, np.dot(cov_matrix_annual, weights))\n",
        "port_variance"
      ],
      "execution_count": 11,
      "outputs": [
        {
          "output_type": "execute_result",
          "data": {
            "text/plain": [
              "0.046134806777296936"
            ]
          },
          "metadata": {
            "tags": []
          },
          "execution_count": 11
        }
      ]
    },
    {
      "cell_type": "markdown",
      "metadata": {
        "id": "08-b0RI2blpf"
      },
      "source": [
        "## 포트폴리오 변동성을 계산하고 출력"
      ]
    },
    {
      "cell_type": "code",
      "metadata": {
        "colab": {
          "base_uri": "https://localhost:8080/"
        },
        "id": "uNWiPVS0S--l",
        "outputId": "5ba66a88-59bb-4e8f-8595-e4216f98e2bd"
      },
      "source": [
        "port_volatility = np.sqrt(port_variance)\n",
        "port_volatility"
      ],
      "execution_count": 12,
      "outputs": [
        {
          "output_type": "execute_result",
          "data": {
            "text/plain": [
              "0.21479014590361667"
            ]
          },
          "metadata": {
            "tags": []
          },
          "execution_count": 12
        }
      ]
    },
    {
      "cell_type": "markdown",
      "metadata": {
        "id": "JF36nMGwbpAo"
      },
      "source": [
        "## 포트폴리오 연간 단순 수익률을 계산하고 출력"
      ]
    },
    {
      "cell_type": "code",
      "metadata": {
        "colab": {
          "base_uri": "https://localhost:8080/"
        },
        "id": "YubEM8oFS_A3",
        "outputId": "9862f237-0b57-468e-87af-db717058440f"
      },
      "source": [
        "portfolioSimpleAnnualReturn = np.sum(returns.mean()*weights) * 252\n",
        "portfolioSimpleAnnualReturn"
      ],
      "execution_count": 13,
      "outputs": [
        {
          "output_type": "execute_result",
          "data": {
            "text/plain": [
              "0.23340804523287806"
            ]
          },
          "metadata": {
            "tags": []
          },
          "execution_count": 13
        }
      ]
    },
    {
      "cell_type": "markdown",
      "metadata": {
        "id": "PkSsNswEbtW-"
      },
      "source": [
        "## 포트폴리오의 예상 연간 수익률, 변동성 (Risk), 분산 출력"
      ]
    },
    {
      "cell_type": "code",
      "metadata": {
        "colab": {
          "base_uri": "https://localhost:8080/"
        },
        "id": "f3c4NVB_budz",
        "outputId": "e8ebbfe9-f6ca-4ec7-c6fe-0d88760d4a41"
      },
      "source": [
        "percent_ret = str(round(portfolioSimpleAnnualReturn, 2)*100)+'%'\n",
        "percent_vols = str(round(port_volatility, 2) * 100) + '%'\n",
        "percent_var = str(round(port_variance, 2) * 100) + '%'\n",
        "\n",
        "print(\"포트폴리오의 연간 기대수익률 : \"+ percent_ret)\n",
        "print('포트폴리오의 연간 변동률(Risk, 표준편차) : '+percent_vols)\n",
        "print('포트폴리오의 분산 : '+percent_var)"
      ],
      "execution_count": 14,
      "outputs": [
        {
          "output_type": "stream",
          "text": [
            "포트폴리오의 연간 기대수익률 : 23.0%\n",
            "포트폴리오의 연간 변동률(Risk, 표준편차) : 21.0%\n",
            "포트폴리오의 분산 : 5.0%\n"
          ],
          "name": "stdout"
        }
      ]
    },
    {
      "cell_type": "markdown",
      "metadata": {
        "id": "_cDrEu-VcBKv"
      },
      "source": [
        "# 포트폴리오 최적화"
      ]
    },
    {
      "cell_type": "code",
      "metadata": {
        "colab": {
          "base_uri": "https://localhost:8080/"
        },
        "id": "yu2j2U97S_DP",
        "outputId": "1450493b-1a3c-4de8-a604-8e1cda48de94"
      },
      "source": [
        "!pip install PyPortfolioOpt"
      ],
      "execution_count": 15,
      "outputs": [
        {
          "output_type": "stream",
          "text": [
            "Requirement already satisfied: PyPortfolioOpt in /usr/local/lib/python3.7/dist-packages (1.4.2)\n",
            "Requirement already satisfied: numpy<2.0,>=1.12 in /usr/local/lib/python3.7/dist-packages (from PyPortfolioOpt) (1.19.5)\n",
            "Requirement already satisfied: scipy<2.0,>=1.3 in /usr/local/lib/python3.7/dist-packages (from PyPortfolioOpt) (1.4.1)\n",
            "Requirement already satisfied: cvxpy<2.0.0,>=1.1.10 in /usr/local/lib/python3.7/dist-packages (from PyPortfolioOpt) (1.1.13)\n",
            "Requirement already satisfied: pandas>=0.19 in /usr/local/lib/python3.7/dist-packages (from PyPortfolioOpt) (1.1.5)\n",
            "Requirement already satisfied: osqp>=0.4.1 in /usr/local/lib/python3.7/dist-packages (from cvxpy<2.0.0,>=1.1.10->PyPortfolioOpt) (0.6.2.post0)\n",
            "Requirement already satisfied: ecos>=2 in /usr/local/lib/python3.7/dist-packages (from cvxpy<2.0.0,>=1.1.10->PyPortfolioOpt) (2.0.7.post1)\n",
            "Requirement already satisfied: scs>=1.1.6 in /usr/local/lib/python3.7/dist-packages (from cvxpy<2.0.0,>=1.1.10->PyPortfolioOpt) (2.1.4)\n",
            "Requirement already satisfied: pytz>=2017.2 in /usr/local/lib/python3.7/dist-packages (from pandas>=0.19->PyPortfolioOpt) (2018.9)\n",
            "Requirement already satisfied: python-dateutil>=2.7.3 in /usr/local/lib/python3.7/dist-packages (from pandas>=0.19->PyPortfolioOpt) (2.8.1)\n",
            "Requirement already satisfied: qdldl in /usr/local/lib/python3.7/dist-packages (from osqp>=0.4.1->cvxpy<2.0.0,>=1.1.10->PyPortfolioOpt) (0.1.5.post0)\n",
            "Requirement already satisfied: six>=1.5 in /usr/local/lib/python3.7/dist-packages (from python-dateutil>=2.7.3->pandas>=0.19->PyPortfolioOpt) (1.15.0)\n"
          ],
          "name": "stdout"
        }
      ]
    },
    {
      "cell_type": "code",
      "metadata": {
        "id": "XyVaXhQqS_H2"
      },
      "source": [
        "from pypfopt.efficient_frontier import EfficientFrontier\n",
        "from pypfopt import risk_models\n",
        "from pypfopt import expected_returns"
      ],
      "execution_count": 16,
      "outputs": []
    },
    {
      "cell_type": "markdown",
      "metadata": {
        "id": "ibdM19yxcIaQ"
      },
      "source": [
        "## 예상 수익률과 일일 자산 수익률의 연간 표본 공분산 행렬을 계산"
      ]
    },
    {
      "cell_type": "code",
      "metadata": {
        "id": "uqtR7n1GS_Km"
      },
      "source": [
        "# returns.mean() * 252\n",
        "mu = expected_returns.mean_historical_return(df) \n",
        "\n",
        "# Get the sample covariance matrix\n",
        "S = risk_models.sample_cov(df)"
      ],
      "execution_count": 17,
      "outputs": []
    },
    {
      "cell_type": "markdown",
      "metadata": {
        "id": "ViH4Ma33cND0"
      },
      "source": [
        "## 최대 Sharpe Ratio를 최적화 ($Maximize\\ Sharpe Ratio$)"
      ]
    },
    {
      "cell_type": "code",
      "metadata": {
        "colab": {
          "base_uri": "https://localhost:8080/"
        },
        "id": "Qkwcm5jAS_NC",
        "outputId": "444f021b-5704-4c8c-eb5a-07c405e890a6"
      },
      "source": [
        "ef = EfficientFrontier(mu, S)\n",
        "\n",
        "# Maximize the Sharpe ratio, and get the raw weights\n",
        "weights = ef.max_sharpe() \n",
        "cleaned_weights = ef.clean_weights() \n",
        "\n",
        "# Note the weights may have some rounding error,\n",
        "# meaning they may not add up exactly to 1 but should be close\n",
        "print(cleaned_weights) \n",
        "ef.portfolio_performance(verbose=True)"
      ],
      "execution_count": 18,
      "outputs": [
        {
          "output_type": "stream",
          "text": [
            "OrderedDict([('삼성전자', 0.05887), ('SK하이닉스', 0.23801), ('카카오', 0.4103), ('NAVER', 0.28484), ('LG화학', 0.00798)])\n",
            "Expected annual return: 24.4%\n",
            "Annual volatility: 25.0%\n",
            "Sharpe Ratio: 0.90\n"
          ],
          "name": "stdout"
        },
        {
          "output_type": "execute_result",
          "data": {
            "text/plain": [
              "(0.24399782528668446, 0.2499568295231278, 0.8961460493559291)"
            ]
          },
          "metadata": {
            "tags": []
          },
          "execution_count": 18
        }
      ]
    },
    {
      "cell_type": "markdown",
      "metadata": {
        "id": "SM871SZnS_PU"
      },
      "source": [
        "**포트폴리오 최적화 결과 확인**  \n",
        "- 삼성전자: 5.815% , SK 하이닉스: 23.857% , 카카오: 41.081% , NAVER: 28.468% , LG화학: 0.778%\n",
        "- 최적화를 통해 예상 연간 수익이 23.0% -> 24.4%로 증가한 것을 확인\n",
        "- 연간 변동성(Risk)은 21.0% -> 25.0%으로 늘어난 것을 확인.\n",
        "- 최적화 된 포트폴리오는 0.9의 Sharpe 비율을 가지고 있음"
      ]
    },
    {
      "cell_type": "markdown",
      "metadata": {
        "id": "umEtA-HAcUqs"
      },
      "source": [
        "**Sharpe Ratio**  \n",
        "- 1966년 William F. Sharpe에 의해 개발됨\n",
        "- Sharpe Ratio는 더 위험한 자산을 보유하기 위해 견뎌야 하는 추가적인 변동성에 대해 얼마나 많은 초과 수익을 얻었는지를 나타냄\n",
        "- 위험을 조정 한 후 무위험 자산(채권, 국채 등)과 비교하여 투자 성과를 측정함\n",
        "- 투자 수익과 무위험 수익 간의 차이를 투자의 표준 편차로 나눈 값으로 정의됨\n",
        "\n",
        "**상대적으로 적은 위험에 대해 높은 기대 수익률을 내는 투자 포트폴리오는?**  \n",
        "- 일반적으로 1.0보다 큰 Sharpe Ratio는 괜찮은 포트폴리오로 간주됨.\n",
        "- 2.0보다 높은 비율은 매우 좋음으로 평가됨\n",
        "- 3.0 이상의 비율은 우수한 것으로 간주됨\n",
        "- 1.0 미만의 비율은 차선책으로 간주됨"
      ]
    },
    {
      "cell_type": "markdown",
      "metadata": {
        "id": "jDr8RF7ocUoS"
      },
      "source": [
        "# 투자비용에 따른 종목별 매수 수량 계산\n"
      ]
    },
    {
      "cell_type": "code",
      "metadata": {
        "colab": {
          "base_uri": "https://localhost:8080/"
        },
        "id": "g9Opw51IcUmJ",
        "outputId": "2a2f1d78-de1f-4266-e2e7-de20afe05fbc"
      },
      "source": [
        "!pip install pulp"
      ],
      "execution_count": 19,
      "outputs": [
        {
          "output_type": "stream",
          "text": [
            "Requirement already satisfied: pulp in /usr/local/lib/python3.7/dist-packages (2.4)\n",
            "Requirement already satisfied: amply>=0.1.2 in /usr/local/lib/python3.7/dist-packages (from pulp) (0.1.4)\n",
            "Requirement already satisfied: pyparsing in /usr/local/lib/python3.7/dist-packages (from amply>=0.1.2->pulp) (2.4.7)\n",
            "Requirement already satisfied: docutils>=0.3 in /usr/local/lib/python3.7/dist-packages (from amply>=0.1.2->pulp) (0.17.1)\n"
          ],
          "name": "stdout"
        }
      ]
    },
    {
      "cell_type": "markdown",
      "metadata": {
        "id": "aH-MoHoqdx7W"
      },
      "source": [
        "## 각 주식의 개별 할당 계산"
      ]
    },
    {
      "cell_type": "code",
      "metadata": {
        "colab": {
          "base_uri": "https://localhost:8080/"
        },
        "id": "OdBvBobMcUj7",
        "outputId": "d97ecbc7-47b0-440e-d2e5-b56c6ca5b7fd"
      },
      "source": [
        "from pypfopt.discrete_allocation import DiscreteAllocation, get_latest_prices\n",
        "\n",
        "latest_prices = get_latest_prices(df)\n",
        "weights = cleaned_weights \n",
        "\n",
        "da = DiscreteAllocation(weights, latest_prices, total_portfolio_value=30000000)  # 투자비용: 3000만원\n",
        "allocation, leftover = da.lp_portfolio()\n",
        "\n",
        "print(\"Discrete allocation:\", allocation)\n",
        "print(\"Funds remaining: {:.2f}원\".format(leftover))"
      ],
      "execution_count": 21,
      "outputs": [
        {
          "output_type": "stream",
          "text": [
            "Discrete allocation: {'삼성전자': 22, 'SK하이닉스': 59, '카카오': 76, 'NAVER': 21}\n",
            "Funds remaining: 66100.00원\n"
          ],
          "name": "stdout"
        }
      ]
    },
    {
      "cell_type": "markdown",
      "metadata": {
        "id": "AXBn2S9KS_Rv"
      },
      "source": [
        "이 최적화된 포트폴리오에 기반해서 3000만원을 투자한다고 했을때, 삼성전자 22주, SK하이닉스 59주, 카카오 76주, NAVER 21주를 매수할 수 있으며, 이렇게 투자하고 나면 3,000만원 중에서 약 66,100원이 남게 됨"
      ]
    }
  ]
}
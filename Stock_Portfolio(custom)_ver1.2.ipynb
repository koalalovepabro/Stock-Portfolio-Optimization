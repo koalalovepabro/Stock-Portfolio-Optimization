{
  "nbformat": 4,
  "nbformat_minor": 0,
  "metadata": {
    "colab": {
      "name": "Stock Portfolio(custom)_ver1.2.ipynb",
      "provenance": [],
      "collapsed_sections": [
        "jxAhwCA9r2Ta"
      ],
      "toc_visible": true,
      "include_colab_link": true
    },
    "kernelspec": {
      "display_name": "Python 3 (ipykernel)",
      "language": "python",
      "name": "python3"
    },
    "language_info": {
      "codemirror_mode": {
        "name": "ipython",
        "version": 3
      },
      "file_extension": ".py",
      "mimetype": "text/x-python",
      "name": "python",
      "nbconvert_exporter": "python",
      "pygments_lexer": "ipython3",
      "version": "3.8.10"
    }
  },
  "cells": [
    {
      "cell_type": "markdown",
      "metadata": {
        "id": "view-in-github",
        "colab_type": "text"
      },
      "source": [
        "<a href=\"https://colab.research.google.com/github/koalalovepabro/Stock-Portfolio-Optimization/blob/main/Stock_Portfolio(custom)_ver1.2.ipynb\" target=\"_parent\"><img src=\"https://colab.research.google.com/assets/colab-badge.svg\" alt=\"Open In Colab\"/></a>"
      ]
    },
    {
      "cell_type": "markdown",
      "metadata": {
        "id": "jxAhwCA9r2Ta"
      },
      "source": [
        "# **📈 종목선택 방법**\n",
        "- 사용자가 원하는 특정 종목으로 구성\n"
      ]
    },
    {
      "cell_type": "markdown",
      "metadata": {
        "id": "2na-S12Turpz"
      },
      "source": [
        "# **📊 포트폴리오 최적화 방법**  \n",
        "1. **Max Sharpe Ratio** : 샤프비율이 최대가 되도록 포트폴리오 최적화  \n",
        "    => 수익률과 변동성을 모두 고려\n",
        "2. **✔ Efficient Risk**   : 주어진 변동성 ( target_volatility ) 보다 낮은 범위 내에서 수익률 (Return)이 최대가 되도록 포트폴리오 최적화  \n",
        "    => 높은 이익을 추구하기 보다는, 비교적 위험이 낮은 투자를 원하는 투자자에게 추천\n",
        "3. **Efficient Return** : 주어진 리스크 ( target_return )을 만족시키는 선에서 변동성(volatility)를 최소가 되도록 포트폴리오 최적화  \n",
        "    => 높은 위험을 감수하더라도, 높은 이익을 추구하는 투자 성향을 가진 투자자에게 추천"
      ]
    },
    {
      "cell_type": "code",
      "metadata": {
        "id": "fGCgpMzbLayr"
      },
      "source": [
        "import warnings\n",
        "warnings.filterwarnings(action='ignore')"
      ],
      "execution_count": null,
      "outputs": []
    },
    {
      "cell_type": "code",
      "metadata": {
        "id": "nxZm9OvxHRyx"
      },
      "source": [
        "!pip install -q install finance-datareader"
      ],
      "execution_count": null,
      "outputs": []
    },
    {
      "cell_type": "code",
      "metadata": {
        "id": "Qz7fGbPEGiYi"
      },
      "source": [
        "import numpy as np\n",
        "import pandas as pd\n",
        "import matplotlib.pyplot as plt\n",
        "import FinanceDataReader as fdr\n",
        "import datetime\n",
        "import requests"
      ],
      "execution_count": null,
      "outputs": []
    },
    {
      "cell_type": "code",
      "metadata": {
        "id": "KcOPU3BqGiYm"
      },
      "source": [
        "# 국내 종목(삼성전자, SK하이닉스, 카카오, NAVER, LG화학 )\n",
        "assets =  ['005930', '000660', '035720', '035420', '051910']"
      ],
      "execution_count": null,
      "outputs": []
    },
    {
      "cell_type": "code",
      "metadata": {
        "colab": {
          "base_uri": "https://localhost:8080/"
        },
        "id": "_fJPPe4wONyH",
        "outputId": "5b8a791b-ce73-4bb0-837d-3aafea84b990"
      },
      "source": [
        "len(assets)"
      ],
      "execution_count": null,
      "outputs": [
        {
          "output_type": "execute_result",
          "data": {
            "text/plain": [
              "5"
            ]
          },
          "metadata": {
            "tags": []
          },
          "execution_count": 6
        }
      ]
    },
    {
      "cell_type": "markdown",
      "metadata": {
        "id": "n2xph97SKuAk"
      },
      "source": [
        "### 종목코드와 종목이름을 딕셔너리로 저장"
      ]
    },
    {
      "cell_type": "code",
      "metadata": {
        "colab": {
          "base_uri": "https://localhost:8080/"
        },
        "id": "95z6AO_VKuAk",
        "outputId": "09ddf6fc-9f53-450d-ef1b-4dd2e90a6e48"
      },
      "source": [
        "###########추가#############\n",
        "kospi_temp = fdr.StockListing('KOSPI')[['Symbol', 'Name']]\n",
        "kosdaq_temp = fdr.StockListing('KOSDAQ')[['Symbol', 'Name']]\n",
        "code_name_dict = pd.concat([kospi_temp,kosdaq_temp])\n",
        "code_name_dict = code_name_dict.set_index('Symbol').to_dict().get('Name')\n",
        "code_name_dict"
      ],
      "execution_count": null,
      "outputs": [
        {
          "output_type": "execute_result",
          "data": {
            "text/plain": [
              "{'095570': 'AJ네트웍스',\n",
              " '006840': 'AK홀딩스',\n",
              " '152100': 'ARIRANG 200',\n",
              " '295820': 'ARIRANG 200동일가중',\n",
              " '253150': 'ARIRANG 200선물레버리지',\n",
              " '253160': 'ARIRANG 200선물인버스2X',\n",
              " '395750': 'ARIRANG ESG가치주액티브',\n",
              " '395760': 'ARIRANG ESG성장주액티브',\n",
              " '278420': 'ARIRANG ESG우수기업',\n",
              " '292750': 'ARIRANG KRX300',\n",
              " '309210': 'ARIRANG KRX300헬스케어',\n",
              " '333940': 'ARIRANG KS로우볼가중TR',\n",
              " '333950': 'ARIRANG KS로우사이즈가중TR',\n",
              " '333960': 'ARIRANG KS모멘텀가중TR',\n",
              " '333970': 'ARIRANG KS밸류가중TR',\n",
              " '333980': 'ARIRANG KS퀄리티가중TR',\n",
              " '269530': 'ARIRANG S&P글로벌인프라',\n",
              " '251590': 'ARIRANG 고배당저변동50',\n",
              " '161510': 'ARIRANG 고배당주',\n",
              " '251600': 'ARIRANG 고배당주채권혼합',\n",
              " '289670': 'ARIRANG 국채선물10년',\n",
              " '298340': 'ARIRANG 국채선물3년',\n",
              " '189400': 'ARIRANG 글로벌MSCI(합성 H)',\n",
              " '278620': 'ARIRANG 단기채권액티브',\n",
              " '269540': 'ARIRANG 미국S&P500(H)',\n",
              " '287180': 'ARIRANG 미국나스닥기술주',\n",
              " '213630': 'ARIRANG 미국다우존스고배당주(합성 H)',\n",
              " '332610': 'ARIRANG 미국단기우량회사채',\n",
              " '332620': 'ARIRANG 미국장기우량회사채',\n",
              " '195970': 'ARIRANG 선진국MSCI(합성 H)',\n",
              " '238670': 'ARIRANG 스마트베타Quality채권혼합',\n",
              " '195980': 'ARIRANG 신흥국MSCI(합성 H)',\n",
              " '373530': 'ARIRANG 신흥국MSCI인버스(합성 H)',\n",
              " '256450': 'ARIRANG 심천차이넥스트(합성)',\n",
              " '239660': 'ARIRANG 우량회사채50 1년',\n",
              " '280920': 'ARIRANG 주도업종',\n",
              " '266550': 'ARIRANG 중형주저변동50',\n",
              " '301400': 'ARIRANG 코스닥150',\n",
              " '301410': 'ARIRANG 코스닥150선물인버스',\n",
              " '227830': 'ARIRANG 코스피',\n",
              " '122090': 'ARIRANG 코스피50',\n",
              " '328370': 'ARIRANG 코스피TR',\n",
              " '301440': 'ARIRANG 코스피중형주',\n",
              " '376250': 'ARIRANG 탄소효율그린뉴딜',\n",
              " '027410': 'BGF',\n",
              " '282330': 'BGF리테일',\n",
              " '138930': 'BNK금융지주',\n",
              " '001460': 'BYC',\n",
              " '001465': 'BYC우',\n",
              " '001040': 'CJ',\n",
              " '079160': 'CJ CGV',\n",
              " '00104K': 'CJ4우(전환)',\n",
              " '000120': 'CJ대한통운',\n",
              " '011150': 'CJ씨푸드',\n",
              " '011155': 'CJ씨푸드1우',\n",
              " '001045': 'CJ우',\n",
              " '097950': 'CJ제일제당',\n",
              " '097955': 'CJ제일제당 우',\n",
              " '000590': 'CS홀딩스',\n",
              " '012030': 'DB',\n",
              " '016610': 'DB금융투자',\n",
              " '005830': 'DB손해보험',\n",
              " '000990': 'DB하이텍',\n",
              " '000995': 'DB하이텍1우',\n",
              " '139130': 'DGB금융지주',\n",
              " '001530': 'DI동일',\n",
              " '000210': 'DL',\n",
              " '001880': 'DL건설',\n",
              " '000215': 'DL우',\n",
              " '375500': 'DL이앤씨',\n",
              " '37550K': 'DL이앤씨우',\n",
              " '004840': 'DRB동일',\n",
              " '155660': 'DSR',\n",
              " '069730': 'DSR제강',\n",
              " '017940': 'E1',\n",
              " '365550': 'ESR켄달스퀘어리츠',\n",
              " '383220': 'F&F',\n",
              " '007700': 'F&F홀딩스',\n",
              " '285690': 'FOCUS ESG리더스',\n",
              " '292730': 'FOCUS KRX300',\n",
              " '73501BB4': 'GB국민참여정책형뉴딜A',\n",
              " '73502BB4': 'GB국민참여정책형뉴딜C',\n",
              " '73503BB4': 'GB국민참여정책형뉴딜I',\n",
              " '73501BA2': 'GB중소성장기업A',\n",
              " '73502BA2': 'GB중소성장기업C',\n",
              " '73503BA2': 'GB중소성장기업I',\n",
              " '114090': 'GKL',\n",
              " '078930': 'GS',\n",
              " '006360': 'GS건설',\n",
              " '001250': 'GS글로벌',\n",
              " '007070': 'GS리테일',\n",
              " '078935': 'GS우',\n",
              " '293180': 'HANARO 200',\n",
              " '332930': 'HANARO 200TR',\n",
              " '304780': 'HANARO 200선물레버리지',\n",
              " '306520': 'HANARO 200선물인버스',\n",
              " '395290': 'HANARO Fn K-POP&미디어',\n",
              " '395280': 'HANARO Fn K-게임',\n",
              " '368190': 'HANARO Fn K-뉴딜디지털플러스',\n",
              " '395270': 'HANARO Fn K-반도체',\n",
              " '367740': 'HANARO Fn5G산업',\n",
              " '381560': 'HANARO Fn전기&수소차',\n",
              " '381570': 'HANARO Fn친환경에너지',\n",
              " '346000': 'HANARO KAP초장기국고채',\n",
              " '304760': 'HANARO KRX300',\n",
              " '332940': 'HANARO MSCI Korea TR',\n",
              " '322400': 'HANARO e커머스',\n",
              " '322410': 'HANARO 고배당',\n",
              " '354350': 'HANARO 글로벌럭셔리S&P(합성)',\n",
              " '314700': 'HANARO 농업융복합산업',\n",
              " '390950': 'HANARO 단기채권액티브',\n",
              " '304770': 'HANARO 코스닥150',\n",
              " '306530': 'HANARO 코스닥150선물레버리지',\n",
              " '375760': 'HANARO 탄소효율그린뉴딜',\n",
              " '012630': 'HDC',\n",
              " '039570': 'HDC아이콘트롤스',\n",
              " '089470': 'HDC현대EP',\n",
              " '294870': 'HDC현대산업개발',\n",
              " '391670': 'HK 베스트일레븐액티브',\n",
              " '391680': 'HK 하이볼액티브',\n",
              " '011200': 'HMM',\n",
              " '082740': 'HSD엔진',\n",
              " '75801BB4': 'IBK 국민참여정책형뉴딜 혼합자산 A',\n",
              " '75802BB4': 'IBK 국민참여정책형뉴딜 혼합자산 C',\n",
              " '003560': 'IHQ',\n",
              " '175330': 'JB금융지주',\n",
              " '234080': 'JW생명과학',\n",
              " '001060': 'JW중외제약',\n",
              " '001067': 'JW중외제약2우B',\n",
              " '001065': 'JW중외제약우',\n",
              " '096760': 'JW홀딩스',\n",
              " '580011': 'KB FnGuide 언택트 ETN',\n",
              " '580013': 'KB KRX ESG Eco ETN',\n",
              " '580012': 'KB KRX300 ETN',\n",
              " '580010': 'KB Wise 분할매매 ETN',\n",
              " '580016': 'KB 레버리지 S&P 500 선물 ETN(H)',\n",
              " '580022': 'KB 레버리지 금 선물 ETN(H)',\n",
              " '580015': 'KB 레버리지 나스닥 100 ETN',\n",
              " '580018': 'KB 레버리지 항셍테크 선물 ETN(H)',\n",
              " '71901B96': 'KB 와이즈 스타 부동산 자 2 A',\n",
              " '71902B96': 'KB 와이즈 스타 부동산 자 2 C-F',\n",
              " '71903B96': 'KB 와이즈 스타 부동산 자 2 C-I',\n",
              " '580017': 'KB 인버스 2X S&P 500 선물 ETN',\n",
              " '580023': 'KB 인버스 2X 금 선물 ETN(H)',\n",
              " '580014': 'KB 인버스 2X 나스닥 100 ETN',\n",
              " '580019': 'KB 인버스 2X 항셍테크 선물 ETN',\n",
              " '580021': 'KB 인버스 천연가스 선물 ETN',\n",
              " '580020': 'KB 천연가스 선물 ETN(H)',\n",
              " '58G183': 'KBG183엘지전자콜',\n",
              " '58G184': 'KBG184LG화학콜',\n",
              " '58G185': 'KBG185SK하이닉콜',\n",
              " '58G186': 'KBG186삼성SDI콜',\n",
              " '58G187': 'KBG187삼성전자콜',\n",
              " '58G188': 'KBG188삼성전자콜',\n",
              " '58G189': 'KBG189셀트리온콜',\n",
              " '58G190': 'KBG190카카오콜',\n",
              " '58G191': 'KBG191현대차콜',\n",
              " '58G192': 'KBG192LG화학콜',\n",
              " '58G193': 'KBG193SK하이닉콜',\n",
              " '58G194': 'KBG194삼성전자콜',\n",
              " '58G195': 'KBG195현대차콜',\n",
              " '58G196': 'KBG196삼성전자콜',\n",
              " '58G340': 'KBG340엘지전자콜',\n",
              " '58G343': 'KBG343LG화학콜',\n",
              " '58G356': 'KBG356SK하이닉콜',\n",
              " '58G374': 'KBG374하나금융콜',\n",
              " '58G379': 'KBG379현대차콜',\n",
              " '58G386': 'KBG386삼성전자콜',\n",
              " '58G387': 'KBG387삼성전자콜',\n",
              " '58G388': 'KBG388삼성전자콜',\n",
              " '58G425': 'KBG425KOSPI200콜',\n",
              " '58G426': 'KBG426KOSPI200콜',\n",
              " '58G427': 'KBG427KOSPI200콜',\n",
              " '58G428': 'KBG428KOSPI200콜',\n",
              " '58G429': 'KBG429KOSPI200콜',\n",
              " '58G430': 'KBG430KOSPI200콜',\n",
              " '58G431': 'KBG431KOSPI200콜',\n",
              " '58G432': 'KBG432KOSPI200콜',\n",
              " '58G433': 'KBG433KOSPI200콜',\n",
              " '58G434': 'KBG434KOSPI200콜',\n",
              " '58G435': 'KBG435KOSPI200콜',\n",
              " '58G436': 'KBG436KOSPI200콜',\n",
              " '58G437': 'KBG437KOSPI200콜',\n",
              " '58G438': 'KBG438KOSPI200콜',\n",
              " '58G439': 'KBG439KOSPI200콜',\n",
              " '58G440': 'KBG440KOSPI200콜',\n",
              " '58G441': 'KBG441KOSPI200콜',\n",
              " '58G442': 'KBG442KOSPI200콜',\n",
              " '58G582': 'KBG582엘지전자콜',\n",
              " '58G583': 'KBG583LG화학콜',\n",
              " '58G584': 'KBG584네이버콜',\n",
              " '58G585': 'KBG585네이버콜',\n",
              " '58G586': 'KBG586POSCO콜',\n",
              " '58G587': 'KBG587SK텔레콤콜',\n",
              " '58G588': 'KBG588SK하이닉콜',\n",
              " '58G589': 'KBG589기아콜',\n",
              " '58G590': 'KBG590기아풋',\n",
              " '58G591': 'KBG591롯데케미콜',\n",
              " '58G592': 'KBG592롯데케미콜',\n",
              " '58G593': 'KBG593삼성SDI콜',\n",
              " '58G594': 'KBG594삼성바이콜',\n",
              " '58G595': 'KBG595삼성생명콜',\n",
              " '58G596': 'KBG596삼성전자콜',\n",
              " '58G597': 'KBG597삼성전자콜',\n",
              " '58G598': 'KBG598삼성전자풋',\n",
              " '58G599': 'KBG599삼성중콜',\n",
              " '58G600': 'KBG600셀트리온콜',\n",
              " '58G601': 'KBG601셀트리온콜',\n",
              " '58G602': 'KBG602셀트헬스콜',\n",
              " '58G603': 'KBG603아모레콜',\n",
              " '58G604': 'KBG604하나금융콜',\n",
              " '58G605': 'KBG605모비스콜',\n",
              " '58G606': 'KBG606현대차콜',\n",
              " '58G607': 'KBG607엘지전자콜',\n",
              " '58G608': 'KBG608LG화학콜',\n",
              " '58G609': 'KBG609네이버콜',\n",
              " '58G610': 'KBG610네이버풋',\n",
              " '58G611': 'KBG611POSCO콜',\n",
              " '58G612': 'KBG612SK텔레콤콜',\n",
              " '58G613': 'KBG613SK하이닉콜',\n",
              " '58G614': 'KBG614기아콜',\n",
              " '58G615': 'KBG615롯데케미콜',\n",
              " '58G616': 'KBG616삼성전자콜',\n",
              " '58G617': 'KBG617삼성전자콜',\n",
              " '58G618': 'KBG618삼성전자풋',\n",
              " '58G619': 'KBG619셀트리온콜',\n",
              " '58G620': 'KBG620셀트헬스콜',\n",
              " '58G621': 'KBG621신한지주콜',\n",
              " '58G622': 'KBG622하나금융콜',\n",
              " '58G623': 'KBG623현대차콜',\n",
              " '58G624': 'KBG624LG화학콜',\n",
              " '58G625': 'KBG625네이버콜',\n",
              " '58G626': 'KBG626POSCO콜',\n",
              " '58G627': 'KBG627SK하이닉콜',\n",
              " '58G628': 'KBG628기아콜',\n",
              " '58G629': 'KBG629롯데케미콜',\n",
              " '58G630': 'KBG630삼성전자콜',\n",
              " '58G631': 'KBG631셀트리온콜',\n",
              " '58G632': 'KBG632셀트헬스콜',\n",
              " '58G633': 'KBG633현대차콜',\n",
              " '58G634': 'KBG634롯데케미콜',\n",
              " '58G635': 'KBG635삼성전자콜',\n",
              " '58G636': 'KBG636삼성전자콜',\n",
              " '58G637': 'KBG637셀트리온콜',\n",
              " '58G638': 'KBG638삼성전자콜',\n",
              " '58G639': 'KBG639삼성전자콜',\n",
              " '58G640': 'KBG640삼성전자콜',\n",
              " '58G641': 'KBG641삼성중콜',\n",
              " '58G716': 'KBG716KOSPI200콜',\n",
              " '58G717': 'KBG717KOSPI200콜',\n",
              " '58G718': 'KBG718KOSPI200콜',\n",
              " '58G719': 'KBG719KOSPI200콜',\n",
              " '58G720': 'KBG720KOSPI200콜',\n",
              " '58G721': 'KBG721KOSPI200콜',\n",
              " '58G722': 'KBG722KOSPI200콜',\n",
              " '58G723': 'KBG723KOSPI200콜',\n",
              " '58G724': 'KBG724KOSPI200콜',\n",
              " '58G725': 'KBG725KOSPI200콜',\n",
              " '58G808': 'KBG808케이티지콜',\n",
              " '58G809': 'KBG809LG이노텍콜',\n",
              " '58G810': 'KBG810엘지전자콜',\n",
              " '58G811': 'KBG811LG화학콜',\n",
              " '58G812': 'KBG812LG화학풋',\n",
              " '58G813': 'KBG813네이버콜',\n",
              " '58G814': 'KBG814POSCO콜',\n",
              " '58G815': 'KBG815SK콜',\n",
              " '58G816': 'KBG816SK이노콜',\n",
              " '58G817': 'KBG817SK텔레콤콜',\n",
              " '58G818': 'KBG818SK텔레콤콜',\n",
              " '58G820': 'KBG820금호석유콜',\n",
              " '58G821': 'KBG821기아콜',\n",
              " '58G822': 'KBG822만도콜',\n",
              " '58G823': 'KBG823삼성SDI콜',\n",
              " '58G824': 'KBG824삼성전자콜',\n",
              " '58G825': 'KBG825삼성중콜',\n",
              " '58G826': 'KBG826셀트리온콜',\n",
              " '58G827': 'KBG827셀트제약콜',\n",
              " '58G828': 'KBG828셀트제약콜',\n",
              " '58G829': 'KBG829신한지주콜',\n",
              " '58G830': 'KBG830이마트콜',\n",
              " '58G831': 'KBG831하나금융콜',\n",
              " '58G832': 'KBG832한국조선콜',\n",
              " '58G833': 'KBG833글로비스콜',\n",
              " '58G834': 'KBG834모비스콜',\n",
              " '58G835': 'KBG835현대차콜',\n",
              " '58G836': 'KBG836호텔신라콜',\n",
              " '58G837': 'KBG837케이티지콜',\n",
              " '58G838': 'KBG838엘지디스콜',\n",
              " '58G839': 'KBG839LG생건콜',\n",
              " '58G840': 'KBG840엘지전자콜',\n",
              " '58G841': 'KBG841LG화학콜',\n",
              " '58G842': 'KBG842네이버콜',\n",
              " '58G843': 'KBG843POSCO콜',\n",
              " '58G844': 'KBG844POSCO콜',\n",
              " '58G845': 'KBG845SK텔레콤콜',\n",
              " '58G846': 'KBG846SK텔레콤풋',\n",
              " '58G847': 'KBG847SK하이닉콜',\n",
              " '58G848': 'KBG848SK하이닉풋',\n",
              " '58G849': 'KBG849S-OIL콜',\n",
              " '58G850': 'KBG850기아콜',\n",
              " '58G851': 'KBG851삼성SDI콜',\n",
              " '58G852': 'KBG852셀트리온콜',\n",
              " '58G853': 'KBG853이마트콜',\n",
              " '58G854': 'KBG854한국조선콜',\n",
              " '58G855': 'KBG855현대차콜',\n",
              " '58G856': 'KBG856케이티지콜',\n",
              " '58G857': 'KBG857엘지전자콜',\n",
              " '58G858': 'KBG858POSCO콜',\n",
              " '58G859': 'KBG859SK텔레콤콜',\n",
              " '58G860': 'KBG860기아콜',\n",
              " '58G861': 'KBG861셀트리온콜',\n",
              " '58G862': 'KBG862한화솔루콜',\n",
              " '58G863': 'KBG863삼성전자콜',\n",
              " '58G886': 'KBG886KOSPI200콜',\n",
              " '58G887': 'KBG887KOSPI200콜',\n",
              " '58G888': 'KBG888KOSPI200콜',\n",
              " '58G889': 'KBG889KOSPI200콜',\n",
              " '58G890': 'KBG890KOSPI200콜',\n",
              " '58G891': 'KBG891KOSPI200콜',\n",
              " '58G892': 'KBG892KOSPI200콜',\n",
              " '58G893': 'KBG893KOSPI200콜',\n",
              " '58G894': 'KBG894KOSPI200콜',\n",
              " '58G895': 'KBG895KOSPI200풋',\n",
              " '58G896': 'KBG896KOSPI200풋',\n",
              " '58G897': 'KBG897KOSPI200풋',\n",
              " '58G898': 'KBG898KOSPI200풋',\n",
              " '58G899': 'KBG899KOSPI200풋',\n",
              " '58G900': 'KBG900KOSPI200풋',\n",
              " '58G901': 'KBG901KOSPI200풋',\n",
              " '58G902': 'KBG902KOSPI200풋',\n",
              " '58G903': 'KBG903KOSPI200풋',\n",
              " '58G904': 'KBG904KOSPI200풋',\n",
              " '58G905': 'KBG905KOSPI200풋',\n",
              " '58G906': 'KBG906KOSPI200풋',\n",
              " '58G907': 'KBG907KOSPI200풋',\n",
              " '58G908': 'KBG908KOSPI200풋',\n",
              " '58G909': 'KBG909KOSPI200풋',\n",
              " '58G910': 'KBG910KOSPI200콜',\n",
              " '58G911': 'KBG911KOSPI200콜',\n",
              " '58G912': 'KBG912KOSPI200콜',\n",
              " '58G913': 'KBG913KOSPI200콜',\n",
              " '58G914': 'KBG914KOSPI200콜',\n",
              " '58G915': 'KBG915KOSPI200콜',\n",
              " '58G916': 'KBG916KOSPI200콜',\n",
              " '58G917': 'KBG917KOSPI200콜',\n",
              " '58G918': 'KBG918KOSPI200콜',\n",
              " '58G919': 'KBG919KOSPI200콜',\n",
              " '58G920': 'KBG920KOSPI200풋',\n",
              " '58G921': 'KBG921KOSPI200풋',\n",
              " '58G922': 'KBG922KOSPI200풋',\n",
              " '58G923': 'KBG923KOSPI200풋',\n",
              " '58G924': 'KBG924KOSPI200풋',\n",
              " '58G925': 'KBG925KOSPI200풋',\n",
              " '58G926': 'KBG926KOSPI200풋',\n",
              " '58G927': 'KBG927KOSPI200풋',\n",
              " '58G928': 'KBG928KOSPI200풋',\n",
              " '58G929': 'KBG929KOSPI200풋',\n",
              " '58G930': 'KBG930KOSPI200콜',\n",
              " '58G931': 'KBG931KOSPI200콜',\n",
              " '58G932': 'KBG932KOSPI200콜',\n",
              " '58G933': 'KBG933KOSPI200콜',\n",
              " '58G934': 'KBG934KOSPI200콜',\n",
              " '58G935': 'KBG935KOSPI200풋',\n",
              " '58G936': 'KBG936KOSPI200풋',\n",
              " '58G937': 'KBG937KOSPI200풋',\n",
              " '58G938': 'KBG938KOSPI200풋',\n",
              " '58G939': 'KBG939KOSPI200풋',\n",
              " '58G940': 'KBG940KOSPI200콜',\n",
              " '58G941': 'KBG941KOSPI200콜',\n",
              " '58G942': 'KBG942KOSPI200콜',\n",
              " '58G943': 'KBG943KOSPI200콜',\n",
              " '58G944': 'KBG944KOSPI200콜',\n",
              " '58G945': 'KBG945KOSPI200풋',\n",
              " '58G946': 'KBG946KOSPI200풋',\n",
              " '58G947': 'KBG947KOSPI200풋',\n",
              " '58G948': 'KBG948KOSPI200풋',\n",
              " '58G949': 'KBG949KOSPI200풋',\n",
              " '58G952': 'KBG952엘지디스콜',\n",
              " '58G953': 'KBG953엘지디스콜',\n",
              " '58G954': 'KBG954LG생건콜',\n",
              " '58G956': 'KBG956LG화학콜',\n",
              " '58G957': 'KBG957LG화학콜',\n",
              " '58G958': 'KBG958네이버콜',\n",
              " '58G960': 'KBG960네이버풋',\n",
              " '58G961': 'KBG961POSCO콜',\n",
              " '58G962': 'KBG962POSCO콜',\n",
              " '58G963': 'KBG963POSCO콜',\n",
              " '58G964': 'KBG964POSCO풋',\n",
              " '58G965': 'KBG965SK이노콜',\n",
              " '58G966': 'KBG966SK케미칼콜',\n",
              " '58G967': 'KBG967SK텔레콤콜',\n",
              " '58G968': 'KBG968SK텔레콤콜',\n",
              " '58G970': 'KBG970SK하이닉콜',\n",
              " '58G971': 'KBG971SK하이닉풋',\n",
              " '58G972': 'KBG972S-OIL콜',\n",
              " '58G973': 'KBG973S-OIL콜',\n",
              " '58G974': 'KBG974S-OIL풋',\n",
              " '58G975': 'KBG975금호석유콜',\n",
              " '58G976': 'KBG976기아콜',\n",
              " '58G977': 'KBG977기아풋',\n",
              " '58G978': 'KBG978넷마블콜',\n",
              " '58G979': 'KBG979녹십자콜',\n",
              " '58G981': 'KBG981롯데케미콜',\n",
              " '58G982': 'KBG982만도콜',\n",
              " '58G983': 'KBG983삼성SDI콜',\n",
              " '58G985': 'KBG985삼성물산콜',\n",
              " '58G986': 'KBG986삼성바이콜',\n",
              " '58G987': 'KBG987삼성바이콜',\n",
              " '58G988': 'KBG988삼성바이풋',\n",
              " '58G989': 'KBG989삼성SDS콜',\n",
              " '58G990': 'KBG990삼성SDS콜',\n",
              " '58G992': 'KBG992삼성전기콜',\n",
              " '58G993': 'KBG993삼성전자콜',\n",
              " '58G994': 'KBG994삼성전자콜',\n",
              " '58G995': 'KBG995삼성전자풋',\n",
              " '58G996': 'KBG996셀트리온콜',\n",
              " '58G997': 'KBG997셀트리온콜',\n",
              " '58G998': 'KBG998셀트리온풋',\n",
              " '58G999': 'KBG999셀트헬스콜',\n",
              " '58GA00': 'KBGA00셀트헬스풋',\n",
              " '58GA01': 'KBGA01신한지주콜',\n",
              " '58GA02': 'KBGA02신한지주콜',\n",
              " '58GA03': 'KBGA03신한지주풋',\n",
              " '58GA04': 'KBGA04아모레콜',\n",
              " '58GA05': 'KBGA05아모레콜',\n",
              " '58GA06': 'KBGA06아모레풋',\n",
              " '58GA08': 'KBGA08NC소프트콜',\n",
              " '58GA09': 'KBGA09NC소프트콜',\n",
              " '58GA10': 'KBGA10NC소프트풋',\n",
              " '58GA11': 'KBGA11이마트콜',\n",
              " '58GA12': 'KBGA12카카오콜',\n",
              " '58GA14': 'KBGA14카카오풋',\n",
              " '58GA15': 'KBGA15포스코케콜',\n",
              " '58GA16': 'KBGA16하나금융콜',\n",
              " '58GA17': 'KBGA17하나금융콜',\n",
              " '58GA18': 'KBGA18하나금융풋',\n",
              " '58GA19': 'KBGA19하이브콜',\n",
              " '58GA20': 'KBGA20하이브콜',\n",
              " '58GA21': 'KBGA21한국전력콜',\n",
              " '58GA22': 'KBGA22한국조선콜',\n",
              " '58GA23': 'KBGA23한국조선콜',\n",
              " '58GA24': 'KBGA24한국조선풋',\n",
              " '58GA25': 'KBGA25한화솔루콜',\n",
              " '58GA26': 'KBGA26글로비스콜',\n",
              " '58GA27': 'KBGA27모비스콜',\n",
              " '58GA28': 'KBGA28모비스풋',\n",
              " '58GA29': 'KBGA29현대차콜',\n",
              " '58GA30': 'KBGA30현대차풋',\n",
              " '58GA31': 'KBGA31호텔신라콜',\n",
              " '58GA32': 'KBGA32호텔신라콜',\n",
              " '58GA33': 'KBGA33호텔신라풋',\n",
              " '58GA34': 'KBGA34케이티지풋',\n",
              " '58GA35': 'KBGA35케이티지콜',\n",
              " '58GA36': 'KBGA36엘지디스콜',\n",
              " '58GA39': 'KBGA39네이버콜',\n",
              " '58GA40': 'KBGA40네이버콜',\n",
              " '58GA41': 'KBGA41POSCO콜',\n",
              " '58GA42': 'KBGA42POSCO콜',\n",
              " '58GA43': 'KBGA43SK이노콜',\n",
              " '58GA44': 'KBGA44SK케미칼콜',\n",
              " '58GA45': 'KBGA45SK텔레콤콜',\n",
              " '58GA46': 'KBGA46SK텔레콤콜',\n",
              " '58GA47': 'KBGA47SK하이닉콜',\n",
              " '58GA48': 'KBGA48S-OIL콜',\n",
              " '58GA49': 'KBGA49금호석유콜',\n",
              " '58GA50': 'KBGA50기아콜',\n",
              " '58GA51': 'KBGA51두산퓨얼콜',\n",
              " '58GA52': 'KBGA52롯데케미풋',\n",
              " '58GA53': 'KBGA53롯데케미콜',\n",
              " '58GA54': 'KBGA54만도콜',\n",
              " '58GA55': 'KBGA55삼성SDI콜',\n",
              " '58GA56': 'KBGA56삼성물산콜',\n",
              " '58GA57': 'KBGA57삼성바이콜',\n",
              " '58GA58': 'KBGA58삼성전기콜',\n",
              " '58GA59': 'KBGA59삼성전자콜',\n",
              " '58GA60': 'KBGA60삼성전자콜',\n",
              " '58GA61': 'KBGA61셀트리온콜',\n",
              " '58GA62': 'KBGA62셀트리온콜',\n",
              " '58GA63': 'KBGA63셀트제약콜',\n",
              " '58GA64': 'KBGA64셀트헬스콜',\n",
              " '58GA65': 'KBGA65신한지주콜',\n",
              " '58GA66': 'KBGA66아모레콜',\n",
              " '58GA67': 'KBGA67아모레콜',\n",
              " '58GA68': 'KBGA68NC소프트콜',\n",
              " '58GA69': 'KBGA69NC소프트콜',\n",
              " '58GA70': 'KBGA70카카오콜',\n",
              " '58GA71': 'KBGA71하나금융콜',\n",
              " '58GA72': 'KBGA72하이브콜',\n",
              " '58GA73': 'KBGA73하이브콜',\n",
              " '58GA74': 'KBGA74한국전력콜',\n",
              " '58GA75': 'KBGA75한국조선콜',\n",
              " '58GA76': 'KBGA76한화솔루콜',\n",
              " '58GA77': 'KBGA77글로비스콜',\n",
              " '58GA78': 'KBGA78모비스콜',\n",
              " '58GA79': 'KBGA79현대차콜',\n",
              " '58GA80': 'KBGA80호텔신라콜',\n",
              " '58GA81': 'KBGA81엘지디스콜',\n",
              " '58GA82': 'KBGA82LG화학콜',\n",
              " '58GA83': 'KBGA83네이버콜',\n",
              " '58GA84': 'KBGA84POSCO콜',\n",
              " '58GA85': 'KBGA85SK텔레콤콜',\n",
              " '58GA86': 'KBGA86SK텔레콤풋',\n",
              " '58GA87': 'KBGA87SK하이닉콜',\n",
              " '58GA88': 'KBGA88삼성SDI콜',\n",
              " '58GA89': 'KBGA89삼성바이콜',\n",
              " '58GA90': 'KBGA90삼성전자콜',\n",
              " '58GA91': 'KBGA91삼성전자콜',\n",
              " '58GA92': 'KBGA92셀트리온콜',\n",
              " '58GA93': 'KBGA93셀트리온풋',\n",
              " '58GA95': 'KBGA95신한지주콜',\n",
              " '58GA96': 'KBGA96아모레콜',\n",
              " '58GA97': 'KBGA97NC소프트콜',\n",
              " '58GA98': 'KBGA98카카오콜',\n",
              " '58GA99': 'KBGA99하나금융콜',\n",
              " '58GB00': 'KBGB00모비스콜',\n",
              " '58GB01': 'KBGB01현대차콜',\n",
              " '58GB02': 'KBGB02케이티지콜',\n",
              " '58GB03': 'KBGB03엘지디스콜',\n",
              " '58GB04': 'KBGB04엘지전자콜',\n",
              " '58GB05': 'KBGB05LG화학콜',\n",
              " '58GB06': 'KBGB06POSCO콜',\n",
              " '58GB07': 'KBGB07SK텔레콤콜',\n",
              " '58GB08': 'KBGB08SK하이닉콜',\n",
              " '58GB09': 'KBGB09삼성SDI콜',\n",
              " '58GB10': 'KBGB10삼성SDS콜',\n",
              " '58GB11': 'KBGB11삼성전자콜',\n",
              " '58GB12': 'KBGB12삼성전자풋',\n",
              " '58GB13': 'KBGB13신한지주콜',\n",
              " '58GB14': 'KBGB14하나금융콜',\n",
              " '58GB15': 'KBGB15SK하이닉콜',\n",
              " '58GB16': 'KBGB16삼성전자콜',\n",
              " '58GB17': 'KBGB17셀트리온콜',\n",
              " '58GB18': 'KBGB18삼성전자콜',\n",
              " '58GB19': 'KBGB19삼성전자풋',\n",
              " '58GB20': 'KBGB20KOSPI200풋',\n",
              " '58GB21': 'KBGB21KOSPI200풋',\n",
              " '58GB22': 'KBGB22KOSPI200풋',\n",
              " '58GB23': 'KBGB23KOSPI200풋',\n",
              " '58GB24': 'KBGB24KOSPI200풋',\n",
              " '58GB25': 'KBGB25KOSPI200풋',\n",
              " '58GB26': 'KBGB26KOSPI200풋',\n",
              " '58GB27': 'KBGB27KOSPI200풋',\n",
              " '58GB28': 'KBGB28KOSPI200풋',\n",
              " '58GB29': 'KBGB29KOSPI200풋',\n",
              " '58GB30': 'KBGB30KOSPI200풋',\n",
              " '58GB31': 'KBGB31KOSPI200풋',\n",
              " '58GB32': 'KBGB32KOSPI200풋',\n",
              " '58GB33': 'KBGB33KOSPI200풋',\n",
              " '58GB34': 'KBGB34KOSPI200풋',\n",
              " '58GB35': 'KBGB35KOSPI200콜',\n",
              " '58GB36': 'KBGB36KOSPI200콜',\n",
              " '58GB37': 'KBGB37KOSPI200콜',\n",
              " '58GB38': 'KBGB38KOSPI200콜',\n",
              " '58GB39': 'KBGB39KOSPI200콜',\n",
              " '58GB40': 'KBGB40KOSPI200콜',\n",
              " '58GB41': 'KBGB41KOSPI200콜',\n",
              " '58GB42': 'KBGB42KOSPI200콜',\n",
              " '58GB43': 'KBGB43KOSPI200콜',\n",
              " '58GB44': 'KBGB44KOSPI200콜',\n",
              " '58GB45': 'KBGB45KOSPI200콜',\n",
              " '58GB46': 'KBGB46KOSPI200콜',\n",
              " '58GB47': 'KBGB47KOSPI200콜',\n",
              " '58GB48': 'KBGB48KOSPI200콜',\n",
              " '58GB49': 'KBGB49KOSPI200콜',\n",
              " '58GB50': 'KBGB50KOSPI200풋',\n",
              " '58GB51': 'KBGB51KOSPI200풋',\n",
              " '58GB52': 'KBGB52KOSPI200풋',\n",
              " '58GB53': 'KBGB53KOSPI200풋',\n",
              " '58GB54': 'KBGB54KOSPI200풋',\n",
              " '58GB55': 'KBGB55KOSPI200풋',\n",
              " '58GB56': 'KBGB56KOSPI200풋',\n",
              " '58GB57': 'KBGB57KOSPI200풋',\n",
              " '58GB58': 'KBGB58KOSPI200풋',\n",
              " '58GB59': 'KBGB59KOSPI200풋',\n",
              " '58GB60': 'KBGB60KOSPI200풋',\n",
              " '58GB61': 'KBGB61KOSPI200풋',\n",
              " '58GB62': 'KBGB62KOSPI200풋',\n",
              " '58GB63': 'KBGB63KOSPI200풋',\n",
              " '58GB64': 'KBGB64KOSPI200풋',\n",
              " '58GB65': 'KBGB65KOSPI200콜',\n",
              " '58GB66': 'KBGB66KOSPI200콜',\n",
              " '58GB67': 'KBGB67KOSPI200콜',\n",
              " '58GB68': 'KBGB68KOSPI200콜',\n",
              " '58GB69': 'KBGB69KOSPI200콜',\n",
              " '58GB70': 'KBGB70KOSPI200콜',\n",
              " '58GB71': 'KBGB71KOSPI200콜',\n",
              " '58GB72': 'KBGB72KOSPI200콜',\n",
              " '58GB73': 'KBGB73KOSPI200콜',\n",
              " '58GB74': 'KBGB74KOSPI200콜',\n",
              " '58GB75': 'KBGB75KOSPI200콜',\n",
              " '58GB76': 'KBGB76KOSPI200콜',\n",
              " '58GB77': 'KBGB77KOSPI200콜',\n",
              " '58GB78': 'KBGB78KOSPI200콜',\n",
              " '58GB79': 'KBGB79KOSPI200콜',\n",
              " '58GB80': 'KBGB80KOSPI200콜',\n",
              " '58GB81': 'KBGB81KOSPI200콜',\n",
              " '58GB82': 'KBGB82KOSPI200콜',\n",
              " '58GB83': 'KBGB83KOSPI200콜',\n",
              " '58GB84': 'KBGB84KOSPI200콜',\n",
              " '58GB85': 'KBGB85엘지디스콜',\n",
              " '58GB86': 'KBGB86엘지디스풋',\n",
              " '58GB87': 'KBGB87LG이노텍콜',\n",
              " '58GB88': 'KBGB88엘지전자풋',\n",
              " '58GB89': 'KBGB89LG화학콜',\n",
              " '58GB90': 'KBGB90네이버콜',\n",
              " '58GB91': 'KBGB91POSCO콜',\n",
              " '58GB92': 'KBGB92POSCO풋',\n",
              " '58GB93': 'KBGB93SK콜',\n",
              " '58GB94': 'KBGB94SK이노콜',\n",
              " '58GB97': 'KBGB97S-OIL콜',\n",
              " '58GB98': 'KBGB98S-OIL콜',\n",
              " '58GB99': 'KBGB99S-OIL풋',\n",
              " '58GC00': 'KBGC00금호석유콜',\n",
              " '58GC01': 'KBGC01기아콜',\n",
              " '58GC02': 'KBGC02기아풋',\n",
              " '58GC03': 'KBGC03넷마블콜',\n",
              " '58GC04': 'KBGC04넷마블풋',\n",
              " '58GC05': 'KBGC05녹십자콜',\n",
              " '58GC06': 'KBGC06롯데케미콜',\n",
              " '58GC07': 'KBGC07롯데케미풋',\n",
              " '58GC08': 'KBGC08만도콜',\n",
              " '58GC09': 'KBGC09삼성SDI콜',\n",
              " '58GC11': 'KBGC11삼성물산콜',\n",
              " '58GC12': 'KBGC12삼성바이콜',\n",
              " '58GC13': 'KBGC13삼성전자콜',\n",
              " '58GC14': 'KBGC14삼성전자콜',\n",
              " '58GC15': 'KBGC15삼성전자콜',\n",
              " '58GC16': 'KBGC16삼성전자풋',\n",
              " '58GC18': 'KBGC18셀트헬스콜',\n",
              " '58GC20': 'KBGC20신한지주풋',\n",
              " '58GC22': 'KBGC22NC소프트콜',\n",
              " '58GC23': 'KBGC23카카오콜',\n",
              " '58GC24': 'KBGC24포스코케콜',\n",
              " '58GC25': 'KBGC25하나금융콜',\n",
              " '58GC26': 'KBGC26하나금융콜',\n",
              " '58GC27': 'KBGC27하나금융풋',\n",
              " '58GC28': 'KBGC28한국전력풋',\n",
              " '58GC29': 'KBGC29한국조선콜',\n",
              " '58GC30': 'KBGC30한국항공콜',\n",
              " '58GC31': 'KBGC31한화솔루콜',\n",
              " '58GC32': 'KBGC32모비스콜',\n",
              " '58GC33': 'KBGC33현대제철콜',\n",
              " '58GC34': 'KBGC34현대제철콜',\n",
              " '58GC35': 'KBGC35현대제철풋',\n",
              " '58GC36': 'KBGC36현대차콜',\n",
              " '58GC37': 'KBGC37현대차풋',\n",
              " '58GC38': 'KBGC38호텔신라콜',\n",
              " '58GC39': 'KBGC39호텔신라풋',\n",
              " '58GC40': 'KBGC40LG생건콜',\n",
              " '58GC41': 'KBGC41LG이노텍콜',\n",
              " '58GC42': 'KBGC42LG화학콜',\n",
              " '58GC43': 'KBGC43LG화학풋',\n",
              " '58GC44': 'KBGC44네이버콜',\n",
              " '58GC45': 'KBGC45POSCO콜',\n",
              " '58GC46': 'KBGC46SK콜',\n",
              " '58GC47': 'KBGC47SK하이닉콜',\n",
              " '58GC48': 'KBGC48S-OIL콜',\n",
              " '58GC49': 'KBGC49금호석유콜',\n",
              " '58GC50': 'KBGC50넷마블콜',\n",
              " '58GC52': 'KBGC52두산퓨얼콜',\n",
              " '58GC53': 'KBGC53롯데케미콜',\n",
              " '58GC54': 'KBGC54만도콜',\n",
              " '58GC55': 'KBGC55삼성물산콜',\n",
              " '58GC56': 'KBGC56삼성SDS콜',\n",
              " '58GC57': 'KBGC57삼성전기콜',\n",
              " '58GC58': 'KBGC58삼성전자콜',\n",
              " '58GC59': 'KBGC59셀트헬스풋',\n",
              " '58GC60': 'KBGC60신한지주콜',\n",
              " '58GC61': 'KBGC61이마트콜',\n",
              " '58GC62': 'KBGC62카카오풋',\n",
              " '58GC64': 'KBGC64하이브콜',\n",
              " '58GC65': 'KBGC65한국전력콜',\n",
              " '58GC66': 'KBGC66한국조선콜',\n",
              " '58GC67': 'KBGC67한화솔루콜',\n",
              " '58GC68': 'KBGC68글로비스콜',\n",
              " '58GC69': 'KBGC69모비스콜',\n",
              " '58GC70': 'KBGC70현대제철콜',\n",
              " '58GC71': 'KBGC71호텔신라콜',\n",
              " '58GC72': 'KBGC72엘지디스콜',\n",
              " '58GC73': 'KBGC73엘지전자콜',\n",
              " '58GC74': 'KBGC74LG화학콜',\n",
              " '58GC76': 'KBGC76POSCO콜',\n",
              " '58GC77': 'KBGC77SK콜',\n",
              " '58GC78': 'KBGC78SK이노콜',\n",
              " '58GC80': 'KBGC80SK하이닉콜',\n",
              " '58GC81': 'KBGC81SK하이닉콜',\n",
              " '58GC82': 'KBGC82기아콜',\n",
              " '58GC84': 'KBGC84롯데케미콜',\n",
              " '58GC85': 'KBGC85삼성SDI콜',\n",
              " '58GC86': 'KBGC86삼성물산콜',\n",
              " '58GC87': 'KBGC87삼성바이콜',\n",
              " '58GC88': 'KBGC88삼성전기콜',\n",
              " '58GC89': 'KBGC89삼성전자풋',\n",
              " '58GC90': 'KBGC90셀트리온콜',\n",
              " '58GC91': 'KBGC91셀트제약콜',\n",
              " '58GC92': 'KBGC92셀트헬스콜',\n",
              " '58GC93': 'KBGC93아모레콜',\n",
              " '58GC94': 'KBGC94NC소프트콜',\n",
              " '58GC95': 'KBGC95이마트콜',\n",
              " '58GC96': 'KBGC96카카오콜',\n",
              " '58GC98': 'KBGC98하나금융콜',\n",
              " '58GC99': 'KBGC99글로비스콜',\n",
              " '58GD00': 'KBGD00모비스콜',\n",
              " '58GD01': 'KBGD01현대차콜',\n",
              " '58GD02': 'KBGD02현대차콜',\n",
              " '58GD03': 'KBGD03호텔신라콜',\n",
              " '58GD04': 'KBGD04엘지전자콜',\n",
              " '58GD05': 'KBGD05LG화학콜',\n",
              " '58GD06': 'KBGD06네이버콜',\n",
              " '58GD07': 'KBGD07POSCO콜',\n",
              " '58GD09': 'KBGD09SK하이닉콜',\n",
              " '58GD10': 'KBGD10기아콜',\n",
              " '58GD12': 'KBGD12롯데케미콜',\n",
              " '58GD13': 'KBGD13삼성SDI콜',\n",
              " '58GD14': 'KBGD14삼성바이콜',\n",
              " '58GD15': 'KBGD15삼성전자콜',\n",
              " '58GD16': 'KBGD16셀트리온콜',\n",
              " '58GD17': 'KBGD17신한지주콜',\n",
              " '58GD18': 'KBGD18아모레콜',\n",
              " '58GD19': 'KBGD19한국항공콜',\n",
              " '58GD20': 'KBGD20모비스콜',\n",
              " '58GD21': 'KBGD21현대차콜',\n",
              " '58GD22': 'KBGD22엘지디스콜',\n",
              " '58GD23': 'KBGD23SK하이닉콜',\n",
              " '58GD24': 'KBGD24기아콜',\n",
              " '58GD25': 'KBGD25삼성물산콜',\n",
              " '58GD26': 'KBGD26삼성전자콜',\n",
              " '58GD27': 'KBGD27셀트리온콜',\n",
              " '58GD28': 'KBGD28NC소프트콜',\n",
              " '58GD29': 'KBGD29하나금융콜',\n",
              " '58GD30': 'KBGD30현대차콜',\n",
              " '58GD31': 'KBGD31삼성전자콜',\n",
              " '58GD32': 'KBGD32카카오콜',\n",
              " '58GD33': 'KBGD33하나금융콜',\n",
              " '58GD34': 'KBGD34한국전력콜',\n",
              " '58GD35': 'KBGD35KOSPI200콜',\n",
              " '58GD36': 'KBGD36KOSPI200콜',\n",
              " '58GD37': 'KBGD37KOSPI200콜',\n",
              " '58GD38': 'KBGD38KOSPI200콜',\n",
              " '58GD39': 'KBGD39KOSPI200콜',\n",
              " '58GD40': 'KBGD40KOSPI200콜',\n",
              " '58GD41': 'KBGD41KOSPI200콜',\n",
              " '58GD42': 'KBGD42KOSPI200콜',\n",
              " '58GD43': 'KBGD43KOSPI200콜',\n",
              " '58GD44': 'KBGD44KOSPI200콜',\n",
              " '58GD45': 'KBGD45KOSPI200콜',\n",
              " '58GD46': 'KBGD46KOSPI200콜',\n",
              " '58GD47': 'KBGD47KOSPI200콜',\n",
              " '58GD48': 'KBGD48KOSPI200콜',\n",
              " '58GD49': 'KBGD49KOSPI200콜',\n",
              " '58GD50': 'KBGD50KOSPI200콜',\n",
              " '58GD51': 'KBGD51KOSPI200콜',\n",
              " '58GD52': 'KBGD52KOSPI200풋',\n",
              " '58GD53': 'KBGD53KOSPI200풋',\n",
              " '58GD54': 'KBGD54KOSPI200풋',\n",
              " '58GD55': 'KBGD55KOSPI200풋',\n",
              " '58GD56': 'KBGD56KOSPI200풋',\n",
              " '58GD57': 'KBGD57KOSPI200풋',\n",
              " '58GD58': 'KBGD58KOSPI200풋',\n",
              " '58GD59': 'KBGD59KOSPI200풋',\n",
              " '58GD60': 'KBGD60KOSPI200풋',\n",
              " '58GD61': 'KBGD61KOSPI200풋',\n",
              " '58GD62': 'KBGD62KOSPI200풋',\n",
              " '58GD63': 'KBGD63KOSPI200풋',\n",
              " '58GD64': 'KBGD64KOSPI200풋',\n",
              " '58GD65': 'KBGD65KOSPI200풋',\n",
              " '58GD66': 'KBGD66KOSPI200풋',\n",
              " '58GD67': 'KBGD67KOSPI200풋',\n",
              " '58GD68': 'KBGD68KOSPI200콜',\n",
              " '58GD69': 'KBGD69KOSPI200콜',\n",
              " '58GD70': 'KBGD70KOSPI200콜',\n",
              " '58GD71': 'KBGD71KOSPI200콜',\n",
              " '58GD72': 'KBGD72KOSPI200콜',\n",
              " '58GD73': 'KBGD73KOSPI200콜',\n",
              " '58GD74': 'KBGD74KOSPI200콜',\n",
              " '58GD75': 'KBGD75KOSPI200풋',\n",
              " '58GD76': 'KBGD76KOSPI200풋',\n",
              " '58GD77': 'KBGD77KOSPI200풋',\n",
              " '58GD78': 'KBGD78KOSPI200풋',\n",
              " '58GD79': 'KBGD79KOSPI200풋',\n",
              " '58GD80': 'KBGD80KOSPI200풋',\n",
              " '58GD81': 'KBGD81KOSPI200풋',\n",
              " '58GD82': 'KBGD82KOSPI200풋',\n",
              " '58GD83': 'KBGD83KOSPI200풋',\n",
              " '58GD84': 'KBGD84KOSPI200풋',\n",
              " '58GD85': 'KBGD85케이티지콜',\n",
              " '58GD86': 'KBGD86엘지디스콜',\n",
              " '58GD87': 'KBGD87엘지디스콜',\n",
              " '58GD88': 'KBGD88엘지전자풋',\n",
              " '58GD89': 'KBGD89엘지전자콜',\n",
              " '58GD90': 'KBGD90LG화학풋',\n",
              " '58GD91': 'KBGD91LG화학콜',\n",
              " '58GD92': 'KBGD92LG화학콜',\n",
              " '58GD93': 'KBGD93네이버풋',\n",
              " '58GD94': 'KBGD94네이버풋',\n",
              " '58GD95': 'KBGD95네이버콜',\n",
              " '58GD96': 'KBGD96POSCO풋',\n",
              " '58GD97': 'KBGD97POSCO콜',\n",
              " '58GD98': 'KBGD98SK이노풋',\n",
              " '58GD99': 'KBGD99SK이노콜',\n",
              " '58GE00': 'KBGE00S-OIL콜',\n",
              " '58GE01': 'KBGE01금호석유콜',\n",
              " '58GE02': 'KBGE02금호석유풋',\n",
              " '58GE03': 'KBGE03금호석유콜',\n",
              " '58GE04': 'KBGE04기아풋',\n",
              " '58GE05': 'KBGE05기아콜',\n",
              " '58GE06': 'KBGE06기아콜',\n",
              " '58GE07': 'KBGE07넷마블콜',\n",
              " '58GE08': 'KBGE08녹십자콜',\n",
              " '58GE09': 'KBGE09롯데케미콜',\n",
              " '58GE10': 'KBGE10롯데케미콜',\n",
              " '58GE11': 'KBGE11롯데케미콜',\n",
              " '58GE12': 'KBGE12만도콜',\n",
              " '58GE13': 'KBGE13만도콜',\n",
              " '58GE14': 'KBGE14삼성SDI콜',\n",
              " '58GE15': 'KBGE15삼성SDI풋',\n",
              " '58GE16': 'KBGE16삼성바이콜',\n",
              " '58GE17': 'KBGE17삼성SDS콜',\n",
              " '58GE18': 'KBGE18삼성전기풋',\n",
              " '58GE19': 'KBGE19삼성전기콜',\n",
              " '58GE20': 'KBGE20셀트제약풋',\n",
              " '58GE21': 'KBGE21신한지주풋',\n",
              " '58GE22': 'KBGE22신한지주콜',\n",
              " '58GE23': 'KBGE23아모레풋',\n",
              " '58GE24': 'KBGE24아모레콜',\n",
              " '58GE25': 'KBGE25SK바이오콜',\n",
              " '58GE26': 'KBGE26SK바이오콜',\n",
              " '58GE27': 'KBGE27NC소프트풋',\n",
              " '58GE28': 'KBGE28NC소프트콜',\n",
              " '58GE29': 'KBGE29이마트풋',\n",
              " '58GE30': 'KBGE30카카오콜',\n",
              " '58GE31': 'KBGE31카카오콜',\n",
              " '58GE32': 'KBGE32하나금융콜',\n",
              " '58GE33': 'KBGE33하나금융콜',\n",
              " '58GE34': 'KBGE34하이브콜',\n",
              " '58GE35': 'KBGE35한국전력콜',\n",
              " '58GE36': 'KBGE36한국전력콜',\n",
              " '58GE37': 'KBGE37글로비스풋',\n",
              " '58GE38': 'KBGE38글로비스콜',\n",
              " '58GE39': 'KBGE39모비스콜',\n",
              " '58GE40': 'KBGE40모비스콜',\n",
              " '58GE41': 'KBGE41현대제철콜',\n",
              " '58GE42': 'KBGE42현대차풋',\n",
              " '58GE43': 'KBGE43현대차콜',\n",
              " '58GE44': 'KBGE44KOSPI200콜',\n",
              " '58GE45': 'KBGE45KOSPI200콜',\n",
              " '58GE46': 'KBGE46KOSPI200풋',\n",
              " '58GE47': 'KBGE47KOSPI200풋',\n",
              " '58GE48': 'KBGE48KOSPI200풋',\n",
              " '58GE49': 'KBGE49KOSPI200풋',\n",
              " '58GE50': 'KBGE50KOSPI200풋',\n",
              " '58GE51': 'KBGE51KOSPI200풋',\n",
              " '58GE52': 'KBGE52KOSPI200콜',\n",
              " '58GE53': 'KBGE53KOSPI200콜',\n",
              " '58GE54': 'KBGE54KOSPI200풋',\n",
              " '58GE55': 'KBGE55KOSPI200풋',\n",
              " '58GE56': 'KBGE56KOSPI200풋',\n",
              " '58GE57': 'KBGE57KOSPI200풋',\n",
              " '58GE58': 'KBGE58KOSPI200풋',\n",
              " '58GE59': 'KBGE59KOSPI200풋',\n",
              " '58GE60': 'KBGE60KOSPI200풋',\n",
              " '58GE61': 'KBGE61KOSPI200풋',\n",
              " '58GE62': 'KBGE62KOSPI200풋',\n",
              " '58GE63': 'KBGE63KOSPI200콜',\n",
              " '58GE64': 'KBGE64KOSPI200콜',\n",
              " '58GE65': 'KBGE65KOSPI200풋',\n",
              " '58GE66': 'KBGE66KOSPI200풋',\n",
              " '58GE67': 'KBGE67KOSPI200풋',\n",
              " '58GE68': 'KBGE68KOSPI200풋',\n",
              " '58GE69': 'KBGE69KOSPI200풋',\n",
              " '58GE70': 'KBGE70KOSPI200풋',\n",
              " '58GE71': 'KBGE71KOSPI200풋',\n",
              " '58GE72': 'KBGE72KOSPI200풋',\n",
              " '58GE73': 'KBGE73KOSPI200풋',\n",
              " '58GE74': 'KBGE74KOSPI200풋',\n",
              " '58GE75': 'KBGE75KOSPI200풋',\n",
              " '58GE76': 'KBGE76KOSPI200콜',\n",
              " '58GE77': 'KBGE77KOSPI200콜',\n",
              " '58GE78': 'KBGE78KOSPI200콜',\n",
              " '58GE79': 'KBGE79KOSPI200콜',\n",
              " '58GE80': 'KBGE80KOSPI200콜',\n",
              " '58GE81': 'KBGE81KOSPI200콜',\n",
              " '58GE82': 'KBGE82KOSPI200콜',\n",
              " '58GE83': 'KBGE83KOSPI200콜',\n",
              " '58GE84': 'KBGE84KOSPI200콜',\n",
              " '58GE85': 'KBGE85KOSPI200콜',\n",
              " '58GE86': 'KBGE86KOSPI200콜',\n",
              " '58GE87': 'KBGE87KOSPI200콜',\n",
              " '58GE88': 'KBGE88KOSPI200콜',\n",
              " '58GE89': 'KBGE89KOSPI200콜',\n",
              " '58GE90': 'KBGE90KOSPI200콜',\n",
              " '148020': 'KBSTAR 200',\n",
              " '285000': 'KBSTAR 200IT',\n",
              " '361580': 'KBSTAR 200TR',\n",
              " '287300': 'KBSTAR 200건설',\n",
              " '287310': 'KBSTAR 200경기소비재',\n",
              " '290080': 'KBSTAR 200고배당커버드콜ATM',\n",
              " '284980': 'KBSTAR 200금융',\n",
              " '287320': 'KBSTAR 200산업재',\n",
              " '287330': 'KBSTAR 200생활소비재',\n",
              " '252400': 'KBSTAR 200선물레버리지',\n",
              " '252410': 'KBSTAR 200선물인버스',\n",
              " '252420': 'KBSTAR 200선물인버스2X',\n",
              " '284990': 'KBSTAR 200에너지화학',\n",
              " '285010': 'KBSTAR 200중공업',\n",
              " '285020': 'KBSTAR 200철강소재',\n",
              " '315480': 'KBSTAR 200커뮤니케이션서비스',\n",
              " '105780': 'KBSTAR 5대그룹주',\n",
              " '290130': 'KBSTAR ESG사회책임투자',\n",
              " '368200': 'KBSTAR Fn K-뉴딜디지털플러스',\n",
              " '367760': 'KBSTAR Fn5G테크',\n",
              " '367770': 'KBSTAR Fn수소경제테마',\n",
              " '388280': 'KBSTAR Fn컨택트대표',\n",
              " '326240': 'KBSTAR IT플러스',\n",
              " '385560': 'KBSTAR KIS국고채30년Enhanced',\n",
              " '385550': 'KBSTAR KIS단기종합채권(AA-이상)액티브',\n",
              " '385540': 'KBSTAR KIS종합채권(A-이상)액티브',\n",
              " '270800': 'KBSTAR KQ고배당',\n",
              " '292050': 'KBSTAR KRX300',\n",
              " '307010': 'KBSTAR KRX300레버리지',\n",
              " '319870': 'KBSTAR KRX300미국달러선물혼합',\n",
              " '342500': 'KBSTAR KRX국채선물3년10년스티프너',\n",
              " '342600': 'KBSTAR KRX국채선물3년10년스티프너2X',\n",
              " '342610': 'KBSTAR KRX국채선물3년10년플래트너',\n",
              " '342620': 'KBSTAR KRX국채선물3년10년플래트너2X',\n",
              " '234310': 'KBSTAR V&S셀렉트밸류',\n",
              " '241390': 'KBSTAR V&S셀렉트밸류채권혼합',\n",
              " '300640': 'KBSTAR 게임테마',\n",
              " '266160': 'KBSTAR 고배당',\n",
              " '114100': 'KBSTAR 국고채3년',\n",
              " '282000': 'KBSTAR 국고채3년선물인버스',\n",
              " '295000': 'KBSTAR 국채선물10년',\n",
              " '295020': 'KBSTAR 국채선물10년인버스',\n",
              " '276650': 'KBSTAR 글로벌4차산업IT(합성 H)',\n",
              " '375270': 'KBSTAR 글로벌데이터센터리츠나스닥(합성)',\n",
              " '336160': 'KBSTAR 금융채액티브',\n",
              " '326230': 'KBSTAR 내수주플러스',\n",
              " '272560': 'KBSTAR 단기국공채액티브',\n",
              " '196230': 'KBSTAR 단기통안채',\n",
              " '315960': 'KBSTAR 대형고배당10TR',\n",
              " '252730': 'KBSTAR 모멘텀로우볼',\n",
              " '252720': 'KBSTAR 모멘텀밸류',\n",
              " '379780': 'KBSTAR 미국S&P500',\n",
              " '219390': 'KBSTAR 미국S&P원유생산기업(합성 H)',\n",
              " '354240': 'KBSTAR 미국고정배당우선증권ICE TR',\n",
              " '368590': 'KBSTAR 미국나스닥100',\n",
              " '267440': 'KBSTAR 미국장기국채선물(H)',\n",
              " '267490': 'KBSTAR 미국장기국채선물레버리지(합성 H)',\n",
              " '267450': 'KBSTAR 미국장기국채선물인버스(H)',\n",
              " '267500': 'KBSTAR 미국장기국채선물인버스2X(합성 H)',\n",
              " '388420': 'KBSTAR 비메모리반도체액티브',\n",
              " '140570': 'KBSTAR 수출주',\n",
              " '140580': 'KBSTAR 우량업종',\n",
              " '379790': 'KBSTAR 유로스탁스50(H)',\n",
              " '183710': 'KBSTAR 주식혼합',\n",
              " '310080': 'KBSTAR 중국MSCI China(H)',\n",
              " '174360': 'KBSTAR 중국본토대형주CSI100',\n",
              " '136340': 'KBSTAR 중기우량회사채',\n",
              " '281990': 'KBSTAR 중소형고배당',\n",
              " '272570': 'KBSTAR 중장기국공채액티브',\n",
              " '250730': 'KBSTAR 차이나HSCEI(H)',\n",
              " '291680': 'KBSTAR 차이나H선물인버스(H)',\n",
              " '371150': 'KBSTAR 차이나항셍테크',\n",
              " '183700': 'KBSTAR 채권혼합',\n",
              " '270810': 'KBSTAR 코스닥150',\n",
              " '278240': 'KBSTAR 코스닥150선물레버리지',\n",
              " '275750': 'KBSTAR 코스닥150선물인버스',\n",
              " '302450': 'KBSTAR 코스피',\n",
              " '361590': 'KBSTAR 코스피ex200',\n",
              " '334690': 'KBSTAR 팔라듐선물(H)',\n",
              " '334700': 'KBSTAR 팔라듐선물인버스(H)',\n",
              " '253280': 'KBSTAR 헬스케어',\n",
              " '253290': 'KBSTAR 헬스케어채권혼합',\n",
              " '71901BB4': 'KB국민참여뉴딜',\n",
              " '105560': 'KB금융',\n",
              " '71901B92': 'KB와이즈스타부동산1A',\n",
              " '71903B92': 'KB와이즈스타부동산1C-F',\n",
              " '71902B92': 'KB와이즈스타부동산1C-퇴직',\n",
              " '71901B9B': 'KB와이즈스타부동산3A',\n",
              " '71902B9B': 'KB와이즈스타부동산3C-F',\n",
              " '002380': 'KCC',\n",
              " '344820': 'KCC글라스',\n",
              " '009070': 'KCTC',\n",
              " '009440': 'KC그린홀딩스',\n",
              " '119650': 'KC코트렐',\n",
              " '092220': 'KEC',\n",
              " '016380': 'KG동부제철',\n",
              " '016385': 'KG동부제철우',\n",
              " '001390': 'KG케미칼',\n",
              " '033180': 'KH 필룩스',\n",
              " '105190': 'KINDEX 200',\n",
              " '332500': 'KINDEX 200TR',\n",
              " '368470': 'KINDEX Fn K-뉴딜디지털플러스',\n",
              " '380340': 'KINDEX Fn5G플러스',\n",
              " '226380': 'KINDEX Fn성장소비주도주',\n",
              " '356540': 'KINDEX KIS종합채권(AA-이상)액티브',\n",
              " '277540': 'KINDEX S&P아시아TOP50',\n",
              " '225130': 'KINDEX 골드선물 레버리지(합성 H)',\n",
              " '365780': 'KINDEX 국고채10년',\n",
              " '114460': 'KINDEX 국고채3년',\n",
              " ...}"
            ]
          },
          "metadata": {
            "tags": []
          },
          "execution_count": 7
        }
      ]
    },
    {
      "cell_type": "markdown",
      "metadata": {
        "id": "kSa2XeZuSPc1"
      },
      "source": [
        "### 3년치 주가 데이터 가져오기"
      ]
    },
    {
      "cell_type": "code",
      "metadata": {
        "colab": {
          "base_uri": "https://localhost:8080/",
          "height": 445
        },
        "id": "RiXWFZkWNOzO",
        "scrolled": true,
        "outputId": "73cc02cd-291d-4a2c-9cac-b7ec09b1143b"
      },
      "source": [
        "# 종목별 종가 가져오기\n",
        "from datetime import datetime\n",
        "\n",
        "#시작일\n",
        "start_date = '2018-07-19'\n",
        "\n",
        "# today = datetime.today().strftime('%Y-%m-%d')\n",
        "end_date = '2021-07-19'\n",
        "\n",
        "# 각 주식의 일별 종가 데이터를 저장할 데이터 프레임을 생성\n",
        "#Create a dataframe to store the adjusted close price of the stocks\n",
        "df = pd.DataFrame()\n",
        "\n",
        "# FinanceDataReader로 각 종목의 종가데이터 불러오기\n",
        "for stock in assets:\n",
        "  df[stock] = fdr.DataReader(stock, start_date, end_date)['Close']\n",
        "df"
      ],
      "execution_count": null,
      "outputs": [
        {
          "output_type": "execute_result",
          "data": {
            "text/html": [
              "<div>\n",
              "<style scoped>\n",
              "    .dataframe tbody tr th:only-of-type {\n",
              "        vertical-align: middle;\n",
              "    }\n",
              "\n",
              "    .dataframe tbody tr th {\n",
              "        vertical-align: top;\n",
              "    }\n",
              "\n",
              "    .dataframe thead th {\n",
              "        text-align: right;\n",
              "    }\n",
              "</style>\n",
              "<table border=\"1\" class=\"dataframe\">\n",
              "  <thead>\n",
              "    <tr style=\"text-align: right;\">\n",
              "      <th></th>\n",
              "      <th>005930</th>\n",
              "      <th>000660</th>\n",
              "      <th>035720</th>\n",
              "      <th>035420</th>\n",
              "      <th>051910</th>\n",
              "    </tr>\n",
              "    <tr>\n",
              "      <th>Date</th>\n",
              "      <th></th>\n",
              "      <th></th>\n",
              "      <th></th>\n",
              "      <th></th>\n",
              "      <th></th>\n",
              "    </tr>\n",
              "  </thead>\n",
              "  <tbody>\n",
              "    <tr>\n",
              "      <th>2018-07-19</th>\n",
              "      <td>46900</td>\n",
              "      <td>90300</td>\n",
              "      <td>22881</td>\n",
              "      <td>153217</td>\n",
              "      <td>336000</td>\n",
              "    </tr>\n",
              "    <tr>\n",
              "      <th>2018-07-20</th>\n",
              "      <td>47450</td>\n",
              "      <td>87900</td>\n",
              "      <td>23082</td>\n",
              "      <td>154218</td>\n",
              "      <td>332500</td>\n",
              "    </tr>\n",
              "    <tr>\n",
              "      <th>2018-07-23</th>\n",
              "      <td>46500</td>\n",
              "      <td>81700</td>\n",
              "      <td>23182</td>\n",
              "      <td>155019</td>\n",
              "      <td>333000</td>\n",
              "    </tr>\n",
              "    <tr>\n",
              "      <th>2018-07-24</th>\n",
              "      <td>46150</td>\n",
              "      <td>83600</td>\n",
              "      <td>23483</td>\n",
              "      <td>149211</td>\n",
              "      <td>330500</td>\n",
              "    </tr>\n",
              "    <tr>\n",
              "      <th>2018-07-25</th>\n",
              "      <td>46150</td>\n",
              "      <td>80500</td>\n",
              "      <td>23684</td>\n",
              "      <td>149411</td>\n",
              "      <td>361500</td>\n",
              "    </tr>\n",
              "    <tr>\n",
              "      <th>...</th>\n",
              "      <td>...</td>\n",
              "      <td>...</td>\n",
              "      <td>...</td>\n",
              "      <td>...</td>\n",
              "      <td>...</td>\n",
              "    </tr>\n",
              "    <tr>\n",
              "      <th>2021-07-13</th>\n",
              "      <td>79800</td>\n",
              "      <td>123000</td>\n",
              "      <td>161000</td>\n",
              "      <td>441000</td>\n",
              "      <td>840000</td>\n",
              "    </tr>\n",
              "    <tr>\n",
              "      <th>2021-07-14</th>\n",
              "      <td>79500</td>\n",
              "      <td>123500</td>\n",
              "      <td>162000</td>\n",
              "      <td>444000</td>\n",
              "      <td>844000</td>\n",
              "    </tr>\n",
              "    <tr>\n",
              "      <th>2021-07-15</th>\n",
              "      <td>80600</td>\n",
              "      <td>123500</td>\n",
              "      <td>159500</td>\n",
              "      <td>449000</td>\n",
              "      <td>818000</td>\n",
              "    </tr>\n",
              "    <tr>\n",
              "      <th>2021-07-16</th>\n",
              "      <td>79800</td>\n",
              "      <td>121500</td>\n",
              "      <td>157000</td>\n",
              "      <td>447000</td>\n",
              "      <td>828000</td>\n",
              "    </tr>\n",
              "    <tr>\n",
              "      <th>2021-07-19</th>\n",
              "      <td>79000</td>\n",
              "      <td>119000</td>\n",
              "      <td>154000</td>\n",
              "      <td>443000</td>\n",
              "      <td>820000</td>\n",
              "    </tr>\n",
              "  </tbody>\n",
              "</table>\n",
              "<p>740 rows × 5 columns</p>\n",
              "</div>"
            ],
            "text/plain": [
              "            005930  000660  035720  035420  051910\n",
              "Date                                              \n",
              "2018-07-19   46900   90300   22881  153217  336000\n",
              "2018-07-20   47450   87900   23082  154218  332500\n",
              "2018-07-23   46500   81700   23182  155019  333000\n",
              "2018-07-24   46150   83600   23483  149211  330500\n",
              "2018-07-25   46150   80500   23684  149411  361500\n",
              "...            ...     ...     ...     ...     ...\n",
              "2021-07-13   79800  123000  161000  441000  840000\n",
              "2021-07-14   79500  123500  162000  444000  844000\n",
              "2021-07-15   80600  123500  159500  449000  818000\n",
              "2021-07-16   79800  121500  157000  447000  828000\n",
              "2021-07-19   79000  119000  154000  443000  820000\n",
              "\n",
              "[740 rows x 5 columns]"
            ]
          },
          "metadata": {
            "tags": []
          },
          "execution_count": 8
        }
      ]
    },
    {
      "cell_type": "code",
      "metadata": {
        "colab": {
          "base_uri": "https://localhost:8080/"
        },
        "id": "GYtDjH5CS4Bb",
        "outputId": "da8e529c-e3f4-489b-ecbd-a396c0b454ec"
      },
      "source": [
        "df.info()"
      ],
      "execution_count": null,
      "outputs": [
        {
          "output_type": "stream",
          "text": [
            "<class 'pandas.core.frame.DataFrame'>\n",
            "DatetimeIndex: 740 entries, 2018-07-19 to 2021-07-19\n",
            "Data columns (total 5 columns):\n",
            " #   Column  Non-Null Count  Dtype\n",
            "---  ------  --------------  -----\n",
            " 0   005930  740 non-null    int64\n",
            " 1   000660  740 non-null    int64\n",
            " 2   035720  740 non-null    int64\n",
            " 3   035420  740 non-null    int64\n",
            " 4   051910  740 non-null    int64\n",
            "dtypes: int64(5)\n",
            "memory usage: 34.7 KB\n"
          ],
          "name": "stdout"
        }
      ]
    },
    {
      "cell_type": "code",
      "metadata": {
        "colab": {
          "base_uri": "https://localhost:8080/"
        },
        "id": "kpfppYX0S7y_",
        "outputId": "643e4344-2cdd-476c-b36b-4eab82e02586"
      },
      "source": [
        "df.isnull().sum()"
      ],
      "execution_count": null,
      "outputs": [
        {
          "output_type": "execute_result",
          "data": {
            "text/plain": [
              "005930    0\n",
              "000660    0\n",
              "035720    0\n",
              "035420    0\n",
              "051910    0\n",
              "dtype: int64"
            ]
          },
          "metadata": {
            "tags": []
          },
          "execution_count": 10
        }
      ]
    },
    {
      "cell_type": "code",
      "metadata": {
        "colab": {
          "base_uri": "https://localhost:8080/",
          "height": 445
        },
        "id": "W2O7t8sRD02l",
        "outputId": "cf5023f3-e220-4271-da41-0ae443b4b92b"
      },
      "source": [
        "# 결측값 있는 열 삭제 \n",
        "df2 = df.dropna(axis = 1)\n",
        "df2"
      ],
      "execution_count": null,
      "outputs": [
        {
          "output_type": "execute_result",
          "data": {
            "text/html": [
              "<div>\n",
              "<style scoped>\n",
              "    .dataframe tbody tr th:only-of-type {\n",
              "        vertical-align: middle;\n",
              "    }\n",
              "\n",
              "    .dataframe tbody tr th {\n",
              "        vertical-align: top;\n",
              "    }\n",
              "\n",
              "    .dataframe thead th {\n",
              "        text-align: right;\n",
              "    }\n",
              "</style>\n",
              "<table border=\"1\" class=\"dataframe\">\n",
              "  <thead>\n",
              "    <tr style=\"text-align: right;\">\n",
              "      <th></th>\n",
              "      <th>005930</th>\n",
              "      <th>000660</th>\n",
              "      <th>035720</th>\n",
              "      <th>035420</th>\n",
              "      <th>051910</th>\n",
              "    </tr>\n",
              "    <tr>\n",
              "      <th>Date</th>\n",
              "      <th></th>\n",
              "      <th></th>\n",
              "      <th></th>\n",
              "      <th></th>\n",
              "      <th></th>\n",
              "    </tr>\n",
              "  </thead>\n",
              "  <tbody>\n",
              "    <tr>\n",
              "      <th>2018-07-19</th>\n",
              "      <td>46900</td>\n",
              "      <td>90300</td>\n",
              "      <td>22881</td>\n",
              "      <td>153217</td>\n",
              "      <td>336000</td>\n",
              "    </tr>\n",
              "    <tr>\n",
              "      <th>2018-07-20</th>\n",
              "      <td>47450</td>\n",
              "      <td>87900</td>\n",
              "      <td>23082</td>\n",
              "      <td>154218</td>\n",
              "      <td>332500</td>\n",
              "    </tr>\n",
              "    <tr>\n",
              "      <th>2018-07-23</th>\n",
              "      <td>46500</td>\n",
              "      <td>81700</td>\n",
              "      <td>23182</td>\n",
              "      <td>155019</td>\n",
              "      <td>333000</td>\n",
              "    </tr>\n",
              "    <tr>\n",
              "      <th>2018-07-24</th>\n",
              "      <td>46150</td>\n",
              "      <td>83600</td>\n",
              "      <td>23483</td>\n",
              "      <td>149211</td>\n",
              "      <td>330500</td>\n",
              "    </tr>\n",
              "    <tr>\n",
              "      <th>2018-07-25</th>\n",
              "      <td>46150</td>\n",
              "      <td>80500</td>\n",
              "      <td>23684</td>\n",
              "      <td>149411</td>\n",
              "      <td>361500</td>\n",
              "    </tr>\n",
              "    <tr>\n",
              "      <th>...</th>\n",
              "      <td>...</td>\n",
              "      <td>...</td>\n",
              "      <td>...</td>\n",
              "      <td>...</td>\n",
              "      <td>...</td>\n",
              "    </tr>\n",
              "    <tr>\n",
              "      <th>2021-07-13</th>\n",
              "      <td>79800</td>\n",
              "      <td>123000</td>\n",
              "      <td>161000</td>\n",
              "      <td>441000</td>\n",
              "      <td>840000</td>\n",
              "    </tr>\n",
              "    <tr>\n",
              "      <th>2021-07-14</th>\n",
              "      <td>79500</td>\n",
              "      <td>123500</td>\n",
              "      <td>162000</td>\n",
              "      <td>444000</td>\n",
              "      <td>844000</td>\n",
              "    </tr>\n",
              "    <tr>\n",
              "      <th>2021-07-15</th>\n",
              "      <td>80600</td>\n",
              "      <td>123500</td>\n",
              "      <td>159500</td>\n",
              "      <td>449000</td>\n",
              "      <td>818000</td>\n",
              "    </tr>\n",
              "    <tr>\n",
              "      <th>2021-07-16</th>\n",
              "      <td>79800</td>\n",
              "      <td>121500</td>\n",
              "      <td>157000</td>\n",
              "      <td>447000</td>\n",
              "      <td>828000</td>\n",
              "    </tr>\n",
              "    <tr>\n",
              "      <th>2021-07-19</th>\n",
              "      <td>79000</td>\n",
              "      <td>119000</td>\n",
              "      <td>154000</td>\n",
              "      <td>443000</td>\n",
              "      <td>820000</td>\n",
              "    </tr>\n",
              "  </tbody>\n",
              "</table>\n",
              "<p>740 rows × 5 columns</p>\n",
              "</div>"
            ],
            "text/plain": [
              "            005930  000660  035720  035420  051910\n",
              "Date                                              \n",
              "2018-07-19   46900   90300   22881  153217  336000\n",
              "2018-07-20   47450   87900   23082  154218  332500\n",
              "2018-07-23   46500   81700   23182  155019  333000\n",
              "2018-07-24   46150   83600   23483  149211  330500\n",
              "2018-07-25   46150   80500   23684  149411  361500\n",
              "...            ...     ...     ...     ...     ...\n",
              "2021-07-13   79800  123000  161000  441000  840000\n",
              "2021-07-14   79500  123500  162000  444000  844000\n",
              "2021-07-15   80600  123500  159500  449000  818000\n",
              "2021-07-16   79800  121500  157000  447000  828000\n",
              "2021-07-19   79000  119000  154000  443000  820000\n",
              "\n",
              "[740 rows x 5 columns]"
            ]
          },
          "metadata": {
            "tags": []
          },
          "execution_count": 11
        }
      ]
    },
    {
      "cell_type": "markdown",
      "metadata": {
        "id": "y4WNeZFI14a2"
      },
      "source": [
        "### 종목별 연평균 기대수익률 & 일간수익률의 공분산"
      ]
    },
    {
      "cell_type": "code",
      "metadata": {
        "colab": {
          "base_uri": "https://localhost:8080/"
        },
        "id": "6XMRBW4AQMKY",
        "outputId": "3195758c-8426-4bc2-bb2a-6e5529ecd762"
      },
      "source": [
        "!pip install PyPortfolioOpt"
      ],
      "execution_count": null,
      "outputs": [
        {
          "output_type": "stream",
          "text": [
            "Collecting PyPortfolioOpt\n",
            "  Downloading PyPortfolioOpt-1.4.2-py3-none-any.whl (60 kB)\n",
            "\u001b[?25l\r\u001b[K     |█████▍                          | 10 kB 30.1 MB/s eta 0:00:01\r\u001b[K     |██████████▉                     | 20 kB 29.7 MB/s eta 0:00:01\r\u001b[K     |████████████████▎               | 30 kB 11.1 MB/s eta 0:00:01\r\u001b[K     |█████████████████████▋          | 40 kB 9.2 MB/s eta 0:00:01\r\u001b[K     |███████████████████████████     | 51 kB 5.1 MB/s eta 0:00:01\r\u001b[K     |████████████████████████████████| 60 kB 3.0 MB/s \n",
            "\u001b[?25hRequirement already satisfied: scipy<2.0,>=1.3 in /usr/local/lib/python3.7/dist-packages (from PyPortfolioOpt) (1.4.1)\n",
            "Requirement already satisfied: numpy<2.0,>=1.12 in /usr/local/lib/python3.7/dist-packages (from PyPortfolioOpt) (1.19.5)\n",
            "Requirement already satisfied: pandas>=0.19 in /usr/local/lib/python3.7/dist-packages (from PyPortfolioOpt) (1.1.5)\n",
            "Collecting cvxpy<2.0.0,>=1.1.10\n",
            "  Downloading cvxpy-1.1.15-cp37-cp37m-manylinux_2_24_x86_64.whl (2.7 MB)\n",
            "\u001b[K     |████████████████████████████████| 2.7 MB 9.2 MB/s \n",
            "\u001b[?25hRequirement already satisfied: ecos>=2 in /usr/local/lib/python3.7/dist-packages (from cvxpy<2.0.0,>=1.1.10->PyPortfolioOpt) (2.0.7.post1)\n",
            "Requirement already satisfied: scs>=1.1.6 in /usr/local/lib/python3.7/dist-packages (from cvxpy<2.0.0,>=1.1.10->PyPortfolioOpt) (2.1.4)\n",
            "Requirement already satisfied: osqp>=0.4.1 in /usr/local/lib/python3.7/dist-packages (from cvxpy<2.0.0,>=1.1.10->PyPortfolioOpt) (0.6.2.post0)\n",
            "Requirement already satisfied: qdldl in /usr/local/lib/python3.7/dist-packages (from osqp>=0.4.1->cvxpy<2.0.0,>=1.1.10->PyPortfolioOpt) (0.1.5.post0)\n",
            "Requirement already satisfied: python-dateutil>=2.7.3 in /usr/local/lib/python3.7/dist-packages (from pandas>=0.19->PyPortfolioOpt) (2.8.2)\n",
            "Requirement already satisfied: pytz>=2017.2 in /usr/local/lib/python3.7/dist-packages (from pandas>=0.19->PyPortfolioOpt) (2018.9)\n",
            "Requirement already satisfied: six>=1.5 in /usr/local/lib/python3.7/dist-packages (from python-dateutil>=2.7.3->pandas>=0.19->PyPortfolioOpt) (1.15.0)\n",
            "Installing collected packages: cvxpy, PyPortfolioOpt\n",
            "  Attempting uninstall: cvxpy\n",
            "    Found existing installation: cvxpy 1.0.31\n",
            "    Uninstalling cvxpy-1.0.31:\n",
            "      Successfully uninstalled cvxpy-1.0.31\n",
            "Successfully installed PyPortfolioOpt-1.4.2 cvxpy-1.1.15\n"
          ],
          "name": "stdout"
        }
      ]
    },
    {
      "cell_type": "code",
      "metadata": {
        "id": "8tvVKKCbQMIc"
      },
      "source": [
        "# Optimize the portfolio\n",
        "from pypfopt.efficient_frontier import EfficientFrontier\n",
        "from pypfopt import risk_models\n",
        "from pypfopt import expected_returns"
      ],
      "execution_count": null,
      "outputs": []
    },
    {
      "cell_type": "markdown",
      "metadata": {
        "id": "N0NLTLTSxllo"
      },
      "source": [
        "#### ver01> 종가에 결측값이 있는 종목을 삭제하지 않은 df로 포트폴리오 구성 ( 5개 종목 )"
      ]
    },
    {
      "cell_type": "code",
      "metadata": {
        "id": "NDqW9_0cxwfR"
      },
      "source": [
        "# Calculate the expected annualized returns\n",
        "# 복리 연평균 수익률\n",
        "# return (1 + returns).prod() ** (frequency / returns.count()) - 1\n",
        "mu = expected_returns.mean_historical_return(df)\n",
        "\n",
        "# Calculate the annualized sample covariance matrix of the daily asset returns\n",
        "S = risk_models.sample_cov(df)"
      ],
      "execution_count": null,
      "outputs": []
    },
    {
      "cell_type": "code",
      "metadata": {
        "colab": {
          "base_uri": "https://localhost:8080/"
        },
        "id": "NHidcpSZxwfS",
        "outputId": "1085d0a4-7b6f-41e6-b0d0-574a1b74af98"
      },
      "source": [
        "mu"
      ],
      "execution_count": null,
      "outputs": [
        {
          "output_type": "execute_result",
          "data": {
            "text/plain": [
              "005930    0.194596\n",
              "000660    0.098682\n",
              "035720    0.915864\n",
              "035420    0.436265\n",
              "051910    0.355593\n",
              "dtype: float64"
            ]
          },
          "metadata": {
            "tags": []
          },
          "execution_count": 15
        }
      ]
    },
    {
      "cell_type": "code",
      "metadata": {
        "colab": {
          "base_uri": "https://localhost:8080/"
        },
        "id": "-BiVLbeuxwfS",
        "outputId": "0a28152e-9fdf-4105-88e0-61fd7c60f54d"
      },
      "source": [
        "len(mu)"
      ],
      "execution_count": null,
      "outputs": [
        {
          "output_type": "execute_result",
          "data": {
            "text/plain": [
              "5"
            ]
          },
          "metadata": {
            "tags": []
          },
          "execution_count": 16
        }
      ]
    },
    {
      "cell_type": "code",
      "metadata": {
        "colab": {
          "base_uri": "https://localhost:8080/",
          "height": 202
        },
        "id": "njYN8HSixwfS",
        "outputId": "44c851b1-75d4-4afa-eab5-fd4ebc068f0b"
      },
      "source": [
        "S"
      ],
      "execution_count": null,
      "outputs": [
        {
          "output_type": "execute_result",
          "data": {
            "text/html": [
              "<div>\n",
              "<style scoped>\n",
              "    .dataframe tbody tr th:only-of-type {\n",
              "        vertical-align: middle;\n",
              "    }\n",
              "\n",
              "    .dataframe tbody tr th {\n",
              "        vertical-align: top;\n",
              "    }\n",
              "\n",
              "    .dataframe thead th {\n",
              "        text-align: right;\n",
              "    }\n",
              "</style>\n",
              "<table border=\"1\" class=\"dataframe\">\n",
              "  <thead>\n",
              "    <tr style=\"text-align: right;\">\n",
              "      <th></th>\n",
              "      <th>005930</th>\n",
              "      <th>000660</th>\n",
              "      <th>035720</th>\n",
              "      <th>035420</th>\n",
              "      <th>051910</th>\n",
              "    </tr>\n",
              "  </thead>\n",
              "  <tbody>\n",
              "    <tr>\n",
              "      <th>005930</th>\n",
              "      <td>0.073104</td>\n",
              "      <td>0.073651</td>\n",
              "      <td>0.027667</td>\n",
              "      <td>0.030521</td>\n",
              "      <td>0.048315</td>\n",
              "    </tr>\n",
              "    <tr>\n",
              "      <th>000660</th>\n",
              "      <td>0.073651</td>\n",
              "      <td>0.145887</td>\n",
              "      <td>0.034871</td>\n",
              "      <td>0.040453</td>\n",
              "      <td>0.057531</td>\n",
              "    </tr>\n",
              "    <tr>\n",
              "      <th>035720</th>\n",
              "      <td>0.027667</td>\n",
              "      <td>0.034871</td>\n",
              "      <td>0.128514</td>\n",
              "      <td>0.072360</td>\n",
              "      <td>0.055423</td>\n",
              "    </tr>\n",
              "    <tr>\n",
              "      <th>035420</th>\n",
              "      <td>0.030521</td>\n",
              "      <td>0.040453</td>\n",
              "      <td>0.072360</td>\n",
              "      <td>0.131487</td>\n",
              "      <td>0.046115</td>\n",
              "    </tr>\n",
              "    <tr>\n",
              "      <th>051910</th>\n",
              "      <td>0.048315</td>\n",
              "      <td>0.057531</td>\n",
              "      <td>0.055423</td>\n",
              "      <td>0.046115</td>\n",
              "      <td>0.185595</td>\n",
              "    </tr>\n",
              "  </tbody>\n",
              "</table>\n",
              "</div>"
            ],
            "text/plain": [
              "          005930    000660    035720    035420    051910\n",
              "005930  0.073104  0.073651  0.027667  0.030521  0.048315\n",
              "000660  0.073651  0.145887  0.034871  0.040453  0.057531\n",
              "035720  0.027667  0.034871  0.128514  0.072360  0.055423\n",
              "035420  0.030521  0.040453  0.072360  0.131487  0.046115\n",
              "051910  0.048315  0.057531  0.055423  0.046115  0.185595"
            ]
          },
          "metadata": {
            "tags": []
          },
          "execution_count": 17
        }
      ]
    },
    {
      "cell_type": "code",
      "metadata": {
        "colab": {
          "base_uri": "https://localhost:8080/"
        },
        "id": "0JXLUiJVxwfT",
        "outputId": "55c17e98-9db5-4c78-d1cf-50e1e34d6f05"
      },
      "source": [
        "len(S)"
      ],
      "execution_count": null,
      "outputs": [
        {
          "output_type": "execute_result",
          "data": {
            "text/plain": [
              "5"
            ]
          },
          "metadata": {
            "tags": []
          },
          "execution_count": 18
        }
      ]
    },
    {
      "cell_type": "code",
      "metadata": {
        "colab": {
          "base_uri": "https://localhost:8080/"
        },
        "id": "6Rly_NAGxwfT",
        "outputId": "7039c132-15f0-4a61-8774-b55f6451b700"
      },
      "source": [
        "S.shape"
      ],
      "execution_count": null,
      "outputs": [
        {
          "output_type": "execute_result",
          "data": {
            "text/plain": [
              "(5, 5)"
            ]
          },
          "metadata": {
            "tags": []
          },
          "execution_count": 19
        }
      ]
    },
    {
      "cell_type": "code",
      "metadata": {
        "colab": {
          "base_uri": "https://localhost:8080/",
          "height": 314
        },
        "id": "Gk8Ax_hKxwfT",
        "outputId": "5ee1894e-9d88-4c4d-ff62-918da93d317d"
      },
      "source": [
        "# 수익률의 공분산\n",
        "from pypfopt import plotting\n",
        "\n",
        "plotting.plot_covariance(S)"
      ],
      "execution_count": null,
      "outputs": [
        {
          "output_type": "execute_result",
          "data": {
            "text/plain": [
              "<matplotlib.axes._subplots.AxesSubplot at 0x7f2b98a52ad0>"
            ]
          },
          "metadata": {
            "tags": []
          },
          "execution_count": 20
        },
        {
          "output_type": "display_data",
          "data": {
            "image/png": "[encoded data removed]",
            "text/plain": [
              "<Figure size 432x288 with 2 Axes>"
            ]
          },
          "metadata": {
            "tags": [],
            "needs_background": "light"
          }
        }
      ]
    },
    {
      "cell_type": "markdown",
      "metadata": {
        "id": "p-8SQ8bbxSlg"
      },
      "source": [
        "#### ver02> 종가에 결측값이 있는 종목을 삭제한 df2로 포트폴리오 구성 ( 5개 종목 )"
      ]
    },
    {
      "cell_type": "code",
      "metadata": {
        "id": "xXTnZouqQMGD"
      },
      "source": [
        "# Calculate the expected annualized returns\n",
        "# 복리 연평균 수익률\n",
        "# return (1 + returns).prod() ** (frequency / returns.count()) - 1\n",
        "mu2 = expected_returns.mean_historical_return(df2) \n",
        "\n",
        "# Calculate the annualized sample covariance matrix of the daily asset returns\n",
        "S2 = risk_models.sample_cov(df2)"
      ],
      "execution_count": null,
      "outputs": []
    },
    {
      "cell_type": "code",
      "metadata": {
        "colab": {
          "base_uri": "https://localhost:8080/"
        },
        "id": "yW_NZmtyQMEG",
        "outputId": "e0b76914-753a-406b-8f89-c0e802268f44"
      },
      "source": [
        "mu2"
      ],
      "execution_count": null,
      "outputs": [
        {
          "output_type": "execute_result",
          "data": {
            "text/plain": [
              "005930    0.194596\n",
              "000660    0.098682\n",
              "035720    0.915864\n",
              "035420    0.436265\n",
              "051910    0.355593\n",
              "dtype: float64"
            ]
          },
          "metadata": {
            "tags": []
          },
          "execution_count": 22
        }
      ]
    },
    {
      "cell_type": "code",
      "metadata": {
        "colab": {
          "base_uri": "https://localhost:8080/"
        },
        "id": "cosT5zbrWuFI",
        "outputId": "6908f100-ca46-4207-c66b-e6a616bb869d"
      },
      "source": [
        "len(mu2)"
      ],
      "execution_count": null,
      "outputs": [
        {
          "output_type": "execute_result",
          "data": {
            "text/plain": [
              "5"
            ]
          },
          "metadata": {
            "tags": []
          },
          "execution_count": 23
        }
      ]
    },
    {
      "cell_type": "code",
      "metadata": {
        "colab": {
          "base_uri": "https://localhost:8080/"
        },
        "id": "wxvss_z3zc7L",
        "outputId": "add49251-560f-4c9d-bb1b-1e3aa688d873"
      },
      "source": [
        "S2.shape"
      ],
      "execution_count": null,
      "outputs": [
        {
          "output_type": "execute_result",
          "data": {
            "text/plain": [
              "(5, 5)"
            ]
          },
          "metadata": {
            "tags": []
          },
          "execution_count": 24
        }
      ]
    },
    {
      "cell_type": "code",
      "metadata": {
        "colab": {
          "base_uri": "https://localhost:8080/"
        },
        "id": "BUv1GoF8WrV0",
        "outputId": "caf6e4eb-07f3-4195-bfa3-46dccb02dba5"
      },
      "source": [
        "len(S2)"
      ],
      "execution_count": null,
      "outputs": [
        {
          "output_type": "execute_result",
          "data": {
            "text/plain": [
              "5"
            ]
          },
          "metadata": {
            "tags": []
          },
          "execution_count": 25
        }
      ]
    },
    {
      "cell_type": "code",
      "metadata": {
        "colab": {
          "base_uri": "https://localhost:8080/",
          "height": 202
        },
        "id": "9d7BrdXeRKoA",
        "outputId": "b7133a05-b977-4169-ae08-33fefe9ceb11"
      },
      "source": [
        "S2"
      ],
      "execution_count": null,
      "outputs": [
        {
          "output_type": "execute_result",
          "data": {
            "text/html": [
              "<div>\n",
              "<style scoped>\n",
              "    .dataframe tbody tr th:only-of-type {\n",
              "        vertical-align: middle;\n",
              "    }\n",
              "\n",
              "    .dataframe tbody tr th {\n",
              "        vertical-align: top;\n",
              "    }\n",
              "\n",
              "    .dataframe thead th {\n",
              "        text-align: right;\n",
              "    }\n",
              "</style>\n",
              "<table border=\"1\" class=\"dataframe\">\n",
              "  <thead>\n",
              "    <tr style=\"text-align: right;\">\n",
              "      <th></th>\n",
              "      <th>005930</th>\n",
              "      <th>000660</th>\n",
              "      <th>035720</th>\n",
              "      <th>035420</th>\n",
              "      <th>051910</th>\n",
              "    </tr>\n",
              "  </thead>\n",
              "  <tbody>\n",
              "    <tr>\n",
              "      <th>005930</th>\n",
              "      <td>0.073104</td>\n",
              "      <td>0.073651</td>\n",
              "      <td>0.027667</td>\n",
              "      <td>0.030521</td>\n",
              "      <td>0.048315</td>\n",
              "    </tr>\n",
              "    <tr>\n",
              "      <th>000660</th>\n",
              "      <td>0.073651</td>\n",
              "      <td>0.145887</td>\n",
              "      <td>0.034871</td>\n",
              "      <td>0.040453</td>\n",
              "      <td>0.057531</td>\n",
              "    </tr>\n",
              "    <tr>\n",
              "      <th>035720</th>\n",
              "      <td>0.027667</td>\n",
              "      <td>0.034871</td>\n",
              "      <td>0.128514</td>\n",
              "      <td>0.072360</td>\n",
              "      <td>0.055423</td>\n",
              "    </tr>\n",
              "    <tr>\n",
              "      <th>035420</th>\n",
              "      <td>0.030521</td>\n",
              "      <td>0.040453</td>\n",
              "      <td>0.072360</td>\n",
              "      <td>0.131487</td>\n",
              "      <td>0.046115</td>\n",
              "    </tr>\n",
              "    <tr>\n",
              "      <th>051910</th>\n",
              "      <td>0.048315</td>\n",
              "      <td>0.057531</td>\n",
              "      <td>0.055423</td>\n",
              "      <td>0.046115</td>\n",
              "      <td>0.185595</td>\n",
              "    </tr>\n",
              "  </tbody>\n",
              "</table>\n",
              "</div>"
            ],
            "text/plain": [
              "          005930    000660    035720    035420    051910\n",
              "005930  0.073104  0.073651  0.027667  0.030521  0.048315\n",
              "000660  0.073651  0.145887  0.034871  0.040453  0.057531\n",
              "035720  0.027667  0.034871  0.128514  0.072360  0.055423\n",
              "035420  0.030521  0.040453  0.072360  0.131487  0.046115\n",
              "051910  0.048315  0.057531  0.055423  0.046115  0.185595"
            ]
          },
          "metadata": {
            "tags": []
          },
          "execution_count": 26
        }
      ]
    },
    {
      "cell_type": "code",
      "metadata": {
        "colab": {
          "base_uri": "https://localhost:8080/",
          "height": 314
        },
        "id": "eQRn7z_KgF2o",
        "outputId": "6d65f40b-f3de-4ac7-fde5-47501e1cdcb8"
      },
      "source": [
        "# 수익률의 공분산\n",
        "from pypfopt import plotting\n",
        "\n",
        "plotting.plot_covariance(S2)"
      ],
      "execution_count": null,
      "outputs": [
        {
          "output_type": "execute_result",
          "data": {
            "text/plain": [
              "<matplotlib.axes._subplots.AxesSubplot at 0x7f2b98b4a8d0>"
            ]
          },
          "metadata": {
            "tags": []
          },
          "execution_count": 27
        },
        {
          "output_type": "display_data",
          "data": {
            "image/png": "[encoded data removed]",
            "text/plain": [
              "<Figure size 432x288 with 2 Axes>"
            ]
          },
          "metadata": {
            "tags": [],
            "needs_background": "light"
          }
        }
      ]
    },
    {
      "cell_type": "markdown",
      "metadata": {
        "id": "uPiX2gRjgPH8"
      },
      "source": [
        "# 포트폴리오 최적화 ( Efficient Risk )"
      ]
    },
    {
      "cell_type": "markdown",
      "metadata": {
        "id": "q7SuCUjCysBO"
      },
      "source": [
        "#### ver01> 결측값 삭제하지 않음 / df / mu, S / ef, cleaned_weights ( 5개 종목 )"
      ]
    },
    {
      "cell_type": "code",
      "metadata": {
        "colab": {
          "base_uri": "https://localhost:8080/"
        },
        "id": "_ERS02qK01xa",
        "outputId": "1d2906b2-188a-4d73-b369-bbebcca2da27"
      },
      "source": [
        "!pip install PyPortfolioOpt"
      ],
      "execution_count": null,
      "outputs": [
        {
          "output_type": "stream",
          "text": [
            "Requirement already satisfied: PyPortfolioOpt in /usr/local/lib/python3.7/dist-packages (1.4.2)\n",
            "Requirement already satisfied: numpy<2.0,>=1.12 in /usr/local/lib/python3.7/dist-packages (from PyPortfolioOpt) (1.19.5)\n",
            "Requirement already satisfied: cvxpy<2.0.0,>=1.1.10 in /usr/local/lib/python3.7/dist-packages (from PyPortfolioOpt) (1.1.15)\n",
            "Requirement already satisfied: pandas>=0.19 in /usr/local/lib/python3.7/dist-packages (from PyPortfolioOpt) (1.1.5)\n",
            "Requirement already satisfied: scipy<2.0,>=1.3 in /usr/local/lib/python3.7/dist-packages (from PyPortfolioOpt) (1.4.1)\n",
            "Requirement already satisfied: ecos>=2 in /usr/local/lib/python3.7/dist-packages (from cvxpy<2.0.0,>=1.1.10->PyPortfolioOpt) (2.0.7.post1)\n",
            "Requirement already satisfied: osqp>=0.4.1 in /usr/local/lib/python3.7/dist-packages (from cvxpy<2.0.0,>=1.1.10->PyPortfolioOpt) (0.6.2.post0)\n",
            "Requirement already satisfied: scs>=1.1.6 in /usr/local/lib/python3.7/dist-packages (from cvxpy<2.0.0,>=1.1.10->PyPortfolioOpt) (2.1.4)\n",
            "Requirement already satisfied: qdldl in /usr/local/lib/python3.7/dist-packages (from osqp>=0.4.1->cvxpy<2.0.0,>=1.1.10->PyPortfolioOpt) (0.1.5.post0)\n",
            "Requirement already satisfied: pytz>=2017.2 in /usr/local/lib/python3.7/dist-packages (from pandas>=0.19->PyPortfolioOpt) (2018.9)\n",
            "Requirement already satisfied: python-dateutil>=2.7.3 in /usr/local/lib/python3.7/dist-packages (from pandas>=0.19->PyPortfolioOpt) (2.8.2)\n",
            "Requirement already satisfied: six>=1.5 in /usr/local/lib/python3.7/dist-packages (from python-dateutil>=2.7.3->pandas>=0.19->PyPortfolioOpt) (1.15.0)\n"
          ],
          "name": "stdout"
        }
      ]
    },
    {
      "cell_type": "code",
      "metadata": {
        "colab": {
          "base_uri": "https://localhost:8080/",
          "height": 34
        },
        "id": "sAsZinbk04fV",
        "outputId": "5ee55eb7-64c9-4e3f-823d-c53d1ba94bed"
      },
      "source": [
        "import pypfopt\n",
        "pypfopt.__version__"
      ],
      "execution_count": null,
      "outputs": [
        {
          "output_type": "execute_result",
          "data": {
            "application/vnd.google.colaboratory.intrinsic+json": {
              "type": "string"
            },
            "text/plain": [
              "'1.4.2'"
            ]
          },
          "metadata": {
            "tags": []
          },
          "execution_count": 29
        }
      ]
    },
    {
      "cell_type": "code",
      "metadata": {
        "colab": {
          "base_uri": "https://localhost:8080/"
        },
        "id": "LCeYZnA9JLXA",
        "outputId": "c077ac1e-810e-4355-bb65-e7ccdcd675ce"
      },
      "source": [
        "# Efficient_risk로 최적화 했을때의 결과 확인\n",
        "vol_limit = 0.3\n",
        "ef = EfficientFrontier(mu, S)\n",
        "ef.efficient_risk(vol_limit)\n",
        "ef.portfolio_performance(verbose=True)"
      ],
      "execution_count": null,
      "outputs": [
        {
          "output_type": "stream",
          "text": [
            "Expected annual return: 75.1%\n",
            "Annual volatility: 30.0%\n",
            "Sharpe Ratio: 2.44\n"
          ],
          "name": "stdout"
        },
        {
          "output_type": "execute_result",
          "data": {
            "text/plain": [
              "(0.7507075730840602, 0.29999999998539145, 2.4356919103988073)"
            ]
          },
          "metadata": {
            "tags": []
          },
          "execution_count": 30
        }
      ]
    },
    {
      "cell_type": "code",
      "metadata": {
        "colab": {
          "base_uri": "https://localhost:8080/"
        },
        "id": "X_IOrJJhJZRs",
        "outputId": "21b086f6-4863-4af1-df4f-7288961c4d0a"
      },
      "source": [
        "# max_sharpe로 최적화 했을때의 결과 확인\n",
        "ef = EfficientFrontier(mu, S)\n",
        "ef.max_sharpe()\n",
        "ef.portfolio_performance(verbose=True)"
      ],
      "execution_count": null,
      "outputs": [
        {
          "output_type": "stream",
          "text": [
            "Expected annual return: 91.6%\n",
            "Annual volatility: 35.8%\n",
            "Sharpe Ratio: 2.50\n"
          ],
          "name": "stdout"
        },
        {
          "output_type": "execute_result",
          "data": {
            "text/plain": [
              "(0.9158641499574108, 0.3584883585768835, 2.4990048589409875)"
            ]
          },
          "metadata": {
            "tags": []
          },
          "execution_count": 31
        }
      ]
    },
    {
      "cell_type": "code",
      "metadata": {
        "colab": {
          "base_uri": "https://localhost:8080/"
        },
        "id": "s37ET3-BRKl9",
        "outputId": "cb701155-5da9-489c-f038-7c2a08d6b1ea"
      },
      "source": [
        "from pypfopt import risk_models, expected_returns\n",
        "from pypfopt import EfficientFrontier, objective_functions\n",
        "import cvxpy as cp\n",
        "\n",
        "# Risk 범위 내에서 Return을 최대로 !\n",
        "vol_limit = 0.3\n",
        "\n",
        "ef = EfficientFrontier(mu, S)  # Create the Efficient Frontier Object\n",
        "\n",
        "weights = ef.efficient_risk(vol_limit)\n",
        "\n",
        "cleaned_weights = ef.clean_weights()\n",
        "print(cleaned_weights)\n",
        "\n",
        "# calculates the expected return, volatility and Sharpe ratio for the optimized portfolio.\n",
        "ef.portfolio_performance(verbose=True)"
      ],
      "execution_count": null,
      "outputs": [
        {
          "output_type": "stream",
          "text": [
            "OrderedDict([('005930', 0.22898), ('000660', 0.0), ('035720', 0.77102), ('035420', 0.0), ('051910', 0.0)])\n",
            "Expected annual return: 75.1%\n",
            "Annual volatility: 30.0%\n",
            "Sharpe Ratio: 2.44\n"
          ],
          "name": "stdout"
        },
        {
          "output_type": "execute_result",
          "data": {
            "text/plain": [
              "(0.7507075730840602, 0.29999999998539145, 2.4356919103988073)"
            ]
          },
          "metadata": {
            "tags": []
          },
          "execution_count": 32
        }
      ]
    },
    {
      "cell_type": "code",
      "metadata": {
        "colab": {
          "base_uri": "https://localhost:8080/"
        },
        "id": "nzZqKyooRKjx",
        "outputId": "67599d0b-6780-4cbb-a5a3-9a81fee37610"
      },
      "source": [
        "weights"
      ],
      "execution_count": null,
      "outputs": [
        {
          "output_type": "execute_result",
          "data": {
            "text/plain": [
              "OrderedDict([('005930', 0.2289809515106097),\n",
              "             ('000660', 2.401783e-10),\n",
              "             ('035720', 0.7710190420707289),\n",
              "             ('035420', 1.5091018e-09),\n",
              "             ('051910', 4.6690082e-09)])"
            ]
          },
          "metadata": {
            "tags": []
          },
          "execution_count": 33
        }
      ]
    },
    {
      "cell_type": "code",
      "metadata": {
        "colab": {
          "base_uri": "https://localhost:8080/"
        },
        "id": "nqs3JI3JTmog",
        "outputId": "3a1e7066-6cec-48d2-ac8a-f275c942c0f4"
      },
      "source": [
        "len(weights)"
      ],
      "execution_count": null,
      "outputs": [
        {
          "output_type": "execute_result",
          "data": {
            "text/plain": [
              "5"
            ]
          },
          "metadata": {
            "tags": []
          },
          "execution_count": 34
        }
      ]
    },
    {
      "cell_type": "code",
      "metadata": {
        "colab": {
          "base_uri": "https://localhost:8080/"
        },
        "id": "QZ1qbkEqRKhv",
        "scrolled": true,
        "outputId": "078774dc-1976-4a3b-ccc5-681f9b7eb494"
      },
      "source": [
        "cleaned_weights"
      ],
      "execution_count": null,
      "outputs": [
        {
          "output_type": "execute_result",
          "data": {
            "text/plain": [
              "OrderedDict([('005930', 0.22898),\n",
              "             ('000660', 0.0),\n",
              "             ('035720', 0.77102),\n",
              "             ('035420', 0.0),\n",
              "             ('051910', 0.0)])"
            ]
          },
          "metadata": {
            "tags": []
          },
          "execution_count": 35
        }
      ]
    },
    {
      "cell_type": "code",
      "metadata": {
        "colab": {
          "base_uri": "https://localhost:8080/"
        },
        "id": "PmVgP2YETmoh",
        "outputId": "254dc097-4a5b-458d-c876-251bbb9152c0"
      },
      "source": [
        "len(cleaned_weights)"
      ],
      "execution_count": null,
      "outputs": [
        {
          "output_type": "execute_result",
          "data": {
            "text/plain": [
              "5"
            ]
          },
          "metadata": {
            "tags": []
          },
          "execution_count": 36
        }
      ]
    },
    {
      "cell_type": "code",
      "metadata": {
        "colab": {
          "base_uri": "https://localhost:8080/",
          "height": 296
        },
        "id": "kstczWKygVkl",
        "outputId": "e04334b4-b8a8-4506-a643-aca25360e3d9"
      },
      "source": [
        "# 효율적 투자선와 각 종목의 수익률 & 변동성\n",
        "import matplotlib.pyplot as plt\n",
        "\n",
        "# ef = EfficientFrontier(mu, S, solver='SCS')\n",
        "\n",
        "fig, ax = plt.subplots()\n",
        "plotting.plot_efficient_frontier(ef, ax=ax, show_assets=True)\n",
        "plt.legend(loc='best')\n",
        "plt.show()"
      ],
      "execution_count": null,
      "outputs": [
        {
          "output_type": "display_data",
          "data": {
            "image/png": "[encoded data removed]",
            "text/plain": [
              "<Figure size 432x288 with 1 Axes>"
            ]
          },
          "metadata": {
            "tags": [],
            "needs_background": "light"
          }
        }
      ]
    },
    {
      "cell_type": "code",
      "metadata": {
        "colab": {
          "base_uri": "https://localhost:8080/",
          "height": 296
        },
        "id": "tdc5fyqPgXFT",
        "outputId": "91210816-fa2d-499f-902b-2705eddb24b1"
      },
      "source": [
        "# Show Efficient Frontier\n",
        "fig, ax = plt.subplots()\n",
        "plotting.plot_efficient_frontier(ef, ax=ax, show_assets=False)\n",
        "\n",
        "# Find the tangency portfolio\n",
        "vol_limit = 0.3\n",
        "ef.efficient_risk(vol_limit)\n",
        "ret_tangent, std_tangent, _ = ef.portfolio_performance()  # 기대수익률 , Risk(변동성)\n",
        "ax.scatter(std_tangent, ret_tangent, marker=\"*\", s=200, c=\"r\", label=\"Efficient Risk\")\n",
        "\n",
        "# Generate random portfolios\n",
        "n_samples = 20000\n",
        "w = np.random.dirichlet(np.ones(len(mu)), n_samples) # 난수로 20000세트의 투자비중 만들기\n",
        "rets = w.dot(mu)                                     # 기대수익률\n",
        "stds = np.sqrt(np.diag(w @ S @ w.T))                 # Risk(변동성)\n",
        "sharpes = rets / stds                                # 샤프비율\n",
        "\n",
        "ax.scatter(stds, rets, marker=\".\", c=sharpes, cmap=\"viridis_r\")\n",
        "\n",
        "# Output\n",
        "ax.set_title(\"Efficient Frontier with random portfolios\")\n",
        "ax.legend(loc='best')\n",
        "plt.tight_layout()\n",
        "plt.savefig(\"ef_scatter.png\", dpi=200)\n",
        "plt.show()"
      ],
      "execution_count": null,
      "outputs": [
        {
          "output_type": "display_data",
          "data": {
            "image/png": "[encoded data removed]",
            "text/plain": [
              "<Figure size 432x288 with 1 Axes>"
            ]
          },
          "metadata": {
            "tags": [],
            "needs_background": "light"
          }
        }
      ]
    },
    {
      "cell_type": "code",
      "metadata": {
        "colab": {
          "base_uri": "https://localhost:8080/"
        },
        "id": "wetWFgaJghLQ",
        "outputId": "e0cb968c-b919-4f21-af5e-5865d2d72280"
      },
      "source": [
        "# Max.Sharpe Ratio로 최적화한 포트폴리오의 수익률과 변동성, 샤프비율\n",
        "ef.portfolio_performance(verbose=True)"
      ],
      "execution_count": null,
      "outputs": [
        {
          "output_type": "stream",
          "text": [
            "Expected annual return: 75.1%\n",
            "Annual volatility: 30.0%\n",
            "Sharpe Ratio: 2.44\n"
          ],
          "name": "stdout"
        },
        {
          "output_type": "execute_result",
          "data": {
            "text/plain": [
              "(0.7507075731332769, 0.2999999999827011, 2.4356919105847052)"
            ]
          },
          "metadata": {
            "tags": []
          },
          "execution_count": 39
        }
      ]
    },
    {
      "cell_type": "code",
      "metadata": {
        "colab": {
          "base_uri": "https://localhost:8080/",
          "height": 314
        },
        "id": "fPMztuiwgiHy",
        "outputId": "6a10fdec-2e70-4c13-98ac-20ca22a814d1"
      },
      "source": [
        "# 종목별 투자비중\n",
        "plotting.plot_weights(weights, ax=None)"
      ],
      "execution_count": null,
      "outputs": [
        {
          "output_type": "execute_result",
          "data": {
            "text/plain": [
              "<matplotlib.axes._subplots.AxesSubplot at 0x7f2b98beebd0>"
            ]
          },
          "metadata": {
            "tags": []
          },
          "execution_count": 40
        },
        {
          "output_type": "display_data",
          "data": {
            "image/png": "[encoded data removed]",
            "text/plain": [
              "<Figure size 432x288 with 1 Axes>"
            ]
          },
          "metadata": {
            "tags": [],
            "needs_background": "light"
          }
        }
      ]
    },
    {
      "cell_type": "markdown",
      "metadata": {
        "id": "rxBDUaYIyEvQ"
      },
      "source": [
        "#### ver02> 결측값 삭제 / df2 / mu2, S2 / ef2, cleaned_weights2 ( 5개 종목 )"
      ]
    },
    {
      "cell_type": "code",
      "metadata": {
        "colab": {
          "base_uri": "https://localhost:8080/"
        },
        "id": "o5tovJuECwN7",
        "outputId": "dc7d41df-6ca5-4821-c0b7-f33dafcead0c"
      },
      "source": [
        "# Efficient_risk로 최적화 했을때의 결과 확인\n",
        "vol_limit2 = 0.3\n",
        "ef2 = EfficientFrontier(mu2, S2)\n",
        "ef2.efficient_risk(vol_limit2)\n",
        "ef2.portfolio_performance(verbose=True)"
      ],
      "execution_count": null,
      "outputs": [
        {
          "output_type": "stream",
          "text": [
            "Expected annual return: 75.1%\n",
            "Annual volatility: 30.0%\n",
            "Sharpe Ratio: 2.44\n"
          ],
          "name": "stdout"
        },
        {
          "output_type": "execute_result",
          "data": {
            "text/plain": [
              "(0.7507075730840602, 0.29999999998539145, 2.4356919103988073)"
            ]
          },
          "metadata": {
            "tags": []
          },
          "execution_count": 41
        }
      ]
    },
    {
      "cell_type": "code",
      "metadata": {
        "colab": {
          "base_uri": "https://localhost:8080/"
        },
        "id": "2H0qUmqYCwN8",
        "outputId": "35af836a-4721-4639-9369-605ee524256d"
      },
      "source": [
        "# max_sharpe로 최적화 했을때의 결과 확인\n",
        "ef2 = EfficientFrontier(mu2, S2)\n",
        "ef2.max_sharpe()\n",
        "ef2.portfolio_performance(verbose=True)"
      ],
      "execution_count": null,
      "outputs": [
        {
          "output_type": "stream",
          "text": [
            "Expected annual return: 91.6%\n",
            "Annual volatility: 35.8%\n",
            "Sharpe Ratio: 2.50\n"
          ],
          "name": "stdout"
        },
        {
          "output_type": "execute_result",
          "data": {
            "text/plain": [
              "(0.9158641499574108, 0.3584883585768835, 2.4990048589409875)"
            ]
          },
          "metadata": {
            "tags": []
          },
          "execution_count": 42
        }
      ]
    },
    {
      "cell_type": "code",
      "metadata": {
        "colab": {
          "base_uri": "https://localhost:8080/"
        },
        "id": "CRvHirQfz0mY",
        "outputId": "d373a9c9-2d7f-44d2-fb5d-26eb9a2ac2e8"
      },
      "source": [
        "# Risk 범위 내에서 Return을 최대로 !\n",
        "vol_limit2 = 0.3\n",
        "ef2 = EfficientFrontier(mu2, S2)  # Create the Efficient Frontier Object\n",
        "\n",
        "weights2 = ef2.efficient_risk(vol_limit2)\n",
        "\n",
        "cleaned_weights2 = ef2.clean_weights()\n",
        "print(cleaned_weights2)\n",
        "\n",
        "# calculates the expected return, volatility and Sharpe ratio for the optimized portfolio.\n",
        "ef2.portfolio_performance(verbose=True)"
      ],
      "execution_count": null,
      "outputs": [
        {
          "output_type": "stream",
          "text": [
            "OrderedDict([('005930', 0.22898), ('000660', 0.0), ('035720', 0.77102), ('035420', 0.0), ('051910', 0.0)])\n",
            "Expected annual return: 75.1%\n",
            "Annual volatility: 30.0%\n",
            "Sharpe Ratio: 2.44\n"
          ],
          "name": "stdout"
        },
        {
          "output_type": "execute_result",
          "data": {
            "text/plain": [
              "(0.7507075730840602, 0.29999999998539145, 2.4356919103988073)"
            ]
          },
          "metadata": {
            "tags": []
          },
          "execution_count": 43
        }
      ]
    },
    {
      "cell_type": "code",
      "metadata": {
        "colab": {
          "base_uri": "https://localhost:8080/"
        },
        "id": "Y5P_WNqTz0mY",
        "outputId": "c3b8ac34-7654-4c7e-9684-43a588b7abfa"
      },
      "source": [
        "weights2"
      ],
      "execution_count": null,
      "outputs": [
        {
          "output_type": "execute_result",
          "data": {
            "text/plain": [
              "OrderedDict([('005930', 0.2289809515106097),\n",
              "             ('000660', 2.401783e-10),\n",
              "             ('035720', 0.7710190420707289),\n",
              "             ('035420', 1.5091018e-09),\n",
              "             ('051910', 4.6690082e-09)])"
            ]
          },
          "metadata": {
            "tags": []
          },
          "execution_count": 44
        }
      ]
    },
    {
      "cell_type": "code",
      "metadata": {
        "colab": {
          "base_uri": "https://localhost:8080/"
        },
        "id": "MqUE20inz0mY",
        "outputId": "da623b60-c288-4e2c-bc65-f2517662a969"
      },
      "source": [
        "len(weights2)"
      ],
      "execution_count": null,
      "outputs": [
        {
          "output_type": "execute_result",
          "data": {
            "text/plain": [
              "5"
            ]
          },
          "metadata": {
            "tags": []
          },
          "execution_count": 45
        }
      ]
    },
    {
      "cell_type": "code",
      "metadata": {
        "colab": {
          "base_uri": "https://localhost:8080/"
        },
        "scrolled": true,
        "id": "pzr9EOWXz0mZ",
        "outputId": "7fadf7b0-0377-439d-94d2-993b12dc8154"
      },
      "source": [
        "cleaned_weights2"
      ],
      "execution_count": null,
      "outputs": [
        {
          "output_type": "execute_result",
          "data": {
            "text/plain": [
              "OrderedDict([('005930', 0.22898),\n",
              "             ('000660', 0.0),\n",
              "             ('035720', 0.77102),\n",
              "             ('035420', 0.0),\n",
              "             ('051910', 0.0)])"
            ]
          },
          "metadata": {
            "tags": []
          },
          "execution_count": 46
        }
      ]
    },
    {
      "cell_type": "code",
      "metadata": {
        "colab": {
          "base_uri": "https://localhost:8080/"
        },
        "id": "3z4-OYeZz0mZ",
        "outputId": "9836646d-eaeb-4fea-cbd6-41de52b3e1f8"
      },
      "source": [
        "len(cleaned_weights2)"
      ],
      "execution_count": null,
      "outputs": [
        {
          "output_type": "execute_result",
          "data": {
            "text/plain": [
              "5"
            ]
          },
          "metadata": {
            "tags": []
          },
          "execution_count": 47
        }
      ]
    },
    {
      "cell_type": "code",
      "metadata": {
        "colab": {
          "base_uri": "https://localhost:8080/",
          "height": 296
        },
        "id": "lvUcdRMRz0mZ",
        "outputId": "2053bdd2-72e7-4a07-e8a8-9c9aedddcd7d"
      },
      "source": [
        "# 효율적 투자선와 각 종목의 수익률 & 변동성\n",
        "import matplotlib.pyplot as plt\n",
        "\n",
        "ef2 = EfficientFrontier(mu2, S2, solver='SCS')\n",
        "\n",
        "fig, ax = plt.subplots()\n",
        "plotting.plot_efficient_frontier(ef2, ax=ax, show_assets=True)\n",
        "plt.legend(loc='best')\n",
        "plt.show()"
      ],
      "execution_count": null,
      "outputs": [
        {
          "output_type": "display_data",
          "data": {
            "image/png": "[encoded data removed]",
            "text/plain": [
              "<Figure size 432x288 with 1 Axes>"
            ]
          },
          "metadata": {
            "tags": [],
            "needs_background": "light"
          }
        }
      ]
    },
    {
      "cell_type": "code",
      "metadata": {
        "colab": {
          "base_uri": "https://localhost:8080/",
          "height": 296
        },
        "id": "5_kZDP7tz0mZ",
        "outputId": "ff203ca2-96f3-43df-96e5-91b123741dd9"
      },
      "source": [
        "# Show Efficient Frontier\n",
        "fig, ax = plt.subplots()\n",
        "plotting.plot_efficient_frontier(ef2, ax=ax, show_assets=False)\n",
        "\n",
        "# Find the tangency portfolio\n",
        "vol_limit2 = 0.3\n",
        "ef2.efficient_risk(vol_limit2)\n",
        "ret_tangent2, std_tangent2, _ = ef2.portfolio_performance()  # 기대수익률 , Risk(변동성)\n",
        "ax.scatter(std_tangent2, ret_tangent2, marker=\"*\", s=200, c=\"r\", label=\"Efficient Risk\")\n",
        "\n",
        "# Generate random portfolios\n",
        "n_samples = 20000\n",
        "w2 = np.random.dirichlet(np.ones(len(mu2)), n_samples) # 난수로 20000세트의 투자비중 만들기\n",
        "rets2 = w2.dot(mu2)                                     # 기대수익률\n",
        "stds2 = np.sqrt(np.diag(w2 @ S2 @ w2.T))                 # Risk(변동성)\n",
        "sharpes2 = rets2 / stds2                                # 샤프비율\n",
        "\n",
        "ax.scatter(stds2, rets2, marker=\".\", c=sharpes, cmap=\"viridis_r\")\n",
        "\n",
        "# Output\n",
        "ax.set_title(\"Efficient Frontier with random portfolios\")\n",
        "ax.legend(loc='best')\n",
        "plt.tight_layout()\n",
        "plt.savefig(\"ef_scatter.png\", dpi=200)\n",
        "plt.show()"
      ],
      "execution_count": null,
      "outputs": [
        {
          "output_type": "display_data",
          "data": {
            "image/png": "[encoded data removed]",
            "text/plain": [
              "<Figure size 432x288 with 1 Axes>"
            ]
          },
          "metadata": {
            "tags": [],
            "needs_background": "light"
          }
        }
      ]
    },
    {
      "cell_type": "code",
      "metadata": {
        "colab": {
          "base_uri": "https://localhost:8080/"
        },
        "id": "DdzCqiB6z0mZ",
        "outputId": "7be5bc4c-e553-4f69-a1ba-0f2924fb5081"
      },
      "source": [
        "# Efficient Risk로 최적화한 포트폴리오의 수익률과 변동성, 샤프비율\n",
        "ef2.portfolio_performance(verbose=True)"
      ],
      "execution_count": null,
      "outputs": [
        {
          "output_type": "stream",
          "text": [
            "Expected annual return: 75.1%\n",
            "Annual volatility: 30.0%\n",
            "Sharpe Ratio: 2.44\n"
          ],
          "name": "stdout"
        },
        {
          "output_type": "execute_result",
          "data": {
            "text/plain": [
              "(0.7507075732690215, 0.3000000000078708, 2.435691910832835)"
            ]
          },
          "metadata": {
            "tags": []
          },
          "execution_count": 50
        }
      ]
    },
    {
      "cell_type": "code",
      "metadata": {
        "colab": {
          "base_uri": "https://localhost:8080/",
          "height": 314
        },
        "id": "Gt-kmbabz0mZ",
        "outputId": "e3ed6d13-ea14-4e3c-e74b-e8b1cdcfde1b"
      },
      "source": [
        "# 종목별 투자비중\n",
        "plotting.plot_weights(weights2, ax=None)"
      ],
      "execution_count": null,
      "outputs": [
        {
          "output_type": "execute_result",
          "data": {
            "text/plain": [
              "<matplotlib.axes._subplots.AxesSubplot at 0x7f2b98b866d0>"
            ]
          },
          "metadata": {
            "tags": []
          },
          "execution_count": 51
        },
        {
          "output_type": "display_data",
          "data": {
            "image/png": "[encoded data removed]",
            "text/plain": [
              "<Figure size 432x288 with 1 Axes>"
            ]
          },
          "metadata": {
            "tags": [],
            "needs_background": "light"
          }
        }
      ]
    },
    {
      "cell_type": "markdown",
      "metadata": {
        "id": "4KvxA5Qq2Kxo"
      },
      "source": [
        "### 투자금액과 포트폴리오의 비중에 맞추어 수량 할당"
      ]
    },
    {
      "cell_type": "code",
      "metadata": {
        "colab": {
          "base_uri": "https://localhost:8080/"
        },
        "id": "gjhTsQfORKfr",
        "outputId": "07f21375-c2f8-40db-bb0a-ec568465a321"
      },
      "source": [
        "!pip install pulp"
      ],
      "execution_count": null,
      "outputs": [
        {
          "output_type": "stream",
          "text": [
            "Collecting pulp\n",
            "  Downloading PuLP-2.5.0-py3-none-any.whl (41.2 MB)\n",
            "\u001b[K     |████████████████████████████████| 41.2 MB 72 kB/s \n",
            "\u001b[?25hInstalling collected packages: pulp\n",
            "Successfully installed pulp-2.5.0\n"
          ],
          "name": "stdout"
        }
      ]
    },
    {
      "cell_type": "markdown",
      "metadata": {
        "id": "SE2nREZY31eI"
      },
      "source": [
        "#### ver01> 결측값 삭제하지 않음 / df / mu, S / ef, cleaned_weights ( 5개 종목 )"
      ]
    },
    {
      "cell_type": "code",
      "metadata": {
        "colab": {
          "base_uri": "https://localhost:8080/"
        },
        "id": "EQ9fFV8A45IG",
        "outputId": "0d8ddbce-2c4b-42ad-a7a4-04e73873dbd2"
      },
      "source": [
        "# Get the discrete allocation of each sharpe per stock\n",
        "from pypfopt.discrete_allocation import DiscreteAllocation, get_latest_prices\n",
        "\n",
        "# 투자금액 (단위: KRW)\n",
        "portfolio_val = 15000000\n",
        "\n",
        "latest_prices = get_latest_prices(df)\n",
        "\n",
        "weights = cleaned_weights\n",
        "\n",
        "da = DiscreteAllocation(weights, latest_prices, total_portfolio_value=portfolio_val)\n",
        "\n",
        "allocation, leftover = da.lp_portfolio(verbose=False)\n",
        "\n",
        "print('Discrete Allocaion: ', allocation)\n",
        "print('Funds Remaining: ', leftover, ' KRW')\n",
        "\n",
        "rmse = da._allocation_rmse_error(verbose=False)"
      ],
      "execution_count": null,
      "outputs": [
        {
          "output_type": "stream",
          "text": [
            "Discrete Allocaion:  {'005930': 43, '035720': 75}\n",
            "Funds Remaining:  53000.0  KRW\n",
            "Allocation has RMSE: 0.001\n"
          ],
          "name": "stdout"
        }
      ]
    },
    {
      "cell_type": "code",
      "metadata": {
        "colab": {
          "base_uri": "https://localhost:8080/"
        },
        "id": "xTlH13TG45IH",
        "outputId": "30316a22-c18f-4d19-9bda-97d3de1395cc"
      },
      "source": [
        "allocation"
      ],
      "execution_count": null,
      "outputs": [
        {
          "output_type": "execute_result",
          "data": {
            "text/plain": [
              "{'005930': 43, '035720': 75}"
            ]
          },
          "metadata": {
            "tags": []
          },
          "execution_count": 54
        }
      ]
    },
    {
      "cell_type": "code",
      "metadata": {
        "colab": {
          "base_uri": "https://localhost:8080/"
        },
        "id": "202JdxZB45II",
        "outputId": "9ff15141-32f0-4c5f-c716-7dd58291ccff"
      },
      "source": [
        "len(allocation)"
      ],
      "execution_count": null,
      "outputs": [
        {
          "output_type": "execute_result",
          "data": {
            "text/plain": [
              "2"
            ]
          },
          "metadata": {
            "tags": []
          },
          "execution_count": 55
        }
      ]
    },
    {
      "cell_type": "markdown",
      "metadata": {
        "id": "neO4V05z4K40"
      },
      "source": [
        "#### ver02> 결측값 삭제 / df2 / mu2, S2 / ef2, cleaned_weights2 /  ( 5개 종목 )"
      ]
    },
    {
      "cell_type": "code",
      "metadata": {
        "colab": {
          "base_uri": "https://localhost:8080/"
        },
        "id": "8JAhR3FHRKdp",
        "outputId": "37d5d226-200c-461a-b8bc-527acd113b22"
      },
      "source": [
        "# Get the discrete allocation of each sharpe per stock\n",
        "from pypfopt.discrete_allocation import DiscreteAllocation, get_latest_prices\n",
        "\n",
        "# 투자금액 (단위: KRW)\n",
        "portfolio_val = 15000000\n",
        "\n",
        "latest_prices2 = get_latest_prices(df2)\n",
        "\n",
        "weights2 = cleaned_weights2\n",
        "\n",
        "da2 = DiscreteAllocation(weights2, latest_prices2, total_portfolio_value=portfolio_val)\n",
        "\n",
        "allocation2, leftover2 = da2.lp_portfolio(verbose=False)\n",
        "\n",
        "print('Discrete Allocaion: ', allocation2)\n",
        "print('Funds Remaining: ', leftover2, ' KRW')\n",
        "\n",
        "rmse2 = da2._allocation_rmse_error(verbose=False)"
      ],
      "execution_count": null,
      "outputs": [
        {
          "output_type": "stream",
          "text": [
            "Discrete Allocaion:  {'005930': 43, '035720': 75}\n",
            "Funds Remaining:  53000.0  KRW\n",
            "Allocation has RMSE: 0.001\n"
          ],
          "name": "stdout"
        }
      ]
    },
    {
      "cell_type": "code",
      "metadata": {
        "colab": {
          "base_uri": "https://localhost:8080/"
        },
        "id": "Gh0uTR5qSAvi",
        "outputId": "dede70c6-899e-4f68-ddb1-4d48017b698a"
      },
      "source": [
        "allocation2"
      ],
      "execution_count": null,
      "outputs": [
        {
          "output_type": "execute_result",
          "data": {
            "text/plain": [
              "{'005930': 43, '035720': 75}"
            ]
          },
          "metadata": {
            "tags": []
          },
          "execution_count": 57
        }
      ]
    },
    {
      "cell_type": "code",
      "metadata": {
        "colab": {
          "base_uri": "https://localhost:8080/"
        },
        "id": "pF35mEYySC8Q",
        "outputId": "8a3219ee-c550-4cb7-a42c-35bc00e6496c"
      },
      "source": [
        "len(allocation2)"
      ],
      "execution_count": null,
      "outputs": [
        {
          "output_type": "execute_result",
          "data": {
            "text/plain": [
              "2"
            ]
          },
          "metadata": {
            "tags": []
          },
          "execution_count": 58
        }
      ]
    },
    {
      "cell_type": "markdown",
      "metadata": {
        "id": "aGJDMhv-N-GX"
      },
      "source": [
        "### 포트폴리오 결과로 보여줄 변수 저장"
      ]
    },
    {
      "cell_type": "markdown",
      "metadata": {
        "id": "V4AAT8bA74j7"
      },
      "source": [
        "#### ver01> 결측값 삭제하지 않음 ( 5개 종목 )"
      ]
    },
    {
      "cell_type": "code",
      "metadata": {
        "colab": {
          "base_uri": "https://localhost:8080/"
        },
        "id": "bq5IngiYWrFs",
        "outputId": "ea479775-5850-4877-fa20-67998d36d5d8"
      },
      "source": [
        "# 각 종목별 실제 투자 금액\n",
        "inv_total_price = {}\n",
        "\n",
        "for i in allocation.keys():\n",
        "  inv_total_price[i] = latest_prices.loc[i]*allocation[i]\n",
        "inv_total_price"
      ],
      "execution_count": null,
      "outputs": [
        {
          "output_type": "execute_result",
          "data": {
            "text/plain": [
              "{'005930': 3397000, '035720': 11550000}"
            ]
          },
          "metadata": {
            "tags": []
          },
          "execution_count": 59
        }
      ]
    },
    {
      "cell_type": "code",
      "metadata": {
        "colab": {
          "base_uri": "https://localhost:8080/"
        },
        "id": "DAv4QY9wZqVl",
        "outputId": "ec347b13-a0fc-4f27-cf9e-bf71bac1865c"
      },
      "source": [
        "# 총 투자금액\n",
        "investment = 0\n",
        "\n",
        "for i in inv_total_price.values():\n",
        "    investment += i\n",
        "print(investment)"
      ],
      "execution_count": null,
      "outputs": [
        {
          "output_type": "stream",
          "text": [
            "14947000\n"
          ],
          "name": "stdout"
        }
      ]
    },
    {
      "cell_type": "code",
      "metadata": {
        "colab": {
          "base_uri": "https://localhost:8080/"
        },
        "id": "emC0SPFGZ355",
        "outputId": "cb5edd57-97d5-4fe9-9f51-33fbd4d003e6"
      },
      "source": [
        "portfolio_val-leftover"
      ],
      "execution_count": null,
      "outputs": [
        {
          "output_type": "execute_result",
          "data": {
            "text/plain": [
              "14947000.0"
            ]
          },
          "metadata": {
            "tags": []
          },
          "execution_count": 61
        }
      ]
    },
    {
      "cell_type": "code",
      "metadata": {
        "colab": {
          "base_uri": "https://localhost:8080/"
        },
        "id": "aXceEXedY3Wl",
        "outputId": "d6dbc259-04ed-4401-aa8e-59d7036892d4"
      },
      "source": [
        "# 각 종목별 실제 투자 비중\n",
        "inv_total_weight = {}\n",
        "\n",
        "for i in allocation.keys():\n",
        "  inv_total_weight[i] = inv_total_price[i]/investment\n",
        "inv_total_weight"
      ],
      "execution_count": null,
      "outputs": [
        {
          "output_type": "execute_result",
          "data": {
            "text/plain": [
              "{'005930': 0.22726968622466046, '035720': 0.7727303137753395}"
            ]
          },
          "metadata": {
            "tags": []
          },
          "execution_count": 62
        }
      ]
    },
    {
      "cell_type": "code",
      "metadata": {
        "colab": {
          "base_uri": "https://localhost:8080/"
        },
        "id": "kfHwmPjDaAOg",
        "outputId": "f83fe6bc-17fa-48f4-d527-68d6ec4edc80"
      },
      "source": [
        "# 투자비중의 합계\n",
        "investment_w = 0\n",
        "\n",
        "for i in inv_total_weight.values():\n",
        "    investment_w += i\n",
        "print(investment_w)"
      ],
      "execution_count": null,
      "outputs": [
        {
          "output_type": "stream",
          "text": [
            "1.0\n"
          ],
          "name": "stdout"
        }
      ]
    },
    {
      "cell_type": "code",
      "metadata": {
        "id": "GDqw8F7hKuAq"
      },
      "source": [
        "# 결과값으로 불러올 값을 리스트로 저장\n",
        "name_list = []                    # 종목명(회사이름)\n",
        "total_price_stock =[]             # 각 종목별 실제 투자 금액\n",
        "total_weight_stock = []           # 각 종목별 실제 투자 비중\n",
        "\n",
        "for i in allocation.keys(): # i = 포트폴리오에 할당된 종목의 종목코드\n",
        "    name_list.append(code_name_dict.get(i))\n",
        "    total_price_stock.append(inv_total_price.get(i))\n",
        "    total_weight_stock.append(inv_total_weight.get(i))"
      ],
      "execution_count": null,
      "outputs": []
    },
    {
      "cell_type": "code",
      "metadata": {
        "colab": {
          "base_uri": "https://localhost:8080/"
        },
        "id": "w90yfcicPO9u",
        "outputId": "24197cb6-328b-4e34-c3e1-ef24a4e92b32"
      },
      "source": [
        "name_list"
      ],
      "execution_count": null,
      "outputs": [
        {
          "output_type": "execute_result",
          "data": {
            "text/plain": [
              "['삼성전자', '카카오']"
            ]
          },
          "metadata": {
            "tags": []
          },
          "execution_count": 65
        }
      ]
    },
    {
      "cell_type": "code",
      "metadata": {
        "colab": {
          "base_uri": "https://localhost:8080/"
        },
        "id": "ir3DV0LVPO6_",
        "outputId": "5cc455df-b2cc-4887-ecfe-6d8b15c948e9"
      },
      "source": [
        "total_price_stock"
      ],
      "execution_count": null,
      "outputs": [
        {
          "output_type": "execute_result",
          "data": {
            "text/plain": [
              "[3397000, 11550000]"
            ]
          },
          "metadata": {
            "tags": []
          },
          "execution_count": 66
        }
      ]
    },
    {
      "cell_type": "code",
      "metadata": {
        "colab": {
          "base_uri": "https://localhost:8080/"
        },
        "id": "Vq3DzREpQPPJ",
        "outputId": "742fa45b-80cf-4276-9a64-bbd8a387fc0a"
      },
      "source": [
        "total_weight_stock"
      ],
      "execution_count": null,
      "outputs": [
        {
          "output_type": "execute_result",
          "data": {
            "text/plain": [
              "[0.22726968622466046, 0.7727303137753395]"
            ]
          },
          "metadata": {
            "tags": []
          },
          "execution_count": 67
        }
      ]
    },
    {
      "cell_type": "code",
      "metadata": {
        "id": "FH8Rm2iKRs8m"
      },
      "source": [
        "# Get the discrete allocation values\n",
        "discrete_allocation_list = []\n",
        "for symbol in allocation:\n",
        "  discrete_allocation_list.append(allocation.get(symbol))"
      ],
      "execution_count": null,
      "outputs": []
    },
    {
      "cell_type": "code",
      "metadata": {
        "colab": {
          "base_uri": "https://localhost:8080/"
        },
        "id": "ZEyvnGbQSrXS",
        "outputId": "9436088b-fe0e-4585-c12b-584cc5505680"
      },
      "source": [
        "discrete_allocation_list"
      ],
      "execution_count": null,
      "outputs": [
        {
          "output_type": "execute_result",
          "data": {
            "text/plain": [
              "[43, 75]"
            ]
          },
          "metadata": {
            "tags": []
          },
          "execution_count": 69
        }
      ]
    },
    {
      "cell_type": "code",
      "metadata": {
        "id": "Al_P9dz3cD-W",
        "colab": {
          "base_uri": "https://localhost:8080/",
          "height": 48
        },
        "outputId": "8d686033-716c-45cb-f769-a0f8fe0c330b"
      },
      "source": [
        "# Create a dataframe for the portfolio\n",
        "portfolio_df = pd.DataFrame(columns = ['종목명','종목코드','수량(주)', '투자금액(원)','투자비중'])\n",
        "portfolio_df"
      ],
      "execution_count": null,
      "outputs": [
        {
          "output_type": "execute_result",
          "data": {
            "text/html": [
              "<div>\n",
              "<style scoped>\n",
              "    .dataframe tbody tr th:only-of-type {\n",
              "        vertical-align: middle;\n",
              "    }\n",
              "\n",
              "    .dataframe tbody tr th {\n",
              "        vertical-align: top;\n",
              "    }\n",
              "\n",
              "    .dataframe thead th {\n",
              "        text-align: right;\n",
              "    }\n",
              "</style>\n",
              "<table border=\"1\" class=\"dataframe\">\n",
              "  <thead>\n",
              "    <tr style=\"text-align: right;\">\n",
              "      <th></th>\n",
              "      <th>종목명</th>\n",
              "      <th>종목코드</th>\n",
              "      <th>수량(주)</th>\n",
              "      <th>투자금액(원)</th>\n",
              "      <th>투자비중</th>\n",
              "    </tr>\n",
              "  </thead>\n",
              "  <tbody>\n",
              "  </tbody>\n",
              "</table>\n",
              "</div>"
            ],
            "text/plain": [
              "Empty DataFrame\n",
              "Columns: [종목명, 종목코드, 수량(주), 투자금액(원), 투자비중]\n",
              "Index: []"
            ]
          },
          "metadata": {
            "tags": []
          },
          "execution_count": 70
        }
      ]
    },
    {
      "cell_type": "code",
      "metadata": {
        "id": "PczG26mc2ooL"
      },
      "source": [
        "# portfolio_df['Company_name'] = company_name\n",
        "portfolio_df['종목명'] = name_list\n",
        "portfolio_df['종목코드'] = allocation\n",
        "portfolio_df['수량(주)'] = discrete_allocation_list\n",
        "portfolio_df['투자금액(원)'] = total_price_stock\n",
        "portfolio_df['투자비중'] = total_weight_stock"
      ],
      "execution_count": null,
      "outputs": []
    },
    {
      "cell_type": "code",
      "metadata": {
        "colab": {
          "base_uri": "https://localhost:8080/",
          "height": 110
        },
        "scrolled": true,
        "id": "jOuN8JHW2ooL",
        "outputId": "0e5c5f92-f6f3-4e5b-abbc-7454a49d8066"
      },
      "source": [
        "portfolio_df"
      ],
      "execution_count": null,
      "outputs": [
        {
          "output_type": "execute_result",
          "data": {
            "text/html": [
              "<div>\n",
              "<style scoped>\n",
              "    .dataframe tbody tr th:only-of-type {\n",
              "        vertical-align: middle;\n",
              "    }\n",
              "\n",
              "    .dataframe tbody tr th {\n",
              "        vertical-align: top;\n",
              "    }\n",
              "\n",
              "    .dataframe thead th {\n",
              "        text-align: right;\n",
              "    }\n",
              "</style>\n",
              "<table border=\"1\" class=\"dataframe\">\n",
              "  <thead>\n",
              "    <tr style=\"text-align: right;\">\n",
              "      <th></th>\n",
              "      <th>종목명</th>\n",
              "      <th>종목코드</th>\n",
              "      <th>수량(주)</th>\n",
              "      <th>투자금액(원)</th>\n",
              "      <th>투자비중</th>\n",
              "    </tr>\n",
              "  </thead>\n",
              "  <tbody>\n",
              "    <tr>\n",
              "      <th>0</th>\n",
              "      <td>삼성전자</td>\n",
              "      <td>005930</td>\n",
              "      <td>43</td>\n",
              "      <td>3397000</td>\n",
              "      <td>0.22727</td>\n",
              "    </tr>\n",
              "    <tr>\n",
              "      <th>1</th>\n",
              "      <td>카카오</td>\n",
              "      <td>035720</td>\n",
              "      <td>75</td>\n",
              "      <td>11550000</td>\n",
              "      <td>0.77273</td>\n",
              "    </tr>\n",
              "  </tbody>\n",
              "</table>\n",
              "</div>"
            ],
            "text/plain": [
              "    종목명    종목코드  수량(주)   투자금액(원)     투자비중\n",
              "0  삼성전자  005930     43   3397000  0.22727\n",
              "1   카카오  035720     75  11550000  0.77273"
            ]
          },
          "metadata": {
            "tags": []
          },
          "execution_count": 72
        }
      ]
    },
    {
      "cell_type": "code",
      "metadata": {
        "colab": {
          "base_uri": "https://localhost:8080/",
          "height": 110
        },
        "id": "VZ62ZD8e2ooM",
        "outputId": "5e5e2a86-fbb8-4f39-edb2-2bb6bebde919"
      },
      "source": [
        "# Sort by allocation & Show the portfolio\n",
        "portfolio_df_sorted = portfolio_df.sort_values('투자비중', ascending = False)\n",
        "portfolio_df_sorted = portfolio_df_sorted.reset_index(drop=True)\n",
        "portfolio_df_sorted"
      ],
      "execution_count": null,
      "outputs": [
        {
          "output_type": "execute_result",
          "data": {
            "text/html": [
              "<div>\n",
              "<style scoped>\n",
              "    .dataframe tbody tr th:only-of-type {\n",
              "        vertical-align: middle;\n",
              "    }\n",
              "\n",
              "    .dataframe tbody tr th {\n",
              "        vertical-align: top;\n",
              "    }\n",
              "\n",
              "    .dataframe thead th {\n",
              "        text-align: right;\n",
              "    }\n",
              "</style>\n",
              "<table border=\"1\" class=\"dataframe\">\n",
              "  <thead>\n",
              "    <tr style=\"text-align: right;\">\n",
              "      <th></th>\n",
              "      <th>종목명</th>\n",
              "      <th>종목코드</th>\n",
              "      <th>수량(주)</th>\n",
              "      <th>투자금액(원)</th>\n",
              "      <th>투자비중</th>\n",
              "    </tr>\n",
              "  </thead>\n",
              "  <tbody>\n",
              "    <tr>\n",
              "      <th>0</th>\n",
              "      <td>카카오</td>\n",
              "      <td>035720</td>\n",
              "      <td>75</td>\n",
              "      <td>11550000</td>\n",
              "      <td>0.77273</td>\n",
              "    </tr>\n",
              "    <tr>\n",
              "      <th>1</th>\n",
              "      <td>삼성전자</td>\n",
              "      <td>005930</td>\n",
              "      <td>43</td>\n",
              "      <td>3397000</td>\n",
              "      <td>0.22727</td>\n",
              "    </tr>\n",
              "  </tbody>\n",
              "</table>\n",
              "</div>"
            ],
            "text/plain": [
              "    종목명    종목코드  수량(주)   투자금액(원)     투자비중\n",
              "0   카카오  035720     75  11550000  0.77273\n",
              "1  삼성전자  005930     43   3397000  0.22727"
            ]
          },
          "metadata": {
            "tags": []
          },
          "execution_count": 73
        }
      ]
    },
    {
      "cell_type": "markdown",
      "metadata": {
        "id": "o25Ifzm2wuOP"
      },
      "source": [
        "### 투자 금액에 따라 최적화된 포트폴리오의 종목별 수량"
      ]
    },
    {
      "cell_type": "code",
      "metadata": {
        "colab": {
          "base_uri": "https://localhost:8080/",
          "height": 141
        },
        "id": "fq74oPc0gP0Y",
        "outputId": "00a7a661-3914-419a-f2a6-555dce2553cf"
      },
      "source": [
        "portfolio_df_sorted.loc[\"합계\",2:] = portfolio_df_sorted.sum()\n",
        "portfolio_df_sorted"
      ],
      "execution_count": null,
      "outputs": [
        {
          "output_type": "execute_result",
          "data": {
            "text/html": [
              "<div>\n",
              "<style scoped>\n",
              "    .dataframe tbody tr th:only-of-type {\n",
              "        vertical-align: middle;\n",
              "    }\n",
              "\n",
              "    .dataframe tbody tr th {\n",
              "        vertical-align: top;\n",
              "    }\n",
              "\n",
              "    .dataframe thead th {\n",
              "        text-align: right;\n",
              "    }\n",
              "</style>\n",
              "<table border=\"1\" class=\"dataframe\">\n",
              "  <thead>\n",
              "    <tr style=\"text-align: right;\">\n",
              "      <th></th>\n",
              "      <th>종목명</th>\n",
              "      <th>종목코드</th>\n",
              "      <th>수량(주)</th>\n",
              "      <th>투자금액(원)</th>\n",
              "      <th>투자비중</th>\n",
              "    </tr>\n",
              "  </thead>\n",
              "  <tbody>\n",
              "    <tr>\n",
              "      <th>0</th>\n",
              "      <td>카카오</td>\n",
              "      <td>035720</td>\n",
              "      <td>75.0</td>\n",
              "      <td>11550000.0</td>\n",
              "      <td>0.77273</td>\n",
              "    </tr>\n",
              "    <tr>\n",
              "      <th>1</th>\n",
              "      <td>삼성전자</td>\n",
              "      <td>005930</td>\n",
              "      <td>43.0</td>\n",
              "      <td>3397000.0</td>\n",
              "      <td>0.22727</td>\n",
              "    </tr>\n",
              "    <tr>\n",
              "      <th>합계</th>\n",
              "      <td>NaN</td>\n",
              "      <td>NaN</td>\n",
              "      <td>118.0</td>\n",
              "      <td>14947000.0</td>\n",
              "      <td>1.00000</td>\n",
              "    </tr>\n",
              "  </tbody>\n",
              "</table>\n",
              "</div>"
            ],
            "text/plain": [
              "     종목명    종목코드  수량(주)     투자금액(원)     투자비중\n",
              "0    카카오  035720   75.0  11550000.0  0.77273\n",
              "1   삼성전자  005930   43.0   3397000.0  0.22727\n",
              "합계   NaN     NaN  118.0  14947000.0  1.00000"
            ]
          },
          "metadata": {
            "tags": []
          },
          "execution_count": 74
        }
      ]
    },
    {
      "cell_type": "markdown",
      "metadata": {
        "id": "WS3XxRjs74s-"
      },
      "source": [
        "#### ver02> 결측값 삭제 ( 5개 종목 )"
      ]
    },
    {
      "cell_type": "code",
      "metadata": {
        "colab": {
          "base_uri": "https://localhost:8080/"
        },
        "id": "ZmdZBA3j9gQI",
        "outputId": "658a7a4e-1a4c-42da-8eda-e88cfe26025e"
      },
      "source": [
        "# 각 종목별 실제 투자 금액\n",
        "inv_total_price2 = {}\n",
        "\n",
        "for i in allocation2.keys():\n",
        "  inv_total_price2[i] = latest_prices2.loc[i]*allocation2[i]\n",
        "inv_total_price2"
      ],
      "execution_count": null,
      "outputs": [
        {
          "output_type": "execute_result",
          "data": {
            "text/plain": [
              "{'005930': 3397000, '035720': 11550000}"
            ]
          },
          "metadata": {
            "tags": []
          },
          "execution_count": 75
        }
      ]
    },
    {
      "cell_type": "code",
      "metadata": {
        "colab": {
          "base_uri": "https://localhost:8080/"
        },
        "id": "g7Q-SxBG9gQK",
        "outputId": "533cad14-34d0-4a3d-e2c2-e96c41dfadd9"
      },
      "source": [
        "# 총 투자금액\n",
        "investment2 = 0\n",
        "\n",
        "for i in inv_total_price2.values():\n",
        "    investment2 += i\n",
        "print(investment2)"
      ],
      "execution_count": null,
      "outputs": [
        {
          "output_type": "stream",
          "text": [
            "14947000\n"
          ],
          "name": "stdout"
        }
      ]
    },
    {
      "cell_type": "code",
      "metadata": {
        "colab": {
          "base_uri": "https://localhost:8080/"
        },
        "id": "8pWQsHiX9gQK",
        "outputId": "fdc37c11-9b9d-4545-a299-b86795166dc5"
      },
      "source": [
        "portfolio_val-leftover2"
      ],
      "execution_count": null,
      "outputs": [
        {
          "output_type": "execute_result",
          "data": {
            "text/plain": [
              "14947000.0"
            ]
          },
          "metadata": {
            "tags": []
          },
          "execution_count": 77
        }
      ]
    },
    {
      "cell_type": "code",
      "metadata": {
        "colab": {
          "base_uri": "https://localhost:8080/"
        },
        "id": "0XgOo5ho9gQK",
        "outputId": "16f6ca78-9c96-4330-a12b-2dcc55a458e0"
      },
      "source": [
        "# 각 종목별 실제 투자 비중\n",
        "inv_total_weight2 = {}\n",
        "\n",
        "for i in allocation2.keys():\n",
        "  inv_total_weight2[i] = inv_total_price2[i]/investment2\n",
        "inv_total_weight2"
      ],
      "execution_count": null,
      "outputs": [
        {
          "output_type": "execute_result",
          "data": {
            "text/plain": [
              "{'005930': 0.22726968622466046, '035720': 0.7727303137753395}"
            ]
          },
          "metadata": {
            "tags": []
          },
          "execution_count": 78
        }
      ]
    },
    {
      "cell_type": "code",
      "metadata": {
        "colab": {
          "base_uri": "https://localhost:8080/"
        },
        "id": "FG-sEqlS9gQK",
        "outputId": "e89e3e5f-3d6d-4155-8b84-0f64920bbff4"
      },
      "source": [
        "# 투자비중의 합계\n",
        "investment_w2 = 0\n",
        "\n",
        "for i in inv_total_weight2.values():\n",
        "    investment_w2 += i\n",
        "print(investment_w2)"
      ],
      "execution_count": null,
      "outputs": [
        {
          "output_type": "stream",
          "text": [
            "1.0\n"
          ],
          "name": "stdout"
        }
      ]
    },
    {
      "cell_type": "code",
      "metadata": {
        "id": "nJvpLFHr9gQL"
      },
      "source": [
        "# 결과값으로 불러올 값을 리스트로 저장\n",
        "name_list2 = []                    # 종목명(회사이름)\n",
        "total_price_stock2 =[]             # 각 종목별 실제 투자 금액\n",
        "total_weight_stock2 = []           # 각 종목별 실제 투자 비중\n",
        "\n",
        "for i in allocation2.keys(): # i = 포트폴리오에 할당된 종목의 종목코드\n",
        "    name_list2.append(code_name_dict.get(i))\n",
        "    total_price_stock2.append(inv_total_price2.get(i))\n",
        "    total_weight_stock2.append(inv_total_weight2.get(i))"
      ],
      "execution_count": null,
      "outputs": []
    },
    {
      "cell_type": "code",
      "metadata": {
        "colab": {
          "base_uri": "https://localhost:8080/"
        },
        "id": "zBO5BhQI9gQL",
        "outputId": "2637765f-4018-4587-95b3-f7ca3fe5bc8d"
      },
      "source": [
        "name_list2"
      ],
      "execution_count": null,
      "outputs": [
        {
          "output_type": "execute_result",
          "data": {
            "text/plain": [
              "['삼성전자', '카카오']"
            ]
          },
          "metadata": {
            "tags": []
          },
          "execution_count": 81
        }
      ]
    },
    {
      "cell_type": "code",
      "metadata": {
        "colab": {
          "base_uri": "https://localhost:8080/"
        },
        "id": "_nwv0G2U9gQL",
        "outputId": "3c288431-5ef8-4372-a0f4-b6279187b9d9"
      },
      "source": [
        "total_price_stock2"
      ],
      "execution_count": null,
      "outputs": [
        {
          "output_type": "execute_result",
          "data": {
            "text/plain": [
              "[3397000, 11550000]"
            ]
          },
          "metadata": {
            "tags": []
          },
          "execution_count": 82
        }
      ]
    },
    {
      "cell_type": "code",
      "metadata": {
        "colab": {
          "base_uri": "https://localhost:8080/"
        },
        "id": "QFHbozeW9gQL",
        "outputId": "39ccb71f-4266-4bca-b67b-107b149fd2ea"
      },
      "source": [
        "total_weight_stock2"
      ],
      "execution_count": null,
      "outputs": [
        {
          "output_type": "execute_result",
          "data": {
            "text/plain": [
              "[0.22726968622466046, 0.7727303137753395]"
            ]
          },
          "metadata": {
            "tags": []
          },
          "execution_count": 83
        }
      ]
    },
    {
      "cell_type": "code",
      "metadata": {
        "id": "dqFQehf59gQM"
      },
      "source": [
        "# Get the discrete allocation values\n",
        "discrete_allocation_list2 = []\n",
        "for symbol in allocation2:\n",
        "  discrete_allocation_list2.append(allocation2.get(symbol))"
      ],
      "execution_count": null,
      "outputs": []
    },
    {
      "cell_type": "code",
      "metadata": {
        "colab": {
          "base_uri": "https://localhost:8080/"
        },
        "id": "8YaU55Ep9gQM",
        "outputId": "59b99988-e1ea-4d5e-cbcb-f3269e6c2031"
      },
      "source": [
        "discrete_allocation_list2"
      ],
      "execution_count": null,
      "outputs": [
        {
          "output_type": "execute_result",
          "data": {
            "text/plain": [
              "[43, 75]"
            ]
          },
          "metadata": {
            "tags": []
          },
          "execution_count": 85
        }
      ]
    },
    {
      "cell_type": "code",
      "metadata": {
        "colab": {
          "base_uri": "https://localhost:8080/",
          "height": 48
        },
        "id": "YMJNHBj09gQM",
        "outputId": "a3fae08f-b59b-4d3a-993b-718599d6b63d"
      },
      "source": [
        "# Create a dataframe for the portfolio\n",
        "portfolio_df2 = pd.DataFrame(columns = ['종목명','종목코드','수량(주)', '투자금액(원)','투자비중'])\n",
        "portfolio_df2"
      ],
      "execution_count": null,
      "outputs": [
        {
          "output_type": "execute_result",
          "data": {
            "text/html": [
              "<div>\n",
              "<style scoped>\n",
              "    .dataframe tbody tr th:only-of-type {\n",
              "        vertical-align: middle;\n",
              "    }\n",
              "\n",
              "    .dataframe tbody tr th {\n",
              "        vertical-align: top;\n",
              "    }\n",
              "\n",
              "    .dataframe thead th {\n",
              "        text-align: right;\n",
              "    }\n",
              "</style>\n",
              "<table border=\"1\" class=\"dataframe\">\n",
              "  <thead>\n",
              "    <tr style=\"text-align: right;\">\n",
              "      <th></th>\n",
              "      <th>종목명</th>\n",
              "      <th>종목코드</th>\n",
              "      <th>수량(주)</th>\n",
              "      <th>투자금액(원)</th>\n",
              "      <th>투자비중</th>\n",
              "    </tr>\n",
              "  </thead>\n",
              "  <tbody>\n",
              "  </tbody>\n",
              "</table>\n",
              "</div>"
            ],
            "text/plain": [
              "Empty DataFrame\n",
              "Columns: [종목명, 종목코드, 수량(주), 투자금액(원), 투자비중]\n",
              "Index: []"
            ]
          },
          "metadata": {
            "tags": []
          },
          "execution_count": 86
        }
      ]
    },
    {
      "cell_type": "code",
      "metadata": {
        "id": "K69FIPiA9gQM"
      },
      "source": [
        "# portfolio_df['Company_name'] = company_name\n",
        "portfolio_df2['종목명'] = name_list2\n",
        "portfolio_df2['종목코드'] = allocation2\n",
        "portfolio_df2['수량(주)'] = discrete_allocation_list2\n",
        "portfolio_df2['투자금액(원)'] = total_price_stock2\n",
        "portfolio_df2['투자비중'] = total_weight_stock2"
      ],
      "execution_count": null,
      "outputs": []
    },
    {
      "cell_type": "code",
      "metadata": {
        "colab": {
          "base_uri": "https://localhost:8080/",
          "height": 110
        },
        "scrolled": true,
        "id": "9CEawCcZ9gQM",
        "outputId": "754c2503-ef1f-43ad-d9ea-b8e6aab228ef"
      },
      "source": [
        "portfolio_df2"
      ],
      "execution_count": null,
      "outputs": [
        {
          "output_type": "execute_result",
          "data": {
            "text/html": [
              "<div>\n",
              "<style scoped>\n",
              "    .dataframe tbody tr th:only-of-type {\n",
              "        vertical-align: middle;\n",
              "    }\n",
              "\n",
              "    .dataframe tbody tr th {\n",
              "        vertical-align: top;\n",
              "    }\n",
              "\n",
              "    .dataframe thead th {\n",
              "        text-align: right;\n",
              "    }\n",
              "</style>\n",
              "<table border=\"1\" class=\"dataframe\">\n",
              "  <thead>\n",
              "    <tr style=\"text-align: right;\">\n",
              "      <th></th>\n",
              "      <th>종목명</th>\n",
              "      <th>종목코드</th>\n",
              "      <th>수량(주)</th>\n",
              "      <th>투자금액(원)</th>\n",
              "      <th>투자비중</th>\n",
              "    </tr>\n",
              "  </thead>\n",
              "  <tbody>\n",
              "    <tr>\n",
              "      <th>0</th>\n",
              "      <td>삼성전자</td>\n",
              "      <td>005930</td>\n",
              "      <td>43</td>\n",
              "      <td>3397000</td>\n",
              "      <td>0.22727</td>\n",
              "    </tr>\n",
              "    <tr>\n",
              "      <th>1</th>\n",
              "      <td>카카오</td>\n",
              "      <td>035720</td>\n",
              "      <td>75</td>\n",
              "      <td>11550000</td>\n",
              "      <td>0.77273</td>\n",
              "    </tr>\n",
              "  </tbody>\n",
              "</table>\n",
              "</div>"
            ],
            "text/plain": [
              "    종목명    종목코드  수량(주)   투자금액(원)     투자비중\n",
              "0  삼성전자  005930     43   3397000  0.22727\n",
              "1   카카오  035720     75  11550000  0.77273"
            ]
          },
          "metadata": {
            "tags": []
          },
          "execution_count": 88
        }
      ]
    },
    {
      "cell_type": "code",
      "metadata": {
        "colab": {
          "base_uri": "https://localhost:8080/",
          "height": 110
        },
        "id": "M1-p-Rno9gQM",
        "outputId": "28f55c04-0807-446c-f3f1-5cdad8498dcc"
      },
      "source": [
        "# Sort by allocation & Show the portfolio\n",
        "portfolio_df_sorted2 = portfolio_df2.sort_values('투자비중', ascending = False)\n",
        "portfolio_df_sorted2 = portfolio_df_sorted2.reset_index(drop=True)\n",
        "portfolio_df_sorted2"
      ],
      "execution_count": null,
      "outputs": [
        {
          "output_type": "execute_result",
          "data": {
            "text/html": [
              "<div>\n",
              "<style scoped>\n",
              "    .dataframe tbody tr th:only-of-type {\n",
              "        vertical-align: middle;\n",
              "    }\n",
              "\n",
              "    .dataframe tbody tr th {\n",
              "        vertical-align: top;\n",
              "    }\n",
              "\n",
              "    .dataframe thead th {\n",
              "        text-align: right;\n",
              "    }\n",
              "</style>\n",
              "<table border=\"1\" class=\"dataframe\">\n",
              "  <thead>\n",
              "    <tr style=\"text-align: right;\">\n",
              "      <th></th>\n",
              "      <th>종목명</th>\n",
              "      <th>종목코드</th>\n",
              "      <th>수량(주)</th>\n",
              "      <th>투자금액(원)</th>\n",
              "      <th>투자비중</th>\n",
              "    </tr>\n",
              "  </thead>\n",
              "  <tbody>\n",
              "    <tr>\n",
              "      <th>0</th>\n",
              "      <td>카카오</td>\n",
              "      <td>035720</td>\n",
              "      <td>75</td>\n",
              "      <td>11550000</td>\n",
              "      <td>0.77273</td>\n",
              "    </tr>\n",
              "    <tr>\n",
              "      <th>1</th>\n",
              "      <td>삼성전자</td>\n",
              "      <td>005930</td>\n",
              "      <td>43</td>\n",
              "      <td>3397000</td>\n",
              "      <td>0.22727</td>\n",
              "    </tr>\n",
              "  </tbody>\n",
              "</table>\n",
              "</div>"
            ],
            "text/plain": [
              "    종목명    종목코드  수량(주)   투자금액(원)     투자비중\n",
              "0   카카오  035720     75  11550000  0.77273\n",
              "1  삼성전자  005930     43   3397000  0.22727"
            ]
          },
          "metadata": {
            "tags": []
          },
          "execution_count": 89
        }
      ]
    },
    {
      "cell_type": "markdown",
      "metadata": {
        "id": "q2qxsYGE9gQN"
      },
      "source": [
        "### 투자 금액에 따라 최적화된 포트폴리오의 종목별 수량"
      ]
    },
    {
      "cell_type": "code",
      "metadata": {
        "colab": {
          "base_uri": "https://localhost:8080/",
          "height": 141
        },
        "id": "1bcWJz0B9gQN",
        "outputId": "5f252d84-5b77-4ad0-f5fb-22b8012f88e5"
      },
      "source": [
        "portfolio_df_sorted2.loc[\"합계\",2:] = portfolio_df_sorted2.sum()\n",
        "portfolio_df_sorted2"
      ],
      "execution_count": null,
      "outputs": [
        {
          "output_type": "execute_result",
          "data": {
            "text/html": [
              "<div>\n",
              "<style scoped>\n",
              "    .dataframe tbody tr th:only-of-type {\n",
              "        vertical-align: middle;\n",
              "    }\n",
              "\n",
              "    .dataframe tbody tr th {\n",
              "        vertical-align: top;\n",
              "    }\n",
              "\n",
              "    .dataframe thead th {\n",
              "        text-align: right;\n",
              "    }\n",
              "</style>\n",
              "<table border=\"1\" class=\"dataframe\">\n",
              "  <thead>\n",
              "    <tr style=\"text-align: right;\">\n",
              "      <th></th>\n",
              "      <th>종목명</th>\n",
              "      <th>종목코드</th>\n",
              "      <th>수량(주)</th>\n",
              "      <th>투자금액(원)</th>\n",
              "      <th>투자비중</th>\n",
              "    </tr>\n",
              "  </thead>\n",
              "  <tbody>\n",
              "    <tr>\n",
              "      <th>0</th>\n",
              "      <td>카카오</td>\n",
              "      <td>035720</td>\n",
              "      <td>75.0</td>\n",
              "      <td>11550000.0</td>\n",
              "      <td>0.77273</td>\n",
              "    </tr>\n",
              "    <tr>\n",
              "      <th>1</th>\n",
              "      <td>삼성전자</td>\n",
              "      <td>005930</td>\n",
              "      <td>43.0</td>\n",
              "      <td>3397000.0</td>\n",
              "      <td>0.22727</td>\n",
              "    </tr>\n",
              "    <tr>\n",
              "      <th>합계</th>\n",
              "      <td>NaN</td>\n",
              "      <td>NaN</td>\n",
              "      <td>118.0</td>\n",
              "      <td>14947000.0</td>\n",
              "      <td>1.00000</td>\n",
              "    </tr>\n",
              "  </tbody>\n",
              "</table>\n",
              "</div>"
            ],
            "text/plain": [
              "     종목명    종목코드  수량(주)     투자금액(원)     투자비중\n",
              "0    카카오  035720   75.0  11550000.0  0.77273\n",
              "1   삼성전자  005930   43.0   3397000.0  0.22727\n",
              "합계   NaN     NaN  118.0  14947000.0  1.00000"
            ]
          },
          "metadata": {
            "tags": []
          },
          "execution_count": 90
        }
      ]
    },
    {
      "cell_type": "markdown",
      "metadata": {
        "id": "1ddexOv3dgCE"
      },
      "source": [
        "# 포트폴리오의 수익률과 변동성을 벤치마크지수(KOSPI)와 비교"
      ]
    },
    {
      "cell_type": "markdown",
      "metadata": {
        "id": "pugipPRp_vn0"
      },
      "source": [
        "#### ver01> 결측값 삭제 ( 5개 종목 )"
      ]
    },
    {
      "cell_type": "code",
      "metadata": {
        "colab": {
          "base_uri": "https://localhost:8080/",
          "height": 445
        },
        "id": "9EKJffHr_0_g",
        "outputId": "aca43928-6a3f-4a2e-a379-a1013b0a626a"
      },
      "source": [
        "df"
      ],
      "execution_count": null,
      "outputs": [
        {
          "output_type": "execute_result",
          "data": {
            "text/html": [
              "<div>\n",
              "<style scoped>\n",
              "    .dataframe tbody tr th:only-of-type {\n",
              "        vertical-align: middle;\n",
              "    }\n",
              "\n",
              "    .dataframe tbody tr th {\n",
              "        vertical-align: top;\n",
              "    }\n",
              "\n",
              "    .dataframe thead th {\n",
              "        text-align: right;\n",
              "    }\n",
              "</style>\n",
              "<table border=\"1\" class=\"dataframe\">\n",
              "  <thead>\n",
              "    <tr style=\"text-align: right;\">\n",
              "      <th></th>\n",
              "      <th>005930</th>\n",
              "      <th>000660</th>\n",
              "      <th>035720</th>\n",
              "      <th>035420</th>\n",
              "      <th>051910</th>\n",
              "    </tr>\n",
              "    <tr>\n",
              "      <th>Date</th>\n",
              "      <th></th>\n",
              "      <th></th>\n",
              "      <th></th>\n",
              "      <th></th>\n",
              "      <th></th>\n",
              "    </tr>\n",
              "  </thead>\n",
              "  <tbody>\n",
              "    <tr>\n",
              "      <th>2018-07-19</th>\n",
              "      <td>46900</td>\n",
              "      <td>90300</td>\n",
              "      <td>22881</td>\n",
              "      <td>153217</td>\n",
              "      <td>336000</td>\n",
              "    </tr>\n",
              "    <tr>\n",
              "      <th>2018-07-20</th>\n",
              "      <td>47450</td>\n",
              "      <td>87900</td>\n",
              "      <td>23082</td>\n",
              "      <td>154218</td>\n",
              "      <td>332500</td>\n",
              "    </tr>\n",
              "    <tr>\n",
              "      <th>2018-07-23</th>\n",
              "      <td>46500</td>\n",
              "      <td>81700</td>\n",
              "      <td>23182</td>\n",
              "      <td>155019</td>\n",
              "      <td>333000</td>\n",
              "    </tr>\n",
              "    <tr>\n",
              "      <th>2018-07-24</th>\n",
              "      <td>46150</td>\n",
              "      <td>83600</td>\n",
              "      <td>23483</td>\n",
              "      <td>149211</td>\n",
              "      <td>330500</td>\n",
              "    </tr>\n",
              "    <tr>\n",
              "      <th>2018-07-25</th>\n",
              "      <td>46150</td>\n",
              "      <td>80500</td>\n",
              "      <td>23684</td>\n",
              "      <td>149411</td>\n",
              "      <td>361500</td>\n",
              "    </tr>\n",
              "    <tr>\n",
              "      <th>...</th>\n",
              "      <td>...</td>\n",
              "      <td>...</td>\n",
              "      <td>...</td>\n",
              "      <td>...</td>\n",
              "      <td>...</td>\n",
              "    </tr>\n",
              "    <tr>\n",
              "      <th>2021-07-13</th>\n",
              "      <td>79800</td>\n",
              "      <td>123000</td>\n",
              "      <td>161000</td>\n",
              "      <td>441000</td>\n",
              "      <td>840000</td>\n",
              "    </tr>\n",
              "    <tr>\n",
              "      <th>2021-07-14</th>\n",
              "      <td>79500</td>\n",
              "      <td>123500</td>\n",
              "      <td>162000</td>\n",
              "      <td>444000</td>\n",
              "      <td>844000</td>\n",
              "    </tr>\n",
              "    <tr>\n",
              "      <th>2021-07-15</th>\n",
              "      <td>80600</td>\n",
              "      <td>123500</td>\n",
              "      <td>159500</td>\n",
              "      <td>449000</td>\n",
              "      <td>818000</td>\n",
              "    </tr>\n",
              "    <tr>\n",
              "      <th>2021-07-16</th>\n",
              "      <td>79800</td>\n",
              "      <td>121500</td>\n",
              "      <td>157000</td>\n",
              "      <td>447000</td>\n",
              "      <td>828000</td>\n",
              "    </tr>\n",
              "    <tr>\n",
              "      <th>2021-07-19</th>\n",
              "      <td>79000</td>\n",
              "      <td>119000</td>\n",
              "      <td>154000</td>\n",
              "      <td>443000</td>\n",
              "      <td>820000</td>\n",
              "    </tr>\n",
              "  </tbody>\n",
              "</table>\n",
              "<p>740 rows × 5 columns</p>\n",
              "</div>"
            ],
            "text/plain": [
              "            005930  000660  035720  035420  051910\n",
              "Date                                              \n",
              "2018-07-19   46900   90300   22881  153217  336000\n",
              "2018-07-20   47450   87900   23082  154218  332500\n",
              "2018-07-23   46500   81700   23182  155019  333000\n",
              "2018-07-24   46150   83600   23483  149211  330500\n",
              "2018-07-25   46150   80500   23684  149411  361500\n",
              "...            ...     ...     ...     ...     ...\n",
              "2021-07-13   79800  123000  161000  441000  840000\n",
              "2021-07-14   79500  123500  162000  444000  844000\n",
              "2021-07-15   80600  123500  159500  449000  818000\n",
              "2021-07-16   79800  121500  157000  447000  828000\n",
              "2021-07-19   79000  119000  154000  443000  820000\n",
              "\n",
              "[740 rows x 5 columns]"
            ]
          },
          "metadata": {
            "tags": []
          },
          "execution_count": 91
        }
      ]
    },
    {
      "cell_type": "code",
      "metadata": {
        "colab": {
          "base_uri": "https://localhost:8080/"
        },
        "id": "l0hwGATb_8q9",
        "outputId": "8a42025d-63a7-440c-c01a-5fd5b4e37d78"
      },
      "source": [
        "cleaned_weights"
      ],
      "execution_count": null,
      "outputs": [
        {
          "output_type": "execute_result",
          "data": {
            "text/plain": [
              "OrderedDict([('005930', 0.22898),\n",
              "             ('000660', 0.0),\n",
              "             ('035720', 0.77102),\n",
              "             ('035420', 0.0),\n",
              "             ('051910', 0.0)])"
            ]
          },
          "metadata": {
            "tags": []
          },
          "execution_count": 92
        }
      ]
    },
    {
      "cell_type": "code",
      "metadata": {
        "colab": {
          "base_uri": "https://localhost:8080/"
        },
        "id": "T_U777XL_8q9",
        "outputId": "ffa51171-a65d-49e3-a5be-93a180748b91"
      },
      "source": [
        "len(cleaned_weights)"
      ],
      "execution_count": null,
      "outputs": [
        {
          "output_type": "execute_result",
          "data": {
            "text/plain": [
              "5"
            ]
          },
          "metadata": {
            "tags": []
          },
          "execution_count": 93
        }
      ]
    },
    {
      "cell_type": "code",
      "metadata": {
        "id": "mbc5I3TY_8q_"
      },
      "source": [
        "# 각 일자별, 종목별 종가에 해당 weights를 곱해주기\n",
        "for i, weight in cleaned_weights.items():\n",
        "    df[i] = df[i]*weight"
      ],
      "execution_count": null,
      "outputs": []
    },
    {
      "cell_type": "code",
      "metadata": {
        "colab": {
          "base_uri": "https://localhost:8080/",
          "height": 445
        },
        "id": "MPS1KzE-_8q_",
        "outputId": "147a5fc0-8c10-4d30-f650-9f0bb6deec2c"
      },
      "source": [
        "df"
      ],
      "execution_count": null,
      "outputs": [
        {
          "output_type": "execute_result",
          "data": {
            "text/html": [
              "<div>\n",
              "<style scoped>\n",
              "    .dataframe tbody tr th:only-of-type {\n",
              "        vertical-align: middle;\n",
              "    }\n",
              "\n",
              "    .dataframe tbody tr th {\n",
              "        vertical-align: top;\n",
              "    }\n",
              "\n",
              "    .dataframe thead th {\n",
              "        text-align: right;\n",
              "    }\n",
              "</style>\n",
              "<table border=\"1\" class=\"dataframe\">\n",
              "  <thead>\n",
              "    <tr style=\"text-align: right;\">\n",
              "      <th></th>\n",
              "      <th>005930</th>\n",
              "      <th>000660</th>\n",
              "      <th>035720</th>\n",
              "      <th>035420</th>\n",
              "      <th>051910</th>\n",
              "    </tr>\n",
              "    <tr>\n",
              "      <th>Date</th>\n",
              "      <th></th>\n",
              "      <th></th>\n",
              "      <th></th>\n",
              "      <th></th>\n",
              "      <th></th>\n",
              "    </tr>\n",
              "  </thead>\n",
              "  <tbody>\n",
              "    <tr>\n",
              "      <th>2018-07-19</th>\n",
              "      <td>10739.162</td>\n",
              "      <td>0.0</td>\n",
              "      <td>17641.70862</td>\n",
              "      <td>0.0</td>\n",
              "      <td>0.0</td>\n",
              "    </tr>\n",
              "    <tr>\n",
              "      <th>2018-07-20</th>\n",
              "      <td>10865.101</td>\n",
              "      <td>0.0</td>\n",
              "      <td>17796.68364</td>\n",
              "      <td>0.0</td>\n",
              "      <td>0.0</td>\n",
              "    </tr>\n",
              "    <tr>\n",
              "      <th>2018-07-23</th>\n",
              "      <td>10647.570</td>\n",
              "      <td>0.0</td>\n",
              "      <td>17873.78564</td>\n",
              "      <td>0.0</td>\n",
              "      <td>0.0</td>\n",
              "    </tr>\n",
              "    <tr>\n",
              "      <th>2018-07-24</th>\n",
              "      <td>10567.427</td>\n",
              "      <td>0.0</td>\n",
              "      <td>18105.86266</td>\n",
              "      <td>0.0</td>\n",
              "      <td>0.0</td>\n",
              "    </tr>\n",
              "    <tr>\n",
              "      <th>2018-07-25</th>\n",
              "      <td>10567.427</td>\n",
              "      <td>0.0</td>\n",
              "      <td>18260.83768</td>\n",
              "      <td>0.0</td>\n",
              "      <td>0.0</td>\n",
              "    </tr>\n",
              "    <tr>\n",
              "      <th>...</th>\n",
              "      <td>...</td>\n",
              "      <td>...</td>\n",
              "      <td>...</td>\n",
              "      <td>...</td>\n",
              "      <td>...</td>\n",
              "    </tr>\n",
              "    <tr>\n",
              "      <th>2021-07-13</th>\n",
              "      <td>18272.604</td>\n",
              "      <td>0.0</td>\n",
              "      <td>124134.22000</td>\n",
              "      <td>0.0</td>\n",
              "      <td>0.0</td>\n",
              "    </tr>\n",
              "    <tr>\n",
              "      <th>2021-07-14</th>\n",
              "      <td>18203.910</td>\n",
              "      <td>0.0</td>\n",
              "      <td>124905.24000</td>\n",
              "      <td>0.0</td>\n",
              "      <td>0.0</td>\n",
              "    </tr>\n",
              "    <tr>\n",
              "      <th>2021-07-15</th>\n",
              "      <td>18455.788</td>\n",
              "      <td>0.0</td>\n",
              "      <td>122977.69000</td>\n",
              "      <td>0.0</td>\n",
              "      <td>0.0</td>\n",
              "    </tr>\n",
              "    <tr>\n",
              "      <th>2021-07-16</th>\n",
              "      <td>18272.604</td>\n",
              "      <td>0.0</td>\n",
              "      <td>121050.14000</td>\n",
              "      <td>0.0</td>\n",
              "      <td>0.0</td>\n",
              "    </tr>\n",
              "    <tr>\n",
              "      <th>2021-07-19</th>\n",
              "      <td>18089.420</td>\n",
              "      <td>0.0</td>\n",
              "      <td>118737.08000</td>\n",
              "      <td>0.0</td>\n",
              "      <td>0.0</td>\n",
              "    </tr>\n",
              "  </tbody>\n",
              "</table>\n",
              "<p>740 rows × 5 columns</p>\n",
              "</div>"
            ],
            "text/plain": [
              "               005930  000660        035720  035420  051910\n",
              "Date                                                       \n",
              "2018-07-19  10739.162     0.0   17641.70862     0.0     0.0\n",
              "2018-07-20  10865.101     0.0   17796.68364     0.0     0.0\n",
              "2018-07-23  10647.570     0.0   17873.78564     0.0     0.0\n",
              "2018-07-24  10567.427     0.0   18105.86266     0.0     0.0\n",
              "2018-07-25  10567.427     0.0   18260.83768     0.0     0.0\n",
              "...               ...     ...           ...     ...     ...\n",
              "2021-07-13  18272.604     0.0  124134.22000     0.0     0.0\n",
              "2021-07-14  18203.910     0.0  124905.24000     0.0     0.0\n",
              "2021-07-15  18455.788     0.0  122977.69000     0.0     0.0\n",
              "2021-07-16  18272.604     0.0  121050.14000     0.0     0.0\n",
              "2021-07-19  18089.420     0.0  118737.08000     0.0     0.0\n",
              "\n",
              "[740 rows x 5 columns]"
            ]
          },
          "metadata": {
            "tags": []
          },
          "execution_count": 95
        }
      ]
    },
    {
      "cell_type": "code",
      "metadata": {
        "colab": {
          "base_uri": "https://localhost:8080/",
          "height": 445
        },
        "id": "u6BOrE5y_8rA",
        "outputId": "7ac7757d-ad80-43ea-fd60-a7e1939bbb94"
      },
      "source": [
        "# 일자별 종목의 (종가*비중) 합계를 Port열에 저장\n",
        "df['Port'] = df.sum(axis = 1)\n",
        "df"
      ],
      "execution_count": null,
      "outputs": [
        {
          "output_type": "execute_result",
          "data": {
            "text/html": [
              "<div>\n",
              "<style scoped>\n",
              "    .dataframe tbody tr th:only-of-type {\n",
              "        vertical-align: middle;\n",
              "    }\n",
              "\n",
              "    .dataframe tbody tr th {\n",
              "        vertical-align: top;\n",
              "    }\n",
              "\n",
              "    .dataframe thead th {\n",
              "        text-align: right;\n",
              "    }\n",
              "</style>\n",
              "<table border=\"1\" class=\"dataframe\">\n",
              "  <thead>\n",
              "    <tr style=\"text-align: right;\">\n",
              "      <th></th>\n",
              "      <th>005930</th>\n",
              "      <th>000660</th>\n",
              "      <th>035720</th>\n",
              "      <th>035420</th>\n",
              "      <th>051910</th>\n",
              "      <th>Port</th>\n",
              "    </tr>\n",
              "    <tr>\n",
              "      <th>Date</th>\n",
              "      <th></th>\n",
              "      <th></th>\n",
              "      <th></th>\n",
              "      <th></th>\n",
              "      <th></th>\n",
              "      <th></th>\n",
              "    </tr>\n",
              "  </thead>\n",
              "  <tbody>\n",
              "    <tr>\n",
              "      <th>2018-07-19</th>\n",
              "      <td>10739.162</td>\n",
              "      <td>0.0</td>\n",
              "      <td>17641.70862</td>\n",
              "      <td>0.0</td>\n",
              "      <td>0.0</td>\n",
              "      <td>28380.87062</td>\n",
              "    </tr>\n",
              "    <tr>\n",
              "      <th>2018-07-20</th>\n",
              "      <td>10865.101</td>\n",
              "      <td>0.0</td>\n",
              "      <td>17796.68364</td>\n",
              "      <td>0.0</td>\n",
              "      <td>0.0</td>\n",
              "      <td>28661.78464</td>\n",
              "    </tr>\n",
              "    <tr>\n",
              "      <th>2018-07-23</th>\n",
              "      <td>10647.570</td>\n",
              "      <td>0.0</td>\n",
              "      <td>17873.78564</td>\n",
              "      <td>0.0</td>\n",
              "      <td>0.0</td>\n",
              "      <td>28521.35564</td>\n",
              "    </tr>\n",
              "    <tr>\n",
              "      <th>2018-07-24</th>\n",
              "      <td>10567.427</td>\n",
              "      <td>0.0</td>\n",
              "      <td>18105.86266</td>\n",
              "      <td>0.0</td>\n",
              "      <td>0.0</td>\n",
              "      <td>28673.28966</td>\n",
              "    </tr>\n",
              "    <tr>\n",
              "      <th>2018-07-25</th>\n",
              "      <td>10567.427</td>\n",
              "      <td>0.0</td>\n",
              "      <td>18260.83768</td>\n",
              "      <td>0.0</td>\n",
              "      <td>0.0</td>\n",
              "      <td>28828.26468</td>\n",
              "    </tr>\n",
              "    <tr>\n",
              "      <th>...</th>\n",
              "      <td>...</td>\n",
              "      <td>...</td>\n",
              "      <td>...</td>\n",
              "      <td>...</td>\n",
              "      <td>...</td>\n",
              "      <td>...</td>\n",
              "    </tr>\n",
              "    <tr>\n",
              "      <th>2021-07-13</th>\n",
              "      <td>18272.604</td>\n",
              "      <td>0.0</td>\n",
              "      <td>124134.22000</td>\n",
              "      <td>0.0</td>\n",
              "      <td>0.0</td>\n",
              "      <td>142406.82400</td>\n",
              "    </tr>\n",
              "    <tr>\n",
              "      <th>2021-07-14</th>\n",
              "      <td>18203.910</td>\n",
              "      <td>0.0</td>\n",
              "      <td>124905.24000</td>\n",
              "      <td>0.0</td>\n",
              "      <td>0.0</td>\n",
              "      <td>143109.15000</td>\n",
              "    </tr>\n",
              "    <tr>\n",
              "      <th>2021-07-15</th>\n",
              "      <td>18455.788</td>\n",
              "      <td>0.0</td>\n",
              "      <td>122977.69000</td>\n",
              "      <td>0.0</td>\n",
              "      <td>0.0</td>\n",
              "      <td>141433.47800</td>\n",
              "    </tr>\n",
              "    <tr>\n",
              "      <th>2021-07-16</th>\n",
              "      <td>18272.604</td>\n",
              "      <td>0.0</td>\n",
              "      <td>121050.14000</td>\n",
              "      <td>0.0</td>\n",
              "      <td>0.0</td>\n",
              "      <td>139322.74400</td>\n",
              "    </tr>\n",
              "    <tr>\n",
              "      <th>2021-07-19</th>\n",
              "      <td>18089.420</td>\n",
              "      <td>0.0</td>\n",
              "      <td>118737.08000</td>\n",
              "      <td>0.0</td>\n",
              "      <td>0.0</td>\n",
              "      <td>136826.50000</td>\n",
              "    </tr>\n",
              "  </tbody>\n",
              "</table>\n",
              "<p>740 rows × 6 columns</p>\n",
              "</div>"
            ],
            "text/plain": [
              "               005930  000660        035720  035420  051910          Port\n",
              "Date                                                                     \n",
              "2018-07-19  10739.162     0.0   17641.70862     0.0     0.0   28380.87062\n",
              "2018-07-20  10865.101     0.0   17796.68364     0.0     0.0   28661.78464\n",
              "2018-07-23  10647.570     0.0   17873.78564     0.0     0.0   28521.35564\n",
              "2018-07-24  10567.427     0.0   18105.86266     0.0     0.0   28673.28966\n",
              "2018-07-25  10567.427     0.0   18260.83768     0.0     0.0   28828.26468\n",
              "...               ...     ...           ...     ...     ...           ...\n",
              "2021-07-13  18272.604     0.0  124134.22000     0.0     0.0  142406.82400\n",
              "2021-07-14  18203.910     0.0  124905.24000     0.0     0.0  143109.15000\n",
              "2021-07-15  18455.788     0.0  122977.69000     0.0     0.0  141433.47800\n",
              "2021-07-16  18272.604     0.0  121050.14000     0.0     0.0  139322.74400\n",
              "2021-07-19  18089.420     0.0  118737.08000     0.0     0.0  136826.50000\n",
              "\n",
              "[740 rows x 6 columns]"
            ]
          },
          "metadata": {
            "tags": []
          },
          "execution_count": 96
        }
      ]
    },
    {
      "cell_type": "code",
      "metadata": {
        "colab": {
          "base_uri": "https://localhost:8080/",
          "height": 445
        },
        "id": "XtuA3GAF_8rA",
        "outputId": "7193b9b6-8948-47c4-80d4-cdefe39772ec"
      },
      "source": [
        "# 일자별 종가의 전일대비 변동률(수익률)을 portfolio라는 데이터프레임으로 저장\n",
        "portfolio = df[['Port']].pct_change()\n",
        "portfolio"
      ],
      "execution_count": null,
      "outputs": [
        {
          "output_type": "execute_result",
          "data": {
            "text/html": [
              "<div>\n",
              "<style scoped>\n",
              "    .dataframe tbody tr th:only-of-type {\n",
              "        vertical-align: middle;\n",
              "    }\n",
              "\n",
              "    .dataframe tbody tr th {\n",
              "        vertical-align: top;\n",
              "    }\n",
              "\n",
              "    .dataframe thead th {\n",
              "        text-align: right;\n",
              "    }\n",
              "</style>\n",
              "<table border=\"1\" class=\"dataframe\">\n",
              "  <thead>\n",
              "    <tr style=\"text-align: right;\">\n",
              "      <th></th>\n",
              "      <th>Port</th>\n",
              "    </tr>\n",
              "    <tr>\n",
              "      <th>Date</th>\n",
              "      <th></th>\n",
              "    </tr>\n",
              "  </thead>\n",
              "  <tbody>\n",
              "    <tr>\n",
              "      <th>2018-07-19</th>\n",
              "      <td>NaN</td>\n",
              "    </tr>\n",
              "    <tr>\n",
              "      <th>2018-07-20</th>\n",
              "      <td>0.009898</td>\n",
              "    </tr>\n",
              "    <tr>\n",
              "      <th>2018-07-23</th>\n",
              "      <td>-0.004900</td>\n",
              "    </tr>\n",
              "    <tr>\n",
              "      <th>2018-07-24</th>\n",
              "      <td>0.005327</td>\n",
              "    </tr>\n",
              "    <tr>\n",
              "      <th>2018-07-25</th>\n",
              "      <td>0.005405</td>\n",
              "    </tr>\n",
              "    <tr>\n",
              "      <th>...</th>\n",
              "      <td>...</td>\n",
              "    </tr>\n",
              "    <tr>\n",
              "      <th>2021-07-13</th>\n",
              "      <td>-0.005226</td>\n",
              "    </tr>\n",
              "    <tr>\n",
              "      <th>2021-07-14</th>\n",
              "      <td>0.004932</td>\n",
              "    </tr>\n",
              "    <tr>\n",
              "      <th>2021-07-15</th>\n",
              "      <td>-0.011709</td>\n",
              "    </tr>\n",
              "    <tr>\n",
              "      <th>2021-07-16</th>\n",
              "      <td>-0.014924</td>\n",
              "    </tr>\n",
              "    <tr>\n",
              "      <th>2021-07-19</th>\n",
              "      <td>-0.017917</td>\n",
              "    </tr>\n",
              "  </tbody>\n",
              "</table>\n",
              "<p>740 rows × 1 columns</p>\n",
              "</div>"
            ],
            "text/plain": [
              "                Port\n",
              "Date                \n",
              "2018-07-19       NaN\n",
              "2018-07-20  0.009898\n",
              "2018-07-23 -0.004900\n",
              "2018-07-24  0.005327\n",
              "2018-07-25  0.005405\n",
              "...              ...\n",
              "2021-07-13 -0.005226\n",
              "2021-07-14  0.004932\n",
              "2021-07-15 -0.011709\n",
              "2021-07-16 -0.014924\n",
              "2021-07-19 -0.017917\n",
              "\n",
              "[740 rows x 1 columns]"
            ]
          },
          "metadata": {
            "tags": []
          },
          "execution_count": 97
        }
      ]
    },
    {
      "cell_type": "code",
      "metadata": {
        "colab": {
          "base_uri": "https://localhost:8080/",
          "height": 445
        },
        "id": "XHwq_PCg_8rA",
        "outputId": "48b2d82e-e088-4867-b906-d64e0f5288d4"
      },
      "source": [
        "# 코스피지수 불러오기\n",
        "kospi = fdr.DataReader('KS11', start_date, end_date)[['Close']]\n",
        "kospi"
      ],
      "execution_count": null,
      "outputs": [
        {
          "output_type": "execute_result",
          "data": {
            "text/html": [
              "<div>\n",
              "<style scoped>\n",
              "    .dataframe tbody tr th:only-of-type {\n",
              "        vertical-align: middle;\n",
              "    }\n",
              "\n",
              "    .dataframe tbody tr th {\n",
              "        vertical-align: top;\n",
              "    }\n",
              "\n",
              "    .dataframe thead th {\n",
              "        text-align: right;\n",
              "    }\n",
              "</style>\n",
              "<table border=\"1\" class=\"dataframe\">\n",
              "  <thead>\n",
              "    <tr style=\"text-align: right;\">\n",
              "      <th></th>\n",
              "      <th>Close</th>\n",
              "    </tr>\n",
              "    <tr>\n",
              "      <th>Date</th>\n",
              "      <th></th>\n",
              "    </tr>\n",
              "  </thead>\n",
              "  <tbody>\n",
              "    <tr>\n",
              "      <th>2018-07-19</th>\n",
              "      <td>2282.29</td>\n",
              "    </tr>\n",
              "    <tr>\n",
              "      <th>2018-07-20</th>\n",
              "      <td>2289.19</td>\n",
              "    </tr>\n",
              "    <tr>\n",
              "      <th>2018-07-23</th>\n",
              "      <td>2269.31</td>\n",
              "    </tr>\n",
              "    <tr>\n",
              "      <th>2018-07-24</th>\n",
              "      <td>2280.20</td>\n",
              "    </tr>\n",
              "    <tr>\n",
              "      <th>2018-07-25</th>\n",
              "      <td>2273.03</td>\n",
              "    </tr>\n",
              "    <tr>\n",
              "      <th>...</th>\n",
              "      <td>...</td>\n",
              "    </tr>\n",
              "    <tr>\n",
              "      <th>2021-07-13</th>\n",
              "      <td>3271.38</td>\n",
              "    </tr>\n",
              "    <tr>\n",
              "      <th>2021-07-14</th>\n",
              "      <td>3264.81</td>\n",
              "    </tr>\n",
              "    <tr>\n",
              "      <th>2021-07-15</th>\n",
              "      <td>3286.22</td>\n",
              "    </tr>\n",
              "    <tr>\n",
              "      <th>2021-07-16</th>\n",
              "      <td>3276.91</td>\n",
              "    </tr>\n",
              "    <tr>\n",
              "      <th>2021-07-19</th>\n",
              "      <td>3244.04</td>\n",
              "    </tr>\n",
              "  </tbody>\n",
              "</table>\n",
              "<p>740 rows × 1 columns</p>\n",
              "</div>"
            ],
            "text/plain": [
              "              Close\n",
              "Date               \n",
              "2018-07-19  2282.29\n",
              "2018-07-20  2289.19\n",
              "2018-07-23  2269.31\n",
              "2018-07-24  2280.20\n",
              "2018-07-25  2273.03\n",
              "...             ...\n",
              "2021-07-13  3271.38\n",
              "2021-07-14  3264.81\n",
              "2021-07-15  3286.22\n",
              "2021-07-16  3276.91\n",
              "2021-07-19  3244.04\n",
              "\n",
              "[740 rows x 1 columns]"
            ]
          },
          "metadata": {
            "tags": []
          },
          "execution_count": 98
        }
      ]
    },
    {
      "cell_type": "code",
      "metadata": {
        "colab": {
          "base_uri": "https://localhost:8080/",
          "height": 445
        },
        "id": "YC1VOV4z_8rA",
        "outputId": "dccc5c36-4c22-4537-b1b2-7fce4f6ab343"
      },
      "source": [
        "# 코스피지수의 변동률(수익률) 구하기\n",
        "# 변동률(수익률) = (당일가격-전일가격) / 전일가격\n",
        "# 7/20의 변동률(수익률) = (7/20 가격-7-19 가격) / 7/19 가격\n",
        "kospi_pct = kospi.pct_change()\n",
        "kospi_pct"
      ],
      "execution_count": null,
      "outputs": [
        {
          "output_type": "execute_result",
          "data": {
            "text/html": [
              "<div>\n",
              "<style scoped>\n",
              "    .dataframe tbody tr th:only-of-type {\n",
              "        vertical-align: middle;\n",
              "    }\n",
              "\n",
              "    .dataframe tbody tr th {\n",
              "        vertical-align: top;\n",
              "    }\n",
              "\n",
              "    .dataframe thead th {\n",
              "        text-align: right;\n",
              "    }\n",
              "</style>\n",
              "<table border=\"1\" class=\"dataframe\">\n",
              "  <thead>\n",
              "    <tr style=\"text-align: right;\">\n",
              "      <th></th>\n",
              "      <th>Close</th>\n",
              "    </tr>\n",
              "    <tr>\n",
              "      <th>Date</th>\n",
              "      <th></th>\n",
              "    </tr>\n",
              "  </thead>\n",
              "  <tbody>\n",
              "    <tr>\n",
              "      <th>2018-07-19</th>\n",
              "      <td>NaN</td>\n",
              "    </tr>\n",
              "    <tr>\n",
              "      <th>2018-07-20</th>\n",
              "      <td>0.003023</td>\n",
              "    </tr>\n",
              "    <tr>\n",
              "      <th>2018-07-23</th>\n",
              "      <td>-0.008684</td>\n",
              "    </tr>\n",
              "    <tr>\n",
              "      <th>2018-07-24</th>\n",
              "      <td>0.004799</td>\n",
              "    </tr>\n",
              "    <tr>\n",
              "      <th>2018-07-25</th>\n",
              "      <td>-0.003144</td>\n",
              "    </tr>\n",
              "    <tr>\n",
              "      <th>...</th>\n",
              "      <td>...</td>\n",
              "    </tr>\n",
              "    <tr>\n",
              "      <th>2021-07-13</th>\n",
              "      <td>0.007673</td>\n",
              "    </tr>\n",
              "    <tr>\n",
              "      <th>2021-07-14</th>\n",
              "      <td>-0.002008</td>\n",
              "    </tr>\n",
              "    <tr>\n",
              "      <th>2021-07-15</th>\n",
              "      <td>0.006558</td>\n",
              "    </tr>\n",
              "    <tr>\n",
              "      <th>2021-07-16</th>\n",
              "      <td>-0.002833</td>\n",
              "    </tr>\n",
              "    <tr>\n",
              "      <th>2021-07-19</th>\n",
              "      <td>-0.010031</td>\n",
              "    </tr>\n",
              "  </tbody>\n",
              "</table>\n",
              "<p>740 rows × 1 columns</p>\n",
              "</div>"
            ],
            "text/plain": [
              "               Close\n",
              "Date                \n",
              "2018-07-19       NaN\n",
              "2018-07-20  0.003023\n",
              "2018-07-23 -0.008684\n",
              "2018-07-24  0.004799\n",
              "2018-07-25 -0.003144\n",
              "...              ...\n",
              "2021-07-13  0.007673\n",
              "2021-07-14 -0.002008\n",
              "2021-07-15  0.006558\n",
              "2021-07-16 -0.002833\n",
              "2021-07-19 -0.010031\n",
              "\n",
              "[740 rows x 1 columns]"
            ]
          },
          "metadata": {
            "tags": []
          },
          "execution_count": 99
        }
      ]
    },
    {
      "cell_type": "code",
      "metadata": {
        "colab": {
          "base_uri": "https://localhost:8080/",
          "height": 445
        },
        "id": "8J_Njyfk_8rA",
        "outputId": "3bc67ebc-f0bb-4d3e-d5c1-67f64c32afca"
      },
      "source": [
        "# 코스피와 포트폴리오 합치기\n",
        "result = kospi_pct.join(portfolio)\n",
        "result"
      ],
      "execution_count": null,
      "outputs": [
        {
          "output_type": "execute_result",
          "data": {
            "text/html": [
              "<div>\n",
              "<style scoped>\n",
              "    .dataframe tbody tr th:only-of-type {\n",
              "        vertical-align: middle;\n",
              "    }\n",
              "\n",
              "    .dataframe tbody tr th {\n",
              "        vertical-align: top;\n",
              "    }\n",
              "\n",
              "    .dataframe thead th {\n",
              "        text-align: right;\n",
              "    }\n",
              "</style>\n",
              "<table border=\"1\" class=\"dataframe\">\n",
              "  <thead>\n",
              "    <tr style=\"text-align: right;\">\n",
              "      <th></th>\n",
              "      <th>Close</th>\n",
              "      <th>Port</th>\n",
              "    </tr>\n",
              "    <tr>\n",
              "      <th>Date</th>\n",
              "      <th></th>\n",
              "      <th></th>\n",
              "    </tr>\n",
              "  </thead>\n",
              "  <tbody>\n",
              "    <tr>\n",
              "      <th>2018-07-19</th>\n",
              "      <td>NaN</td>\n",
              "      <td>NaN</td>\n",
              "    </tr>\n",
              "    <tr>\n",
              "      <th>2018-07-20</th>\n",
              "      <td>0.003023</td>\n",
              "      <td>0.009898</td>\n",
              "    </tr>\n",
              "    <tr>\n",
              "      <th>2018-07-23</th>\n",
              "      <td>-0.008684</td>\n",
              "      <td>-0.004900</td>\n",
              "    </tr>\n",
              "    <tr>\n",
              "      <th>2018-07-24</th>\n",
              "      <td>0.004799</td>\n",
              "      <td>0.005327</td>\n",
              "    </tr>\n",
              "    <tr>\n",
              "      <th>2018-07-25</th>\n",
              "      <td>-0.003144</td>\n",
              "      <td>0.005405</td>\n",
              "    </tr>\n",
              "    <tr>\n",
              "      <th>...</th>\n",
              "      <td>...</td>\n",
              "      <td>...</td>\n",
              "    </tr>\n",
              "    <tr>\n",
              "      <th>2021-07-13</th>\n",
              "      <td>0.007673</td>\n",
              "      <td>-0.005226</td>\n",
              "    </tr>\n",
              "    <tr>\n",
              "      <th>2021-07-14</th>\n",
              "      <td>-0.002008</td>\n",
              "      <td>0.004932</td>\n",
              "    </tr>\n",
              "    <tr>\n",
              "      <th>2021-07-15</th>\n",
              "      <td>0.006558</td>\n",
              "      <td>-0.011709</td>\n",
              "    </tr>\n",
              "    <tr>\n",
              "      <th>2021-07-16</th>\n",
              "      <td>-0.002833</td>\n",
              "      <td>-0.014924</td>\n",
              "    </tr>\n",
              "    <tr>\n",
              "      <th>2021-07-19</th>\n",
              "      <td>-0.010031</td>\n",
              "      <td>-0.017917</td>\n",
              "    </tr>\n",
              "  </tbody>\n",
              "</table>\n",
              "<p>740 rows × 2 columns</p>\n",
              "</div>"
            ],
            "text/plain": [
              "               Close      Port\n",
              "Date                          \n",
              "2018-07-19       NaN       NaN\n",
              "2018-07-20  0.003023  0.009898\n",
              "2018-07-23 -0.008684 -0.004900\n",
              "2018-07-24  0.004799  0.005327\n",
              "2018-07-25 -0.003144  0.005405\n",
              "...              ...       ...\n",
              "2021-07-13  0.007673 -0.005226\n",
              "2021-07-14 -0.002008  0.004932\n",
              "2021-07-15  0.006558 -0.011709\n",
              "2021-07-16 -0.002833 -0.014924\n",
              "2021-07-19 -0.010031 -0.017917\n",
              "\n",
              "[740 rows x 2 columns]"
            ]
          },
          "metadata": {
            "tags": []
          },
          "execution_count": 100
        }
      ]
    },
    {
      "cell_type": "code",
      "metadata": {
        "colab": {
          "base_uri": "https://localhost:8080/",
          "height": 445
        },
        "id": "4ajcEE0h_8rA",
        "outputId": "f0005c04-6465-482d-e2a1-ec78bbb84028"
      },
      "source": [
        "# 1열을 0으로 \n",
        "result.iloc[0] = 0\n",
        "result"
      ],
      "execution_count": null,
      "outputs": [
        {
          "output_type": "execute_result",
          "data": {
            "text/html": [
              "<div>\n",
              "<style scoped>\n",
              "    .dataframe tbody tr th:only-of-type {\n",
              "        vertical-align: middle;\n",
              "    }\n",
              "\n",
              "    .dataframe tbody tr th {\n",
              "        vertical-align: top;\n",
              "    }\n",
              "\n",
              "    .dataframe thead th {\n",
              "        text-align: right;\n",
              "    }\n",
              "</style>\n",
              "<table border=\"1\" class=\"dataframe\">\n",
              "  <thead>\n",
              "    <tr style=\"text-align: right;\">\n",
              "      <th></th>\n",
              "      <th>Close</th>\n",
              "      <th>Port</th>\n",
              "    </tr>\n",
              "    <tr>\n",
              "      <th>Date</th>\n",
              "      <th></th>\n",
              "      <th></th>\n",
              "    </tr>\n",
              "  </thead>\n",
              "  <tbody>\n",
              "    <tr>\n",
              "      <th>2018-07-19</th>\n",
              "      <td>0.000000</td>\n",
              "      <td>0.000000</td>\n",
              "    </tr>\n",
              "    <tr>\n",
              "      <th>2018-07-20</th>\n",
              "      <td>0.003023</td>\n",
              "      <td>0.009898</td>\n",
              "    </tr>\n",
              "    <tr>\n",
              "      <th>2018-07-23</th>\n",
              "      <td>-0.008684</td>\n",
              "      <td>-0.004900</td>\n",
              "    </tr>\n",
              "    <tr>\n",
              "      <th>2018-07-24</th>\n",
              "      <td>0.004799</td>\n",
              "      <td>0.005327</td>\n",
              "    </tr>\n",
              "    <tr>\n",
              "      <th>2018-07-25</th>\n",
              "      <td>-0.003144</td>\n",
              "      <td>0.005405</td>\n",
              "    </tr>\n",
              "    <tr>\n",
              "      <th>...</th>\n",
              "      <td>...</td>\n",
              "      <td>...</td>\n",
              "    </tr>\n",
              "    <tr>\n",
              "      <th>2021-07-13</th>\n",
              "      <td>0.007673</td>\n",
              "      <td>-0.005226</td>\n",
              "    </tr>\n",
              "    <tr>\n",
              "      <th>2021-07-14</th>\n",
              "      <td>-0.002008</td>\n",
              "      <td>0.004932</td>\n",
              "    </tr>\n",
              "    <tr>\n",
              "      <th>2021-07-15</th>\n",
              "      <td>0.006558</td>\n",
              "      <td>-0.011709</td>\n",
              "    </tr>\n",
              "    <tr>\n",
              "      <th>2021-07-16</th>\n",
              "      <td>-0.002833</td>\n",
              "      <td>-0.014924</td>\n",
              "    </tr>\n",
              "    <tr>\n",
              "      <th>2021-07-19</th>\n",
              "      <td>-0.010031</td>\n",
              "      <td>-0.017917</td>\n",
              "    </tr>\n",
              "  </tbody>\n",
              "</table>\n",
              "<p>740 rows × 2 columns</p>\n",
              "</div>"
            ],
            "text/plain": [
              "               Close      Port\n",
              "Date                          \n",
              "2018-07-19  0.000000  0.000000\n",
              "2018-07-20  0.003023  0.009898\n",
              "2018-07-23 -0.008684 -0.004900\n",
              "2018-07-24  0.004799  0.005327\n",
              "2018-07-25 -0.003144  0.005405\n",
              "...              ...       ...\n",
              "2021-07-13  0.007673 -0.005226\n",
              "2021-07-14 -0.002008  0.004932\n",
              "2021-07-15  0.006558 -0.011709\n",
              "2021-07-16 -0.002833 -0.014924\n",
              "2021-07-19 -0.010031 -0.017917\n",
              "\n",
              "[740 rows x 2 columns]"
            ]
          },
          "metadata": {
            "tags": []
          },
          "execution_count": 101
        }
      ]
    },
    {
      "cell_type": "code",
      "metadata": {
        "colab": {
          "base_uri": "https://localhost:8080/",
          "height": 445
        },
        "id": "qu2XT5XI_8rB",
        "outputId": "168f609d-36f2-4005-ad63-abce7ecfbfd2"
      },
      "source": [
        "# 열 이름 변경\n",
        "result.columns = ['KOSPI', 'PORTFOLIO']\n",
        "result"
      ],
      "execution_count": null,
      "outputs": [
        {
          "output_type": "execute_result",
          "data": {
            "text/html": [
              "<div>\n",
              "<style scoped>\n",
              "    .dataframe tbody tr th:only-of-type {\n",
              "        vertical-align: middle;\n",
              "    }\n",
              "\n",
              "    .dataframe tbody tr th {\n",
              "        vertical-align: top;\n",
              "    }\n",
              "\n",
              "    .dataframe thead th {\n",
              "        text-align: right;\n",
              "    }\n",
              "</style>\n",
              "<table border=\"1\" class=\"dataframe\">\n",
              "  <thead>\n",
              "    <tr style=\"text-align: right;\">\n",
              "      <th></th>\n",
              "      <th>KOSPI</th>\n",
              "      <th>PORTFOLIO</th>\n",
              "    </tr>\n",
              "    <tr>\n",
              "      <th>Date</th>\n",
              "      <th></th>\n",
              "      <th></th>\n",
              "    </tr>\n",
              "  </thead>\n",
              "  <tbody>\n",
              "    <tr>\n",
              "      <th>2018-07-19</th>\n",
              "      <td>0.000000</td>\n",
              "      <td>0.000000</td>\n",
              "    </tr>\n",
              "    <tr>\n",
              "      <th>2018-07-20</th>\n",
              "      <td>0.003023</td>\n",
              "      <td>0.009898</td>\n",
              "    </tr>\n",
              "    <tr>\n",
              "      <th>2018-07-23</th>\n",
              "      <td>-0.008684</td>\n",
              "      <td>-0.004900</td>\n",
              "    </tr>\n",
              "    <tr>\n",
              "      <th>2018-07-24</th>\n",
              "      <td>0.004799</td>\n",
              "      <td>0.005327</td>\n",
              "    </tr>\n",
              "    <tr>\n",
              "      <th>2018-07-25</th>\n",
              "      <td>-0.003144</td>\n",
              "      <td>0.005405</td>\n",
              "    </tr>\n",
              "    <tr>\n",
              "      <th>...</th>\n",
              "      <td>...</td>\n",
              "      <td>...</td>\n",
              "    </tr>\n",
              "    <tr>\n",
              "      <th>2021-07-13</th>\n",
              "      <td>0.007673</td>\n",
              "      <td>-0.005226</td>\n",
              "    </tr>\n",
              "    <tr>\n",
              "      <th>2021-07-14</th>\n",
              "      <td>-0.002008</td>\n",
              "      <td>0.004932</td>\n",
              "    </tr>\n",
              "    <tr>\n",
              "      <th>2021-07-15</th>\n",
              "      <td>0.006558</td>\n",
              "      <td>-0.011709</td>\n",
              "    </tr>\n",
              "    <tr>\n",
              "      <th>2021-07-16</th>\n",
              "      <td>-0.002833</td>\n",
              "      <td>-0.014924</td>\n",
              "    </tr>\n",
              "    <tr>\n",
              "      <th>2021-07-19</th>\n",
              "      <td>-0.010031</td>\n",
              "      <td>-0.017917</td>\n",
              "    </tr>\n",
              "  </tbody>\n",
              "</table>\n",
              "<p>740 rows × 2 columns</p>\n",
              "</div>"
            ],
            "text/plain": [
              "               KOSPI  PORTFOLIO\n",
              "Date                           \n",
              "2018-07-19  0.000000   0.000000\n",
              "2018-07-20  0.003023   0.009898\n",
              "2018-07-23 -0.008684  -0.004900\n",
              "2018-07-24  0.004799   0.005327\n",
              "2018-07-25 -0.003144   0.005405\n",
              "...              ...        ...\n",
              "2021-07-13  0.007673  -0.005226\n",
              "2021-07-14 -0.002008   0.004932\n",
              "2021-07-15  0.006558  -0.011709\n",
              "2021-07-16 -0.002833  -0.014924\n",
              "2021-07-19 -0.010031  -0.017917\n",
              "\n",
              "[740 rows x 2 columns]"
            ]
          },
          "metadata": {
            "tags": []
          },
          "execution_count": 102
        }
      ]
    },
    {
      "cell_type": "code",
      "metadata": {
        "colab": {
          "base_uri": "https://localhost:8080/",
          "height": 445
        },
        "id": "To-QreOl_8rB",
        "outputId": "36be886f-da12-4b9e-ac3a-f0a39327c2e7"
      },
      "source": [
        "# 1에서 시작해서, 전일대비 변동률(수익률)을 적용하여 수치화하기\n",
        "wealth = (1+result).cumprod()\n",
        "wealth"
      ],
      "execution_count": null,
      "outputs": [
        {
          "output_type": "execute_result",
          "data": {
            "text/html": [
              "<div>\n",
              "<style scoped>\n",
              "    .dataframe tbody tr th:only-of-type {\n",
              "        vertical-align: middle;\n",
              "    }\n",
              "\n",
              "    .dataframe tbody tr th {\n",
              "        vertical-align: top;\n",
              "    }\n",
              "\n",
              "    .dataframe thead th {\n",
              "        text-align: right;\n",
              "    }\n",
              "</style>\n",
              "<table border=\"1\" class=\"dataframe\">\n",
              "  <thead>\n",
              "    <tr style=\"text-align: right;\">\n",
              "      <th></th>\n",
              "      <th>KOSPI</th>\n",
              "      <th>PORTFOLIO</th>\n",
              "    </tr>\n",
              "    <tr>\n",
              "      <th>Date</th>\n",
              "      <th></th>\n",
              "      <th></th>\n",
              "    </tr>\n",
              "  </thead>\n",
              "  <tbody>\n",
              "    <tr>\n",
              "      <th>2018-07-19</th>\n",
              "      <td>1.000000</td>\n",
              "      <td>1.000000</td>\n",
              "    </tr>\n",
              "    <tr>\n",
              "      <th>2018-07-20</th>\n",
              "      <td>1.003023</td>\n",
              "      <td>1.009898</td>\n",
              "    </tr>\n",
              "    <tr>\n",
              "      <th>2018-07-23</th>\n",
              "      <td>0.994313</td>\n",
              "      <td>1.004950</td>\n",
              "    </tr>\n",
              "    <tr>\n",
              "      <th>2018-07-24</th>\n",
              "      <td>0.999084</td>\n",
              "      <td>1.010303</td>\n",
              "    </tr>\n",
              "    <tr>\n",
              "      <th>2018-07-25</th>\n",
              "      <td>0.995943</td>\n",
              "      <td>1.015764</td>\n",
              "    </tr>\n",
              "    <tr>\n",
              "      <th>...</th>\n",
              "      <td>...</td>\n",
              "      <td>...</td>\n",
              "    </tr>\n",
              "    <tr>\n",
              "      <th>2021-07-13</th>\n",
              "      <td>1.433376</td>\n",
              "      <td>5.017705</td>\n",
              "    </tr>\n",
              "    <tr>\n",
              "      <th>2021-07-14</th>\n",
              "      <td>1.430497</td>\n",
              "      <td>5.042451</td>\n",
              "    </tr>\n",
              "    <tr>\n",
              "      <th>2021-07-15</th>\n",
              "      <td>1.439878</td>\n",
              "      <td>4.983409</td>\n",
              "    </tr>\n",
              "    <tr>\n",
              "      <th>2021-07-16</th>\n",
              "      <td>1.435799</td>\n",
              "      <td>4.909037</td>\n",
              "    </tr>\n",
              "    <tr>\n",
              "      <th>2021-07-19</th>\n",
              "      <td>1.421397</td>\n",
              "      <td>4.821082</td>\n",
              "    </tr>\n",
              "  </tbody>\n",
              "</table>\n",
              "<p>740 rows × 2 columns</p>\n",
              "</div>"
            ],
            "text/plain": [
              "               KOSPI  PORTFOLIO\n",
              "Date                           \n",
              "2018-07-19  1.000000   1.000000\n",
              "2018-07-20  1.003023   1.009898\n",
              "2018-07-23  0.994313   1.004950\n",
              "2018-07-24  0.999084   1.010303\n",
              "2018-07-25  0.995943   1.015764\n",
              "...              ...        ...\n",
              "2021-07-13  1.433376   5.017705\n",
              "2021-07-14  1.430497   5.042451\n",
              "2021-07-15  1.439878   4.983409\n",
              "2021-07-16  1.435799   4.909037\n",
              "2021-07-19  1.421397   4.821082\n",
              "\n",
              "[740 rows x 2 columns]"
            ]
          },
          "metadata": {
            "tags": []
          },
          "execution_count": 103
        }
      ]
    },
    {
      "cell_type": "markdown",
      "metadata": {
        "id": "v2Umgqvi_8rB"
      },
      "source": [
        "## 시각화"
      ]
    },
    {
      "cell_type": "code",
      "metadata": {
        "colab": {
          "base_uri": "https://localhost:8080/",
          "height": 381
        },
        "id": "IDjGeyck_8rB",
        "outputId": "d14da176-7510-4fd1-8ae4-43471ae52e7a"
      },
      "source": [
        "# 포트폴리오와 KOSPI 지수의 '누적 수익률 추이'를 시각화하여 비교\n",
        "\n",
        "# matplotlib.pyplot 스타일시트 설정\n",
        "plt.style.use('fivethirtyeight')\n",
        "\n",
        "plt.figure(figsize=(18,5))\n",
        "plt.plot(wealth.index, wealth.KOSPI , 'r', label='KOSPI')\n",
        "plt.plot(wealth.index, wealth.PORTFOLIO ,'b', label=\"PORTFOLIO(Momentum 1month)\")\n",
        "plt.grid(True)\n",
        "plt.title('Return Trend')\n",
        "plt.xlabel('Date',fontsize=18, labelpad=7)\n",
        "plt.ylabel('Return',fontsize=18, labelpad=7)\n",
        "plt.legend(loc='best')\n",
        "plt.savefig(\"cust_eff_return.png\", dpi=100)\n",
        "plt.show()"
      ],
      "execution_count": null,
      "outputs": [
        {
          "output_type": "display_data",
          "data": {
            "image/png": "[encoded data removed]",
            "text/plain": [
              "<Figure size 1296x360 with 1 Axes>"
            ]
          },
          "metadata": {
            "tags": []
          }
        }
      ]
    },
    {
      "cell_type": "code",
      "metadata": {
        "colab": {
          "base_uri": "https://localhost:8080/",
          "height": 626
        },
        "id": "YhtIon8-_8rB",
        "outputId": "b3ba2b40-fcf7-4c6a-da41-869b7c0efa31"
      },
      "source": [
        "# 변동률 비교\n",
        "plt.figure(figsize=(18,10))\n",
        "\n",
        "plt.subplot(2,1,1)\n",
        "plt.title('Volatility Trend')\n",
        "\n",
        "plt.plot(result.index, result.KOSPI , 'r', label='KOSPI')\n",
        "plt.yticks([-0.15, -0.10, -0.05, 0.00, 0.05, 0.10, 0.15])\n",
        "plt.grid(True)\n",
        "plt.ylabel('Volatility',fontsize=18, labelpad=7)\n",
        "plt.legend(loc='best')\n",
        "\n",
        "plt.subplot(2,1,2)\n",
        "plt.title('Volatility Trend')\n",
        "plt.plot(result.index, result.PORTFOLIO ,'b', label=\"PORTFOLIO(Momentum 1month)\")\n",
        "plt.yticks([-0.15, -0.10, -0.05, 0.00, 0.05, 0.10, 0.15])\n",
        "plt.ylabel('Volatility',fontsize=18, labelpad=7)\n",
        "plt.legend(loc='best')\n",
        "\n",
        "plt.grid(True)\n",
        "plt.savefig(\"cust_eff_volatility.png\", dpi=100)\n",
        "plt.show()"
      ],
      "execution_count": null,
      "outputs": [
        {
          "output_type": "display_data",
          "data": {
            "image/png": "[encoded data removed]",
            "text/plain": [
              "<Figure size 1296x720 with 2 Axes>"
            ]
          },
          "metadata": {
            "tags": []
          }
        }
      ]
    },
    {
      "cell_type": "code",
      "metadata": {
        "colab": {
          "base_uri": "https://localhost:8080/"
        },
        "id": "8Zvrt2qqiGe7",
        "outputId": "076be6a3-6726-4481-e27e-8797c9208384"
      },
      "source": [
        "print('----- Customized portfolio performance -----')\n",
        "# Show Risk Limit\n",
        "print('Risk limit: ', vol_limit)\n",
        "\n",
        "# Show Funds\n",
        "print('Funds:', portfolio_val, 'KRW')\n",
        "\n",
        "# Show Funds Remaining\n",
        "print('Funds Remaining: ', leftover, ' KRW')\n",
        "\n",
        "# Show Portfolio performance\n",
        "ef.portfolio_performance(verbose=True)\n",
        "rmse = da._allocation_rmse_error(verbose=False)"
      ],
      "execution_count": null,
      "outputs": [
        {
          "output_type": "stream",
          "text": [
            "----- Customized portfolio performance -----\n",
            "Risk limit:  0.3\n",
            "Funds: 15000000 KRW\n",
            "Funds Remaining:  53000.0  KRW\n",
            "Expected annual return: 75.1%\n",
            "Annual volatility: 30.0%\n",
            "Sharpe Ratio: 2.44\n",
            "Allocation has RMSE: 0.001\n"
          ],
          "name": "stdout"
        }
      ]
    },
    {
      "cell_type": "markdown",
      "metadata": {
        "id": "hlr62H51_oXc"
      },
      "source": [
        "#### ver02> 결측값 삭제 ( 5개 종목 )"
      ]
    },
    {
      "cell_type": "code",
      "metadata": {
        "colab": {
          "base_uri": "https://localhost:8080/",
          "height": 445
        },
        "id": "HYSqH-GuFLp9",
        "outputId": "e8861e77-edab-4cea-9c28-7620247578cf"
      },
      "source": [
        "df2"
      ],
      "execution_count": null,
      "outputs": [
        {
          "output_type": "execute_result",
          "data": {
            "text/html": [
              "<div>\n",
              "<style scoped>\n",
              "    .dataframe tbody tr th:only-of-type {\n",
              "        vertical-align: middle;\n",
              "    }\n",
              "\n",
              "    .dataframe tbody tr th {\n",
              "        vertical-align: top;\n",
              "    }\n",
              "\n",
              "    .dataframe thead th {\n",
              "        text-align: right;\n",
              "    }\n",
              "</style>\n",
              "<table border=\"1\" class=\"dataframe\">\n",
              "  <thead>\n",
              "    <tr style=\"text-align: right;\">\n",
              "      <th></th>\n",
              "      <th>005930</th>\n",
              "      <th>000660</th>\n",
              "      <th>035720</th>\n",
              "      <th>035420</th>\n",
              "      <th>051910</th>\n",
              "    </tr>\n",
              "    <tr>\n",
              "      <th>Date</th>\n",
              "      <th></th>\n",
              "      <th></th>\n",
              "      <th></th>\n",
              "      <th></th>\n",
              "      <th></th>\n",
              "    </tr>\n",
              "  </thead>\n",
              "  <tbody>\n",
              "    <tr>\n",
              "      <th>2018-07-19</th>\n",
              "      <td>46900</td>\n",
              "      <td>90300</td>\n",
              "      <td>22881</td>\n",
              "      <td>153217</td>\n",
              "      <td>336000</td>\n",
              "    </tr>\n",
              "    <tr>\n",
              "      <th>2018-07-20</th>\n",
              "      <td>47450</td>\n",
              "      <td>87900</td>\n",
              "      <td>23082</td>\n",
              "      <td>154218</td>\n",
              "      <td>332500</td>\n",
              "    </tr>\n",
              "    <tr>\n",
              "      <th>2018-07-23</th>\n",
              "      <td>46500</td>\n",
              "      <td>81700</td>\n",
              "      <td>23182</td>\n",
              "      <td>155019</td>\n",
              "      <td>333000</td>\n",
              "    </tr>\n",
              "    <tr>\n",
              "      <th>2018-07-24</th>\n",
              "      <td>46150</td>\n",
              "      <td>83600</td>\n",
              "      <td>23483</td>\n",
              "      <td>149211</td>\n",
              "      <td>330500</td>\n",
              "    </tr>\n",
              "    <tr>\n",
              "      <th>2018-07-25</th>\n",
              "      <td>46150</td>\n",
              "      <td>80500</td>\n",
              "      <td>23684</td>\n",
              "      <td>149411</td>\n",
              "      <td>361500</td>\n",
              "    </tr>\n",
              "    <tr>\n",
              "      <th>...</th>\n",
              "      <td>...</td>\n",
              "      <td>...</td>\n",
              "      <td>...</td>\n",
              "      <td>...</td>\n",
              "      <td>...</td>\n",
              "    </tr>\n",
              "    <tr>\n",
              "      <th>2021-07-13</th>\n",
              "      <td>79800</td>\n",
              "      <td>123000</td>\n",
              "      <td>161000</td>\n",
              "      <td>441000</td>\n",
              "      <td>840000</td>\n",
              "    </tr>\n",
              "    <tr>\n",
              "      <th>2021-07-14</th>\n",
              "      <td>79500</td>\n",
              "      <td>123500</td>\n",
              "      <td>162000</td>\n",
              "      <td>444000</td>\n",
              "      <td>844000</td>\n",
              "    </tr>\n",
              "    <tr>\n",
              "      <th>2021-07-15</th>\n",
              "      <td>80600</td>\n",
              "      <td>123500</td>\n",
              "      <td>159500</td>\n",
              "      <td>449000</td>\n",
              "      <td>818000</td>\n",
              "    </tr>\n",
              "    <tr>\n",
              "      <th>2021-07-16</th>\n",
              "      <td>79800</td>\n",
              "      <td>121500</td>\n",
              "      <td>157000</td>\n",
              "      <td>447000</td>\n",
              "      <td>828000</td>\n",
              "    </tr>\n",
              "    <tr>\n",
              "      <th>2021-07-19</th>\n",
              "      <td>79000</td>\n",
              "      <td>119000</td>\n",
              "      <td>154000</td>\n",
              "      <td>443000</td>\n",
              "      <td>820000</td>\n",
              "    </tr>\n",
              "  </tbody>\n",
              "</table>\n",
              "<p>740 rows × 5 columns</p>\n",
              "</div>"
            ],
            "text/plain": [
              "            005930  000660  035720  035420  051910\n",
              "Date                                              \n",
              "2018-07-19   46900   90300   22881  153217  336000\n",
              "2018-07-20   47450   87900   23082  154218  332500\n",
              "2018-07-23   46500   81700   23182  155019  333000\n",
              "2018-07-24   46150   83600   23483  149211  330500\n",
              "2018-07-25   46150   80500   23684  149411  361500\n",
              "...            ...     ...     ...     ...     ...\n",
              "2021-07-13   79800  123000  161000  441000  840000\n",
              "2021-07-14   79500  123500  162000  444000  844000\n",
              "2021-07-15   80600  123500  159500  449000  818000\n",
              "2021-07-16   79800  121500  157000  447000  828000\n",
              "2021-07-19   79000  119000  154000  443000  820000\n",
              "\n",
              "[740 rows x 5 columns]"
            ]
          },
          "metadata": {
            "tags": []
          },
          "execution_count": 109
        }
      ]
    },
    {
      "cell_type": "code",
      "metadata": {
        "colab": {
          "base_uri": "https://localhost:8080/"
        },
        "id": "wLIorD_pFLtT",
        "outputId": "629c37ac-d24f-433f-e1b3-1c4e9dcc0ecf"
      },
      "source": [
        "cleaned_weights2"
      ],
      "execution_count": null,
      "outputs": [
        {
          "output_type": "execute_result",
          "data": {
            "text/plain": [
              "OrderedDict([('005930', 0.22898),\n",
              "             ('000660', 0.0),\n",
              "             ('035720', 0.77102),\n",
              "             ('035420', 0.0),\n",
              "             ('051910', 0.0)])"
            ]
          },
          "metadata": {
            "tags": []
          },
          "execution_count": 110
        }
      ]
    },
    {
      "cell_type": "code",
      "metadata": {
        "colab": {
          "base_uri": "https://localhost:8080/"
        },
        "id": "27ckBzc7FnfV",
        "outputId": "eb8f74f0-2146-41b3-a495-4c0c817dfea0"
      },
      "source": [
        "len(cleaned_weights2)"
      ],
      "execution_count": null,
      "outputs": [
        {
          "output_type": "execute_result",
          "data": {
            "text/plain": [
              "5"
            ]
          },
          "metadata": {
            "tags": []
          },
          "execution_count": 111
        }
      ]
    },
    {
      "cell_type": "code",
      "metadata": {
        "id": "D2KePJ3sFLzO"
      },
      "source": [
        "# 각 일자별, 종목별 종가에 해당 weights를 곱해주기\n",
        "for i, weight in cleaned_weights2.items():\n",
        "    df2[i] = df2[i]*weight"
      ],
      "execution_count": null,
      "outputs": []
    },
    {
      "cell_type": "code",
      "metadata": {
        "colab": {
          "base_uri": "https://localhost:8080/",
          "height": 445
        },
        "id": "3GpYLDqpFL2J",
        "outputId": "3d81d338-b2ca-46f5-8afd-323e553ec5b1"
      },
      "source": [
        "df2"
      ],
      "execution_count": null,
      "outputs": [
        {
          "output_type": "execute_result",
          "data": {
            "text/html": [
              "<div>\n",
              "<style scoped>\n",
              "    .dataframe tbody tr th:only-of-type {\n",
              "        vertical-align: middle;\n",
              "    }\n",
              "\n",
              "    .dataframe tbody tr th {\n",
              "        vertical-align: top;\n",
              "    }\n",
              "\n",
              "    .dataframe thead th {\n",
              "        text-align: right;\n",
              "    }\n",
              "</style>\n",
              "<table border=\"1\" class=\"dataframe\">\n",
              "  <thead>\n",
              "    <tr style=\"text-align: right;\">\n",
              "      <th></th>\n",
              "      <th>005930</th>\n",
              "      <th>000660</th>\n",
              "      <th>035720</th>\n",
              "      <th>035420</th>\n",
              "      <th>051910</th>\n",
              "    </tr>\n",
              "    <tr>\n",
              "      <th>Date</th>\n",
              "      <th></th>\n",
              "      <th></th>\n",
              "      <th></th>\n",
              "      <th></th>\n",
              "      <th></th>\n",
              "    </tr>\n",
              "  </thead>\n",
              "  <tbody>\n",
              "    <tr>\n",
              "      <th>2018-07-19</th>\n",
              "      <td>10739.162</td>\n",
              "      <td>0.0</td>\n",
              "      <td>17641.70862</td>\n",
              "      <td>0.0</td>\n",
              "      <td>0.0</td>\n",
              "    </tr>\n",
              "    <tr>\n",
              "      <th>2018-07-20</th>\n",
              "      <td>10865.101</td>\n",
              "      <td>0.0</td>\n",
              "      <td>17796.68364</td>\n",
              "      <td>0.0</td>\n",
              "      <td>0.0</td>\n",
              "    </tr>\n",
              "    <tr>\n",
              "      <th>2018-07-23</th>\n",
              "      <td>10647.570</td>\n",
              "      <td>0.0</td>\n",
              "      <td>17873.78564</td>\n",
              "      <td>0.0</td>\n",
              "      <td>0.0</td>\n",
              "    </tr>\n",
              "    <tr>\n",
              "      <th>2018-07-24</th>\n",
              "      <td>10567.427</td>\n",
              "      <td>0.0</td>\n",
              "      <td>18105.86266</td>\n",
              "      <td>0.0</td>\n",
              "      <td>0.0</td>\n",
              "    </tr>\n",
              "    <tr>\n",
              "      <th>2018-07-25</th>\n",
              "      <td>10567.427</td>\n",
              "      <td>0.0</td>\n",
              "      <td>18260.83768</td>\n",
              "      <td>0.0</td>\n",
              "      <td>0.0</td>\n",
              "    </tr>\n",
              "    <tr>\n",
              "      <th>...</th>\n",
              "      <td>...</td>\n",
              "      <td>...</td>\n",
              "      <td>...</td>\n",
              "      <td>...</td>\n",
              "      <td>...</td>\n",
              "    </tr>\n",
              "    <tr>\n",
              "      <th>2021-07-13</th>\n",
              "      <td>18272.604</td>\n",
              "      <td>0.0</td>\n",
              "      <td>124134.22000</td>\n",
              "      <td>0.0</td>\n",
              "      <td>0.0</td>\n",
              "    </tr>\n",
              "    <tr>\n",
              "      <th>2021-07-14</th>\n",
              "      <td>18203.910</td>\n",
              "      <td>0.0</td>\n",
              "      <td>124905.24000</td>\n",
              "      <td>0.0</td>\n",
              "      <td>0.0</td>\n",
              "    </tr>\n",
              "    <tr>\n",
              "      <th>2021-07-15</th>\n",
              "      <td>18455.788</td>\n",
              "      <td>0.0</td>\n",
              "      <td>122977.69000</td>\n",
              "      <td>0.0</td>\n",
              "      <td>0.0</td>\n",
              "    </tr>\n",
              "    <tr>\n",
              "      <th>2021-07-16</th>\n",
              "      <td>18272.604</td>\n",
              "      <td>0.0</td>\n",
              "      <td>121050.14000</td>\n",
              "      <td>0.0</td>\n",
              "      <td>0.0</td>\n",
              "    </tr>\n",
              "    <tr>\n",
              "      <th>2021-07-19</th>\n",
              "      <td>18089.420</td>\n",
              "      <td>0.0</td>\n",
              "      <td>118737.08000</td>\n",
              "      <td>0.0</td>\n",
              "      <td>0.0</td>\n",
              "    </tr>\n",
              "  </tbody>\n",
              "</table>\n",
              "<p>740 rows × 5 columns</p>\n",
              "</div>"
            ],
            "text/plain": [
              "               005930  000660        035720  035420  051910\n",
              "Date                                                       \n",
              "2018-07-19  10739.162     0.0   17641.70862     0.0     0.0\n",
              "2018-07-20  10865.101     0.0   17796.68364     0.0     0.0\n",
              "2018-07-23  10647.570     0.0   17873.78564     0.0     0.0\n",
              "2018-07-24  10567.427     0.0   18105.86266     0.0     0.0\n",
              "2018-07-25  10567.427     0.0   18260.83768     0.0     0.0\n",
              "...               ...     ...           ...     ...     ...\n",
              "2021-07-13  18272.604     0.0  124134.22000     0.0     0.0\n",
              "2021-07-14  18203.910     0.0  124905.24000     0.0     0.0\n",
              "2021-07-15  18455.788     0.0  122977.69000     0.0     0.0\n",
              "2021-07-16  18272.604     0.0  121050.14000     0.0     0.0\n",
              "2021-07-19  18089.420     0.0  118737.08000     0.0     0.0\n",
              "\n",
              "[740 rows x 5 columns]"
            ]
          },
          "metadata": {
            "tags": []
          },
          "execution_count": 113
        }
      ]
    },
    {
      "cell_type": "code",
      "metadata": {
        "colab": {
          "base_uri": "https://localhost:8080/",
          "height": 445
        },
        "id": "7dQd8Ki7FL5N",
        "outputId": "cfdff049-6a84-4eda-ae47-7d55ae84a376"
      },
      "source": [
        "# 일자별 종목의 (종가*비중) 합계를 Port열에 저장\n",
        "df2['Port'] = df2.sum(axis = 1)\n",
        "df2"
      ],
      "execution_count": null,
      "outputs": [
        {
          "output_type": "execute_result",
          "data": {
            "text/html": [
              "<div>\n",
              "<style scoped>\n",
              "    .dataframe tbody tr th:only-of-type {\n",
              "        vertical-align: middle;\n",
              "    }\n",
              "\n",
              "    .dataframe tbody tr th {\n",
              "        vertical-align: top;\n",
              "    }\n",
              "\n",
              "    .dataframe thead th {\n",
              "        text-align: right;\n",
              "    }\n",
              "</style>\n",
              "<table border=\"1\" class=\"dataframe\">\n",
              "  <thead>\n",
              "    <tr style=\"text-align: right;\">\n",
              "      <th></th>\n",
              "      <th>005930</th>\n",
              "      <th>000660</th>\n",
              "      <th>035720</th>\n",
              "      <th>035420</th>\n",
              "      <th>051910</th>\n",
              "      <th>Port</th>\n",
              "    </tr>\n",
              "    <tr>\n",
              "      <th>Date</th>\n",
              "      <th></th>\n",
              "      <th></th>\n",
              "      <th></th>\n",
              "      <th></th>\n",
              "      <th></th>\n",
              "      <th></th>\n",
              "    </tr>\n",
              "  </thead>\n",
              "  <tbody>\n",
              "    <tr>\n",
              "      <th>2018-07-19</th>\n",
              "      <td>10739.162</td>\n",
              "      <td>0.0</td>\n",
              "      <td>17641.70862</td>\n",
              "      <td>0.0</td>\n",
              "      <td>0.0</td>\n",
              "      <td>28380.87062</td>\n",
              "    </tr>\n",
              "    <tr>\n",
              "      <th>2018-07-20</th>\n",
              "      <td>10865.101</td>\n",
              "      <td>0.0</td>\n",
              "      <td>17796.68364</td>\n",
              "      <td>0.0</td>\n",
              "      <td>0.0</td>\n",
              "      <td>28661.78464</td>\n",
              "    </tr>\n",
              "    <tr>\n",
              "      <th>2018-07-23</th>\n",
              "      <td>10647.570</td>\n",
              "      <td>0.0</td>\n",
              "      <td>17873.78564</td>\n",
              "      <td>0.0</td>\n",
              "      <td>0.0</td>\n",
              "      <td>28521.35564</td>\n",
              "    </tr>\n",
              "    <tr>\n",
              "      <th>2018-07-24</th>\n",
              "      <td>10567.427</td>\n",
              "      <td>0.0</td>\n",
              "      <td>18105.86266</td>\n",
              "      <td>0.0</td>\n",
              "      <td>0.0</td>\n",
              "      <td>28673.28966</td>\n",
              "    </tr>\n",
              "    <tr>\n",
              "      <th>2018-07-25</th>\n",
              "      <td>10567.427</td>\n",
              "      <td>0.0</td>\n",
              "      <td>18260.83768</td>\n",
              "      <td>0.0</td>\n",
              "      <td>0.0</td>\n",
              "      <td>28828.26468</td>\n",
              "    </tr>\n",
              "    <tr>\n",
              "      <th>...</th>\n",
              "      <td>...</td>\n",
              "      <td>...</td>\n",
              "      <td>...</td>\n",
              "      <td>...</td>\n",
              "      <td>...</td>\n",
              "      <td>...</td>\n",
              "    </tr>\n",
              "    <tr>\n",
              "      <th>2021-07-13</th>\n",
              "      <td>18272.604</td>\n",
              "      <td>0.0</td>\n",
              "      <td>124134.22000</td>\n",
              "      <td>0.0</td>\n",
              "      <td>0.0</td>\n",
              "      <td>142406.82400</td>\n",
              "    </tr>\n",
              "    <tr>\n",
              "      <th>2021-07-14</th>\n",
              "      <td>18203.910</td>\n",
              "      <td>0.0</td>\n",
              "      <td>124905.24000</td>\n",
              "      <td>0.0</td>\n",
              "      <td>0.0</td>\n",
              "      <td>143109.15000</td>\n",
              "    </tr>\n",
              "    <tr>\n",
              "      <th>2021-07-15</th>\n",
              "      <td>18455.788</td>\n",
              "      <td>0.0</td>\n",
              "      <td>122977.69000</td>\n",
              "      <td>0.0</td>\n",
              "      <td>0.0</td>\n",
              "      <td>141433.47800</td>\n",
              "    </tr>\n",
              "    <tr>\n",
              "      <th>2021-07-16</th>\n",
              "      <td>18272.604</td>\n",
              "      <td>0.0</td>\n",
              "      <td>121050.14000</td>\n",
              "      <td>0.0</td>\n",
              "      <td>0.0</td>\n",
              "      <td>139322.74400</td>\n",
              "    </tr>\n",
              "    <tr>\n",
              "      <th>2021-07-19</th>\n",
              "      <td>18089.420</td>\n",
              "      <td>0.0</td>\n",
              "      <td>118737.08000</td>\n",
              "      <td>0.0</td>\n",
              "      <td>0.0</td>\n",
              "      <td>136826.50000</td>\n",
              "    </tr>\n",
              "  </tbody>\n",
              "</table>\n",
              "<p>740 rows × 6 columns</p>\n",
              "</div>"
            ],
            "text/plain": [
              "               005930  000660        035720  035420  051910          Port\n",
              "Date                                                                     \n",
              "2018-07-19  10739.162     0.0   17641.70862     0.0     0.0   28380.87062\n",
              "2018-07-20  10865.101     0.0   17796.68364     0.0     0.0   28661.78464\n",
              "2018-07-23  10647.570     0.0   17873.78564     0.0     0.0   28521.35564\n",
              "2018-07-24  10567.427     0.0   18105.86266     0.0     0.0   28673.28966\n",
              "2018-07-25  10567.427     0.0   18260.83768     0.0     0.0   28828.26468\n",
              "...               ...     ...           ...     ...     ...           ...\n",
              "2021-07-13  18272.604     0.0  124134.22000     0.0     0.0  142406.82400\n",
              "2021-07-14  18203.910     0.0  124905.24000     0.0     0.0  143109.15000\n",
              "2021-07-15  18455.788     0.0  122977.69000     0.0     0.0  141433.47800\n",
              "2021-07-16  18272.604     0.0  121050.14000     0.0     0.0  139322.74400\n",
              "2021-07-19  18089.420     0.0  118737.08000     0.0     0.0  136826.50000\n",
              "\n",
              "[740 rows x 6 columns]"
            ]
          },
          "metadata": {
            "tags": []
          },
          "execution_count": 114
        }
      ]
    },
    {
      "cell_type": "code",
      "metadata": {
        "colab": {
          "base_uri": "https://localhost:8080/",
          "height": 445
        },
        "id": "VuuFwLqQFL8a",
        "outputId": "1425905e-599b-486a-d01b-88d7e9f0dd97"
      },
      "source": [
        "# 일자별 종가의 전일대비 변동률(수익률)을 portfolio라는 데이터프레임으로 저장\n",
        "portfolio2 = df2[['Port']].pct_change()\n",
        "portfolio2"
      ],
      "execution_count": null,
      "outputs": [
        {
          "output_type": "execute_result",
          "data": {
            "text/html": [
              "<div>\n",
              "<style scoped>\n",
              "    .dataframe tbody tr th:only-of-type {\n",
              "        vertical-align: middle;\n",
              "    }\n",
              "\n",
              "    .dataframe tbody tr th {\n",
              "        vertical-align: top;\n",
              "    }\n",
              "\n",
              "    .dataframe thead th {\n",
              "        text-align: right;\n",
              "    }\n",
              "</style>\n",
              "<table border=\"1\" class=\"dataframe\">\n",
              "  <thead>\n",
              "    <tr style=\"text-align: right;\">\n",
              "      <th></th>\n",
              "      <th>Port</th>\n",
              "    </tr>\n",
              "    <tr>\n",
              "      <th>Date</th>\n",
              "      <th></th>\n",
              "    </tr>\n",
              "  </thead>\n",
              "  <tbody>\n",
              "    <tr>\n",
              "      <th>2018-07-19</th>\n",
              "      <td>NaN</td>\n",
              "    </tr>\n",
              "    <tr>\n",
              "      <th>2018-07-20</th>\n",
              "      <td>0.009898</td>\n",
              "    </tr>\n",
              "    <tr>\n",
              "      <th>2018-07-23</th>\n",
              "      <td>-0.004900</td>\n",
              "    </tr>\n",
              "    <tr>\n",
              "      <th>2018-07-24</th>\n",
              "      <td>0.005327</td>\n",
              "    </tr>\n",
              "    <tr>\n",
              "      <th>2018-07-25</th>\n",
              "      <td>0.005405</td>\n",
              "    </tr>\n",
              "    <tr>\n",
              "      <th>...</th>\n",
              "      <td>...</td>\n",
              "    </tr>\n",
              "    <tr>\n",
              "      <th>2021-07-13</th>\n",
              "      <td>-0.005226</td>\n",
              "    </tr>\n",
              "    <tr>\n",
              "      <th>2021-07-14</th>\n",
              "      <td>0.004932</td>\n",
              "    </tr>\n",
              "    <tr>\n",
              "      <th>2021-07-15</th>\n",
              "      <td>-0.011709</td>\n",
              "    </tr>\n",
              "    <tr>\n",
              "      <th>2021-07-16</th>\n",
              "      <td>-0.014924</td>\n",
              "    </tr>\n",
              "    <tr>\n",
              "      <th>2021-07-19</th>\n",
              "      <td>-0.017917</td>\n",
              "    </tr>\n",
              "  </tbody>\n",
              "</table>\n",
              "<p>740 rows × 1 columns</p>\n",
              "</div>"
            ],
            "text/plain": [
              "                Port\n",
              "Date                \n",
              "2018-07-19       NaN\n",
              "2018-07-20  0.009898\n",
              "2018-07-23 -0.004900\n",
              "2018-07-24  0.005327\n",
              "2018-07-25  0.005405\n",
              "...              ...\n",
              "2021-07-13 -0.005226\n",
              "2021-07-14  0.004932\n",
              "2021-07-15 -0.011709\n",
              "2021-07-16 -0.014924\n",
              "2021-07-19 -0.017917\n",
              "\n",
              "[740 rows x 1 columns]"
            ]
          },
          "metadata": {
            "tags": []
          },
          "execution_count": 115
        }
      ]
    },
    {
      "cell_type": "code",
      "metadata": {
        "colab": {
          "base_uri": "https://localhost:8080/",
          "height": 445
        },
        "id": "9u2m-t6DG3QH",
        "outputId": "5ae58bdf-92d4-45f2-b8cf-d21c5aa4febb"
      },
      "source": [
        "# 코스피지수 불러오기\n",
        "kospi = fdr.DataReader('KS11', start_date, end_date)[['Close']]\n",
        "kospi"
      ],
      "execution_count": null,
      "outputs": [
        {
          "output_type": "execute_result",
          "data": {
            "text/html": [
              "<div>\n",
              "<style scoped>\n",
              "    .dataframe tbody tr th:only-of-type {\n",
              "        vertical-align: middle;\n",
              "    }\n",
              "\n",
              "    .dataframe tbody tr th {\n",
              "        vertical-align: top;\n",
              "    }\n",
              "\n",
              "    .dataframe thead th {\n",
              "        text-align: right;\n",
              "    }\n",
              "</style>\n",
              "<table border=\"1\" class=\"dataframe\">\n",
              "  <thead>\n",
              "    <tr style=\"text-align: right;\">\n",
              "      <th></th>\n",
              "      <th>Close</th>\n",
              "    </tr>\n",
              "    <tr>\n",
              "      <th>Date</th>\n",
              "      <th></th>\n",
              "    </tr>\n",
              "  </thead>\n",
              "  <tbody>\n",
              "    <tr>\n",
              "      <th>2018-07-19</th>\n",
              "      <td>2282.29</td>\n",
              "    </tr>\n",
              "    <tr>\n",
              "      <th>2018-07-20</th>\n",
              "      <td>2289.19</td>\n",
              "    </tr>\n",
              "    <tr>\n",
              "      <th>2018-07-23</th>\n",
              "      <td>2269.31</td>\n",
              "    </tr>\n",
              "    <tr>\n",
              "      <th>2018-07-24</th>\n",
              "      <td>2280.20</td>\n",
              "    </tr>\n",
              "    <tr>\n",
              "      <th>2018-07-25</th>\n",
              "      <td>2273.03</td>\n",
              "    </tr>\n",
              "    <tr>\n",
              "      <th>...</th>\n",
              "      <td>...</td>\n",
              "    </tr>\n",
              "    <tr>\n",
              "      <th>2021-07-13</th>\n",
              "      <td>3271.38</td>\n",
              "    </tr>\n",
              "    <tr>\n",
              "      <th>2021-07-14</th>\n",
              "      <td>3264.81</td>\n",
              "    </tr>\n",
              "    <tr>\n",
              "      <th>2021-07-15</th>\n",
              "      <td>3286.22</td>\n",
              "    </tr>\n",
              "    <tr>\n",
              "      <th>2021-07-16</th>\n",
              "      <td>3276.91</td>\n",
              "    </tr>\n",
              "    <tr>\n",
              "      <th>2021-07-19</th>\n",
              "      <td>3244.04</td>\n",
              "    </tr>\n",
              "  </tbody>\n",
              "</table>\n",
              "<p>740 rows × 1 columns</p>\n",
              "</div>"
            ],
            "text/plain": [
              "              Close\n",
              "Date               \n",
              "2018-07-19  2282.29\n",
              "2018-07-20  2289.19\n",
              "2018-07-23  2269.31\n",
              "2018-07-24  2280.20\n",
              "2018-07-25  2273.03\n",
              "...             ...\n",
              "2021-07-13  3271.38\n",
              "2021-07-14  3264.81\n",
              "2021-07-15  3286.22\n",
              "2021-07-16  3276.91\n",
              "2021-07-19  3244.04\n",
              "\n",
              "[740 rows x 1 columns]"
            ]
          },
          "metadata": {
            "tags": []
          },
          "execution_count": 116
        }
      ]
    },
    {
      "cell_type": "code",
      "metadata": {
        "colab": {
          "base_uri": "https://localhost:8080/",
          "height": 445
        },
        "id": "aQJF3dyNJeVu",
        "outputId": "a69d3196-5783-48a7-c8a5-5debc27e425d"
      },
      "source": [
        "# 코스피지수의 변동률(수익률) 구하기\n",
        "# 변동률(수익률) = (당일가격-전일가격) / 전일가격\n",
        "# 7/20의 변동률(수익률) = (7/20 가격-7-19 가격) / 7/19 가격\n",
        "kospi_pct = kospi.pct_change()\n",
        "kospi_pct"
      ],
      "execution_count": null,
      "outputs": [
        {
          "output_type": "execute_result",
          "data": {
            "text/html": [
              "<div>\n",
              "<style scoped>\n",
              "    .dataframe tbody tr th:only-of-type {\n",
              "        vertical-align: middle;\n",
              "    }\n",
              "\n",
              "    .dataframe tbody tr th {\n",
              "        vertical-align: top;\n",
              "    }\n",
              "\n",
              "    .dataframe thead th {\n",
              "        text-align: right;\n",
              "    }\n",
              "</style>\n",
              "<table border=\"1\" class=\"dataframe\">\n",
              "  <thead>\n",
              "    <tr style=\"text-align: right;\">\n",
              "      <th></th>\n",
              "      <th>Close</th>\n",
              "    </tr>\n",
              "    <tr>\n",
              "      <th>Date</th>\n",
              "      <th></th>\n",
              "    </tr>\n",
              "  </thead>\n",
              "  <tbody>\n",
              "    <tr>\n",
              "      <th>2018-07-19</th>\n",
              "      <td>NaN</td>\n",
              "    </tr>\n",
              "    <tr>\n",
              "      <th>2018-07-20</th>\n",
              "      <td>0.003023</td>\n",
              "    </tr>\n",
              "    <tr>\n",
              "      <th>2018-07-23</th>\n",
              "      <td>-0.008684</td>\n",
              "    </tr>\n",
              "    <tr>\n",
              "      <th>2018-07-24</th>\n",
              "      <td>0.004799</td>\n",
              "    </tr>\n",
              "    <tr>\n",
              "      <th>2018-07-25</th>\n",
              "      <td>-0.003144</td>\n",
              "    </tr>\n",
              "    <tr>\n",
              "      <th>...</th>\n",
              "      <td>...</td>\n",
              "    </tr>\n",
              "    <tr>\n",
              "      <th>2021-07-13</th>\n",
              "      <td>0.007673</td>\n",
              "    </tr>\n",
              "    <tr>\n",
              "      <th>2021-07-14</th>\n",
              "      <td>-0.002008</td>\n",
              "    </tr>\n",
              "    <tr>\n",
              "      <th>2021-07-15</th>\n",
              "      <td>0.006558</td>\n",
              "    </tr>\n",
              "    <tr>\n",
              "      <th>2021-07-16</th>\n",
              "      <td>-0.002833</td>\n",
              "    </tr>\n",
              "    <tr>\n",
              "      <th>2021-07-19</th>\n",
              "      <td>-0.010031</td>\n",
              "    </tr>\n",
              "  </tbody>\n",
              "</table>\n",
              "<p>740 rows × 1 columns</p>\n",
              "</div>"
            ],
            "text/plain": [
              "               Close\n",
              "Date                \n",
              "2018-07-19       NaN\n",
              "2018-07-20  0.003023\n",
              "2018-07-23 -0.008684\n",
              "2018-07-24  0.004799\n",
              "2018-07-25 -0.003144\n",
              "...              ...\n",
              "2021-07-13  0.007673\n",
              "2021-07-14 -0.002008\n",
              "2021-07-15  0.006558\n",
              "2021-07-16 -0.002833\n",
              "2021-07-19 -0.010031\n",
              "\n",
              "[740 rows x 1 columns]"
            ]
          },
          "metadata": {
            "tags": []
          },
          "execution_count": 117
        }
      ]
    },
    {
      "cell_type": "code",
      "metadata": {
        "colab": {
          "base_uri": "https://localhost:8080/",
          "height": 445
        },
        "id": "7msugoDEHlMA",
        "outputId": "42a48c84-810a-4bf0-8b62-8898d9939c94"
      },
      "source": [
        "# 코스피와 포트폴리오 합치기\n",
        "result2 = kospi_pct.join(portfolio2)\n",
        "result2"
      ],
      "execution_count": null,
      "outputs": [
        {
          "output_type": "execute_result",
          "data": {
            "text/html": [
              "<div>\n",
              "<style scoped>\n",
              "    .dataframe tbody tr th:only-of-type {\n",
              "        vertical-align: middle;\n",
              "    }\n",
              "\n",
              "    .dataframe tbody tr th {\n",
              "        vertical-align: top;\n",
              "    }\n",
              "\n",
              "    .dataframe thead th {\n",
              "        text-align: right;\n",
              "    }\n",
              "</style>\n",
              "<table border=\"1\" class=\"dataframe\">\n",
              "  <thead>\n",
              "    <tr style=\"text-align: right;\">\n",
              "      <th></th>\n",
              "      <th>Close</th>\n",
              "      <th>Port</th>\n",
              "    </tr>\n",
              "    <tr>\n",
              "      <th>Date</th>\n",
              "      <th></th>\n",
              "      <th></th>\n",
              "    </tr>\n",
              "  </thead>\n",
              "  <tbody>\n",
              "    <tr>\n",
              "      <th>2018-07-19</th>\n",
              "      <td>NaN</td>\n",
              "      <td>NaN</td>\n",
              "    </tr>\n",
              "    <tr>\n",
              "      <th>2018-07-20</th>\n",
              "      <td>0.003023</td>\n",
              "      <td>0.009898</td>\n",
              "    </tr>\n",
              "    <tr>\n",
              "      <th>2018-07-23</th>\n",
              "      <td>-0.008684</td>\n",
              "      <td>-0.004900</td>\n",
              "    </tr>\n",
              "    <tr>\n",
              "      <th>2018-07-24</th>\n",
              "      <td>0.004799</td>\n",
              "      <td>0.005327</td>\n",
              "    </tr>\n",
              "    <tr>\n",
              "      <th>2018-07-25</th>\n",
              "      <td>-0.003144</td>\n",
              "      <td>0.005405</td>\n",
              "    </tr>\n",
              "    <tr>\n",
              "      <th>...</th>\n",
              "      <td>...</td>\n",
              "      <td>...</td>\n",
              "    </tr>\n",
              "    <tr>\n",
              "      <th>2021-07-13</th>\n",
              "      <td>0.007673</td>\n",
              "      <td>-0.005226</td>\n",
              "    </tr>\n",
              "    <tr>\n",
              "      <th>2021-07-14</th>\n",
              "      <td>-0.002008</td>\n",
              "      <td>0.004932</td>\n",
              "    </tr>\n",
              "    <tr>\n",
              "      <th>2021-07-15</th>\n",
              "      <td>0.006558</td>\n",
              "      <td>-0.011709</td>\n",
              "    </tr>\n",
              "    <tr>\n",
              "      <th>2021-07-16</th>\n",
              "      <td>-0.002833</td>\n",
              "      <td>-0.014924</td>\n",
              "    </tr>\n",
              "    <tr>\n",
              "      <th>2021-07-19</th>\n",
              "      <td>-0.010031</td>\n",
              "      <td>-0.017917</td>\n",
              "    </tr>\n",
              "  </tbody>\n",
              "</table>\n",
              "<p>740 rows × 2 columns</p>\n",
              "</div>"
            ],
            "text/plain": [
              "               Close      Port\n",
              "Date                          \n",
              "2018-07-19       NaN       NaN\n",
              "2018-07-20  0.003023  0.009898\n",
              "2018-07-23 -0.008684 -0.004900\n",
              "2018-07-24  0.004799  0.005327\n",
              "2018-07-25 -0.003144  0.005405\n",
              "...              ...       ...\n",
              "2021-07-13  0.007673 -0.005226\n",
              "2021-07-14 -0.002008  0.004932\n",
              "2021-07-15  0.006558 -0.011709\n",
              "2021-07-16 -0.002833 -0.014924\n",
              "2021-07-19 -0.010031 -0.017917\n",
              "\n",
              "[740 rows x 2 columns]"
            ]
          },
          "metadata": {
            "tags": []
          },
          "execution_count": 118
        }
      ]
    },
    {
      "cell_type": "code",
      "metadata": {
        "colab": {
          "base_uri": "https://localhost:8080/",
          "height": 445
        },
        "id": "hN2u2YyYHlQR",
        "outputId": "55c5c231-2a8f-4a38-b137-f9a5292fda65"
      },
      "source": [
        "# 1열을 0으로 \n",
        "result2.iloc[0] = 0\n",
        "result2"
      ],
      "execution_count": null,
      "outputs": [
        {
          "output_type": "execute_result",
          "data": {
            "text/html": [
              "<div>\n",
              "<style scoped>\n",
              "    .dataframe tbody tr th:only-of-type {\n",
              "        vertical-align: middle;\n",
              "    }\n",
              "\n",
              "    .dataframe tbody tr th {\n",
              "        vertical-align: top;\n",
              "    }\n",
              "\n",
              "    .dataframe thead th {\n",
              "        text-align: right;\n",
              "    }\n",
              "</style>\n",
              "<table border=\"1\" class=\"dataframe\">\n",
              "  <thead>\n",
              "    <tr style=\"text-align: right;\">\n",
              "      <th></th>\n",
              "      <th>Close</th>\n",
              "      <th>Port</th>\n",
              "    </tr>\n",
              "    <tr>\n",
              "      <th>Date</th>\n",
              "      <th></th>\n",
              "      <th></th>\n",
              "    </tr>\n",
              "  </thead>\n",
              "  <tbody>\n",
              "    <tr>\n",
              "      <th>2018-07-19</th>\n",
              "      <td>0.000000</td>\n",
              "      <td>0.000000</td>\n",
              "    </tr>\n",
              "    <tr>\n",
              "      <th>2018-07-20</th>\n",
              "      <td>0.003023</td>\n",
              "      <td>0.009898</td>\n",
              "    </tr>\n",
              "    <tr>\n",
              "      <th>2018-07-23</th>\n",
              "      <td>-0.008684</td>\n",
              "      <td>-0.004900</td>\n",
              "    </tr>\n",
              "    <tr>\n",
              "      <th>2018-07-24</th>\n",
              "      <td>0.004799</td>\n",
              "      <td>0.005327</td>\n",
              "    </tr>\n",
              "    <tr>\n",
              "      <th>2018-07-25</th>\n",
              "      <td>-0.003144</td>\n",
              "      <td>0.005405</td>\n",
              "    </tr>\n",
              "    <tr>\n",
              "      <th>...</th>\n",
              "      <td>...</td>\n",
              "      <td>...</td>\n",
              "    </tr>\n",
              "    <tr>\n",
              "      <th>2021-07-13</th>\n",
              "      <td>0.007673</td>\n",
              "      <td>-0.005226</td>\n",
              "    </tr>\n",
              "    <tr>\n",
              "      <th>2021-07-14</th>\n",
              "      <td>-0.002008</td>\n",
              "      <td>0.004932</td>\n",
              "    </tr>\n",
              "    <tr>\n",
              "      <th>2021-07-15</th>\n",
              "      <td>0.006558</td>\n",
              "      <td>-0.011709</td>\n",
              "    </tr>\n",
              "    <tr>\n",
              "      <th>2021-07-16</th>\n",
              "      <td>-0.002833</td>\n",
              "      <td>-0.014924</td>\n",
              "    </tr>\n",
              "    <tr>\n",
              "      <th>2021-07-19</th>\n",
              "      <td>-0.010031</td>\n",
              "      <td>-0.017917</td>\n",
              "    </tr>\n",
              "  </tbody>\n",
              "</table>\n",
              "<p>740 rows × 2 columns</p>\n",
              "</div>"
            ],
            "text/plain": [
              "               Close      Port\n",
              "Date                          \n",
              "2018-07-19  0.000000  0.000000\n",
              "2018-07-20  0.003023  0.009898\n",
              "2018-07-23 -0.008684 -0.004900\n",
              "2018-07-24  0.004799  0.005327\n",
              "2018-07-25 -0.003144  0.005405\n",
              "...              ...       ...\n",
              "2021-07-13  0.007673 -0.005226\n",
              "2021-07-14 -0.002008  0.004932\n",
              "2021-07-15  0.006558 -0.011709\n",
              "2021-07-16 -0.002833 -0.014924\n",
              "2021-07-19 -0.010031 -0.017917\n",
              "\n",
              "[740 rows x 2 columns]"
            ]
          },
          "metadata": {
            "tags": []
          },
          "execution_count": 119
        }
      ]
    },
    {
      "cell_type": "code",
      "metadata": {
        "colab": {
          "base_uri": "https://localhost:8080/",
          "height": 445
        },
        "id": "33lLH-g2HlUc",
        "outputId": "65f0bbcc-df97-4071-c846-18a6638253ac"
      },
      "source": [
        "# 열 이름 변경\n",
        "result2.columns = ['KOSPI', 'PORTFOLIO']\n",
        "result2"
      ],
      "execution_count": null,
      "outputs": [
        {
          "output_type": "execute_result",
          "data": {
            "text/html": [
              "<div>\n",
              "<style scoped>\n",
              "    .dataframe tbody tr th:only-of-type {\n",
              "        vertical-align: middle;\n",
              "    }\n",
              "\n",
              "    .dataframe tbody tr th {\n",
              "        vertical-align: top;\n",
              "    }\n",
              "\n",
              "    .dataframe thead th {\n",
              "        text-align: right;\n",
              "    }\n",
              "</style>\n",
              "<table border=\"1\" class=\"dataframe\">\n",
              "  <thead>\n",
              "    <tr style=\"text-align: right;\">\n",
              "      <th></th>\n",
              "      <th>KOSPI</th>\n",
              "      <th>PORTFOLIO</th>\n",
              "    </tr>\n",
              "    <tr>\n",
              "      <th>Date</th>\n",
              "      <th></th>\n",
              "      <th></th>\n",
              "    </tr>\n",
              "  </thead>\n",
              "  <tbody>\n",
              "    <tr>\n",
              "      <th>2018-07-19</th>\n",
              "      <td>0.000000</td>\n",
              "      <td>0.000000</td>\n",
              "    </tr>\n",
              "    <tr>\n",
              "      <th>2018-07-20</th>\n",
              "      <td>0.003023</td>\n",
              "      <td>0.009898</td>\n",
              "    </tr>\n",
              "    <tr>\n",
              "      <th>2018-07-23</th>\n",
              "      <td>-0.008684</td>\n",
              "      <td>-0.004900</td>\n",
              "    </tr>\n",
              "    <tr>\n",
              "      <th>2018-07-24</th>\n",
              "      <td>0.004799</td>\n",
              "      <td>0.005327</td>\n",
              "    </tr>\n",
              "    <tr>\n",
              "      <th>2018-07-25</th>\n",
              "      <td>-0.003144</td>\n",
              "      <td>0.005405</td>\n",
              "    </tr>\n",
              "    <tr>\n",
              "      <th>...</th>\n",
              "      <td>...</td>\n",
              "      <td>...</td>\n",
              "    </tr>\n",
              "    <tr>\n",
              "      <th>2021-07-13</th>\n",
              "      <td>0.007673</td>\n",
              "      <td>-0.005226</td>\n",
              "    </tr>\n",
              "    <tr>\n",
              "      <th>2021-07-14</th>\n",
              "      <td>-0.002008</td>\n",
              "      <td>0.004932</td>\n",
              "    </tr>\n",
              "    <tr>\n",
              "      <th>2021-07-15</th>\n",
              "      <td>0.006558</td>\n",
              "      <td>-0.011709</td>\n",
              "    </tr>\n",
              "    <tr>\n",
              "      <th>2021-07-16</th>\n",
              "      <td>-0.002833</td>\n",
              "      <td>-0.014924</td>\n",
              "    </tr>\n",
              "    <tr>\n",
              "      <th>2021-07-19</th>\n",
              "      <td>-0.010031</td>\n",
              "      <td>-0.017917</td>\n",
              "    </tr>\n",
              "  </tbody>\n",
              "</table>\n",
              "<p>740 rows × 2 columns</p>\n",
              "</div>"
            ],
            "text/plain": [
              "               KOSPI  PORTFOLIO\n",
              "Date                           \n",
              "2018-07-19  0.000000   0.000000\n",
              "2018-07-20  0.003023   0.009898\n",
              "2018-07-23 -0.008684  -0.004900\n",
              "2018-07-24  0.004799   0.005327\n",
              "2018-07-25 -0.003144   0.005405\n",
              "...              ...        ...\n",
              "2021-07-13  0.007673  -0.005226\n",
              "2021-07-14 -0.002008   0.004932\n",
              "2021-07-15  0.006558  -0.011709\n",
              "2021-07-16 -0.002833  -0.014924\n",
              "2021-07-19 -0.010031  -0.017917\n",
              "\n",
              "[740 rows x 2 columns]"
            ]
          },
          "metadata": {
            "tags": []
          },
          "execution_count": 120
        }
      ]
    },
    {
      "cell_type": "code",
      "metadata": {
        "colab": {
          "base_uri": "https://localhost:8080/",
          "height": 445
        },
        "id": "-yYamHqVHlYN",
        "outputId": "3de809f6-0054-4053-9e15-f3f0bc4cebcc"
      },
      "source": [
        "# 1에서 시작해서, 전일대비 변동률(수익률)을 적용하여 수치화하기\n",
        "wealth2 = (1+result2).cumprod()\n",
        "wealth2"
      ],
      "execution_count": null,
      "outputs": [
        {
          "output_type": "execute_result",
          "data": {
            "text/html": [
              "<div>\n",
              "<style scoped>\n",
              "    .dataframe tbody tr th:only-of-type {\n",
              "        vertical-align: middle;\n",
              "    }\n",
              "\n",
              "    .dataframe tbody tr th {\n",
              "        vertical-align: top;\n",
              "    }\n",
              "\n",
              "    .dataframe thead th {\n",
              "        text-align: right;\n",
              "    }\n",
              "</style>\n",
              "<table border=\"1\" class=\"dataframe\">\n",
              "  <thead>\n",
              "    <tr style=\"text-align: right;\">\n",
              "      <th></th>\n",
              "      <th>KOSPI</th>\n",
              "      <th>PORTFOLIO</th>\n",
              "    </tr>\n",
              "    <tr>\n",
              "      <th>Date</th>\n",
              "      <th></th>\n",
              "      <th></th>\n",
              "    </tr>\n",
              "  </thead>\n",
              "  <tbody>\n",
              "    <tr>\n",
              "      <th>2018-07-19</th>\n",
              "      <td>1.000000</td>\n",
              "      <td>1.000000</td>\n",
              "    </tr>\n",
              "    <tr>\n",
              "      <th>2018-07-20</th>\n",
              "      <td>1.003023</td>\n",
              "      <td>1.009898</td>\n",
              "    </tr>\n",
              "    <tr>\n",
              "      <th>2018-07-23</th>\n",
              "      <td>0.994313</td>\n",
              "      <td>1.004950</td>\n",
              "    </tr>\n",
              "    <tr>\n",
              "      <th>2018-07-24</th>\n",
              "      <td>0.999084</td>\n",
              "      <td>1.010303</td>\n",
              "    </tr>\n",
              "    <tr>\n",
              "      <th>2018-07-25</th>\n",
              "      <td>0.995943</td>\n",
              "      <td>1.015764</td>\n",
              "    </tr>\n",
              "    <tr>\n",
              "      <th>...</th>\n",
              "      <td>...</td>\n",
              "      <td>...</td>\n",
              "    </tr>\n",
              "    <tr>\n",
              "      <th>2021-07-13</th>\n",
              "      <td>1.433376</td>\n",
              "      <td>5.017705</td>\n",
              "    </tr>\n",
              "    <tr>\n",
              "      <th>2021-07-14</th>\n",
              "      <td>1.430497</td>\n",
              "      <td>5.042451</td>\n",
              "    </tr>\n",
              "    <tr>\n",
              "      <th>2021-07-15</th>\n",
              "      <td>1.439878</td>\n",
              "      <td>4.983409</td>\n",
              "    </tr>\n",
              "    <tr>\n",
              "      <th>2021-07-16</th>\n",
              "      <td>1.435799</td>\n",
              "      <td>4.909037</td>\n",
              "    </tr>\n",
              "    <tr>\n",
              "      <th>2021-07-19</th>\n",
              "      <td>1.421397</td>\n",
              "      <td>4.821082</td>\n",
              "    </tr>\n",
              "  </tbody>\n",
              "</table>\n",
              "<p>740 rows × 2 columns</p>\n",
              "</div>"
            ],
            "text/plain": [
              "               KOSPI  PORTFOLIO\n",
              "Date                           \n",
              "2018-07-19  1.000000   1.000000\n",
              "2018-07-20  1.003023   1.009898\n",
              "2018-07-23  0.994313   1.004950\n",
              "2018-07-24  0.999084   1.010303\n",
              "2018-07-25  0.995943   1.015764\n",
              "...              ...        ...\n",
              "2021-07-13  1.433376   5.017705\n",
              "2021-07-14  1.430497   5.042451\n",
              "2021-07-15  1.439878   4.983409\n",
              "2021-07-16  1.435799   4.909037\n",
              "2021-07-19  1.421397   4.821082\n",
              "\n",
              "[740 rows x 2 columns]"
            ]
          },
          "metadata": {
            "tags": []
          },
          "execution_count": 121
        }
      ]
    },
    {
      "cell_type": "markdown",
      "metadata": {
        "id": "UPCOj06u5nuQ"
      },
      "source": [
        "## 시각화"
      ]
    },
    {
      "cell_type": "code",
      "metadata": {
        "colab": {
          "base_uri": "https://localhost:8080/",
          "height": 381
        },
        "id": "CNCQLOf7G3Lg",
        "outputId": "b3c2c325-56d6-47ce-cec9-a461369782ca"
      },
      "source": [
        "# 포트폴리오와 KOSPI 지수의 '누적 수익률 추이'를 시각화하여 비교\n",
        "\n",
        "# matplotlib.pyplot 스타일시트 설정\n",
        "plt.style.use('fivethirtyeight')\n",
        "\n",
        "plt.figure(figsize=(18,5))\n",
        "plt.plot(wealth2.index, wealth2.KOSPI , 'r', label='KOSPI')\n",
        "plt.plot(wealth2.index, wealth2.PORTFOLIO ,'b', label=\"PORTFOLIO(Customized)\")\n",
        "plt.grid(True)\n",
        "plt.title('Return Trend')\n",
        "plt.xlabel('Date',fontsize=18, labelpad=7)\n",
        "plt.ylabel('Return',fontsize=18, labelpad=7)\n",
        "plt.legend(loc='best')\n",
        "plt.savefig(\"cust_eff_return2.png\", dpi=100)\n",
        "plt.show()"
      ],
      "execution_count": null,
      "outputs": [
        {
          "output_type": "display_data",
          "data": {
            "image/png": "[encoded data removed]",
            "text/plain": [
              "<Figure size 1296x360 with 1 Axes>"
            ]
          },
          "metadata": {
            "tags": []
          }
        }
      ]
    },
    {
      "cell_type": "code",
      "metadata": {
        "colab": {
          "base_uri": "https://localhost:8080/",
          "height": 626
        },
        "id": "gSus6-iOITGN",
        "outputId": "5b28c790-f3b0-4332-ebbb-8b0c94fd275d"
      },
      "source": [
        "# 변동률 비교\n",
        "plt.figure(figsize=(18,10))\n",
        "\n",
        "plt.subplot(2,1,1)\n",
        "plt.title('Volatility Trend')\n",
        "\n",
        "plt.plot(result2.index, result2.KOSPI , 'r', label='KOSPI')\n",
        "plt.yticks([-0.15, -0.10, -0.05, 0.00, 0.05, 0.10, 0.15])\n",
        "plt.grid(True)\n",
        "plt.ylabel('Volatility',fontsize=18, labelpad=7)\n",
        "plt.legend(loc='best')\n",
        "\n",
        "plt.subplot(2,1,2)\n",
        "plt.title('Volatility Trend')\n",
        "plt.plot(result2.index, result2.PORTFOLIO ,'b', label=\"PORTFOLIO(Customized)\")\n",
        "plt.yticks([-0.15, -0.10, -0.05, 0.00, 0.05, 0.10, 0.15])\n",
        "plt.ylabel('Volatility',fontsize=18, labelpad=7)\n",
        "plt.legend(loc='best')\n",
        "\n",
        "plt.grid(True)\n",
        "plt.savefig(\"cust_eff_volatility2.png\", dpi=100)\n",
        "plt.show()"
      ],
      "execution_count": null,
      "outputs": [
        {
          "output_type": "display_data",
          "data": {
            "image/png": "[encoded data removed]",
            "text/plain": [
              "<Figure size 1296x720 with 2 Axes>"
            ]
          },
          "metadata": {
            "tags": []
          }
        }
      ]
    },
    {
      "cell_type": "code",
      "metadata": {
        "colab": {
          "base_uri": "https://localhost:8080/",
          "height": 141
        },
        "id": "HtKNhlep3pod",
        "outputId": "4e63df97-0aad-4be6-9dc2-59cbe08b5d2b"
      },
      "source": [
        "portfolio_df_sorted2"
      ],
      "execution_count": null,
      "outputs": [
        {
          "output_type": "execute_result",
          "data": {
            "text/html": [
              "<div>\n",
              "<style scoped>\n",
              "    .dataframe tbody tr th:only-of-type {\n",
              "        vertical-align: middle;\n",
              "    }\n",
              "\n",
              "    .dataframe tbody tr th {\n",
              "        vertical-align: top;\n",
              "    }\n",
              "\n",
              "    .dataframe thead th {\n",
              "        text-align: right;\n",
              "    }\n",
              "</style>\n",
              "<table border=\"1\" class=\"dataframe\">\n",
              "  <thead>\n",
              "    <tr style=\"text-align: right;\">\n",
              "      <th></th>\n",
              "      <th>종목명</th>\n",
              "      <th>종목코드</th>\n",
              "      <th>수량(주)</th>\n",
              "      <th>투자금액(원)</th>\n",
              "      <th>투자비중</th>\n",
              "    </tr>\n",
              "  </thead>\n",
              "  <tbody>\n",
              "    <tr>\n",
              "      <th>0</th>\n",
              "      <td>카카오</td>\n",
              "      <td>035720</td>\n",
              "      <td>75.0</td>\n",
              "      <td>11550000.0</td>\n",
              "      <td>0.77273</td>\n",
              "    </tr>\n",
              "    <tr>\n",
              "      <th>1</th>\n",
              "      <td>삼성전자</td>\n",
              "      <td>005930</td>\n",
              "      <td>43.0</td>\n",
              "      <td>3397000.0</td>\n",
              "      <td>0.22727</td>\n",
              "    </tr>\n",
              "    <tr>\n",
              "      <th>합계</th>\n",
              "      <td>NaN</td>\n",
              "      <td>NaN</td>\n",
              "      <td>118.0</td>\n",
              "      <td>14947000.0</td>\n",
              "      <td>1.00000</td>\n",
              "    </tr>\n",
              "  </tbody>\n",
              "</table>\n",
              "</div>"
            ],
            "text/plain": [
              "     종목명    종목코드  수량(주)     투자금액(원)     투자비중\n",
              "0    카카오  035720   75.0  11550000.0  0.77273\n",
              "1   삼성전자  005930   43.0   3397000.0  0.22727\n",
              "합계   NaN     NaN  118.0  14947000.0  1.00000"
            ]
          },
          "metadata": {
            "tags": []
          },
          "execution_count": 138
        }
      ]
    },
    {
      "cell_type": "code",
      "metadata": {
        "id": "f8BULde1Hx3p",
        "colab": {
          "base_uri": "https://localhost:8080/"
        },
        "outputId": "642494c7-92a1-413a-b48b-915e7b73d4ff"
      },
      "source": [
        "print('-----  Customized portfolio performance -----')\n",
        "# Show Risk Limit\n",
        "print('Risk limit: ', vol_limit2)\n",
        "\n",
        "# Show Funds\n",
        "print('Funds:', portfolio_val, 'KRW')\n",
        "\n",
        "# Show Funds Remaining\n",
        "print('Funds Remaining: ', leftover2, ' KRW')\n",
        "\n",
        "# Show Portfolio performance\n",
        "ef2.portfolio_performance(verbose=True)\n",
        "rmse2 = da2._allocation_rmse_error(verbose=False)"
      ],
      "execution_count": null,
      "outputs": [
        {
          "output_type": "stream",
          "text": [
            "-----  Customized portfolio performance -----\n",
            "Risk limit:  0.3\n",
            "Funds: 15000000 KRW\n",
            "Funds Remaining:  53000.0  KRW\n",
            "Expected annual return: 75.1%\n",
            "Annual volatility: 30.0%\n",
            "Sharpe Ratio: 2.44\n",
            "Allocation has RMSE: 0.001\n"
          ],
          "name": "stdout"
        }
      ]
    },
    {
      "cell_type": "code",
      "metadata": {
        "id": "n6DVn9-Gi03k"
      },
      "source": [
        ""
      ],
      "execution_count": null,
      "outputs": []
    }
  ]
}
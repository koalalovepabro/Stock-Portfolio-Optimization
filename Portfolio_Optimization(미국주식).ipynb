{
  "nbformat": 4,
  "nbformat_minor": 0,
  "metadata": {
    "colab": {
      "name": "Portfolio Optimization(미국주식).ipynb",
      "provenance": [],
      "authorship_tag": "ABX9TyO1YYzZPsLvsyKLhAOM7PxG",
      "include_colab_link": true
    },
    "kernelspec": {
      "name": "python3",
      "display_name": "Python 3"
    },
    "language_info": {
      "name": "python"
    }
  },
  "cells": [
    {
      "cell_type": "markdown",
      "metadata": {
        "id": "view-in-github",
        "colab_type": "text"
      },
      "source": [
        "<a href=\"https://colab.research.google.com/github/koalalovepabro/Stock-Portfolio-Optimization/blob/main/Portfolio_Optimization(%EB%AF%B8%EA%B5%AD%EC%A3%BC%EC%8B%9D).ipynb\" target=\"_parent\"><img src=\"https://colab.research.google.com/assets/colab-badge.svg\" alt=\"Open In Colab\"/></a>"
      ]
    },
    {
      "cell_type": "markdown",
      "metadata": {
        "id": "MHT10RQVA9lV"
      },
      "source": [
        "효율적 투자선(=Efficient Frontier)과 파이썬(Python)을 이용하여 사용자 포트폴리오를 최적화하기"
      ]
    },
    {
      "cell_type": "code",
      "metadata": {
        "id": "WxxqdfAtAyvl"
      },
      "source": [
        "# Import the python libraries\n",
        "from pandas_datareader import data as web\n",
        "import pandas as pd\n",
        "import numpy as np\n",
        "from datetime import datetime\n",
        "import matplotlib.pyplot as plt\n",
        "\n",
        "# matplotlib.pyplot 스타일시트 설정\n",
        "plt.style.use('fivethirtyeight')"
      ],
      "execution_count": 1,
      "outputs": []
    },
    {
      "cell_type": "markdown",
      "metadata": {
        "id": "mq-my6G9BLXH"
      },
      "source": [
        "# 가상 포트폴리오 만들기"
      ]
    },
    {
      "cell_type": "code",
      "metadata": {
        "id": "evBoAQrZA4dp"
      },
      "source": [
        "# 가상 포트폴리오에 대한 주식 가격 데이터와 티커를 가져오기\n",
        "assets =  [\"FB\", \"AMZN\", \"AAPL\", \"NFLX\", \"GOOG\"]"
      ],
      "execution_count": 2,
      "outputs": []
    },
    {
      "cell_type": "code",
      "metadata": {
        "colab": {
          "base_uri": "https://localhost:8080/"
        },
        "id": "xk11SrZuA4fV",
        "outputId": "efe290e3-beeb-4383-a304-c064ceb48d85"
      },
      "source": [
        "# 가장 기본적인 포트폴리오를 구성\n",
        "# 기본 포트폴리오는 각 주식이 동등한 가중치를 갖도록 설정\n",
        "# Assign weights to the stocks. Weights must = 1 so 0.2 for each\n",
        "weights = np.array([0.2, 0.2, 0.2, 0.2, 0.2])\n",
        "weights"
      ],
      "execution_count": 3,
      "outputs": [
        {
          "output_type": "execute_result",
          "data": {
            "text/plain": [
              "array([0.2, 0.2, 0.2, 0.2, 0.2])"
            ]
          },
          "metadata": {
            "tags": []
          },
          "execution_count": 3
        }
      ]
    },
    {
      "cell_type": "code",
      "metadata": {
        "colab": {
          "base_uri": "https://localhost:8080/"
        },
        "id": "IUjcpPQOCV1E",
        "outputId": "6bc88cbf-caab-49cc-bc49-5bb24bdabb11"
      },
      "source": [
        "!pip install yfinance"
      ],
      "execution_count": 4,
      "outputs": [
        {
          "output_type": "stream",
          "text": [
            "Collecting yfinance\n",
            "  Downloading https://files.pythonhosted.org/packages/79/bd/d64719da8f5367f4d8b16e83507fa1d90942f433f748a4cf3ed7aa515d14/yfinance-0.1.63.tar.gz\n",
            "Requirement already satisfied: pandas>=0.24 in /usr/local/lib/python3.7/dist-packages (from yfinance) (1.1.5)\n",
            "Requirement already satisfied: numpy>=1.15 in /usr/local/lib/python3.7/dist-packages (from yfinance) (1.19.5)\n",
            "Requirement already satisfied: requests>=2.20 in /usr/local/lib/python3.7/dist-packages (from yfinance) (2.23.0)\n",
            "Requirement already satisfied: multitasking>=0.0.7 in /usr/local/lib/python3.7/dist-packages (from yfinance) (0.0.9)\n",
            "Collecting lxml>=4.5.1\n",
            "\u001b[?25l  Downloading https://files.pythonhosted.org/packages/30/c0/d0526314971fc661b083ab135747dc68446a3022686da8c16d25fcf6ef07/lxml-4.6.3-cp37-cp37m-manylinux2014_x86_64.whl (6.3MB)\n",
            "\u001b[K     |████████████████████████████████| 6.3MB 6.1MB/s \n",
            "\u001b[?25hRequirement already satisfied: python-dateutil>=2.7.3 in /usr/local/lib/python3.7/dist-packages (from pandas>=0.24->yfinance) (2.8.1)\n",
            "Requirement already satisfied: pytz>=2017.2 in /usr/local/lib/python3.7/dist-packages (from pandas>=0.24->yfinance) (2018.9)\n",
            "Requirement already satisfied: urllib3!=1.25.0,!=1.25.1,<1.26,>=1.21.1 in /usr/local/lib/python3.7/dist-packages (from requests>=2.20->yfinance) (1.24.3)\n",
            "Requirement already satisfied: certifi>=2017.4.17 in /usr/local/lib/python3.7/dist-packages (from requests>=2.20->yfinance) (2021.5.30)\n",
            "Requirement already satisfied: chardet<4,>=3.0.2 in /usr/local/lib/python3.7/dist-packages (from requests>=2.20->yfinance) (3.0.4)\n",
            "Requirement already satisfied: idna<3,>=2.5 in /usr/local/lib/python3.7/dist-packages (from requests>=2.20->yfinance) (2.10)\n",
            "Requirement already satisfied: six>=1.5 in /usr/local/lib/python3.7/dist-packages (from python-dateutil>=2.7.3->pandas>=0.24->yfinance) (1.15.0)\n",
            "Building wheels for collected packages: yfinance\n",
            "  Building wheel for yfinance (setup.py) ... \u001b[?25l\u001b[?25hdone\n",
            "  Created wheel for yfinance: filename=yfinance-0.1.63-py2.py3-none-any.whl size=23919 sha256=c8705bfc2fc409e7e7a79e9571972a760cae17c03a67fd2fff9d4a97a99c883e\n",
            "  Stored in directory: /root/.cache/pip/wheels/fe/a0/79/b73d4a0c535b421b88fc7b393936b371fabbfeaf979eca4050\n",
            "Successfully built yfinance\n",
            "Installing collected packages: lxml, yfinance\n",
            "  Found existing installation: lxml 4.2.6\n",
            "    Uninstalling lxml-4.2.6:\n",
            "      Successfully uninstalled lxml-4.2.6\n",
            "Successfully installed lxml-4.6.3 yfinance-0.1.63\n"
          ],
          "name": "stdout"
        }
      ]
    },
    {
      "cell_type": "code",
      "metadata": {
        "id": "aP2o4AR3Coig"
      },
      "source": [
        "from datetime import datetime\n",
        "import yfinance as yf\n",
        "import pandas_datareader.data as pdr\n",
        "\n",
        "yf.pdr_override()\n",
        "\n",
        "# 주식 시작일은 2013년 1월 1일이고 종료일은 현재 날짜 (오늘)로 설정\n",
        "#Get the stock starting date\n",
        "start_date = '01-01-2013'\n",
        "\n",
        "# Get the stocks ending date aka todays date and format it in the form YYYY-MM-DD\n",
        "today = datetime.today().strftime('%d-%m-%Y')\n"
      ],
      "execution_count": 5,
      "outputs": []
    },
    {
      "cell_type": "code",
      "metadata": {
        "id": "fHdiIfVdDLza"
      },
      "source": [
        "start = datetime.strptime(start_date, '%d-%m-%Y')\n",
        "end = datetime.strptime(today, '%d-%m-%Y')\n"
      ],
      "execution_count": 6,
      "outputs": []
    },
    {
      "cell_type": "code",
      "metadata": {
        "colab": {
          "base_uri": "https://localhost:8080/",
          "height": 90
        },
        "id": "IVi1JlomA4hn",
        "outputId": "4fe5c4c4-f263-46fb-e46a-b1b568be47d8"
      },
      "source": [
        "'''\n",
        "# 주식 시작일은 2013년 1월 1일이고 종료일은 현재 날짜 (오늘)로 설정\n",
        "#Get the stock starting date\n",
        "stockStartDate = '2013-01-01'\n",
        "\n",
        "# Get the stocks ending date aka todays date and format it in the form YYYY-MM-DD\n",
        "today = datetime.today().strftime('%Y-%m-%d')\n",
        "'''"
      ],
      "execution_count": 7,
      "outputs": [
        {
          "output_type": "execute_result",
          "data": {
            "application/vnd.google.colaboratory.intrinsic+json": {
              "type": "string"
            },
            "text/plain": [
              "\"\\n# 주식 시작일은 2013년 1월 1일이고 종료일은 현재 날짜 (오늘)로 설정\\n#Get the stock starting date\\nstockStartDate = '2013-01-01'\\n\\n# Get the stocks ending date aka todays date and format it in the form YYYY-MM-DD\\ntoday = datetime.today().strftime('%Y-%m-%d')\\n\""
            ]
          },
          "metadata": {
            "tags": []
          },
          "execution_count": 7
        }
      ]
    },
    {
      "cell_type": "code",
      "metadata": {
        "colab": {
          "base_uri": "https://localhost:8080/"
        },
        "id": "qa01Hs4ZA4jx",
        "outputId": "1cc4f300-9506-4377-d376-091d7e7d7edd"
      },
      "source": [
        "# 각 주식의 일별 종가 데이터를 저장할 데이터 프레임을 생성\n",
        "#Create a dataframe to store the adjusted close price of the stocks\n",
        "df = pd.DataFrame()\n",
        "\n",
        "#Store the adjusted close price of stock into the data frame\n",
        "for stock in assets:\n",
        "   df[stock] = pdr.get_data_yahoo(stock,data_source='yahoo',start=start , end=end)['Close']"
      ],
      "execution_count": 8,
      "outputs": [
        {
          "output_type": "stream",
          "text": [
            "[*********************100%***********************]  1 of 1 completed\n",
            "[*********************100%***********************]  1 of 1 completed\n",
            "[*********************100%***********************]  1 of 1 completed\n",
            "[*********************100%***********************]  1 of 1 completed\n",
            "[*********************100%***********************]  1 of 1 completed\n"
          ],
          "name": "stdout"
        }
      ]
    },
    {
      "cell_type": "code",
      "metadata": {
        "colab": {
          "base_uri": "https://localhost:8080/",
          "height": 447
        },
        "id": "_LVQezYkBpn2",
        "outputId": "d338088c-a502-43e1-b565-954d8447fdea"
      },
      "source": [
        "# 데이터프레임에 저장된 각 주식의 종가 살펴보기\n",
        "df"
      ],
      "execution_count": 9,
      "outputs": [
        {
          "output_type": "execute_result",
          "data": {
            "text/html": [
              "<div>\n",
              "<style scoped>\n",
              "    .dataframe tbody tr th:only-of-type {\n",
              "        vertical-align: middle;\n",
              "    }\n",
              "\n",
              "    .dataframe tbody tr th {\n",
              "        vertical-align: top;\n",
              "    }\n",
              "\n",
              "    .dataframe thead th {\n",
              "        text-align: right;\n",
              "    }\n",
              "</style>\n",
              "<table border=\"1\" class=\"dataframe\">\n",
              "  <thead>\n",
              "    <tr style=\"text-align: right;\">\n",
              "      <th></th>\n",
              "      <th>FB</th>\n",
              "      <th>AMZN</th>\n",
              "      <th>AAPL</th>\n",
              "      <th>NFLX</th>\n",
              "      <th>GOOG</th>\n",
              "    </tr>\n",
              "    <tr>\n",
              "      <th>Date</th>\n",
              "      <th></th>\n",
              "      <th></th>\n",
              "      <th></th>\n",
              "      <th></th>\n",
              "      <th></th>\n",
              "    </tr>\n",
              "  </thead>\n",
              "  <tbody>\n",
              "    <tr>\n",
              "      <th>2013-01-02</th>\n",
              "      <td>28.000000</td>\n",
              "      <td>257.309998</td>\n",
              "      <td>19.608213</td>\n",
              "      <td>13.144286</td>\n",
              "      <td>360.274597</td>\n",
              "    </tr>\n",
              "    <tr>\n",
              "      <th>2013-01-03</th>\n",
              "      <td>27.770000</td>\n",
              "      <td>258.480011</td>\n",
              "      <td>19.360714</td>\n",
              "      <td>13.798571</td>\n",
              "      <td>360.483826</td>\n",
              "    </tr>\n",
              "    <tr>\n",
              "      <th>2013-01-04</th>\n",
              "      <td>28.760000</td>\n",
              "      <td>259.149994</td>\n",
              "      <td>18.821428</td>\n",
              "      <td>13.711429</td>\n",
              "      <td>367.607117</td>\n",
              "    </tr>\n",
              "    <tr>\n",
              "      <th>2013-01-07</th>\n",
              "      <td>29.420000</td>\n",
              "      <td>268.459991</td>\n",
              "      <td>18.710714</td>\n",
              "      <td>14.171429</td>\n",
              "      <td>366.003143</td>\n",
              "    </tr>\n",
              "    <tr>\n",
              "      <th>2013-01-08</th>\n",
              "      <td>29.059999</td>\n",
              "      <td>266.380005</td>\n",
              "      <td>18.761070</td>\n",
              "      <td>13.880000</td>\n",
              "      <td>365.280823</td>\n",
              "    </tr>\n",
              "    <tr>\n",
              "      <th>...</th>\n",
              "      <td>...</td>\n",
              "      <td>...</td>\n",
              "      <td>...</td>\n",
              "      <td>...</td>\n",
              "      <td>...</td>\n",
              "    </tr>\n",
              "    <tr>\n",
              "      <th>2021-07-02</th>\n",
              "      <td>354.700012</td>\n",
              "      <td>3510.979980</td>\n",
              "      <td>139.960007</td>\n",
              "      <td>533.979980</td>\n",
              "      <td>2574.379883</td>\n",
              "    </tr>\n",
              "    <tr>\n",
              "      <th>2021-07-06</th>\n",
              "      <td>352.779999</td>\n",
              "      <td>3675.739990</td>\n",
              "      <td>142.020004</td>\n",
              "      <td>541.640015</td>\n",
              "      <td>2595.419922</td>\n",
              "    </tr>\n",
              "    <tr>\n",
              "      <th>2021-07-07</th>\n",
              "      <td>350.489990</td>\n",
              "      <td>3696.580078</td>\n",
              "      <td>144.570007</td>\n",
              "      <td>535.960022</td>\n",
              "      <td>2601.550049</td>\n",
              "    </tr>\n",
              "    <tr>\n",
              "      <th>2021-07-08</th>\n",
              "      <td>345.649994</td>\n",
              "      <td>3731.409912</td>\n",
              "      <td>143.240005</td>\n",
              "      <td>530.760010</td>\n",
              "      <td>2583.540039</td>\n",
              "    </tr>\n",
              "    <tr>\n",
              "      <th>2021-07-09</th>\n",
              "      <td>350.420013</td>\n",
              "      <td>3719.340088</td>\n",
              "      <td>145.110001</td>\n",
              "      <td>535.979980</td>\n",
              "      <td>2591.489990</td>\n",
              "    </tr>\n",
              "  </tbody>\n",
              "</table>\n",
              "<p>2145 rows × 5 columns</p>\n",
              "</div>"
            ],
            "text/plain": [
              "                    FB         AMZN        AAPL        NFLX         GOOG\n",
              "Date                                                                    \n",
              "2013-01-02   28.000000   257.309998   19.608213   13.144286   360.274597\n",
              "2013-01-03   27.770000   258.480011   19.360714   13.798571   360.483826\n",
              "2013-01-04   28.760000   259.149994   18.821428   13.711429   367.607117\n",
              "2013-01-07   29.420000   268.459991   18.710714   14.171429   366.003143\n",
              "2013-01-08   29.059999   266.380005   18.761070   13.880000   365.280823\n",
              "...                ...          ...         ...         ...          ...\n",
              "2021-07-02  354.700012  3510.979980  139.960007  533.979980  2574.379883\n",
              "2021-07-06  352.779999  3675.739990  142.020004  541.640015  2595.419922\n",
              "2021-07-07  350.489990  3696.580078  144.570007  535.960022  2601.550049\n",
              "2021-07-08  345.649994  3731.409912  143.240005  530.760010  2583.540039\n",
              "2021-07-09  350.420013  3719.340088  145.110001  535.979980  2591.489990\n",
              "\n",
              "[2145 rows x 5 columns]"
            ]
          },
          "metadata": {
            "tags": []
          },
          "execution_count": 9
        }
      ]
    },
    {
      "cell_type": "code",
      "metadata": {
        "colab": {
          "base_uri": "https://localhost:8080/",
          "height": 380
        },
        "id": "o_N9QJeuBpsC",
        "outputId": "1185b055-0ebd-46b4-cbce-3460b639f67b"
      },
      "source": [
        "# 주식 가격이 시간에 따라 어떻게 변했는지 시각화하기\n",
        "# Create the title 'Portfolio Adj Close Price History\n",
        "title = 'Portfolio Close Price History    '\n",
        "\n",
        "#Get the stocks\n",
        "my_stocks = df\n",
        "\n",
        "#Create and plot the graph\n",
        "plt.figure(figsize=(12.2,4.5)) #width = 12.2in, height = 4.5\n",
        "\n",
        "# Loop through each stock and plot the Adj Close for each day\n",
        "for c in my_stocks.columns.values:  # 종목 하나씩 반복\n",
        "  plt.plot( my_stocks[c],  label=c) #plt.plot( X-Axis , Y-Axis, line_width, alpha_for_blending,  label)\n",
        "  print(my_stocks.columns.values)\n",
        "\n",
        "plt.title(title)\n",
        "plt.xlabel('Date',fontsize=18)\n",
        "plt.ylabel('Close Price USD ($)',fontsize=18)\n",
        "plt.legend(my_stocks.columns.values, loc='upper left')\n",
        "plt.show()"
      ],
      "execution_count": 10,
      "outputs": [
        {
          "output_type": "stream",
          "text": [
            "['FB' 'AMZN' 'AAPL' 'NFLX' 'GOOG']\n",
            "['FB' 'AMZN' 'AAPL' 'NFLX' 'GOOG']\n",
            "['FB' 'AMZN' 'AAPL' 'NFLX' 'GOOG']\n",
            "['FB' 'AMZN' 'AAPL' 'NFLX' 'GOOG']\n",
            "['FB' 'AMZN' 'AAPL' 'NFLX' 'GOOG']\n"
          ],
          "name": "stdout"
        },
        {
          "output_type": "display_data",
          "data": {
            "image/png": "[encoded data removed]",
            "text/plain": [
              "<Figure size 878.4x324 with 1 Axes>"
            ]
          },
          "metadata": {
            "tags": [],
            "needs_background": "light"
          }
        }
      ]
    },
    {
      "cell_type": "markdown",
      "metadata": {
        "id": "-kcJn1bqBpuX"
      },
      "source": [
        "# Financial Calculations\n"
      ]
    },
    {
      "cell_type": "code",
      "metadata": {
        "colab": {
          "base_uri": "https://localhost:8080/",
          "height": 447
        },
        "id": "0NU5vvuTBpwo",
        "outputId": "37522077-0983-483a-8f54-1b13c74f5394"
      },
      "source": [
        "# (new_price +- old_price) / old_price 또는 (new_price / old_price)-1의 계산을 통해 \n",
        "# 일일 단순 수익률을 표시\n",
        "#Show the daily simple returns, NOTE: Formula = new_price/old_price - 1\n",
        "returns = df.pct_change()\n",
        "returns"
      ],
      "execution_count": 11,
      "outputs": [
        {
          "output_type": "execute_result",
          "data": {
            "text/html": [
              "<div>\n",
              "<style scoped>\n",
              "    .dataframe tbody tr th:only-of-type {\n",
              "        vertical-align: middle;\n",
              "    }\n",
              "\n",
              "    .dataframe tbody tr th {\n",
              "        vertical-align: top;\n",
              "    }\n",
              "\n",
              "    .dataframe thead th {\n",
              "        text-align: right;\n",
              "    }\n",
              "</style>\n",
              "<table border=\"1\" class=\"dataframe\">\n",
              "  <thead>\n",
              "    <tr style=\"text-align: right;\">\n",
              "      <th></th>\n",
              "      <th>FB</th>\n",
              "      <th>AMZN</th>\n",
              "      <th>AAPL</th>\n",
              "      <th>NFLX</th>\n",
              "      <th>GOOG</th>\n",
              "    </tr>\n",
              "    <tr>\n",
              "      <th>Date</th>\n",
              "      <th></th>\n",
              "      <th></th>\n",
              "      <th></th>\n",
              "      <th></th>\n",
              "      <th></th>\n",
              "    </tr>\n",
              "  </thead>\n",
              "  <tbody>\n",
              "    <tr>\n",
              "      <th>2013-01-02</th>\n",
              "      <td>NaN</td>\n",
              "      <td>NaN</td>\n",
              "      <td>NaN</td>\n",
              "      <td>NaN</td>\n",
              "      <td>NaN</td>\n",
              "    </tr>\n",
              "    <tr>\n",
              "      <th>2013-01-03</th>\n",
              "      <td>-0.008214</td>\n",
              "      <td>0.004547</td>\n",
              "      <td>-0.012622</td>\n",
              "      <td>0.049777</td>\n",
              "      <td>0.000581</td>\n",
              "    </tr>\n",
              "    <tr>\n",
              "      <th>2013-01-04</th>\n",
              "      <td>0.035650</td>\n",
              "      <td>0.002592</td>\n",
              "      <td>-0.027855</td>\n",
              "      <td>-0.006315</td>\n",
              "      <td>0.019760</td>\n",
              "    </tr>\n",
              "    <tr>\n",
              "      <th>2013-01-07</th>\n",
              "      <td>0.022949</td>\n",
              "      <td>0.035925</td>\n",
              "      <td>-0.005882</td>\n",
              "      <td>0.033549</td>\n",
              "      <td>-0.004363</td>\n",
              "    </tr>\n",
              "    <tr>\n",
              "      <th>2013-01-08</th>\n",
              "      <td>-0.012237</td>\n",
              "      <td>-0.007748</td>\n",
              "      <td>0.002691</td>\n",
              "      <td>-0.020565</td>\n",
              "      <td>-0.001974</td>\n",
              "    </tr>\n",
              "    <tr>\n",
              "      <th>...</th>\n",
              "      <td>...</td>\n",
              "      <td>...</td>\n",
              "      <td>...</td>\n",
              "      <td>...</td>\n",
              "      <td>...</td>\n",
              "    </tr>\n",
              "    <tr>\n",
              "      <th>2021-07-02</th>\n",
              "      <td>0.000875</td>\n",
              "      <td>0.022724</td>\n",
              "      <td>0.019596</td>\n",
              "      <td>0.000825</td>\n",
              "      <td>0.018600</td>\n",
              "    </tr>\n",
              "    <tr>\n",
              "      <th>2021-07-06</th>\n",
              "      <td>-0.005413</td>\n",
              "      <td>0.046927</td>\n",
              "      <td>0.014718</td>\n",
              "      <td>0.014345</td>\n",
              "      <td>0.008173</td>\n",
              "    </tr>\n",
              "    <tr>\n",
              "      <th>2021-07-07</th>\n",
              "      <td>-0.006491</td>\n",
              "      <td>0.005670</td>\n",
              "      <td>0.017955</td>\n",
              "      <td>-0.010487</td>\n",
              "      <td>0.002362</td>\n",
              "    </tr>\n",
              "    <tr>\n",
              "      <th>2021-07-08</th>\n",
              "      <td>-0.013809</td>\n",
              "      <td>0.009422</td>\n",
              "      <td>-0.009200</td>\n",
              "      <td>-0.009702</td>\n",
              "      <td>-0.006923</td>\n",
              "    </tr>\n",
              "    <tr>\n",
              "      <th>2021-07-09</th>\n",
              "      <td>0.013800</td>\n",
              "      <td>-0.003235</td>\n",
              "      <td>0.013055</td>\n",
              "      <td>0.009835</td>\n",
              "      <td>0.003077</td>\n",
              "    </tr>\n",
              "  </tbody>\n",
              "</table>\n",
              "<p>2145 rows × 5 columns</p>\n",
              "</div>"
            ],
            "text/plain": [
              "                  FB      AMZN      AAPL      NFLX      GOOG\n",
              "Date                                                        \n",
              "2013-01-02       NaN       NaN       NaN       NaN       NaN\n",
              "2013-01-03 -0.008214  0.004547 -0.012622  0.049777  0.000581\n",
              "2013-01-04  0.035650  0.002592 -0.027855 -0.006315  0.019760\n",
              "2013-01-07  0.022949  0.035925 -0.005882  0.033549 -0.004363\n",
              "2013-01-08 -0.012237 -0.007748  0.002691 -0.020565 -0.001974\n",
              "...              ...       ...       ...       ...       ...\n",
              "2021-07-02  0.000875  0.022724  0.019596  0.000825  0.018600\n",
              "2021-07-06 -0.005413  0.046927  0.014718  0.014345  0.008173\n",
              "2021-07-07 -0.006491  0.005670  0.017955 -0.010487  0.002362\n",
              "2021-07-08 -0.013809  0.009422 -0.009200 -0.009702 -0.006923\n",
              "2021-07-09  0.013800 -0.003235  0.013055  0.009835  0.003077\n",
              "\n",
              "[2145 rows x 5 columns]"
            ]
          },
          "metadata": {
            "tags": []
          },
          "execution_count": 11
        }
      ]
    },
    {
      "cell_type": "markdown",
      "metadata": {
        "id": "RZrTk9FpA4lt"
      },
      "source": [
        "## 연간 공분산 행렬을 계산하고 출력\n",
        "- 공분산 행렬은 서로 다른 모집단의 데이터 샘플을 비교할 때 통계에서 일반적으로 사용되는 수학적 개념\n",
        "- 2개의 임의 변수가 얼마나 변하거나 함께 이동 하는지를 결정하는 데 사용됨\n",
        "- 따라서, 공분산 행렬을 통해서 두 자산 가격간의 방향 관계를 알아 낼 수 있음\n",
        "- 행렬의 대각선은 분산이고 다른 항목은 공분산\n",
        "- 분산은 일련의 관측치가 서로 얼마나 다른지 측정\n",
        "- 분산의 제곱근 = 표준 편차 (변동성)\n",
        "- 연간 공분산 행렬을 표시하려면 공분산 행렬에 현재 연도의 거래 일수를 곱함 (연율화)\n",
        "- 보통 연간 거래일수는 해마다 다르지만 250일 정도로 계산하면 얼추 비슷"
      ]
    },
    {
      "cell_type": "code",
      "metadata": {
        "colab": {
          "base_uri": "https://localhost:8080/",
          "height": 203
        },
        "id": "RZpZxdKSA4n3",
        "outputId": "99f2eb49-a805-4c26-c071-a54204b4a814"
      },
      "source": [
        "cov_matrix_annual = returns.cov() * 252\n",
        "cov_matrix_annual"
      ],
      "execution_count": 12,
      "outputs": [
        {
          "output_type": "execute_result",
          "data": {
            "text/html": [
              "<div>\n",
              "<style scoped>\n",
              "    .dataframe tbody tr th:only-of-type {\n",
              "        vertical-align: middle;\n",
              "    }\n",
              "\n",
              "    .dataframe tbody tr th {\n",
              "        vertical-align: top;\n",
              "    }\n",
              "\n",
              "    .dataframe thead th {\n",
              "        text-align: right;\n",
              "    }\n",
              "</style>\n",
              "<table border=\"1\" class=\"dataframe\">\n",
              "  <thead>\n",
              "    <tr style=\"text-align: right;\">\n",
              "      <th></th>\n",
              "      <th>FB</th>\n",
              "      <th>AMZN</th>\n",
              "      <th>AAPL</th>\n",
              "      <th>NFLX</th>\n",
              "      <th>GOOG</th>\n",
              "    </tr>\n",
              "  </thead>\n",
              "  <tbody>\n",
              "    <tr>\n",
              "      <th>FB</th>\n",
              "      <td>0.117054</td>\n",
              "      <td>0.054367</td>\n",
              "      <td>0.045146</td>\n",
              "      <td>0.056530</td>\n",
              "      <td>0.050266</td>\n",
              "    </tr>\n",
              "    <tr>\n",
              "      <th>AMZN</th>\n",
              "      <td>0.054367</td>\n",
              "      <td>0.091950</td>\n",
              "      <td>0.040108</td>\n",
              "      <td>0.062762</td>\n",
              "      <td>0.047086</td>\n",
              "    </tr>\n",
              "    <tr>\n",
              "      <th>AAPL</th>\n",
              "      <td>0.045146</td>\n",
              "      <td>0.040108</td>\n",
              "      <td>0.081422</td>\n",
              "      <td>0.035894</td>\n",
              "      <td>0.038560</td>\n",
              "    </tr>\n",
              "    <tr>\n",
              "      <th>NFLX</th>\n",
              "      <td>0.056530</td>\n",
              "      <td>0.062762</td>\n",
              "      <td>0.035894</td>\n",
              "      <td>0.206519</td>\n",
              "      <td>0.048771</td>\n",
              "    </tr>\n",
              "    <tr>\n",
              "      <th>GOOG</th>\n",
              "      <td>0.050266</td>\n",
              "      <td>0.047086</td>\n",
              "      <td>0.038560</td>\n",
              "      <td>0.048771</td>\n",
              "      <td>0.066054</td>\n",
              "    </tr>\n",
              "  </tbody>\n",
              "</table>\n",
              "</div>"
            ],
            "text/plain": [
              "            FB      AMZN      AAPL      NFLX      GOOG\n",
              "FB    0.117054  0.054367  0.045146  0.056530  0.050266\n",
              "AMZN  0.054367  0.091950  0.040108  0.062762  0.047086\n",
              "AAPL  0.045146  0.040108  0.081422  0.035894  0.038560\n",
              "NFLX  0.056530  0.062762  0.035894  0.206519  0.048771\n",
              "GOOG  0.050266  0.047086  0.038560  0.048771  0.066054"
            ]
          },
          "metadata": {
            "tags": []
          },
          "execution_count": 12
        }
      ]
    },
    {
      "cell_type": "markdown",
      "metadata": {
        "id": "Zixd7TGKA4qL"
      },
      "source": [
        "## 포트폴리오 분산을 계산하고 출력\n",
        "**포트폴리오 분산의 기대값 = WT * (공분산 행렬) * W**\n",
        "\n",
        "\n"
      ]
    },
    {
      "cell_type": "code",
      "metadata": {
        "colab": {
          "base_uri": "https://localhost:8080/"
        },
        "id": "Ob16ubcvA4sP",
        "outputId": "da3d2552-b186-43b7-829f-eda114c2f35e"
      },
      "source": [
        "port_variance = np.dot(weights.T, np.dot(cov_matrix_annual, weights))\n",
        "port_variance"
      ],
      "execution_count": 13,
      "outputs": [
        {
          "output_type": "execute_result",
          "data": {
            "text/plain": [
              "0.06087911977696962"
            ]
          },
          "metadata": {
            "tags": []
          },
          "execution_count": 13
        }
      ]
    },
    {
      "cell_type": "markdown",
      "metadata": {
        "id": "8nQ2KkMfHO5p"
      },
      "source": [
        "## 포트폴리오 변동성을 계산하고 출력\n",
        "**포트폴리오 변동성의 기대값 = SQRT (WT * (공분산 매트릭스) * W)**  \n",
        "- 변동성(=표준 편차) = 분산의 제곱근"
      ]
    },
    {
      "cell_type": "code",
      "metadata": {
        "colab": {
          "base_uri": "https://localhost:8080/"
        },
        "id": "v6elH3-eHO9m",
        "outputId": "4318a4ed-4380-4246-9b1e-9cb2df06e041"
      },
      "source": [
        "port_volatility = np.sqrt(port_variance)\n",
        "port_volatility"
      ],
      "execution_count": 14,
      "outputs": [
        {
          "output_type": "execute_result",
          "data": {
            "text/plain": [
              "0.2467369444914353"
            ]
          },
          "metadata": {
            "tags": []
          },
          "execution_count": 14
        }
      ]
    },
    {
      "cell_type": "markdown",
      "metadata": {
        "id": "9kFjkX7bHY3X"
      },
      "source": [
        "## 포트폴리오 연간 단순 수익률을 계산하고 출력"
      ]
    },
    {
      "cell_type": "code",
      "metadata": {
        "colab": {
          "base_uri": "https://localhost:8080/"
        },
        "id": "mBmiaUoCHPAG",
        "outputId": "5ea33b86-8d12-4cc7-b534-b559d1ca13eb"
      },
      "source": [
        "portfolioSimpleAnnualReturn = np.sum(returns.mean()*weights) * 252\n",
        "portfolioSimpleAnnualReturn"
      ],
      "execution_count": 15,
      "outputs": [
        {
          "output_type": "execute_result",
          "data": {
            "text/plain": [
              "0.3583511060396176"
            ]
          },
          "metadata": {
            "tags": []
          },
          "execution_count": 15
        }
      ]
    },
    {
      "cell_type": "markdown",
      "metadata": {
        "id": "FSo0pcueHPCZ"
      },
      "source": [
        "## 포트폴리오의 예상 연간 수익률, 변동성 (Risk), 분산 출력"
      ]
    },
    {
      "cell_type": "code",
      "metadata": {
        "colab": {
          "base_uri": "https://localhost:8080/"
        },
        "id": "jvWRrUQbHPE5",
        "outputId": "0e8081ad-f001-4b34-e43f-9284c0edaeea"
      },
      "source": [
        "percent_ret = str(round(portfolioSimpleAnnualReturn, 2)*100)+'%'\n",
        "percent_vols = str(round(port_volatility, 2) * 100) + '%'\n",
        "percent_var = str(round(port_variance, 2) * 100) + '%'\n",
        "\n",
        "print(\"Expected annual return : \"+ percent_ret)\n",
        "print('Annual volatility/standard deviation/risk : '+percent_vols)\n",
        "print('Annual variance : '+percent_var)"
      ],
      "execution_count": 16,
      "outputs": [
        {
          "output_type": "stream",
          "text": [
            "Expected annual return : 36.0%\n",
            "Annual volatility/standard deviation/risk : 25.0%\n",
            "Annual variance : 6.0%\n"
          ],
          "name": "stdout"
        }
      ]
    },
    {
      "cell_type": "markdown",
      "metadata": {
        "id": "Tsw19Gx8HPHP"
      },
      "source": [
        "# 포트폴리오 최적화"
      ]
    },
    {
      "cell_type": "markdown",
      "metadata": {
        "id": "8gcGltxGHPJe"
      },
      "source": [
        "포트폴리오 최적화 = 최소한의 위험으로 수익을 최대화\n",
        "- Robert Ansrew Martin이 만든 패키지를 이용하면, 포트폴리오를 쉽게 최적화 할 수 있다.\n",
        "- Robert Ansrew Martin이 만든 PyPortfolioOpt라는 패키지를 사용해서 포트폴리오를 최적화\n"
      ]
    },
    {
      "cell_type": "code",
      "metadata": {
        "colab": {
          "base_uri": "https://localhost:8080/"
        },
        "id": "QKHsS2U_M-Bs",
        "outputId": "ee8cb49a-ec30-4280-9449-7b6f69510431"
      },
      "source": [
        "!pip install PyPortfolioOpt"
      ],
      "execution_count": 21,
      "outputs": [
        {
          "output_type": "stream",
          "text": [
            "Collecting PyPortfolioOpt\n",
            "\u001b[?25l  Downloading https://files.pythonhosted.org/packages/12/dd/bbe51f36f323c4eee59ec94638b24de1daeda9537403c363cbfab8cd1d29/PyPortfolioOpt-1.4.2-py3-none-any.whl (60kB)\n",
            "\r\u001b[K     |█████▍                          | 10kB 13.5MB/s eta 0:00:01\r\u001b[K     |██████████▉                     | 20kB 8.3MB/s eta 0:00:01\r\u001b[K     |████████████████▎               | 30kB 6.3MB/s eta 0:00:01\r\u001b[K     |█████████████████████▋          | 40kB 3.4MB/s eta 0:00:01\r\u001b[K     |███████████████████████████     | 51kB 3.8MB/s eta 0:00:01\r\u001b[K     |████████████████████████████████| 61kB 2.8MB/s \n",
            "\u001b[?25hRequirement already satisfied: numpy<2.0,>=1.12 in /usr/local/lib/python3.7/dist-packages (from PyPortfolioOpt) (1.19.5)\n",
            "Requirement already satisfied: pandas>=0.19 in /usr/local/lib/python3.7/dist-packages (from PyPortfolioOpt) (1.1.5)\n",
            "Collecting cvxpy<2.0.0,>=1.1.10\n",
            "\u001b[?25l  Downloading https://files.pythonhosted.org/packages/f0/95/e7eb169a7802fe0c5c50dd7f29c2e9d357b5f29c70adc3f5ca2ab684a04b/cvxpy-1.1.13.tar.gz (1.3MB)\n",
            "\u001b[K     |████████████████████████████████| 1.3MB 6.9MB/s \n",
            "\u001b[?25h  Installing build dependencies ... \u001b[?25l\u001b[?25hdone\n",
            "  Getting requirements to build wheel ... \u001b[?25l\u001b[?25hdone\n",
            "    Preparing wheel metadata ... \u001b[?25l\u001b[?25hdone\n",
            "Requirement already satisfied: scipy<2.0,>=1.3 in /usr/local/lib/python3.7/dist-packages (from PyPortfolioOpt) (1.4.1)\n",
            "Requirement already satisfied: pytz>=2017.2 in /usr/local/lib/python3.7/dist-packages (from pandas>=0.19->PyPortfolioOpt) (2018.9)\n",
            "Requirement already satisfied: python-dateutil>=2.7.3 in /usr/local/lib/python3.7/dist-packages (from pandas>=0.19->PyPortfolioOpt) (2.8.1)\n",
            "Requirement already satisfied: scs>=1.1.6 in /usr/local/lib/python3.7/dist-packages (from cvxpy<2.0.0,>=1.1.10->PyPortfolioOpt) (2.1.4)\n",
            "Requirement already satisfied: osqp>=0.4.1 in /usr/local/lib/python3.7/dist-packages (from cvxpy<2.0.0,>=1.1.10->PyPortfolioOpt) (0.6.2.post0)\n",
            "Requirement already satisfied: ecos>=2 in /usr/local/lib/python3.7/dist-packages (from cvxpy<2.0.0,>=1.1.10->PyPortfolioOpt) (2.0.7.post1)\n",
            "Requirement already satisfied: six>=1.5 in /usr/local/lib/python3.7/dist-packages (from python-dateutil>=2.7.3->pandas>=0.19->PyPortfolioOpt) (1.15.0)\n",
            "Requirement already satisfied: qdldl in /usr/local/lib/python3.7/dist-packages (from osqp>=0.4.1->cvxpy<2.0.0,>=1.1.10->PyPortfolioOpt) (0.1.5.post0)\n",
            "Building wheels for collected packages: cvxpy\n",
            "  Building wheel for cvxpy (PEP 517) ... \u001b[?25l\u001b[?25hdone\n",
            "  Created wheel for cvxpy: filename=cvxpy-1.1.13-cp37-cp37m-linux_x86_64.whl size=2736148 sha256=b652cb45f4e42da27c08702c636aee1ef4e2513ed8cb7d039369e7185ca57fdd\n",
            "  Stored in directory: /root/.cache/pip/wheels/f9/78/00/f29636789ee83434953b5442f16ec3f9834a68e7fd0393c220\n",
            "Successfully built cvxpy\n",
            "Installing collected packages: cvxpy, PyPortfolioOpt\n",
            "  Found existing installation: cvxpy 1.0.31\n",
            "    Uninstalling cvxpy-1.0.31:\n",
            "      Successfully uninstalled cvxpy-1.0.31\n",
            "Successfully installed PyPortfolioOpt-1.4.2 cvxpy-1.1.13\n"
          ],
          "name": "stdout"
        }
      ]
    },
    {
      "cell_type": "code",
      "metadata": {
        "id": "B2L1Vrk6HPLw"
      },
      "source": [
        "from pypfopt.efficient_frontier import EfficientFrontier\n",
        "from pypfopt import risk_models\n",
        "from pypfopt import expected_returns"
      ],
      "execution_count": 25,
      "outputs": []
    },
    {
      "cell_type": "markdown",
      "metadata": {
        "id": "-O7YUJgeHPN-"
      },
      "source": [
        "## 예상 수익률과 일일 자산 수익률의 연간 표본 공분산 행렬을 계산"
      ]
    },
    {
      "cell_type": "code",
      "metadata": {
        "id": "ye73EHNTHPQO"
      },
      "source": [
        "# returns.mean() * 252\n",
        "mu = expected_returns.mean_historical_return(df) \n",
        "\n",
        "# Get the sample covariance matrix\n",
        "S = risk_models.sample_cov(df)"
      ],
      "execution_count": 26,
      "outputs": []
    },
    {
      "cell_type": "markdown",
      "metadata": {
        "id": "cKxyA50QMIe2"
      },
      "source": [
        "## 최대 Sharpe Ratio를 최적화 ($Maximize\\ Sharpe Ratio$)"
      ]
    },
    {
      "cell_type": "code",
      "metadata": {
        "colab": {
          "base_uri": "https://localhost:8080/"
        },
        "id": "yQvtxSGaMIhn",
        "outputId": "61f31424-01b4-407f-a94e-6e570ff04e91"
      },
      "source": [
        "ef = EfficientFrontier(mu, S)\n",
        "\n",
        "# Maximize the Sharpe ratio, and get the raw weights\n",
        "weights = ef.max_sharpe() \n",
        "cleaned_weights = ef.clean_weights() \n",
        "\n",
        "# Note the weights may have some rounding error,\n",
        "# meaning they may not add up exactly to 1 but should be close\n",
        "print(cleaned_weights) \n",
        "ef.portfolio_performance(verbose=True)"
      ],
      "execution_count": 27,
      "outputs": [
        {
          "output_type": "stream",
          "text": [
            "OrderedDict([('FB', 0.15279), ('AMZN', 0.34647), ('AAPL', 0.18797), ('NFLX', 0.31177), ('GOOG', 0.001)])\n",
            "Expected annual return: 40.1%\n",
            "Annual volatility: 27.1%\n",
            "Sharpe Ratio: 1.41\n"
          ],
          "name": "stdout"
        },
        {
          "output_type": "execute_result",
          "data": {
            "text/plain": [
              "(0.40104788081356113, 0.27118124434062124, 1.4051409851005043)"
            ]
          },
          "metadata": {
            "tags": []
          },
          "execution_count": 27
        }
      ]
    },
    {
      "cell_type": "markdown",
      "metadata": {
        "id": "V9x1c6BRMIn5"
      },
      "source": [
        "**포트폴리오 최적화 결과 확인**  \n",
        "- Facebook을 15.279%, Amazon을 34.647%, Apple을 18.797%, Netflix를 31.177%, Google을 0.1% 보유\n",
        "- 최적화를 통해 예상 연간 수익이 36.0% -> 40.1%로 증가한 것을 확인\n",
        "- 연간 변동성(Risk)은 25.0% -> 27.1%으로 늘어난 것을 확인.\n",
        "- 최적화 된 포트폴리오는 1.41의 Sharpe 비율을 가지고 있습니다."
      ]
    },
    {
      "cell_type": "markdown",
      "metadata": {
        "id": "aiCi6DkZdob5"
      },
      "source": [
        "**Sharpe Ratio**  \n",
        "- 1966년 William F. Sharpe에 의해 개발됨\n",
        "- Sharpe Ratio는 더 위험한 자산을 보유하기 위해 견뎌야 하는 추가적인 변동성에 대해 얼마나 많은 초과 수익을 얻었는지를 나타냄\n",
        "- 위험을 조정 한 후 무위험 자산(채권, 국채 등)과 비교하여 투자 성과를 측정함\n",
        "- 투자 수익과 무위험 수익 간의 차이를 투자의 표준 편차로 나눈 값으로 정의됨\n",
        "\n",
        "**상대적으로 적은 위험에 대해 높은 기대 수익률을 내는 투자 포트폴리오는?**  \n",
        "- 일반적으로 1.0보다 큰 Sharpe Ratio는 괜찮은 포트폴리오로 간주됨.\n",
        "- 2.0보다 높은 비율은 매우 좋음으로 평가됨\n",
        "- 3.0 이상의 비율은 우수한 것으로 간주됨\n",
        "- 1.0 미만의 비율은 차선책으로 간주됨"
      ]
    },
    {
      "cell_type": "code",
      "metadata": {
        "colab": {
          "base_uri": "https://localhost:8080/"
        },
        "id": "1mzhBQt-OLTX",
        "outputId": "80fd73c3-e7d1-4964-8fc8-f37cbafb8297"
      },
      "source": [
        "np.sum(weights)"
      ],
      "execution_count": 29,
      "outputs": [
        {
          "output_type": "execute_result",
          "data": {
            "text/plain": [
              "OrderedDict([('FB', 0.152793379951947),\n",
              "             ('AMZN', 0.3464731196486135),\n",
              "             ('AAPL', 0.1879663937368174),\n",
              "             ('NFLX', 0.3117707707285562),\n",
              "             ('GOOG', 0.0009963359340662)])"
            ]
          },
          "metadata": {
            "tags": []
          },
          "execution_count": 29
        }
      ]
    },
    {
      "cell_type": "code",
      "metadata": {
        "colab": {
          "base_uri": "https://localhost:8080/"
        },
        "id": "vDA_zmf2MIjy",
        "outputId": "2945f5d4-0fc9-44ea-95e2-4d295a6dc70d"
      },
      "source": [
        "np.sum(cleaned_weights)"
      ],
      "execution_count": 28,
      "outputs": [
        {
          "output_type": "execute_result",
          "data": {
            "text/plain": [
              "OrderedDict([('FB', 0.15279),\n",
              "             ('AMZN', 0.34647),\n",
              "             ('AAPL', 0.18797),\n",
              "             ('NFLX', 0.31177),\n",
              "             ('GOOG', 0.001)])"
            ]
          },
          "metadata": {
            "tags": []
          },
          "execution_count": 28
        }
      ]
    },
    {
      "cell_type": "code",
      "metadata": {
        "colab": {
          "base_uri": "https://localhost:8080/"
        },
        "id": "uWnR_LzGPSwN",
        "outputId": "eddc3e66-5c64-4420-b8e8-256d34a326c6"
      },
      "source": [
        "cleaned_weights"
      ],
      "execution_count": 30,
      "outputs": [
        {
          "output_type": "execute_result",
          "data": {
            "text/plain": [
              "OrderedDict([('FB', 0.15279),\n",
              "             ('AMZN', 0.34647),\n",
              "             ('AAPL', 0.18797),\n",
              "             ('NFLX', 0.31177),\n",
              "             ('GOOG', 0.001)])"
            ]
          },
          "metadata": {
            "tags": []
          },
          "execution_count": 30
        }
      ]
    },
    {
      "cell_type": "code",
      "metadata": {
        "colab": {
          "base_uri": "https://localhost:8080/"
        },
        "id": "aMt0mbFDPjCj",
        "outputId": "997e344c-d270-42ff-c1d4-7a4992ea4216"
      },
      "source": [
        "cleaned_weights['FB'] + cleaned_weights['AMZN'] + cleaned_weights['AAPL'] + cleaned_weights['NFLX'] + cleaned_weights['GOOG']"
      ],
      "execution_count": 37,
      "outputs": [
        {
          "output_type": "execute_result",
          "data": {
            "text/plain": [
              "1.0"
            ]
          },
          "metadata": {
            "tags": []
          },
          "execution_count": 37
        }
      ]
    },
    {
      "cell_type": "markdown",
      "metadata": {
        "id": "koXYhgoUQhJH"
      },
      "source": [
        "# 투자비용에 따른 종목별 매수 수량 계산\n",
        "- 위의 비율에 따라서 포트폴리오를 구성할때, 종목별 몇주씩 매수를 해야 하는지 알고싶습니다.\n",
        "- 즉, 이 포트폴리오에서 각 종목의 할당(discrete allocation)을 정확히 알고 싶습니다.\n",
        "\n",
        "- 예를 들어, 이 포트폴리오에 $15,000 를 투자한다고 할때, 최적의 결과를 제공하기 위해 포트폴리오에서 각 주식을 몇주씩 매수해야 할지 알고 싶은 것\n",
        "\n",
        "- 포트폴리오에서 종목의 할당을 계산하기 위해서는 다음과 같이 pulp라는 라이브러리 설치"
      ]
    },
    {
      "cell_type": "code",
      "metadata": {
        "colab": {
          "base_uri": "https://localhost:8080/"
        },
        "id": "Dusml9b5P-0k",
        "outputId": "9039959c-dd96-4252-e152-be71ca90e2f0"
      },
      "source": [
        "!pip install pulp"
      ],
      "execution_count": 38,
      "outputs": [
        {
          "output_type": "stream",
          "text": [
            "Collecting pulp\n",
            "\u001b[?25l  Downloading https://files.pythonhosted.org/packages/14/c4/0eec14a0123209c261de6ff154ef3be5cad3fd557c084f468356662e0585/PuLP-2.4-py3-none-any.whl (40.6MB)\n",
            "\u001b[K     |████████████████████████████████| 40.6MB 77kB/s \n",
            "\u001b[?25hCollecting amply>=0.1.2\n",
            "  Downloading https://files.pythonhosted.org/packages/f3/c5/dfa09dd2595a2ab2ab4e6fa7bebef9565812722e1980d04b0edce5032066/amply-0.1.4-py3-none-any.whl\n",
            "Requirement already satisfied: pyparsing in /usr/local/lib/python3.7/dist-packages (from amply>=0.1.2->pulp) (2.4.7)\n",
            "Requirement already satisfied: docutils>=0.3 in /usr/local/lib/python3.7/dist-packages (from amply>=0.1.2->pulp) (0.17.1)\n",
            "Installing collected packages: amply, pulp\n",
            "Successfully installed amply-0.1.4 pulp-2.4\n"
          ],
          "name": "stdout"
        }
      ]
    },
    {
      "cell_type": "markdown",
      "metadata": {
        "id": "oWNTKWqEP-36"
      },
      "source": [
        "## 각 주식의 개별 할당 계산"
      ]
    },
    {
      "cell_type": "code",
      "metadata": {
        "colab": {
          "base_uri": "https://localhost:8080/"
        },
        "id": "992uV8LhP-62",
        "outputId": "6d7d1cf2-2247-4175-92d5-de87ce8259ce"
      },
      "source": [
        "from pypfopt.discrete_allocation import DiscreteAllocation, get_latest_prices\n",
        "\n",
        "latest_prices = get_latest_prices(df)\n",
        "weights = cleaned_weights \n",
        "\n",
        "da = DiscreteAllocation(weights, latest_prices, total_portfolio_value=15000)\n",
        "allocation, leftover = da.lp_portfolio()\n",
        "\n",
        "print(\"Discrete allocation:\", allocation)\n",
        "print(\"Funds remaining: ${:.2f}\".format(leftover))"
      ],
      "execution_count": 39,
      "outputs": [
        {
          "output_type": "stream",
          "text": [
            "Discrete allocation: {'FB': 7, 'AMZN': 1, 'AAPL': 20, 'NFLX': 9}\n",
            "Funds remaining: $1101.70\n"
          ],
          "name": "stdout"
        }
      ]
    },
    {
      "cell_type": "code",
      "metadata": {
        "id": "q3K5MW-wP-9_"
      },
      "source": [
        ""
      ],
      "execution_count": null,
      "outputs": []
    },
    {
      "cell_type": "code",
      "metadata": {
        "id": "UqgxxVqbP_A0"
      },
      "source": [
        ""
      ],
      "execution_count": null,
      "outputs": []
    },
    {
      "cell_type": "code",
      "metadata": {
        "id": "7mRTcdo_MIqD"
      },
      "source": [
        ""
      ],
      "execution_count": null,
      "outputs": []
    }
  ]
}